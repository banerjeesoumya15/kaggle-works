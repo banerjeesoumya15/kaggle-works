{
 "cells": [
  {
   "cell_type": "code",
   "execution_count": 1,
   "id": "a974e054",
   "metadata": {
    "_cell_guid": "b1076dfc-b9ad-4769-8c92-a6c4dae69d19",
    "_uuid": "8f2839f25d086af736a60e9eeb907d3b93b6e0e5",
    "execution": {
     "iopub.execute_input": "2022-12-13T18:05:45.768974Z",
     "iopub.status.busy": "2022-12-13T18:05:45.768344Z",
     "iopub.status.idle": "2022-12-13T18:05:45.783840Z",
     "shell.execute_reply": "2022-12-13T18:05:45.782951Z"
    },
    "papermill": {
     "duration": 0.046611,
     "end_time": "2022-12-13T18:05:45.786412",
     "exception": false,
     "start_time": "2022-12-13T18:05:45.739801",
     "status": "completed"
    },
    "tags": []
   },
   "outputs": [
    {
     "name": "stdout",
     "output_type": "stream",
     "text": [
      "/kaggle/input/spaceship-titanic/sample_submission.csv\n",
      "/kaggle/input/spaceship-titanic/train.csv\n",
      "/kaggle/input/spaceship-titanic/test.csv\n"
     ]
    }
   ],
   "source": [
    "# This Python 3 environment comes with many helpful analytics libraries installed\n",
    "# It is defined by the kaggle/python Docker image: https://github.com/kaggle/docker-python\n",
    "# For example, here's several helpful packages to load\n",
    "\n",
    "import numpy as np # linear algebra\n",
    "import pandas as pd # data processing, CSV file I/O (e.g. pd.read_csv)\n",
    "\n",
    "# Input data files are available in the read-only \"../input/\" directory\n",
    "# For example, running this (by clicking run or pressing Shift+Enter) will list all files under the input directory\n",
    "\n",
    "import os\n",
    "for dirname, _, filenames in os.walk('/kaggle/input'):\n",
    "    for filename in filenames:\n",
    "        print(os.path.join(dirname, filename))\n",
    "\n",
    "# You can write up to 20GB to the current directory (/kaggle/working/) that gets preserved as output when you create a version using \"Save & Run All\" \n",
    "# You can also write temporary files to /kaggle/temp/, but they won't be saved outside of the current session"
   ]
  },
  {
   "cell_type": "code",
   "execution_count": 2,
   "id": "b062a52f",
   "metadata": {
    "execution": {
     "iopub.execute_input": "2022-12-13T18:05:45.835016Z",
     "iopub.status.busy": "2022-12-13T18:05:45.834610Z",
     "iopub.status.idle": "2022-12-13T18:05:46.753802Z",
     "shell.execute_reply": "2022-12-13T18:05:46.752620Z"
    },
    "papermill": {
     "duration": 0.946561,
     "end_time": "2022-12-13T18:05:46.756676",
     "exception": false,
     "start_time": "2022-12-13T18:05:45.810115",
     "status": "completed"
    },
    "tags": []
   },
   "outputs": [],
   "source": [
    "# import packages\n",
    "from matplotlib import pyplot as plt\n",
    "import seaborn as sns"
   ]
  },
  {
   "cell_type": "code",
   "execution_count": 3,
   "id": "2c3107be",
   "metadata": {
    "execution": {
     "iopub.execute_input": "2022-12-13T18:05:46.806072Z",
     "iopub.status.busy": "2022-12-13T18:05:46.805269Z",
     "iopub.status.idle": "2022-12-13T18:05:46.904508Z",
     "shell.execute_reply": "2022-12-13T18:05:46.903342Z"
    },
    "papermill": {
     "duration": 0.126636,
     "end_time": "2022-12-13T18:05:46.907157",
     "exception": false,
     "start_time": "2022-12-13T18:05:46.780521",
     "status": "completed"
    },
    "tags": []
   },
   "outputs": [
    {
     "data": {
      "text/html": [
       "<div>\n",
       "<style scoped>\n",
       "    .dataframe tbody tr th:only-of-type {\n",
       "        vertical-align: middle;\n",
       "    }\n",
       "\n",
       "    .dataframe tbody tr th {\n",
       "        vertical-align: top;\n",
       "    }\n",
       "\n",
       "    .dataframe thead th {\n",
       "        text-align: right;\n",
       "    }\n",
       "</style>\n",
       "<table border=\"1\" class=\"dataframe\">\n",
       "  <thead>\n",
       "    <tr style=\"text-align: right;\">\n",
       "      <th></th>\n",
       "      <th>PassengerId</th>\n",
       "      <th>HomePlanet</th>\n",
       "      <th>CryoSleep</th>\n",
       "      <th>Cabin</th>\n",
       "      <th>Destination</th>\n",
       "      <th>Age</th>\n",
       "      <th>VIP</th>\n",
       "      <th>RoomService</th>\n",
       "      <th>FoodCourt</th>\n",
       "      <th>ShoppingMall</th>\n",
       "      <th>Spa</th>\n",
       "      <th>VRDeck</th>\n",
       "      <th>Name</th>\n",
       "      <th>Transported</th>\n",
       "    </tr>\n",
       "  </thead>\n",
       "  <tbody>\n",
       "    <tr>\n",
       "      <th>0</th>\n",
       "      <td>0001_01</td>\n",
       "      <td>Europa</td>\n",
       "      <td>False</td>\n",
       "      <td>B/0/P</td>\n",
       "      <td>TRAPPIST-1e</td>\n",
       "      <td>39.0</td>\n",
       "      <td>False</td>\n",
       "      <td>0.0</td>\n",
       "      <td>0.0</td>\n",
       "      <td>0.0</td>\n",
       "      <td>0.0</td>\n",
       "      <td>0.0</td>\n",
       "      <td>Maham Ofracculy</td>\n",
       "      <td>False</td>\n",
       "    </tr>\n",
       "    <tr>\n",
       "      <th>1</th>\n",
       "      <td>0002_01</td>\n",
       "      <td>Earth</td>\n",
       "      <td>False</td>\n",
       "      <td>F/0/S</td>\n",
       "      <td>TRAPPIST-1e</td>\n",
       "      <td>24.0</td>\n",
       "      <td>False</td>\n",
       "      <td>109.0</td>\n",
       "      <td>9.0</td>\n",
       "      <td>25.0</td>\n",
       "      <td>549.0</td>\n",
       "      <td>44.0</td>\n",
       "      <td>Juanna Vines</td>\n",
       "      <td>True</td>\n",
       "    </tr>\n",
       "    <tr>\n",
       "      <th>2</th>\n",
       "      <td>0003_01</td>\n",
       "      <td>Europa</td>\n",
       "      <td>False</td>\n",
       "      <td>A/0/S</td>\n",
       "      <td>TRAPPIST-1e</td>\n",
       "      <td>58.0</td>\n",
       "      <td>True</td>\n",
       "      <td>43.0</td>\n",
       "      <td>3576.0</td>\n",
       "      <td>0.0</td>\n",
       "      <td>6715.0</td>\n",
       "      <td>49.0</td>\n",
       "      <td>Altark Susent</td>\n",
       "      <td>False</td>\n",
       "    </tr>\n",
       "    <tr>\n",
       "      <th>3</th>\n",
       "      <td>0003_02</td>\n",
       "      <td>Europa</td>\n",
       "      <td>False</td>\n",
       "      <td>A/0/S</td>\n",
       "      <td>TRAPPIST-1e</td>\n",
       "      <td>33.0</td>\n",
       "      <td>False</td>\n",
       "      <td>0.0</td>\n",
       "      <td>1283.0</td>\n",
       "      <td>371.0</td>\n",
       "      <td>3329.0</td>\n",
       "      <td>193.0</td>\n",
       "      <td>Solam Susent</td>\n",
       "      <td>False</td>\n",
       "    </tr>\n",
       "    <tr>\n",
       "      <th>4</th>\n",
       "      <td>0004_01</td>\n",
       "      <td>Earth</td>\n",
       "      <td>False</td>\n",
       "      <td>F/1/S</td>\n",
       "      <td>TRAPPIST-1e</td>\n",
       "      <td>16.0</td>\n",
       "      <td>False</td>\n",
       "      <td>303.0</td>\n",
       "      <td>70.0</td>\n",
       "      <td>151.0</td>\n",
       "      <td>565.0</td>\n",
       "      <td>2.0</td>\n",
       "      <td>Willy Santantines</td>\n",
       "      <td>True</td>\n",
       "    </tr>\n",
       "  </tbody>\n",
       "</table>\n",
       "</div>"
      ],
      "text/plain": [
       "  PassengerId HomePlanet CryoSleep  Cabin  Destination   Age    VIP  \\\n",
       "0     0001_01     Europa     False  B/0/P  TRAPPIST-1e  39.0  False   \n",
       "1     0002_01      Earth     False  F/0/S  TRAPPIST-1e  24.0  False   \n",
       "2     0003_01     Europa     False  A/0/S  TRAPPIST-1e  58.0   True   \n",
       "3     0003_02     Europa     False  A/0/S  TRAPPIST-1e  33.0  False   \n",
       "4     0004_01      Earth     False  F/1/S  TRAPPIST-1e  16.0  False   \n",
       "\n",
       "   RoomService  FoodCourt  ShoppingMall     Spa  VRDeck               Name  \\\n",
       "0          0.0        0.0           0.0     0.0     0.0    Maham Ofracculy   \n",
       "1        109.0        9.0          25.0   549.0    44.0       Juanna Vines   \n",
       "2         43.0     3576.0           0.0  6715.0    49.0      Altark Susent   \n",
       "3          0.0     1283.0         371.0  3329.0   193.0       Solam Susent   \n",
       "4        303.0       70.0         151.0   565.0     2.0  Willy Santantines   \n",
       "\n",
       "   Transported  \n",
       "0        False  \n",
       "1         True  \n",
       "2        False  \n",
       "3        False  \n",
       "4         True  "
      ]
     },
     "execution_count": 3,
     "metadata": {},
     "output_type": "execute_result"
    }
   ],
   "source": [
    "# read data\n",
    "df = pd.read_csv('/kaggle/input/spaceship-titanic/train.csv')\n",
    "df_test = pd.read_csv('/kaggle/input/spaceship-titanic/test.csv')\n",
    "df.head()"
   ]
  },
  {
   "cell_type": "code",
   "execution_count": 4,
   "id": "6a7671de",
   "metadata": {
    "execution": {
     "iopub.execute_input": "2022-12-13T18:05:46.956208Z",
     "iopub.status.busy": "2022-12-13T18:05:46.955833Z",
     "iopub.status.idle": "2022-12-13T18:05:46.975636Z",
     "shell.execute_reply": "2022-12-13T18:05:46.974442Z"
    },
    "papermill": {
     "duration": 0.046931,
     "end_time": "2022-12-13T18:05:46.977947",
     "exception": false,
     "start_time": "2022-12-13T18:05:46.931016",
     "status": "completed"
    },
    "tags": []
   },
   "outputs": [
    {
     "data": {
      "text/html": [
       "<div>\n",
       "<style scoped>\n",
       "    .dataframe tbody tr th:only-of-type {\n",
       "        vertical-align: middle;\n",
       "    }\n",
       "\n",
       "    .dataframe tbody tr th {\n",
       "        vertical-align: top;\n",
       "    }\n",
       "\n",
       "    .dataframe thead th {\n",
       "        text-align: right;\n",
       "    }\n",
       "</style>\n",
       "<table border=\"1\" class=\"dataframe\">\n",
       "  <thead>\n",
       "    <tr style=\"text-align: right;\">\n",
       "      <th></th>\n",
       "      <th>PassengerId</th>\n",
       "      <th>HomePlanet</th>\n",
       "      <th>CryoSleep</th>\n",
       "      <th>Cabin</th>\n",
       "      <th>Destination</th>\n",
       "      <th>Age</th>\n",
       "      <th>VIP</th>\n",
       "      <th>RoomService</th>\n",
       "      <th>FoodCourt</th>\n",
       "      <th>ShoppingMall</th>\n",
       "      <th>Spa</th>\n",
       "      <th>VRDeck</th>\n",
       "      <th>Name</th>\n",
       "    </tr>\n",
       "  </thead>\n",
       "  <tbody>\n",
       "    <tr>\n",
       "      <th>0</th>\n",
       "      <td>0013_01</td>\n",
       "      <td>Earth</td>\n",
       "      <td>True</td>\n",
       "      <td>G/3/S</td>\n",
       "      <td>TRAPPIST-1e</td>\n",
       "      <td>27.0</td>\n",
       "      <td>False</td>\n",
       "      <td>0.0</td>\n",
       "      <td>0.0</td>\n",
       "      <td>0.0</td>\n",
       "      <td>0.0</td>\n",
       "      <td>0.0</td>\n",
       "      <td>Nelly Carsoning</td>\n",
       "    </tr>\n",
       "    <tr>\n",
       "      <th>1</th>\n",
       "      <td>0018_01</td>\n",
       "      <td>Earth</td>\n",
       "      <td>False</td>\n",
       "      <td>F/4/S</td>\n",
       "      <td>TRAPPIST-1e</td>\n",
       "      <td>19.0</td>\n",
       "      <td>False</td>\n",
       "      <td>0.0</td>\n",
       "      <td>9.0</td>\n",
       "      <td>0.0</td>\n",
       "      <td>2823.0</td>\n",
       "      <td>0.0</td>\n",
       "      <td>Lerome Peckers</td>\n",
       "    </tr>\n",
       "    <tr>\n",
       "      <th>2</th>\n",
       "      <td>0019_01</td>\n",
       "      <td>Europa</td>\n",
       "      <td>True</td>\n",
       "      <td>C/0/S</td>\n",
       "      <td>55 Cancri e</td>\n",
       "      <td>31.0</td>\n",
       "      <td>False</td>\n",
       "      <td>0.0</td>\n",
       "      <td>0.0</td>\n",
       "      <td>0.0</td>\n",
       "      <td>0.0</td>\n",
       "      <td>0.0</td>\n",
       "      <td>Sabih Unhearfus</td>\n",
       "    </tr>\n",
       "    <tr>\n",
       "      <th>3</th>\n",
       "      <td>0021_01</td>\n",
       "      <td>Europa</td>\n",
       "      <td>False</td>\n",
       "      <td>C/1/S</td>\n",
       "      <td>TRAPPIST-1e</td>\n",
       "      <td>38.0</td>\n",
       "      <td>False</td>\n",
       "      <td>0.0</td>\n",
       "      <td>6652.0</td>\n",
       "      <td>0.0</td>\n",
       "      <td>181.0</td>\n",
       "      <td>585.0</td>\n",
       "      <td>Meratz Caltilter</td>\n",
       "    </tr>\n",
       "    <tr>\n",
       "      <th>4</th>\n",
       "      <td>0023_01</td>\n",
       "      <td>Earth</td>\n",
       "      <td>False</td>\n",
       "      <td>F/5/S</td>\n",
       "      <td>TRAPPIST-1e</td>\n",
       "      <td>20.0</td>\n",
       "      <td>False</td>\n",
       "      <td>10.0</td>\n",
       "      <td>0.0</td>\n",
       "      <td>635.0</td>\n",
       "      <td>0.0</td>\n",
       "      <td>0.0</td>\n",
       "      <td>Brence Harperez</td>\n",
       "    </tr>\n",
       "  </tbody>\n",
       "</table>\n",
       "</div>"
      ],
      "text/plain": [
       "  PassengerId HomePlanet CryoSleep  Cabin  Destination   Age    VIP  \\\n",
       "0     0013_01      Earth      True  G/3/S  TRAPPIST-1e  27.0  False   \n",
       "1     0018_01      Earth     False  F/4/S  TRAPPIST-1e  19.0  False   \n",
       "2     0019_01     Europa      True  C/0/S  55 Cancri e  31.0  False   \n",
       "3     0021_01     Europa     False  C/1/S  TRAPPIST-1e  38.0  False   \n",
       "4     0023_01      Earth     False  F/5/S  TRAPPIST-1e  20.0  False   \n",
       "\n",
       "   RoomService  FoodCourt  ShoppingMall     Spa  VRDeck              Name  \n",
       "0          0.0        0.0           0.0     0.0     0.0   Nelly Carsoning  \n",
       "1          0.0        9.0           0.0  2823.0     0.0    Lerome Peckers  \n",
       "2          0.0        0.0           0.0     0.0     0.0   Sabih Unhearfus  \n",
       "3          0.0     6652.0           0.0   181.0   585.0  Meratz Caltilter  \n",
       "4         10.0        0.0         635.0     0.0     0.0   Brence Harperez  "
      ]
     },
     "execution_count": 4,
     "metadata": {},
     "output_type": "execute_result"
    }
   ],
   "source": [
    "df_test.head()"
   ]
  },
  {
   "cell_type": "code",
   "execution_count": 5,
   "id": "5178ba0a",
   "metadata": {
    "execution": {
     "iopub.execute_input": "2022-12-13T18:05:47.027745Z",
     "iopub.status.busy": "2022-12-13T18:05:47.026845Z",
     "iopub.status.idle": "2022-12-13T18:05:47.034010Z",
     "shell.execute_reply": "2022-12-13T18:05:47.032945Z"
    },
    "papermill": {
     "duration": 0.034586,
     "end_time": "2022-12-13T18:05:47.036253",
     "exception": false,
     "start_time": "2022-12-13T18:05:47.001667",
     "status": "completed"
    },
    "tags": []
   },
   "outputs": [
    {
     "data": {
      "text/plain": [
       "(8693, 14)"
      ]
     },
     "execution_count": 5,
     "metadata": {},
     "output_type": "execute_result"
    }
   ],
   "source": [
    "df.shape"
   ]
  },
  {
   "cell_type": "code",
   "execution_count": 6,
   "id": "329610e9",
   "metadata": {
    "execution": {
     "iopub.execute_input": "2022-12-13T18:05:47.086110Z",
     "iopub.status.busy": "2022-12-13T18:05:47.085687Z",
     "iopub.status.idle": "2022-12-13T18:05:47.092877Z",
     "shell.execute_reply": "2022-12-13T18:05:47.091718Z"
    },
    "papermill": {
     "duration": 0.034903,
     "end_time": "2022-12-13T18:05:47.095086",
     "exception": false,
     "start_time": "2022-12-13T18:05:47.060183",
     "status": "completed"
    },
    "tags": []
   },
   "outputs": [
    {
     "data": {
      "text/plain": [
       "(4277, 13)"
      ]
     },
     "execution_count": 6,
     "metadata": {},
     "output_type": "execute_result"
    }
   ],
   "source": [
    "df_test.shape"
   ]
  },
  {
   "cell_type": "markdown",
   "id": "e22697bf",
   "metadata": {
    "papermill": {
     "duration": 0.024563,
     "end_time": "2022-12-13T18:05:47.144077",
     "exception": false,
     "start_time": "2022-12-13T18:05:47.119514",
     "status": "completed"
    },
    "tags": []
   },
   "source": [
    "## Explore the dataset"
   ]
  },
  {
   "cell_type": "code",
   "execution_count": 7,
   "id": "e81b38d4",
   "metadata": {
    "execution": {
     "iopub.execute_input": "2022-12-13T18:05:47.196123Z",
     "iopub.status.busy": "2022-12-13T18:05:47.195699Z",
     "iopub.status.idle": "2022-12-13T18:05:47.208755Z",
     "shell.execute_reply": "2022-12-13T18:05:47.207571Z"
    },
    "papermill": {
     "duration": 0.042103,
     "end_time": "2022-12-13T18:05:47.211227",
     "exception": false,
     "start_time": "2022-12-13T18:05:47.169124",
     "status": "completed"
    },
    "tags": []
   },
   "outputs": [
    {
     "data": {
      "text/plain": [
       "PassengerId       0\n",
       "HomePlanet      201\n",
       "CryoSleep       217\n",
       "Cabin           199\n",
       "Destination     182\n",
       "Age             179\n",
       "VIP             203\n",
       "RoomService     181\n",
       "FoodCourt       183\n",
       "ShoppingMall    208\n",
       "Spa             183\n",
       "VRDeck          188\n",
       "Name            200\n",
       "Transported       0\n",
       "dtype: int64"
      ]
     },
     "execution_count": 7,
     "metadata": {},
     "output_type": "execute_result"
    }
   ],
   "source": [
    "# check missing values\n",
    "miss_vals = df.isna().sum()\n",
    "miss_vals"
   ]
  },
  {
   "cell_type": "code",
   "execution_count": 8,
   "id": "e3b01203",
   "metadata": {
    "execution": {
     "iopub.execute_input": "2022-12-13T18:05:47.262076Z",
     "iopub.status.busy": "2022-12-13T18:05:47.261637Z",
     "iopub.status.idle": "2022-12-13T18:05:47.273125Z",
     "shell.execute_reply": "2022-12-13T18:05:47.271991Z"
    },
    "papermill": {
     "duration": 0.039681,
     "end_time": "2022-12-13T18:05:47.275467",
     "exception": false,
     "start_time": "2022-12-13T18:05:47.235786",
     "status": "completed"
    },
    "tags": []
   },
   "outputs": [
    {
     "data": {
      "text/plain": [
       "PassengerId       0\n",
       "HomePlanet       87\n",
       "CryoSleep        93\n",
       "Cabin           100\n",
       "Destination      92\n",
       "Age              91\n",
       "VIP              93\n",
       "RoomService      82\n",
       "FoodCourt       106\n",
       "ShoppingMall     98\n",
       "Spa             101\n",
       "VRDeck           80\n",
       "Name             94\n",
       "dtype: int64"
      ]
     },
     "execution_count": 8,
     "metadata": {},
     "output_type": "execute_result"
    }
   ],
   "source": [
    "# check missing values in test dataset\n",
    "miss_vals = df_test.isna().sum()\n",
    "miss_vals"
   ]
  },
  {
   "cell_type": "markdown",
   "id": "f1da86a5",
   "metadata": {
    "papermill": {
     "duration": 0.02416,
     "end_time": "2022-12-13T18:05:47.324007",
     "exception": false,
     "start_time": "2022-12-13T18:05:47.299847",
     "status": "completed"
    },
    "tags": []
   },
   "source": [
    "All columns have missing values except `PassengerId` and `Transported`."
   ]
  },
  {
   "cell_type": "code",
   "execution_count": 9,
   "id": "773c2dbd",
   "metadata": {
    "execution": {
     "iopub.execute_input": "2022-12-13T18:05:47.374917Z",
     "iopub.status.busy": "2022-12-13T18:05:47.374504Z",
     "iopub.status.idle": "2022-12-13T18:05:47.399143Z",
     "shell.execute_reply": "2022-12-13T18:05:47.397958Z"
    },
    "papermill": {
     "duration": 0.052803,
     "end_time": "2022-12-13T18:05:47.401450",
     "exception": false,
     "start_time": "2022-12-13T18:05:47.348647",
     "status": "completed"
    },
    "tags": []
   },
   "outputs": [
    {
     "data": {
      "text/plain": [
       "PassengerId     0\n",
       "HomePlanet      0\n",
       "CryoSleep       0\n",
       "Cabin           0\n",
       "Destination     0\n",
       "Age             0\n",
       "VIP             0\n",
       "RoomService     0\n",
       "FoodCourt       0\n",
       "ShoppingMall    0\n",
       "Spa             0\n",
       "VRDeck          0\n",
       "Name            0\n",
       "Transported     0\n",
       "dtype: int64"
      ]
     },
     "execution_count": 9,
     "metadata": {},
     "output_type": "execute_result"
    }
   ],
   "source": [
    "# drop all rows with NULL values for simplicity\n",
    "df = df.dropna(axis=0)\n",
    "df.isna().sum()"
   ]
  },
  {
   "cell_type": "code",
   "execution_count": 10,
   "id": "be66a817",
   "metadata": {
    "execution": {
     "iopub.execute_input": "2022-12-13T18:05:47.452373Z",
     "iopub.status.busy": "2022-12-13T18:05:47.451934Z",
     "iopub.status.idle": "2022-12-13T18:05:47.460047Z",
     "shell.execute_reply": "2022-12-13T18:05:47.458692Z"
    },
    "papermill": {
     "duration": 0.036163,
     "end_time": "2022-12-13T18:05:47.462306",
     "exception": false,
     "start_time": "2022-12-13T18:05:47.426143",
     "status": "completed"
    },
    "tags": []
   },
   "outputs": [
    {
     "data": {
      "text/plain": [
       "(6606, 14)"
      ]
     },
     "execution_count": 10,
     "metadata": {},
     "output_type": "execute_result"
    }
   ],
   "source": [
    "df.shape"
   ]
  },
  {
   "cell_type": "code",
   "execution_count": 11,
   "id": "f1fe1820",
   "metadata": {
    "execution": {
     "iopub.execute_input": "2022-12-13T18:05:47.515834Z",
     "iopub.status.busy": "2022-12-13T18:05:47.514544Z",
     "iopub.status.idle": "2022-12-13T18:05:47.547717Z",
     "shell.execute_reply": "2022-12-13T18:05:47.546386Z"
    },
    "papermill": {
     "duration": 0.064512,
     "end_time": "2022-12-13T18:05:47.551384",
     "exception": false,
     "start_time": "2022-12-13T18:05:47.486872",
     "status": "completed"
    },
    "tags": []
   },
   "outputs": [
    {
     "name": "stdout",
     "output_type": "stream",
     "text": [
      "<class 'pandas.core.frame.DataFrame'>\n",
      "Int64Index: 6606 entries, 0 to 8692\n",
      "Data columns (total 14 columns):\n",
      " #   Column        Non-Null Count  Dtype  \n",
      "---  ------        --------------  -----  \n",
      " 0   PassengerId   6606 non-null   object \n",
      " 1   HomePlanet    6606 non-null   object \n",
      " 2   CryoSleep     6606 non-null   object \n",
      " 3   Cabin         6606 non-null   object \n",
      " 4   Destination   6606 non-null   object \n",
      " 5   Age           6606 non-null   float64\n",
      " 6   VIP           6606 non-null   object \n",
      " 7   RoomService   6606 non-null   float64\n",
      " 8   FoodCourt     6606 non-null   float64\n",
      " 9   ShoppingMall  6606 non-null   float64\n",
      " 10  Spa           6606 non-null   float64\n",
      " 11  VRDeck        6606 non-null   float64\n",
      " 12  Name          6606 non-null   object \n",
      " 13  Transported   6606 non-null   bool   \n",
      "dtypes: bool(1), float64(6), object(7)\n",
      "memory usage: 729.0+ KB\n"
     ]
    }
   ],
   "source": [
    "df.info()"
   ]
  },
  {
   "cell_type": "markdown",
   "id": "abab8415",
   "metadata": {
    "papermill": {
     "duration": 0.024986,
     "end_time": "2022-12-13T18:05:47.607365",
     "exception": false,
     "start_time": "2022-12-13T18:05:47.582379",
     "status": "completed"
    },
    "tags": []
   },
   "source": [
    "**PassengerID**"
   ]
  },
  {
   "cell_type": "code",
   "execution_count": 12,
   "id": "ce0fdf8c",
   "metadata": {
    "execution": {
     "iopub.execute_input": "2022-12-13T18:05:47.659215Z",
     "iopub.status.busy": "2022-12-13T18:05:47.658344Z",
     "iopub.status.idle": "2022-12-13T18:05:47.667196Z",
     "shell.execute_reply": "2022-12-13T18:05:47.666169Z"
    },
    "papermill": {
     "duration": 0.037227,
     "end_time": "2022-12-13T18:05:47.669414",
     "exception": false,
     "start_time": "2022-12-13T18:05:47.632187",
     "status": "completed"
    },
    "tags": []
   },
   "outputs": [
    {
     "data": {
      "text/plain": [
       "6606"
      ]
     },
     "execution_count": 12,
     "metadata": {},
     "output_type": "execute_result"
    }
   ],
   "source": [
    "df.PassengerId.nunique()"
   ]
  },
  {
   "cell_type": "markdown",
   "id": "0952ebba",
   "metadata": {
    "papermill": {
     "duration": 0.024416,
     "end_time": "2022-12-13T18:05:47.718617",
     "exception": false,
     "start_time": "2022-12-13T18:05:47.694201",
     "status": "completed"
    },
    "tags": []
   },
   "source": [
    "All Id's are unique."
   ]
  },
  {
   "cell_type": "markdown",
   "id": "9cd58cdb",
   "metadata": {
    "papermill": {
     "duration": 0.024457,
     "end_time": "2022-12-13T18:05:47.768013",
     "exception": false,
     "start_time": "2022-12-13T18:05:47.743556",
     "status": "completed"
    },
    "tags": []
   },
   "source": [
    "**HomePlanet**"
   ]
  },
  {
   "cell_type": "code",
   "execution_count": 13,
   "id": "9417bb89",
   "metadata": {
    "execution": {
     "iopub.execute_input": "2022-12-13T18:05:47.819376Z",
     "iopub.status.busy": "2022-12-13T18:05:47.818731Z",
     "iopub.status.idle": "2022-12-13T18:05:47.826569Z",
     "shell.execute_reply": "2022-12-13T18:05:47.825057Z"
    },
    "papermill": {
     "duration": 0.036233,
     "end_time": "2022-12-13T18:05:47.828943",
     "exception": false,
     "start_time": "2022-12-13T18:05:47.792710",
     "status": "completed"
    },
    "tags": []
   },
   "outputs": [
    {
     "name": "stdout",
     "output_type": "stream",
     "text": [
      "3\n",
      "['Europa' 'Earth' 'Mars']\n"
     ]
    }
   ],
   "source": [
    "print(df.HomePlanet.nunique())\n",
    "print(df.HomePlanet.unique())"
   ]
  },
  {
   "cell_type": "code",
   "execution_count": 14,
   "id": "9150c60d",
   "metadata": {
    "execution": {
     "iopub.execute_input": "2022-12-13T18:05:47.881344Z",
     "iopub.status.busy": "2022-12-13T18:05:47.880487Z",
     "iopub.status.idle": "2022-12-13T18:05:47.888006Z",
     "shell.execute_reply": "2022-12-13T18:05:47.887213Z"
    },
    "papermill": {
     "duration": 0.036233,
     "end_time": "2022-12-13T18:05:47.890202",
     "exception": false,
     "start_time": "2022-12-13T18:05:47.853969",
     "status": "completed"
    },
    "tags": []
   },
   "outputs": [
    {
     "data": {
      "text/plain": [
       "Earth     3566\n",
       "Europa    1673\n",
       "Mars      1367\n",
       "Name: HomePlanet, dtype: int64"
      ]
     },
     "execution_count": 14,
     "metadata": {},
     "output_type": "execute_result"
    }
   ],
   "source": [
    "df.HomePlanet.value_counts()"
   ]
  },
  {
   "cell_type": "code",
   "execution_count": 15,
   "id": "9d1b5ea7",
   "metadata": {
    "execution": {
     "iopub.execute_input": "2022-12-13T18:05:47.948409Z",
     "iopub.status.busy": "2022-12-13T18:05:47.947237Z",
     "iopub.status.idle": "2022-12-13T18:05:47.957108Z",
     "shell.execute_reply": "2022-12-13T18:05:47.955987Z"
    },
    "papermill": {
     "duration": 0.044226,
     "end_time": "2022-12-13T18:05:47.959763",
     "exception": false,
     "start_time": "2022-12-13T18:05:47.915537",
     "status": "completed"
    },
    "tags": []
   },
   "outputs": [
    {
     "name": "stdout",
     "output_type": "stream",
     "text": [
      "Earth     53.981229\n",
      "Europa    25.325462\n",
      "Mars      20.693309\n",
      "Name: HomePlanet, dtype: float64\n"
     ]
    }
   ],
   "source": [
    "def val_percent(col):\n",
    "    print(df[col].value_counts()*100 / df.shape[0])\n",
    "\n",
    "val_percent('HomePlanet')"
   ]
  },
  {
   "cell_type": "code",
   "execution_count": 16,
   "id": "87f025e5",
   "metadata": {
    "execution": {
     "iopub.execute_input": "2022-12-13T18:05:48.015841Z",
     "iopub.status.busy": "2022-12-13T18:05:48.015091Z",
     "iopub.status.idle": "2022-12-13T18:05:48.199884Z",
     "shell.execute_reply": "2022-12-13T18:05:48.198190Z"
    },
    "papermill": {
     "duration": 0.216768,
     "end_time": "2022-12-13T18:05:48.204381",
     "exception": false,
     "start_time": "2022-12-13T18:05:47.987613",
     "status": "completed"
    },
    "tags": []
   },
   "outputs": [
    {
     "data": {
      "text/plain": [
       "<AxesSubplot:xlabel='HomePlanet', ylabel='count'>"
      ]
     },
     "execution_count": 16,
     "metadata": {},
     "output_type": "execute_result"
    },
    {
     "data": {
      "image/png": "[encoded data removed]",
      "text/plain": [
       "<Figure size 432x288 with 1 Axes>"
      ]
     },
     "metadata": {
      "needs_background": "light"
     },
     "output_type": "display_data"
    }
   ],
   "source": [
    "sns.countplot(data=df, x='HomePlanet')"
   ]
  },
  {
   "cell_type": "code",
   "execution_count": 17,
   "id": "2c42a74c",
   "metadata": {
    "execution": {
     "iopub.execute_input": "2022-12-13T18:05:48.261646Z",
     "iopub.status.busy": "2022-12-13T18:05:48.260932Z",
     "iopub.status.idle": "2022-12-13T18:05:48.557825Z",
     "shell.execute_reply": "2022-12-13T18:05:48.556496Z"
    },
    "papermill": {
     "duration": 0.326901,
     "end_time": "2022-12-13T18:05:48.560456",
     "exception": false,
     "start_time": "2022-12-13T18:05:48.233555",
     "status": "completed"
    },
    "tags": []
   },
   "outputs": [
    {
     "data": {
      "image/png": "[encoded data removed]",
      "text/plain": [
       "<Figure size 576x432 with 1 Axes>"
      ]
     },
     "metadata": {
      "needs_background": "light"
     },
     "output_type": "display_data"
    }
   ],
   "source": [
    "def annotate_bar(col):\n",
    "    plt.figure(figsize=(8, 6))\n",
    "    splot = sns.countplot(data=df, x=col, hue='Transported')\n",
    "    for p in splot.patches:\n",
    "        splot.annotate(format(round(p.get_height()), '.0f'),\n",
    "                      (p.get_x() + p.get_y() / 2., p.get_height()),\n",
    "                      ha='center', va='center', size=14, xytext=(0,-12),\n",
    "                      textcoords='offset points')\n",
    "        \n",
    "annotate_bar('HomePlanet')"
   ]
  },
  {
   "cell_type": "markdown",
   "id": "5f895ce1",
   "metadata": {
    "papermill": {
     "duration": 0.025876,
     "end_time": "2022-12-13T18:05:48.613737",
     "exception": false,
     "start_time": "2022-12-13T18:05:48.587861",
     "status": "completed"
    },
    "tags": []
   },
   "source": [
    "Most passengers were from `Earth`, more than double than that of second most planet `Europa`."
   ]
  },
  {
   "cell_type": "markdown",
   "id": "2842857a",
   "metadata": {
    "papermill": {
     "duration": 0.025243,
     "end_time": "2022-12-13T18:05:48.665637",
     "exception": false,
     "start_time": "2022-12-13T18:05:48.640394",
     "status": "completed"
    },
    "tags": []
   },
   "source": [
    "**CryoSleep**"
   ]
  },
  {
   "cell_type": "code",
   "execution_count": 18,
   "id": "cb8c016a",
   "metadata": {
    "execution": {
     "iopub.execute_input": "2022-12-13T18:05:48.718906Z",
     "iopub.status.busy": "2022-12-13T18:05:48.718503Z",
     "iopub.status.idle": "2022-12-13T18:05:48.726044Z",
     "shell.execute_reply": "2022-12-13T18:05:48.724889Z"
    },
    "papermill": {
     "duration": 0.036956,
     "end_time": "2022-12-13T18:05:48.728340",
     "exception": false,
     "start_time": "2022-12-13T18:05:48.691384",
     "status": "completed"
    },
    "tags": []
   },
   "outputs": [
    {
     "data": {
      "text/plain": [
       "array([False, True], dtype=object)"
      ]
     },
     "execution_count": 18,
     "metadata": {},
     "output_type": "execute_result"
    }
   ],
   "source": [
    "df.CryoSleep.unique()"
   ]
  },
  {
   "cell_type": "code",
   "execution_count": 19,
   "id": "2686902f",
   "metadata": {
    "execution": {
     "iopub.execute_input": "2022-12-13T18:05:48.782049Z",
     "iopub.status.busy": "2022-12-13T18:05:48.781651Z",
     "iopub.status.idle": "2022-12-13T18:05:48.790620Z",
     "shell.execute_reply": "2022-12-13T18:05:48.789378Z"
    },
    "papermill": {
     "duration": 0.039102,
     "end_time": "2022-12-13T18:05:48.793200",
     "exception": false,
     "start_time": "2022-12-13T18:05:48.754098",
     "status": "completed"
    },
    "tags": []
   },
   "outputs": [
    {
     "data": {
      "text/plain": [
       "False    4274\n",
       "True     2332\n",
       "Name: CryoSleep, dtype: int64"
      ]
     },
     "execution_count": 19,
     "metadata": {},
     "output_type": "execute_result"
    }
   ],
   "source": [
    "df.CryoSleep.value_counts()"
   ]
  },
  {
   "cell_type": "code",
   "execution_count": 20,
   "id": "f00fd4b0",
   "metadata": {
    "execution": {
     "iopub.execute_input": "2022-12-13T18:05:48.847628Z",
     "iopub.status.busy": "2022-12-13T18:05:48.846252Z",
     "iopub.status.idle": "2022-12-13T18:05:48.854704Z",
     "shell.execute_reply": "2022-12-13T18:05:48.853197Z"
    },
    "papermill": {
     "duration": 0.037954,
     "end_time": "2022-12-13T18:05:48.857162",
     "exception": false,
     "start_time": "2022-12-13T18:05:48.819208",
     "status": "completed"
    },
    "tags": []
   },
   "outputs": [
    {
     "name": "stdout",
     "output_type": "stream",
     "text": [
      "False    64.698759\n",
      "True     35.301241\n",
      "Name: CryoSleep, dtype: float64\n"
     ]
    }
   ],
   "source": [
    "val_percent('CryoSleep')"
   ]
  },
  {
   "cell_type": "code",
   "execution_count": 21,
   "id": "e1d8f570",
   "metadata": {
    "execution": {
     "iopub.execute_input": "2022-12-13T18:05:48.911176Z",
     "iopub.status.busy": "2022-12-13T18:05:48.910776Z",
     "iopub.status.idle": "2022-12-13T18:05:49.113411Z",
     "shell.execute_reply": "2022-12-13T18:05:49.112184Z"
    },
    "papermill": {
     "duration": 0.232633,
     "end_time": "2022-12-13T18:05:49.116083",
     "exception": false,
     "start_time": "2022-12-13T18:05:48.883450",
     "status": "completed"
    },
    "tags": []
   },
   "outputs": [
    {
     "data": {
      "text/plain": [
       "<AxesSubplot:xlabel='CryoSleep', ylabel='count'>"
      ]
     },
     "execution_count": 21,
     "metadata": {},
     "output_type": "execute_result"
    },
    {
     "data": {
      "image/png": "[encoded data removed]",
      "text/plain": [
       "<Figure size 432x288 with 1 Axes>"
      ]
     },
     "metadata": {
      "needs_background": "light"
     },
     "output_type": "display_data"
    }
   ],
   "source": [
    "sns.countplot(data=df, x='CryoSleep')"
   ]
  },
  {
   "cell_type": "code",
   "execution_count": 22,
   "id": "da08c0f5",
   "metadata": {
    "execution": {
     "iopub.execute_input": "2022-12-13T18:05:49.170693Z",
     "iopub.status.busy": "2022-12-13T18:05:49.170262Z",
     "iopub.status.idle": "2022-12-13T18:05:49.417904Z",
     "shell.execute_reply": "2022-12-13T18:05:49.416826Z"
    },
    "papermill": {
     "duration": 0.277959,
     "end_time": "2022-12-13T18:05:49.420314",
     "exception": false,
     "start_time": "2022-12-13T18:05:49.142355",
     "status": "completed"
    },
    "tags": []
   },
   "outputs": [
    {
     "data": {
      "image/png": "[encoded data removed]",
      "text/plain": [
       "<Figure size 576x432 with 1 Axes>"
      ]
     },
     "metadata": {
      "needs_background": "light"
     },
     "output_type": "display_data"
    }
   ],
   "source": [
    "annotate_bar('CryoSleep')"
   ]
  },
  {
   "cell_type": "markdown",
   "id": "c3d9a05c",
   "metadata": {
    "papermill": {
     "duration": 0.026184,
     "end_time": "2022-12-13T18:05:49.473065",
     "exception": false,
     "start_time": "2022-12-13T18:05:49.446881",
     "status": "completed"
    },
    "tags": []
   },
   "source": [
    "If the passenger was in cryo sleep, he was more likely to be transported, than the passenger who was not in cryosleep"
   ]
  },
  {
   "cell_type": "markdown",
   "id": "7cf30c94",
   "metadata": {
    "papermill": {
     "duration": 0.03044,
     "end_time": "2022-12-13T18:05:49.530246",
     "exception": false,
     "start_time": "2022-12-13T18:05:49.499806",
     "status": "completed"
    },
    "tags": []
   },
   "source": [
    "**Cabin**"
   ]
  },
  {
   "cell_type": "code",
   "execution_count": 23,
   "id": "650de31c",
   "metadata": {
    "execution": {
     "iopub.execute_input": "2022-12-13T18:05:49.604525Z",
     "iopub.status.busy": "2022-12-13T18:05:49.603149Z",
     "iopub.status.idle": "2022-12-13T18:05:49.613909Z",
     "shell.execute_reply": "2022-12-13T18:05:49.613015Z"
    },
    "papermill": {
     "duration": 0.045876,
     "end_time": "2022-12-13T18:05:49.616199",
     "exception": false,
     "start_time": "2022-12-13T18:05:49.570323",
     "status": "completed"
    },
    "tags": []
   },
   "outputs": [
    {
     "data": {
      "text/plain": [
       "5305"
      ]
     },
     "execution_count": 23,
     "metadata": {},
     "output_type": "execute_result"
    }
   ],
   "source": [
    "# cabin\n",
    "df['Cabin'].nunique()"
   ]
  },
  {
   "cell_type": "code",
   "execution_count": 24,
   "id": "26535683",
   "metadata": {
    "execution": {
     "iopub.execute_input": "2022-12-13T18:05:49.671385Z",
     "iopub.status.busy": "2022-12-13T18:05:49.670929Z",
     "iopub.status.idle": "2022-12-13T18:05:49.698936Z",
     "shell.execute_reply": "2022-12-13T18:05:49.697706Z"
    },
    "papermill": {
     "duration": 0.058816,
     "end_time": "2022-12-13T18:05:49.701781",
     "exception": false,
     "start_time": "2022-12-13T18:05:49.642965",
     "status": "completed"
    },
    "tags": []
   },
   "outputs": [
    {
     "data": {
      "text/html": [
       "<div>\n",
       "<style scoped>\n",
       "    .dataframe tbody tr th:only-of-type {\n",
       "        vertical-align: middle;\n",
       "    }\n",
       "\n",
       "    .dataframe tbody tr th {\n",
       "        vertical-align: top;\n",
       "    }\n",
       "\n",
       "    .dataframe thead th {\n",
       "        text-align: right;\n",
       "    }\n",
       "</style>\n",
       "<table border=\"1\" class=\"dataframe\">\n",
       "  <thead>\n",
       "    <tr style=\"text-align: right;\">\n",
       "      <th></th>\n",
       "      <th>PassengerId</th>\n",
       "      <th>HomePlanet</th>\n",
       "      <th>CryoSleep</th>\n",
       "      <th>Cabin</th>\n",
       "      <th>Destination</th>\n",
       "      <th>Age</th>\n",
       "      <th>VIP</th>\n",
       "      <th>RoomService</th>\n",
       "      <th>FoodCourt</th>\n",
       "      <th>ShoppingMall</th>\n",
       "      <th>Spa</th>\n",
       "      <th>VRDeck</th>\n",
       "      <th>Name</th>\n",
       "      <th>Transported</th>\n",
       "      <th>cabin_deck</th>\n",
       "    </tr>\n",
       "  </thead>\n",
       "  <tbody>\n",
       "    <tr>\n",
       "      <th>0</th>\n",
       "      <td>0001_01</td>\n",
       "      <td>Europa</td>\n",
       "      <td>False</td>\n",
       "      <td>B/0/P</td>\n",
       "      <td>TRAPPIST-1e</td>\n",
       "      <td>39.0</td>\n",
       "      <td>False</td>\n",
       "      <td>0.0</td>\n",
       "      <td>0.0</td>\n",
       "      <td>0.0</td>\n",
       "      <td>0.0</td>\n",
       "      <td>0.0</td>\n",
       "      <td>Maham Ofracculy</td>\n",
       "      <td>False</td>\n",
       "      <td>B</td>\n",
       "    </tr>\n",
       "    <tr>\n",
       "      <th>1</th>\n",
       "      <td>0002_01</td>\n",
       "      <td>Earth</td>\n",
       "      <td>False</td>\n",
       "      <td>F/0/S</td>\n",
       "      <td>TRAPPIST-1e</td>\n",
       "      <td>24.0</td>\n",
       "      <td>False</td>\n",
       "      <td>109.0</td>\n",
       "      <td>9.0</td>\n",
       "      <td>25.0</td>\n",
       "      <td>549.0</td>\n",
       "      <td>44.0</td>\n",
       "      <td>Juanna Vines</td>\n",
       "      <td>True</td>\n",
       "      <td>F</td>\n",
       "    </tr>\n",
       "    <tr>\n",
       "      <th>2</th>\n",
       "      <td>0003_01</td>\n",
       "      <td>Europa</td>\n",
       "      <td>False</td>\n",
       "      <td>A/0/S</td>\n",
       "      <td>TRAPPIST-1e</td>\n",
       "      <td>58.0</td>\n",
       "      <td>True</td>\n",
       "      <td>43.0</td>\n",
       "      <td>3576.0</td>\n",
       "      <td>0.0</td>\n",
       "      <td>6715.0</td>\n",
       "      <td>49.0</td>\n",
       "      <td>Altark Susent</td>\n",
       "      <td>False</td>\n",
       "      <td>A</td>\n",
       "    </tr>\n",
       "    <tr>\n",
       "      <th>3</th>\n",
       "      <td>0003_02</td>\n",
       "      <td>Europa</td>\n",
       "      <td>False</td>\n",
       "      <td>A/0/S</td>\n",
       "      <td>TRAPPIST-1e</td>\n",
       "      <td>33.0</td>\n",
       "      <td>False</td>\n",
       "      <td>0.0</td>\n",
       "      <td>1283.0</td>\n",
       "      <td>371.0</td>\n",
       "      <td>3329.0</td>\n",
       "      <td>193.0</td>\n",
       "      <td>Solam Susent</td>\n",
       "      <td>False</td>\n",
       "      <td>A</td>\n",
       "    </tr>\n",
       "    <tr>\n",
       "      <th>4</th>\n",
       "      <td>0004_01</td>\n",
       "      <td>Earth</td>\n",
       "      <td>False</td>\n",
       "      <td>F/1/S</td>\n",
       "      <td>TRAPPIST-1e</td>\n",
       "      <td>16.0</td>\n",
       "      <td>False</td>\n",
       "      <td>303.0</td>\n",
       "      <td>70.0</td>\n",
       "      <td>151.0</td>\n",
       "      <td>565.0</td>\n",
       "      <td>2.0</td>\n",
       "      <td>Willy Santantines</td>\n",
       "      <td>True</td>\n",
       "      <td>F</td>\n",
       "    </tr>\n",
       "  </tbody>\n",
       "</table>\n",
       "</div>"
      ],
      "text/plain": [
       "  PassengerId HomePlanet CryoSleep  Cabin  Destination   Age    VIP  \\\n",
       "0     0001_01     Europa     False  B/0/P  TRAPPIST-1e  39.0  False   \n",
       "1     0002_01      Earth     False  F/0/S  TRAPPIST-1e  24.0  False   \n",
       "2     0003_01     Europa     False  A/0/S  TRAPPIST-1e  58.0   True   \n",
       "3     0003_02     Europa     False  A/0/S  TRAPPIST-1e  33.0  False   \n",
       "4     0004_01      Earth     False  F/1/S  TRAPPIST-1e  16.0  False   \n",
       "\n",
       "   RoomService  FoodCourt  ShoppingMall     Spa  VRDeck               Name  \\\n",
       "0          0.0        0.0           0.0     0.0     0.0    Maham Ofracculy   \n",
       "1        109.0        9.0          25.0   549.0    44.0       Juanna Vines   \n",
       "2         43.0     3576.0           0.0  6715.0    49.0      Altark Susent   \n",
       "3          0.0     1283.0         371.0  3329.0   193.0       Solam Susent   \n",
       "4        303.0       70.0         151.0   565.0     2.0  Willy Santantines   \n",
       "\n",
       "   Transported cabin_deck  \n",
       "0        False          B  \n",
       "1         True          F  \n",
       "2        False          A  \n",
       "3        False          A  \n",
       "4         True          F  "
      ]
     },
     "execution_count": 24,
     "metadata": {},
     "output_type": "execute_result"
    }
   ],
   "source": [
    "df['cabin_deck'] = df['Cabin'].apply(lambda x: x.split('/')[0])\n",
    "df.head()"
   ]
  },
  {
   "cell_type": "code",
   "execution_count": 25,
   "id": "cc6d8953",
   "metadata": {
    "execution": {
     "iopub.execute_input": "2022-12-13T18:05:49.759922Z",
     "iopub.status.busy": "2022-12-13T18:05:49.759447Z",
     "iopub.status.idle": "2022-12-13T18:05:49.769187Z",
     "shell.execute_reply": "2022-12-13T18:05:49.768112Z"
    },
    "papermill": {
     "duration": 0.041196,
     "end_time": "2022-12-13T18:05:49.771365",
     "exception": false,
     "start_time": "2022-12-13T18:05:49.730169",
     "status": "completed"
    },
    "tags": []
   },
   "outputs": [
    {
     "data": {
      "text/plain": [
       "F    2152\n",
       "G    1973\n",
       "E     683\n",
       "B     628\n",
       "C     587\n",
       "D     374\n",
       "A     207\n",
       "T       2\n",
       "Name: cabin_deck, dtype: int64"
      ]
     },
     "execution_count": 25,
     "metadata": {},
     "output_type": "execute_result"
    }
   ],
   "source": [
    "df['cabin_deck'].value_counts()"
   ]
  },
  {
   "cell_type": "code",
   "execution_count": 26,
   "id": "0ad29d59",
   "metadata": {
    "execution": {
     "iopub.execute_input": "2022-12-13T18:05:49.828590Z",
     "iopub.status.busy": "2022-12-13T18:05:49.827855Z",
     "iopub.status.idle": "2022-12-13T18:05:50.189778Z",
     "shell.execute_reply": "2022-12-13T18:05:50.188977Z"
    },
    "papermill": {
     "duration": 0.393564,
     "end_time": "2022-12-13T18:05:50.192055",
     "exception": false,
     "start_time": "2022-12-13T18:05:49.798491",
     "status": "completed"
    },
    "tags": []
   },
   "outputs": [
    {
     "data": {
      "image/png": "[encoded data removed]",
      "text/plain": [
       "<Figure size 576x432 with 1 Axes>"
      ]
     },
     "metadata": {
      "needs_background": "light"
     },
     "output_type": "display_data"
    }
   ],
   "source": [
    "annotate_bar('cabin_deck')"
   ]
  },
  {
   "cell_type": "markdown",
   "id": "9c978546",
   "metadata": {
    "papermill": {
     "duration": 0.02702,
     "end_time": "2022-12-13T18:05:50.246361",
     "exception": false,
     "start_time": "2022-12-13T18:05:50.219341",
     "status": "completed"
    },
    "tags": []
   },
   "source": [
    "Most Passengers were from `F` and `G` decks.\n",
    "The likeliness of Transportation is less if the passenger is from deck `F` and `E`, whereas the likeliness is more in case of `B` and `C` decks."
   ]
  },
  {
   "cell_type": "code",
   "execution_count": 27,
   "id": "3d923359",
   "metadata": {
    "execution": {
     "iopub.execute_input": "2022-12-13T18:05:50.303526Z",
     "iopub.status.busy": "2022-12-13T18:05:50.302705Z",
     "iopub.status.idle": "2022-12-13T18:05:50.329384Z",
     "shell.execute_reply": "2022-12-13T18:05:50.328237Z"
    },
    "papermill": {
     "duration": 0.058231,
     "end_time": "2022-12-13T18:05:50.332006",
     "exception": false,
     "start_time": "2022-12-13T18:05:50.273775",
     "status": "completed"
    },
    "tags": []
   },
   "outputs": [
    {
     "data": {
      "text/html": [
       "<div>\n",
       "<style scoped>\n",
       "    .dataframe tbody tr th:only-of-type {\n",
       "        vertical-align: middle;\n",
       "    }\n",
       "\n",
       "    .dataframe tbody tr th {\n",
       "        vertical-align: top;\n",
       "    }\n",
       "\n",
       "    .dataframe thead th {\n",
       "        text-align: right;\n",
       "    }\n",
       "</style>\n",
       "<table border=\"1\" class=\"dataframe\">\n",
       "  <thead>\n",
       "    <tr style=\"text-align: right;\">\n",
       "      <th></th>\n",
       "      <th>PassengerId</th>\n",
       "      <th>HomePlanet</th>\n",
       "      <th>CryoSleep</th>\n",
       "      <th>Cabin</th>\n",
       "      <th>Destination</th>\n",
       "      <th>Age</th>\n",
       "      <th>VIP</th>\n",
       "      <th>RoomService</th>\n",
       "      <th>FoodCourt</th>\n",
       "      <th>ShoppingMall</th>\n",
       "      <th>Spa</th>\n",
       "      <th>VRDeck</th>\n",
       "      <th>Name</th>\n",
       "      <th>Transported</th>\n",
       "      <th>cabin_deck</th>\n",
       "      <th>cabin_num</th>\n",
       "    </tr>\n",
       "  </thead>\n",
       "  <tbody>\n",
       "    <tr>\n",
       "      <th>0</th>\n",
       "      <td>0001_01</td>\n",
       "      <td>Europa</td>\n",
       "      <td>False</td>\n",
       "      <td>B/0/P</td>\n",
       "      <td>TRAPPIST-1e</td>\n",
       "      <td>39.0</td>\n",
       "      <td>False</td>\n",
       "      <td>0.0</td>\n",
       "      <td>0.0</td>\n",
       "      <td>0.0</td>\n",
       "      <td>0.0</td>\n",
       "      <td>0.0</td>\n",
       "      <td>Maham Ofracculy</td>\n",
       "      <td>False</td>\n",
       "      <td>B</td>\n",
       "      <td>0</td>\n",
       "    </tr>\n",
       "    <tr>\n",
       "      <th>1</th>\n",
       "      <td>0002_01</td>\n",
       "      <td>Earth</td>\n",
       "      <td>False</td>\n",
       "      <td>F/0/S</td>\n",
       "      <td>TRAPPIST-1e</td>\n",
       "      <td>24.0</td>\n",
       "      <td>False</td>\n",
       "      <td>109.0</td>\n",
       "      <td>9.0</td>\n",
       "      <td>25.0</td>\n",
       "      <td>549.0</td>\n",
       "      <td>44.0</td>\n",
       "      <td>Juanna Vines</td>\n",
       "      <td>True</td>\n",
       "      <td>F</td>\n",
       "      <td>0</td>\n",
       "    </tr>\n",
       "    <tr>\n",
       "      <th>2</th>\n",
       "      <td>0003_01</td>\n",
       "      <td>Europa</td>\n",
       "      <td>False</td>\n",
       "      <td>A/0/S</td>\n",
       "      <td>TRAPPIST-1e</td>\n",
       "      <td>58.0</td>\n",
       "      <td>True</td>\n",
       "      <td>43.0</td>\n",
       "      <td>3576.0</td>\n",
       "      <td>0.0</td>\n",
       "      <td>6715.0</td>\n",
       "      <td>49.0</td>\n",
       "      <td>Altark Susent</td>\n",
       "      <td>False</td>\n",
       "      <td>A</td>\n",
       "      <td>0</td>\n",
       "    </tr>\n",
       "    <tr>\n",
       "      <th>3</th>\n",
       "      <td>0003_02</td>\n",
       "      <td>Europa</td>\n",
       "      <td>False</td>\n",
       "      <td>A/0/S</td>\n",
       "      <td>TRAPPIST-1e</td>\n",
       "      <td>33.0</td>\n",
       "      <td>False</td>\n",
       "      <td>0.0</td>\n",
       "      <td>1283.0</td>\n",
       "      <td>371.0</td>\n",
       "      <td>3329.0</td>\n",
       "      <td>193.0</td>\n",
       "      <td>Solam Susent</td>\n",
       "      <td>False</td>\n",
       "      <td>A</td>\n",
       "      <td>0</td>\n",
       "    </tr>\n",
       "    <tr>\n",
       "      <th>4</th>\n",
       "      <td>0004_01</td>\n",
       "      <td>Earth</td>\n",
       "      <td>False</td>\n",
       "      <td>F/1/S</td>\n",
       "      <td>TRAPPIST-1e</td>\n",
       "      <td>16.0</td>\n",
       "      <td>False</td>\n",
       "      <td>303.0</td>\n",
       "      <td>70.0</td>\n",
       "      <td>151.0</td>\n",
       "      <td>565.0</td>\n",
       "      <td>2.0</td>\n",
       "      <td>Willy Santantines</td>\n",
       "      <td>True</td>\n",
       "      <td>F</td>\n",
       "      <td>1</td>\n",
       "    </tr>\n",
       "  </tbody>\n",
       "</table>\n",
       "</div>"
      ],
      "text/plain": [
       "  PassengerId HomePlanet CryoSleep  Cabin  Destination   Age    VIP  \\\n",
       "0     0001_01     Europa     False  B/0/P  TRAPPIST-1e  39.0  False   \n",
       "1     0002_01      Earth     False  F/0/S  TRAPPIST-1e  24.0  False   \n",
       "2     0003_01     Europa     False  A/0/S  TRAPPIST-1e  58.0   True   \n",
       "3     0003_02     Europa     False  A/0/S  TRAPPIST-1e  33.0  False   \n",
       "4     0004_01      Earth     False  F/1/S  TRAPPIST-1e  16.0  False   \n",
       "\n",
       "   RoomService  FoodCourt  ShoppingMall     Spa  VRDeck               Name  \\\n",
       "0          0.0        0.0           0.0     0.0     0.0    Maham Ofracculy   \n",
       "1        109.0        9.0          25.0   549.0    44.0       Juanna Vines   \n",
       "2         43.0     3576.0           0.0  6715.0    49.0      Altark Susent   \n",
       "3          0.0     1283.0         371.0  3329.0   193.0       Solam Susent   \n",
       "4        303.0       70.0         151.0   565.0     2.0  Willy Santantines   \n",
       "\n",
       "   Transported cabin_deck cabin_num  \n",
       "0        False          B         0  \n",
       "1         True          F         0  \n",
       "2        False          A         0  \n",
       "3        False          A         0  \n",
       "4         True          F         1  "
      ]
     },
     "execution_count": 27,
     "metadata": {},
     "output_type": "execute_result"
    }
   ],
   "source": [
    "df['cabin_num'] = df['Cabin'].apply(lambda x: x.split('/')[1])\n",
    "df.head()"
   ]
  },
  {
   "cell_type": "code",
   "execution_count": 28,
   "id": "e58ac246",
   "metadata": {
    "execution": {
     "iopub.execute_input": "2022-12-13T18:05:50.390208Z",
     "iopub.status.busy": "2022-12-13T18:05:50.389114Z",
     "iopub.status.idle": "2022-12-13T18:05:50.395419Z",
     "shell.execute_reply": "2022-12-13T18:05:50.394565Z"
    },
    "papermill": {
     "duration": 0.037681,
     "end_time": "2022-12-13T18:05:50.397594",
     "exception": false,
     "start_time": "2022-12-13T18:05:50.359913",
     "status": "completed"
    },
    "tags": []
   },
   "outputs": [],
   "source": [
    "# convert to numeric\n",
    "df['cabin_num'] = df['cabin_num'].astype(int)"
   ]
  },
  {
   "cell_type": "code",
   "execution_count": 29,
   "id": "19c70d59",
   "metadata": {
    "execution": {
     "iopub.execute_input": "2022-12-13T18:05:50.455273Z",
     "iopub.status.busy": "2022-12-13T18:05:50.454655Z",
     "iopub.status.idle": "2022-12-13T18:05:50.714647Z",
     "shell.execute_reply": "2022-12-13T18:05:50.713401Z"
    },
    "papermill": {
     "duration": 0.29208,
     "end_time": "2022-12-13T18:05:50.717285",
     "exception": false,
     "start_time": "2022-12-13T18:05:50.425205",
     "status": "completed"
    },
    "tags": []
   },
   "outputs": [
    {
     "data": {
      "text/plain": [
       "<AxesSubplot:xlabel='cabin_num', ylabel='Density'>"
      ]
     },
     "execution_count": 29,
     "metadata": {},
     "output_type": "execute_result"
    },
    {
     "data": {
      "image/png": "[encoded data removed]",
      "text/plain": [
       "<Figure size 432x288 with 1 Axes>"
      ]
     },
     "metadata": {
      "needs_background": "light"
     },
     "output_type": "display_data"
    }
   ],
   "source": [
    "sns.kdeplot(data=df, x=\"cabin_num\", hue='Transported')"
   ]
  },
  {
   "cell_type": "code",
   "execution_count": 30,
   "id": "414d5721",
   "metadata": {
    "execution": {
     "iopub.execute_input": "2022-12-13T18:05:50.776913Z",
     "iopub.status.busy": "2022-12-13T18:05:50.776514Z",
     "iopub.status.idle": "2022-12-13T18:05:50.791387Z",
     "shell.execute_reply": "2022-12-13T18:05:50.790245Z"
    },
    "papermill": {
     "duration": 0.048028,
     "end_time": "2022-12-13T18:05:50.794555",
     "exception": false,
     "start_time": "2022-12-13T18:05:50.746527",
     "status": "completed"
    },
    "tags": []
   },
   "outputs": [
    {
     "data": {
      "text/plain": [
       "count    6606.000000\n",
       "mean      599.177414\n",
       "std       513.450585\n",
       "min         0.000000\n",
       "25%       166.000000\n",
       "50%       424.000000\n",
       "75%       994.000000\n",
       "max      1894.000000\n",
       "Name: cabin_num, dtype: float64"
      ]
     },
     "execution_count": 30,
     "metadata": {},
     "output_type": "execute_result"
    }
   ],
   "source": [
    "df['cabin_num'].describe()"
   ]
  },
  {
   "cell_type": "code",
   "execution_count": 31,
   "id": "4020cc87",
   "metadata": {
    "execution": {
     "iopub.execute_input": "2022-12-13T18:05:50.854908Z",
     "iopub.status.busy": "2022-12-13T18:05:50.854064Z",
     "iopub.status.idle": "2022-12-13T18:05:50.862897Z",
     "shell.execute_reply": "2022-12-13T18:05:50.861749Z"
    },
    "papermill": {
     "duration": 0.041407,
     "end_time": "2022-12-13T18:05:50.865229",
     "exception": false,
     "start_time": "2022-12-13T18:05:50.823822",
     "status": "completed"
    },
    "tags": []
   },
   "outputs": [
    {
     "data": {
      "text/plain": [
       "0    82\n",
       "dtype: int64"
      ]
     },
     "execution_count": 31,
     "metadata": {},
     "output_type": "execute_result"
    }
   ],
   "source": [
    "df['cabin_num'].mode()"
   ]
  },
  {
   "cell_type": "code",
   "execution_count": 32,
   "id": "0153276d",
   "metadata": {
    "execution": {
     "iopub.execute_input": "2022-12-13T18:05:50.924471Z",
     "iopub.status.busy": "2022-12-13T18:05:50.923801Z",
     "iopub.status.idle": "2022-12-13T18:05:50.949911Z",
     "shell.execute_reply": "2022-12-13T18:05:50.948747Z"
    },
    "papermill": {
     "duration": 0.058332,
     "end_time": "2022-12-13T18:05:50.952215",
     "exception": false,
     "start_time": "2022-12-13T18:05:50.893883",
     "status": "completed"
    },
    "tags": []
   },
   "outputs": [
    {
     "data": {
      "text/html": [
       "<div>\n",
       "<style scoped>\n",
       "    .dataframe tbody tr th:only-of-type {\n",
       "        vertical-align: middle;\n",
       "    }\n",
       "\n",
       "    .dataframe tbody tr th {\n",
       "        vertical-align: top;\n",
       "    }\n",
       "\n",
       "    .dataframe thead th {\n",
       "        text-align: right;\n",
       "    }\n",
       "</style>\n",
       "<table border=\"1\" class=\"dataframe\">\n",
       "  <thead>\n",
       "    <tr style=\"text-align: right;\">\n",
       "      <th></th>\n",
       "      <th>PassengerId</th>\n",
       "      <th>HomePlanet</th>\n",
       "      <th>CryoSleep</th>\n",
       "      <th>Cabin</th>\n",
       "      <th>Destination</th>\n",
       "      <th>Age</th>\n",
       "      <th>VIP</th>\n",
       "      <th>RoomService</th>\n",
       "      <th>FoodCourt</th>\n",
       "      <th>ShoppingMall</th>\n",
       "      <th>Spa</th>\n",
       "      <th>VRDeck</th>\n",
       "      <th>Name</th>\n",
       "      <th>Transported</th>\n",
       "      <th>cabin_deck</th>\n",
       "      <th>cabin_num</th>\n",
       "      <th>cabin_side</th>\n",
       "    </tr>\n",
       "  </thead>\n",
       "  <tbody>\n",
       "    <tr>\n",
       "      <th>0</th>\n",
       "      <td>0001_01</td>\n",
       "      <td>Europa</td>\n",
       "      <td>False</td>\n",
       "      <td>B/0/P</td>\n",
       "      <td>TRAPPIST-1e</td>\n",
       "      <td>39.0</td>\n",
       "      <td>False</td>\n",
       "      <td>0.0</td>\n",
       "      <td>0.0</td>\n",
       "      <td>0.0</td>\n",
       "      <td>0.0</td>\n",
       "      <td>0.0</td>\n",
       "      <td>Maham Ofracculy</td>\n",
       "      <td>False</td>\n",
       "      <td>B</td>\n",
       "      <td>0</td>\n",
       "      <td>P</td>\n",
       "    </tr>\n",
       "    <tr>\n",
       "      <th>1</th>\n",
       "      <td>0002_01</td>\n",
       "      <td>Earth</td>\n",
       "      <td>False</td>\n",
       "      <td>F/0/S</td>\n",
       "      <td>TRAPPIST-1e</td>\n",
       "      <td>24.0</td>\n",
       "      <td>False</td>\n",
       "      <td>109.0</td>\n",
       "      <td>9.0</td>\n",
       "      <td>25.0</td>\n",
       "      <td>549.0</td>\n",
       "      <td>44.0</td>\n",
       "      <td>Juanna Vines</td>\n",
       "      <td>True</td>\n",
       "      <td>F</td>\n",
       "      <td>0</td>\n",
       "      <td>S</td>\n",
       "    </tr>\n",
       "    <tr>\n",
       "      <th>2</th>\n",
       "      <td>0003_01</td>\n",
       "      <td>Europa</td>\n",
       "      <td>False</td>\n",
       "      <td>A/0/S</td>\n",
       "      <td>TRAPPIST-1e</td>\n",
       "      <td>58.0</td>\n",
       "      <td>True</td>\n",
       "      <td>43.0</td>\n",
       "      <td>3576.0</td>\n",
       "      <td>0.0</td>\n",
       "      <td>6715.0</td>\n",
       "      <td>49.0</td>\n",
       "      <td>Altark Susent</td>\n",
       "      <td>False</td>\n",
       "      <td>A</td>\n",
       "      <td>0</td>\n",
       "      <td>S</td>\n",
       "    </tr>\n",
       "    <tr>\n",
       "      <th>3</th>\n",
       "      <td>0003_02</td>\n",
       "      <td>Europa</td>\n",
       "      <td>False</td>\n",
       "      <td>A/0/S</td>\n",
       "      <td>TRAPPIST-1e</td>\n",
       "      <td>33.0</td>\n",
       "      <td>False</td>\n",
       "      <td>0.0</td>\n",
       "      <td>1283.0</td>\n",
       "      <td>371.0</td>\n",
       "      <td>3329.0</td>\n",
       "      <td>193.0</td>\n",
       "      <td>Solam Susent</td>\n",
       "      <td>False</td>\n",
       "      <td>A</td>\n",
       "      <td>0</td>\n",
       "      <td>S</td>\n",
       "    </tr>\n",
       "    <tr>\n",
       "      <th>4</th>\n",
       "      <td>0004_01</td>\n",
       "      <td>Earth</td>\n",
       "      <td>False</td>\n",
       "      <td>F/1/S</td>\n",
       "      <td>TRAPPIST-1e</td>\n",
       "      <td>16.0</td>\n",
       "      <td>False</td>\n",
       "      <td>303.0</td>\n",
       "      <td>70.0</td>\n",
       "      <td>151.0</td>\n",
       "      <td>565.0</td>\n",
       "      <td>2.0</td>\n",
       "      <td>Willy Santantines</td>\n",
       "      <td>True</td>\n",
       "      <td>F</td>\n",
       "      <td>1</td>\n",
       "      <td>S</td>\n",
       "    </tr>\n",
       "  </tbody>\n",
       "</table>\n",
       "</div>"
      ],
      "text/plain": [
       "  PassengerId HomePlanet CryoSleep  Cabin  Destination   Age    VIP  \\\n",
       "0     0001_01     Europa     False  B/0/P  TRAPPIST-1e  39.0  False   \n",
       "1     0002_01      Earth     False  F/0/S  TRAPPIST-1e  24.0  False   \n",
       "2     0003_01     Europa     False  A/0/S  TRAPPIST-1e  58.0   True   \n",
       "3     0003_02     Europa     False  A/0/S  TRAPPIST-1e  33.0  False   \n",
       "4     0004_01      Earth     False  F/1/S  TRAPPIST-1e  16.0  False   \n",
       "\n",
       "   RoomService  FoodCourt  ShoppingMall     Spa  VRDeck               Name  \\\n",
       "0          0.0        0.0           0.0     0.0     0.0    Maham Ofracculy   \n",
       "1        109.0        9.0          25.0   549.0    44.0       Juanna Vines   \n",
       "2         43.0     3576.0           0.0  6715.0    49.0      Altark Susent   \n",
       "3          0.0     1283.0         371.0  3329.0   193.0       Solam Susent   \n",
       "4        303.0       70.0         151.0   565.0     2.0  Willy Santantines   \n",
       "\n",
       "   Transported cabin_deck  cabin_num cabin_side  \n",
       "0        False          B          0          P  \n",
       "1         True          F          0          S  \n",
       "2        False          A          0          S  \n",
       "3        False          A          0          S  \n",
       "4         True          F          1          S  "
      ]
     },
     "execution_count": 32,
     "metadata": {},
     "output_type": "execute_result"
    }
   ],
   "source": [
    "df['cabin_side'] = df['Cabin'].apply(lambda x: x.split('/')[2])\n",
    "df.head()"
   ]
  },
  {
   "cell_type": "code",
   "execution_count": 33,
   "id": "080fb381",
   "metadata": {
    "execution": {
     "iopub.execute_input": "2022-12-13T18:05:51.011924Z",
     "iopub.status.busy": "2022-12-13T18:05:51.011269Z",
     "iopub.status.idle": "2022-12-13T18:05:51.202930Z",
     "shell.execute_reply": "2022-12-13T18:05:51.201750Z"
    },
    "papermill": {
     "duration": 0.224167,
     "end_time": "2022-12-13T18:05:51.205335",
     "exception": false,
     "start_time": "2022-12-13T18:05:50.981168",
     "status": "completed"
    },
    "tags": []
   },
   "outputs": [
    {
     "data": {
      "image/png": "[encoded data removed]",
      "text/plain": [
       "<Figure size 576x432 with 1 Axes>"
      ]
     },
     "metadata": {
      "needs_background": "light"
     },
     "output_type": "display_data"
    }
   ],
   "source": [
    "annotate_bar('cabin_side')"
   ]
  },
  {
   "cell_type": "markdown",
   "id": "73500c0a",
   "metadata": {
    "papermill": {
     "duration": 0.029336,
     "end_time": "2022-12-13T18:05:51.263992",
     "exception": false,
     "start_time": "2022-12-13T18:05:51.234656",
     "status": "completed"
    },
    "tags": []
   },
   "source": [
    "Most passengers from `Port` cabin were not Transported, while most passengers from `Starboard` cabin were Transported."
   ]
  },
  {
   "cell_type": "markdown",
   "id": "8692a6e2",
   "metadata": {
    "papermill": {
     "duration": 0.028938,
     "end_time": "2022-12-13T18:05:51.322146",
     "exception": false,
     "start_time": "2022-12-13T18:05:51.293208",
     "status": "completed"
    },
    "tags": []
   },
   "source": [
    "**Destination**"
   ]
  },
  {
   "cell_type": "code",
   "execution_count": 34,
   "id": "7d065972",
   "metadata": {
    "execution": {
     "iopub.execute_input": "2022-12-13T18:05:51.382465Z",
     "iopub.status.busy": "2022-12-13T18:05:51.381984Z",
     "iopub.status.idle": "2022-12-13T18:05:51.389555Z",
     "shell.execute_reply": "2022-12-13T18:05:51.388539Z"
    },
    "papermill": {
     "duration": 0.040505,
     "end_time": "2022-12-13T18:05:51.391852",
     "exception": false,
     "start_time": "2022-12-13T18:05:51.351347",
     "status": "completed"
    },
    "tags": []
   },
   "outputs": [
    {
     "data": {
      "text/plain": [
       "3"
      ]
     },
     "execution_count": 34,
     "metadata": {},
     "output_type": "execute_result"
    }
   ],
   "source": [
    "df['Destination'].nunique()"
   ]
  },
  {
   "cell_type": "code",
   "execution_count": 35,
   "id": "62190069",
   "metadata": {
    "execution": {
     "iopub.execute_input": "2022-12-13T18:05:51.453534Z",
     "iopub.status.busy": "2022-12-13T18:05:51.452728Z",
     "iopub.status.idle": "2022-12-13T18:05:51.461004Z",
     "shell.execute_reply": "2022-12-13T18:05:51.459936Z"
    },
    "papermill": {
     "duration": 0.041007,
     "end_time": "2022-12-13T18:05:51.463241",
     "exception": false,
     "start_time": "2022-12-13T18:05:51.422234",
     "status": "completed"
    },
    "tags": []
   },
   "outputs": [
    {
     "data": {
      "text/plain": [
       "array(['TRAPPIST-1e', 'PSO J318.5-22', '55 Cancri e'], dtype=object)"
      ]
     },
     "execution_count": 35,
     "metadata": {},
     "output_type": "execute_result"
    }
   ],
   "source": [
    "df['Destination'].unique()"
   ]
  },
  {
   "cell_type": "code",
   "execution_count": 36,
   "id": "ff66b468",
   "metadata": {
    "execution": {
     "iopub.execute_input": "2022-12-13T18:05:51.523938Z",
     "iopub.status.busy": "2022-12-13T18:05:51.523527Z",
     "iopub.status.idle": "2022-12-13T18:05:51.649006Z",
     "shell.execute_reply": "2022-12-13T18:05:51.647778Z"
    },
    "papermill": {
     "duration": 0.160901,
     "end_time": "2022-12-13T18:05:51.653460",
     "exception": false,
     "start_time": "2022-12-13T18:05:51.492559",
     "status": "completed"
    },
    "tags": []
   },
   "outputs": [
    {
     "data": {
      "text/plain": [
       "<AxesSubplot:xlabel='Destination', ylabel='count'>"
      ]
     },
     "execution_count": 36,
     "metadata": {},
     "output_type": "execute_result"
    },
    {
     "data": {
      "image/png": "[encoded data removed]",
      "text/plain": [
       "<Figure size 432x288 with 1 Axes>"
      ]
     },
     "metadata": {
      "needs_background": "light"
     },
     "output_type": "display_data"
    }
   ],
   "source": [
    "sns.countplot(data=df, x='Destination')"
   ]
  },
  {
   "cell_type": "markdown",
   "id": "7701ba2b",
   "metadata": {
    "papermill": {
     "duration": 0.029223,
     "end_time": "2022-12-13T18:05:51.736265",
     "exception": false,
     "start_time": "2022-12-13T18:05:51.707042",
     "status": "completed"
    },
    "tags": []
   },
   "source": [
    "Most passengers were en route to `TRAPPIST-le`"
   ]
  },
  {
   "cell_type": "code",
   "execution_count": 37,
   "id": "d3a652c3",
   "metadata": {
    "execution": {
     "iopub.execute_input": "2022-12-13T18:05:51.798148Z",
     "iopub.status.busy": "2022-12-13T18:05:51.797704Z",
     "iopub.status.idle": "2022-12-13T18:05:52.065958Z",
     "shell.execute_reply": "2022-12-13T18:05:52.064793Z"
    },
    "papermill": {
     "duration": 0.302267,
     "end_time": "2022-12-13T18:05:52.068717",
     "exception": false,
     "start_time": "2022-12-13T18:05:51.766450",
     "status": "completed"
    },
    "tags": []
   },
   "outputs": [
    {
     "data": {
      "image/png": "[encoded data removed]",
      "text/plain": [
       "<Figure size 576x432 with 1 Axes>"
      ]
     },
     "metadata": {
      "needs_background": "light"
     },
     "output_type": "display_data"
    }
   ],
   "source": [
    "annotate_bar('Destination')"
   ]
  },
  {
   "cell_type": "markdown",
   "id": "dfb8a675",
   "metadata": {
    "papermill": {
     "duration": 0.029924,
     "end_time": "2022-12-13T18:05:52.128752",
     "exception": false,
     "start_time": "2022-12-13T18:05:52.098828",
     "status": "completed"
    },
    "tags": []
   },
   "source": [
    "Not much of effect on Trasportation status."
   ]
  },
  {
   "cell_type": "code",
   "execution_count": 38,
   "id": "3568930f",
   "metadata": {
    "execution": {
     "iopub.execute_input": "2022-12-13T18:05:52.190873Z",
     "iopub.status.busy": "2022-12-13T18:05:52.190478Z",
     "iopub.status.idle": "2022-12-13T18:05:52.453993Z",
     "shell.execute_reply": "2022-12-13T18:05:52.453067Z"
    },
    "papermill": {
     "duration": 0.297721,
     "end_time": "2022-12-13T18:05:52.456452",
     "exception": false,
     "start_time": "2022-12-13T18:05:52.158731",
     "status": "completed"
    },
    "tags": []
   },
   "outputs": [
    {
     "data": {
      "text/plain": [
       "<AxesSubplot:xlabel='Age', ylabel='Density'>"
      ]
     },
     "execution_count": 38,
     "metadata": {},
     "output_type": "execute_result"
    },
    {
     "data": {
      "image/png": "[encoded data removed]",
      "text/plain": [
       "<Figure size 432x288 with 1 Axes>"
      ]
     },
     "metadata": {
      "needs_background": "light"
     },
     "output_type": "display_data"
    }
   ],
   "source": [
    "sns.kdeplot(data=df, x=\"Age\", hue='Transported')"
   ]
  },
  {
   "cell_type": "markdown",
   "id": "15d32f7d",
   "metadata": {
    "papermill": {
     "duration": 0.03013,
     "end_time": "2022-12-13T18:05:52.517760",
     "exception": false,
     "start_time": "2022-12-13T18:05:52.487630",
     "status": "completed"
    },
    "tags": []
   },
   "source": [
    "Most passengers were around 25 years of age. Not much effect on Trasportation status."
   ]
  },
  {
   "cell_type": "markdown",
   "id": "543f1f3a",
   "metadata": {
    "papermill": {
     "duration": 0.030039,
     "end_time": "2022-12-13T18:05:52.578204",
     "exception": false,
     "start_time": "2022-12-13T18:05:52.548165",
     "status": "completed"
    },
    "tags": []
   },
   "source": [
    "**VIP**"
   ]
  },
  {
   "cell_type": "code",
   "execution_count": 39,
   "id": "7bb2f88b",
   "metadata": {
    "execution": {
     "iopub.execute_input": "2022-12-13T18:05:52.640862Z",
     "iopub.status.busy": "2022-12-13T18:05:52.640436Z",
     "iopub.status.idle": "2022-12-13T18:05:52.834992Z",
     "shell.execute_reply": "2022-12-13T18:05:52.833755Z"
    },
    "papermill": {
     "duration": 0.228489,
     "end_time": "2022-12-13T18:05:52.837462",
     "exception": false,
     "start_time": "2022-12-13T18:05:52.608973",
     "status": "completed"
    },
    "tags": []
   },
   "outputs": [
    {
     "data": {
      "text/plain": [
       "<AxesSubplot:xlabel='VIP', ylabel='count'>"
      ]
     },
     "execution_count": 39,
     "metadata": {},
     "output_type": "execute_result"
    },
    {
     "data": {
      "image/png": "[encoded data removed]",
      "text/plain": [
       "<Figure size 432x288 with 1 Axes>"
      ]
     },
     "metadata": {
      "needs_background": "light"
     },
     "output_type": "display_data"
    }
   ],
   "source": [
    "# VIP\n",
    "sns.countplot(data=df, x='VIP')"
   ]
  },
  {
   "cell_type": "code",
   "execution_count": 40,
   "id": "98351bef",
   "metadata": {
    "execution": {
     "iopub.execute_input": "2022-12-13T18:05:52.902128Z",
     "iopub.status.busy": "2022-12-13T18:05:52.901702Z",
     "iopub.status.idle": "2022-12-13T18:05:53.153476Z",
     "shell.execute_reply": "2022-12-13T18:05:53.152369Z"
    },
    "papermill": {
     "duration": 0.287053,
     "end_time": "2022-12-13T18:05:53.155927",
     "exception": false,
     "start_time": "2022-12-13T18:05:52.868874",
     "status": "completed"
    },
    "tags": []
   },
   "outputs": [
    {
     "data": {
      "image/png": "[encoded data removed]",
      "text/plain": [
       "<Figure size 576x432 with 1 Axes>"
      ]
     },
     "metadata": {
      "needs_background": "light"
     },
     "output_type": "display_data"
    }
   ],
   "source": [
    "annotate_bar('VIP')"
   ]
  },
  {
   "cell_type": "markdown",
   "id": "d40e6638",
   "metadata": {
    "papermill": {
     "duration": 0.03127,
     "end_time": "2022-12-13T18:05:53.219150",
     "exception": false,
     "start_time": "2022-12-13T18:05:53.187880",
     "status": "completed"
    },
    "tags": []
   },
   "source": [
    "Not much of effect on Trasportation status."
   ]
  },
  {
   "cell_type": "markdown",
   "id": "dcc41b45",
   "metadata": {
    "papermill": {
     "duration": 0.030766,
     "end_time": "2022-12-13T18:05:53.281875",
     "exception": false,
     "start_time": "2022-12-13T18:05:53.251109",
     "status": "completed"
    },
    "tags": []
   },
   "source": [
    "**RoomService, FoodCourt, ShoppingMall, Spa, VRDeck**"
   ]
  },
  {
   "cell_type": "code",
   "execution_count": 41,
   "id": "69160ab2",
   "metadata": {
    "execution": {
     "iopub.execute_input": "2022-12-13T18:05:53.347438Z",
     "iopub.status.busy": "2022-12-13T18:05:53.346341Z",
     "iopub.status.idle": "2022-12-13T18:05:53.812146Z",
     "shell.execute_reply": "2022-12-13T18:05:53.811014Z"
    },
    "papermill": {
     "duration": 0.501006,
     "end_time": "2022-12-13T18:05:53.814545",
     "exception": false,
     "start_time": "2022-12-13T18:05:53.313539",
     "status": "completed"
    },
    "tags": []
   },
   "outputs": [
    {
     "data": {
      "text/plain": [
       "<AxesSubplot:ylabel='Density'>"
      ]
     },
     "execution_count": 41,
     "metadata": {},
     "output_type": "execute_result"
    },
    {
     "data": {
      "image/png": "[encoded data removed]",
      "text/plain": [
       "<Figure size 432x288 with 1 Axes>"
      ]
     },
     "metadata": {
      "needs_background": "light"
     },
     "output_type": "display_data"
    }
   ],
   "source": [
    "sns.kdeplot(data=df[['RoomService', 'FoodCourt', 'ShoppingMall', 'Spa', 'VRDeck']])"
   ]
  },
  {
   "cell_type": "code",
   "execution_count": 42,
   "id": "6344243e",
   "metadata": {
    "execution": {
     "iopub.execute_input": "2022-12-13T18:05:53.880324Z",
     "iopub.status.busy": "2022-12-13T18:05:53.879865Z",
     "iopub.status.idle": "2022-12-13T18:05:54.165262Z",
     "shell.execute_reply": "2022-12-13T18:05:54.164424Z"
    },
    "papermill": {
     "duration": 0.321514,
     "end_time": "2022-12-13T18:05:54.167755",
     "exception": false,
     "start_time": "2022-12-13T18:05:53.846241",
     "status": "completed"
    },
    "tags": []
   },
   "outputs": [
    {
     "data": {
      "text/plain": [
       "<AxesSubplot:xlabel='RoomService', ylabel='Density'>"
      ]
     },
     "execution_count": 42,
     "metadata": {},
     "output_type": "execute_result"
    },
    {
     "data": {
      "image/png": "[encoded data removed]",
      "text/plain": [
       "<Figure size 432x288 with 1 Axes>"
      ]
     },
     "metadata": {
      "needs_background": "light"
     },
     "output_type": "display_data"
    }
   ],
   "source": [
    "sns.kdeplot(data=df, x='RoomService', hue='Transported')"
   ]
  },
  {
   "cell_type": "code",
   "execution_count": 43,
   "id": "3f0cbcb6",
   "metadata": {
    "execution": {
     "iopub.execute_input": "2022-12-13T18:05:54.236264Z",
     "iopub.status.busy": "2022-12-13T18:05:54.235090Z",
     "iopub.status.idle": "2022-12-13T18:05:54.246304Z",
     "shell.execute_reply": "2022-12-13T18:05:54.245113Z"
    },
    "papermill": {
     "duration": 0.048156,
     "end_time": "2022-12-13T18:05:54.249019",
     "exception": false,
     "start_time": "2022-12-13T18:05:54.200863",
     "status": "completed"
    },
    "tags": []
   },
   "outputs": [
    {
     "data": {
      "text/plain": [
       "count    6606.000000\n",
       "mean      222.991674\n",
       "std       644.987936\n",
       "min         0.000000\n",
       "25%         0.000000\n",
       "50%         0.000000\n",
       "75%        49.000000\n",
       "max      9920.000000\n",
       "Name: RoomService, dtype: float64"
      ]
     },
     "execution_count": 43,
     "metadata": {},
     "output_type": "execute_result"
    }
   ],
   "source": [
    "df['RoomService'].describe()"
   ]
  },
  {
   "cell_type": "code",
   "execution_count": 44,
   "id": "6f07d4b8",
   "metadata": {
    "execution": {
     "iopub.execute_input": "2022-12-13T18:05:54.316441Z",
     "iopub.status.busy": "2022-12-13T18:05:54.315987Z",
     "iopub.status.idle": "2022-12-13T18:05:54.529169Z",
     "shell.execute_reply": "2022-12-13T18:05:54.527972Z"
    },
    "papermill": {
     "duration": 0.249816,
     "end_time": "2022-12-13T18:05:54.531814",
     "exception": false,
     "start_time": "2022-12-13T18:05:54.281998",
     "status": "completed"
    },
    "tags": []
   },
   "outputs": [
    {
     "data": {
      "text/plain": [
       "<AxesSubplot:xlabel='RoomService', ylabel='Transported'>"
      ]
     },
     "execution_count": 44,
     "metadata": {},
     "output_type": "execute_result"
    },
    {
     "data": {
      "image/png": "[encoded data removed]",
      "text/plain": [
       "<Figure size 432x288 with 1 Axes>"
      ]
     },
     "metadata": {
      "needs_background": "light"
     },
     "output_type": "display_data"
    }
   ],
   "source": [
    "df['Transported'] = df['Transported'].astype(str)\n",
    "sns.boxplot(data=df, x='RoomService', y='Transported')"
   ]
  },
  {
   "cell_type": "markdown",
   "id": "374e87c5",
   "metadata": {
    "papermill": {
     "duration": 0.032832,
     "end_time": "2022-12-13T18:05:54.597340",
     "exception": false,
     "start_time": "2022-12-13T18:05:54.564508",
     "status": "completed"
    },
    "tags": []
   },
   "source": [
    "Too much skqewness in all these variables"
   ]
  },
  {
   "cell_type": "code",
   "execution_count": 45,
   "id": "b8c48084",
   "metadata": {
    "execution": {
     "iopub.execute_input": "2022-12-13T18:05:54.666596Z",
     "iopub.status.busy": "2022-12-13T18:05:54.666126Z",
     "iopub.status.idle": "2022-12-13T18:05:57.128632Z",
     "shell.execute_reply": "2022-12-13T18:05:57.126988Z"
    },
    "papermill": {
     "duration": 2.499756,
     "end_time": "2022-12-13T18:05:57.131308",
     "exception": false,
     "start_time": "2022-12-13T18:05:54.631552",
     "status": "completed"
    },
    "tags": []
   },
   "outputs": [
    {
     "data": {
      "image/png": "[encoded data removed]",
      "text/plain": [
       "<Figure size 432x288 with 1 Axes>"
      ]
     },
     "metadata": {
      "needs_background": "light"
     },
     "output_type": "display_data"
    },
    {
     "name": "stdout",
     "output_type": "stream",
     "text": [
      "count    6606.000000\n",
      "mean      222.991674\n",
      "std       644.987936\n",
      "min         0.000000\n",
      "25%         0.000000\n",
      "50%         0.000000\n",
      "75%        49.000000\n",
      "max      9920.000000\n",
      "Name: RoomService, dtype: float64\n"
     ]
    },
    {
     "data": {
      "image/png": "[encoded data removed]",
      "text/plain": [
       "<Figure size 432x288 with 1 Axes>"
      ]
     },
     "metadata": {
      "needs_background": "light"
     },
     "output_type": "display_data"
    },
    {
     "data": {
      "image/png": "[encoded data removed]",
      "text/plain": [
       "<Figure size 432x288 with 1 Axes>"
      ]
     },
     "metadata": {
      "needs_background": "light"
     },
     "output_type": "display_data"
    },
    {
     "name": "stdout",
     "output_type": "stream",
     "text": [
      "count     6606.000000\n",
      "mean       478.958523\n",
      "std       1678.592291\n",
      "min          0.000000\n",
      "25%          0.000000\n",
      "50%          0.000000\n",
      "75%         82.750000\n",
      "max      29813.000000\n",
      "Name: FoodCourt, dtype: float64\n"
     ]
    },
    {
     "data": {
      "image/png": "[encoded data removed]",
      "text/plain": [
       "<Figure size 432x288 with 1 Axes>"
      ]
     },
     "metadata": {
      "needs_background": "light"
     },
     "output_type": "display_data"
    },
    {
     "data": {
      "image/png": "[encoded data removed]",
      "text/plain": [
       "<Figure size 432x288 with 1 Axes>"
      ]
     },
     "metadata": {
      "needs_background": "light"
     },
     "output_type": "display_data"
    },
    {
     "name": "stdout",
     "output_type": "stream",
     "text": [
      "count     6606.000000\n",
      "mean       178.356494\n",
      "std        576.328407\n",
      "min          0.000000\n",
      "25%          0.000000\n",
      "50%          0.000000\n",
      "75%         30.000000\n",
      "max      12253.000000\n",
      "Name: ShoppingMall, dtype: float64\n"
     ]
    },
    {
     "data": {
      "image/png": "[encoded data removed]",
      "text/plain": [
       "<Figure size 432x288 with 1 Axes>"
      ]
     },
     "metadata": {
      "needs_background": "light"
     },
     "output_type": "display_data"
    },
    {
     "data": {
      "image/png": "[encoded data removed]",
      "text/plain": [
       "<Figure size 432x288 with 1 Axes>"
      ]
     },
     "metadata": {
      "needs_background": "light"
     },
     "output_type": "display_data"
    },
    {
     "name": "stdout",
     "output_type": "stream",
     "text": [
      "count     6606.000000\n",
      "mean       313.161520\n",
      "std       1144.016291\n",
      "min          0.000000\n",
      "25%          0.000000\n",
      "50%          0.000000\n",
      "75%         65.000000\n",
      "max      22408.000000\n",
      "Name: Spa, dtype: float64\n"
     ]
    },
    {
     "data": {
      "image/png": "[encoded data removed]",
      "text/plain": [
       "<Figure size 432x288 with 1 Axes>"
      ]
     },
     "metadata": {
      "needs_background": "light"
     },
     "output_type": "display_data"
    },
    {
     "data": {
      "image/png": "[encoded data removed]",
      "text/plain": [
       "<Figure size 432x288 with 1 Axes>"
      ]
     },
     "metadata": {
      "needs_background": "light"
     },
     "output_type": "display_data"
    },
    {
     "name": "stdout",
     "output_type": "stream",
     "text": [
      "count     6606.000000\n",
      "mean       303.780048\n",
      "std       1127.142166\n",
      "min          0.000000\n",
      "25%          0.000000\n",
      "50%          0.000000\n",
      "75%         52.000000\n",
      "max      20336.000000\n",
      "Name: VRDeck, dtype: float64\n"
     ]
    },
    {
     "data": {
      "image/png": "[encoded data removed]",
      "text/plain": [
       "<Figure size 432x288 with 1 Axes>"
      ]
     },
     "metadata": {
      "needs_background": "light"
     },
     "output_type": "display_data"
    }
   ],
   "source": [
    "for col in ['RoomService', 'FoodCourt', 'ShoppingMall', 'Spa', 'VRDeck']:\n",
    "    sns.kdeplot(data=df, x=col, hue='Transported')\n",
    "    plt.show()\n",
    "    print(df[col].describe())\n",
    "    sns.boxplot(data=df, x=col, y='Transported')\n",
    "    plt.show()"
   ]
  },
  {
   "cell_type": "markdown",
   "id": "c3e45fc6",
   "metadata": {
    "papermill": {
     "duration": 0.035219,
     "end_time": "2022-12-13T18:05:57.202426",
     "exception": false,
     "start_time": "2022-12-13T18:05:57.167207",
     "status": "completed"
    },
    "tags": []
   },
   "source": [
    "All values are positive skewed."
   ]
  },
  {
   "cell_type": "markdown",
   "id": "95ef86d7",
   "metadata": {
    "papermill": {
     "duration": 0.03556,
     "end_time": "2022-12-13T18:05:57.273476",
     "exception": false,
     "start_time": "2022-12-13T18:05:57.237916",
     "status": "completed"
    },
    "tags": []
   },
   "source": [
    "## Feature Engineering"
   ]
  },
  {
   "cell_type": "markdown",
   "id": "b9fa7e01",
   "metadata": {
    "papermill": {
     "duration": 0.035676,
     "end_time": "2022-12-13T18:05:57.344647",
     "exception": false,
     "start_time": "2022-12-13T18:05:57.308971",
     "status": "completed"
    },
    "tags": []
   },
   "source": [
    "**HomePlanet**"
   ]
  },
  {
   "cell_type": "code",
   "execution_count": 46,
   "id": "cfb038d2",
   "metadata": {
    "execution": {
     "iopub.execute_input": "2022-12-13T18:05:57.418194Z",
     "iopub.status.busy": "2022-12-13T18:05:57.417461Z",
     "iopub.status.idle": "2022-12-13T18:05:57.439961Z",
     "shell.execute_reply": "2022-12-13T18:05:57.438792Z"
    },
    "papermill": {
     "duration": 0.062487,
     "end_time": "2022-12-13T18:05:57.442826",
     "exception": false,
     "start_time": "2022-12-13T18:05:57.380339",
     "status": "completed"
    },
    "tags": []
   },
   "outputs": [
    {
     "data": {
      "text/html": [
       "<div>\n",
       "<style scoped>\n",
       "    .dataframe tbody tr th:only-of-type {\n",
       "        vertical-align: middle;\n",
       "    }\n",
       "\n",
       "    .dataframe tbody tr th {\n",
       "        vertical-align: top;\n",
       "    }\n",
       "\n",
       "    .dataframe thead th {\n",
       "        text-align: right;\n",
       "    }\n",
       "</style>\n",
       "<table border=\"1\" class=\"dataframe\">\n",
       "  <thead>\n",
       "    <tr style=\"text-align: right;\">\n",
       "      <th></th>\n",
       "      <th>PassengerId</th>\n",
       "      <th>HomePlanet</th>\n",
       "      <th>CryoSleep</th>\n",
       "      <th>Cabin</th>\n",
       "      <th>Destination</th>\n",
       "      <th>Age</th>\n",
       "      <th>VIP</th>\n",
       "      <th>RoomService</th>\n",
       "      <th>FoodCourt</th>\n",
       "      <th>ShoppingMall</th>\n",
       "      <th>Spa</th>\n",
       "      <th>VRDeck</th>\n",
       "      <th>Name</th>\n",
       "      <th>Transported</th>\n",
       "      <th>cabin_deck</th>\n",
       "      <th>cabin_num</th>\n",
       "      <th>cabin_side</th>\n",
       "      <th>homeplanet_code</th>\n",
       "    </tr>\n",
       "  </thead>\n",
       "  <tbody>\n",
       "    <tr>\n",
       "      <th>0</th>\n",
       "      <td>0001_01</td>\n",
       "      <td>Europa</td>\n",
       "      <td>False</td>\n",
       "      <td>B/0/P</td>\n",
       "      <td>TRAPPIST-1e</td>\n",
       "      <td>39.0</td>\n",
       "      <td>False</td>\n",
       "      <td>0.0</td>\n",
       "      <td>0.0</td>\n",
       "      <td>0.0</td>\n",
       "      <td>0.0</td>\n",
       "      <td>0.0</td>\n",
       "      <td>Maham Ofracculy</td>\n",
       "      <td>False</td>\n",
       "      <td>B</td>\n",
       "      <td>0</td>\n",
       "      <td>P</td>\n",
       "      <td>1</td>\n",
       "    </tr>\n",
       "    <tr>\n",
       "      <th>1</th>\n",
       "      <td>0002_01</td>\n",
       "      <td>Earth</td>\n",
       "      <td>False</td>\n",
       "      <td>F/0/S</td>\n",
       "      <td>TRAPPIST-1e</td>\n",
       "      <td>24.0</td>\n",
       "      <td>False</td>\n",
       "      <td>109.0</td>\n",
       "      <td>9.0</td>\n",
       "      <td>25.0</td>\n",
       "      <td>549.0</td>\n",
       "      <td>44.0</td>\n",
       "      <td>Juanna Vines</td>\n",
       "      <td>True</td>\n",
       "      <td>F</td>\n",
       "      <td>0</td>\n",
       "      <td>S</td>\n",
       "      <td>0</td>\n",
       "    </tr>\n",
       "  </tbody>\n",
       "</table>\n",
       "</div>"
      ],
      "text/plain": [
       "  PassengerId HomePlanet CryoSleep  Cabin  Destination   Age    VIP  \\\n",
       "0     0001_01     Europa     False  B/0/P  TRAPPIST-1e  39.0  False   \n",
       "1     0002_01      Earth     False  F/0/S  TRAPPIST-1e  24.0  False   \n",
       "\n",
       "   RoomService  FoodCourt  ShoppingMall    Spa  VRDeck             Name  \\\n",
       "0          0.0        0.0           0.0    0.0     0.0  Maham Ofracculy   \n",
       "1        109.0        9.0          25.0  549.0    44.0     Juanna Vines   \n",
       "\n",
       "  Transported cabin_deck  cabin_num cabin_side  homeplanet_code  \n",
       "0       False          B          0          P                1  \n",
       "1        True          F          0          S                0  "
      ]
     },
     "execution_count": 46,
     "metadata": {},
     "output_type": "execute_result"
    }
   ],
   "source": [
    "df['homeplanet_code'] = df['HomePlanet'].map({'Earth':0, 'Europa':1, 'Mars':2})\n",
    "df.head(2)"
   ]
  },
  {
   "cell_type": "code",
   "execution_count": 47,
   "id": "a658758e",
   "metadata": {
    "execution": {
     "iopub.execute_input": "2022-12-13T18:05:57.540656Z",
     "iopub.status.busy": "2022-12-13T18:05:57.539842Z",
     "iopub.status.idle": "2022-12-13T18:05:57.549350Z",
     "shell.execute_reply": "2022-12-13T18:05:57.548263Z"
    },
    "papermill": {
     "duration": 0.069338,
     "end_time": "2022-12-13T18:05:57.551781",
     "exception": false,
     "start_time": "2022-12-13T18:05:57.482443",
     "status": "completed"
    },
    "tags": []
   },
   "outputs": [
    {
     "data": {
      "text/plain": [
       "0    3566\n",
       "1    1673\n",
       "2    1367\n",
       "Name: homeplanet_code, dtype: int64"
      ]
     },
     "execution_count": 47,
     "metadata": {},
     "output_type": "execute_result"
    }
   ],
   "source": [
    "df['homeplanet_code'].value_counts()"
   ]
  },
  {
   "cell_type": "code",
   "execution_count": 48,
   "id": "949369c3",
   "metadata": {
    "execution": {
     "iopub.execute_input": "2022-12-13T18:05:57.635427Z",
     "iopub.status.busy": "2022-12-13T18:05:57.634600Z",
     "iopub.status.idle": "2022-12-13T18:05:57.645505Z",
     "shell.execute_reply": "2022-12-13T18:05:57.644314Z"
    },
    "papermill": {
     "duration": 0.054779,
     "end_time": "2022-12-13T18:05:57.648750",
     "exception": false,
     "start_time": "2022-12-13T18:05:57.593971",
     "status": "completed"
    },
    "tags": []
   },
   "outputs": [
    {
     "data": {
      "text/plain": [
       "Earth     3566\n",
       "Europa    1673\n",
       "Mars      1367\n",
       "Name: HomePlanet, dtype: int64"
      ]
     },
     "execution_count": 48,
     "metadata": {},
     "output_type": "execute_result"
    }
   ],
   "source": [
    "df['HomePlanet'].value_counts()"
   ]
  },
  {
   "cell_type": "markdown",
   "id": "edabe785",
   "metadata": {
    "papermill": {
     "duration": 0.036837,
     "end_time": "2022-12-13T18:05:57.729315",
     "exception": false,
     "start_time": "2022-12-13T18:05:57.692478",
     "status": "completed"
    },
    "tags": []
   },
   "source": [
    "**CryoSleep**"
   ]
  },
  {
   "cell_type": "code",
   "execution_count": 49,
   "id": "9c80d349",
   "metadata": {
    "execution": {
     "iopub.execute_input": "2022-12-13T18:05:57.805829Z",
     "iopub.status.busy": "2022-12-13T18:05:57.805350Z",
     "iopub.status.idle": "2022-12-13T18:05:57.837932Z",
     "shell.execute_reply": "2022-12-13T18:05:57.836636Z"
    },
    "papermill": {
     "duration": 0.074515,
     "end_time": "2022-12-13T18:05:57.841906",
     "exception": false,
     "start_time": "2022-12-13T18:05:57.767391",
     "status": "completed"
    },
    "tags": []
   },
   "outputs": [
    {
     "data": {
      "text/html": [
       "<div>\n",
       "<style scoped>\n",
       "    .dataframe tbody tr th:only-of-type {\n",
       "        vertical-align: middle;\n",
       "    }\n",
       "\n",
       "    .dataframe tbody tr th {\n",
       "        vertical-align: top;\n",
       "    }\n",
       "\n",
       "    .dataframe thead th {\n",
       "        text-align: right;\n",
       "    }\n",
       "</style>\n",
       "<table border=\"1\" class=\"dataframe\">\n",
       "  <thead>\n",
       "    <tr style=\"text-align: right;\">\n",
       "      <th></th>\n",
       "      <th>PassengerId</th>\n",
       "      <th>HomePlanet</th>\n",
       "      <th>CryoSleep</th>\n",
       "      <th>Cabin</th>\n",
       "      <th>Destination</th>\n",
       "      <th>Age</th>\n",
       "      <th>VIP</th>\n",
       "      <th>RoomService</th>\n",
       "      <th>FoodCourt</th>\n",
       "      <th>ShoppingMall</th>\n",
       "      <th>Spa</th>\n",
       "      <th>VRDeck</th>\n",
       "      <th>Name</th>\n",
       "      <th>Transported</th>\n",
       "      <th>cabin_deck</th>\n",
       "      <th>cabin_num</th>\n",
       "      <th>cabin_side</th>\n",
       "      <th>homeplanet_code</th>\n",
       "      <th>cryosleep_code</th>\n",
       "    </tr>\n",
       "  </thead>\n",
       "  <tbody>\n",
       "    <tr>\n",
       "      <th>0</th>\n",
       "      <td>0001_01</td>\n",
       "      <td>Europa</td>\n",
       "      <td>False</td>\n",
       "      <td>B/0/P</td>\n",
       "      <td>TRAPPIST-1e</td>\n",
       "      <td>39.0</td>\n",
       "      <td>False</td>\n",
       "      <td>0.0</td>\n",
       "      <td>0.0</td>\n",
       "      <td>0.0</td>\n",
       "      <td>0.0</td>\n",
       "      <td>0.0</td>\n",
       "      <td>Maham Ofracculy</td>\n",
       "      <td>False</td>\n",
       "      <td>B</td>\n",
       "      <td>0</td>\n",
       "      <td>P</td>\n",
       "      <td>1</td>\n",
       "      <td>0</td>\n",
       "    </tr>\n",
       "    <tr>\n",
       "      <th>1</th>\n",
       "      <td>0002_01</td>\n",
       "      <td>Earth</td>\n",
       "      <td>False</td>\n",
       "      <td>F/0/S</td>\n",
       "      <td>TRAPPIST-1e</td>\n",
       "      <td>24.0</td>\n",
       "      <td>False</td>\n",
       "      <td>109.0</td>\n",
       "      <td>9.0</td>\n",
       "      <td>25.0</td>\n",
       "      <td>549.0</td>\n",
       "      <td>44.0</td>\n",
       "      <td>Juanna Vines</td>\n",
       "      <td>True</td>\n",
       "      <td>F</td>\n",
       "      <td>0</td>\n",
       "      <td>S</td>\n",
       "      <td>0</td>\n",
       "      <td>0</td>\n",
       "    </tr>\n",
       "  </tbody>\n",
       "</table>\n",
       "</div>"
      ],
      "text/plain": [
       "  PassengerId HomePlanet CryoSleep  Cabin  Destination   Age    VIP  \\\n",
       "0     0001_01     Europa     False  B/0/P  TRAPPIST-1e  39.0  False   \n",
       "1     0002_01      Earth     False  F/0/S  TRAPPIST-1e  24.0  False   \n",
       "\n",
       "   RoomService  FoodCourt  ShoppingMall    Spa  VRDeck             Name  \\\n",
       "0          0.0        0.0           0.0    0.0     0.0  Maham Ofracculy   \n",
       "1        109.0        9.0          25.0  549.0    44.0     Juanna Vines   \n",
       "\n",
       "  Transported cabin_deck  cabin_num cabin_side  homeplanet_code  \\\n",
       "0       False          B          0          P                1   \n",
       "1        True          F          0          S                0   \n",
       "\n",
       "   cryosleep_code  \n",
       "0               0  \n",
       "1               0  "
      ]
     },
     "execution_count": 49,
     "metadata": {},
     "output_type": "execute_result"
    }
   ],
   "source": [
    "df['cryosleep_code'] = df['CryoSleep'].map({False:0, True:1})\n",
    "df.head(2)"
   ]
  },
  {
   "cell_type": "code",
   "execution_count": 50,
   "id": "ca285fc2",
   "metadata": {
    "execution": {
     "iopub.execute_input": "2022-12-13T18:05:57.948155Z",
     "iopub.status.busy": "2022-12-13T18:05:57.947678Z",
     "iopub.status.idle": "2022-12-13T18:05:57.957640Z",
     "shell.execute_reply": "2022-12-13T18:05:57.956347Z"
    },
    "papermill": {
     "duration": 0.072046,
     "end_time": "2022-12-13T18:05:57.961646",
     "exception": false,
     "start_time": "2022-12-13T18:05:57.889600",
     "status": "completed"
    },
    "tags": []
   },
   "outputs": [
    {
     "data": {
      "text/plain": [
       "0    4274\n",
       "1    2332\n",
       "Name: cryosleep_code, dtype: int64"
      ]
     },
     "execution_count": 50,
     "metadata": {},
     "output_type": "execute_result"
    }
   ],
   "source": [
    "df['cryosleep_code'].value_counts()"
   ]
  },
  {
   "cell_type": "code",
   "execution_count": 51,
   "id": "ada24591",
   "metadata": {
    "execution": {
     "iopub.execute_input": "2022-12-13T18:05:58.039654Z",
     "iopub.status.busy": "2022-12-13T18:05:58.038670Z",
     "iopub.status.idle": "2022-12-13T18:05:58.049025Z",
     "shell.execute_reply": "2022-12-13T18:05:58.048023Z"
    },
    "papermill": {
     "duration": 0.050922,
     "end_time": "2022-12-13T18:05:58.051348",
     "exception": false,
     "start_time": "2022-12-13T18:05:58.000426",
     "status": "completed"
    },
    "tags": []
   },
   "outputs": [
    {
     "data": {
      "text/plain": [
       "False    4274\n",
       "True     2332\n",
       "Name: CryoSleep, dtype: int64"
      ]
     },
     "execution_count": 51,
     "metadata": {},
     "output_type": "execute_result"
    }
   ],
   "source": [
    "df['CryoSleep'].value_counts()"
   ]
  },
  {
   "cell_type": "markdown",
   "id": "4bf90d02",
   "metadata": {
    "papermill": {
     "duration": 0.036575,
     "end_time": "2022-12-13T18:05:58.124579",
     "exception": false,
     "start_time": "2022-12-13T18:05:58.088004",
     "status": "completed"
    },
    "tags": []
   },
   "source": [
    "**Cabin**"
   ]
  },
  {
   "cell_type": "code",
   "execution_count": 52,
   "id": "4098cf55",
   "metadata": {
    "execution": {
     "iopub.execute_input": "2022-12-13T18:05:58.201436Z",
     "iopub.status.busy": "2022-12-13T18:05:58.200112Z",
     "iopub.status.idle": "2022-12-13T18:05:58.211929Z",
     "shell.execute_reply": "2022-12-13T18:05:58.210848Z"
    },
    "papermill": {
     "duration": 0.054357,
     "end_time": "2022-12-13T18:05:58.215581",
     "exception": false,
     "start_time": "2022-12-13T18:05:58.161224",
     "status": "completed"
    },
    "tags": []
   },
   "outputs": [
    {
     "name": "stdout",
     "output_type": "stream",
     "text": [
      "5    2152\n",
      "6    1973\n",
      "4     683\n",
      "1     628\n",
      "2     587\n",
      "3     374\n",
      "0     207\n",
      "7       2\n",
      "Name: cabin_deck_code, dtype: int64\n"
     ]
    }
   ],
   "source": [
    "df['cabin_deck_code'] = df['cabin_deck'].map({'A':0, \n",
    "                                              'B':1,\n",
    "                                              'C':2,\n",
    "                                              'D':3,\n",
    "                                              'E':4,\n",
    "                                              'F':5,\n",
    "                                              'G':6,\n",
    "                                              'T':7\n",
    "                                             })\n",
    "print(df['cabin_deck_code'].value_counts())"
   ]
  },
  {
   "cell_type": "code",
   "execution_count": 53,
   "id": "0e43cf10",
   "metadata": {
    "execution": {
     "iopub.execute_input": "2022-12-13T18:05:58.290465Z",
     "iopub.status.busy": "2022-12-13T18:05:58.290025Z",
     "iopub.status.idle": "2022-12-13T18:05:58.299823Z",
     "shell.execute_reply": "2022-12-13T18:05:58.298576Z"
    },
    "papermill": {
     "duration": 0.050523,
     "end_time": "2022-12-13T18:05:58.302262",
     "exception": false,
     "start_time": "2022-12-13T18:05:58.251739",
     "status": "completed"
    },
    "tags": []
   },
   "outputs": [
    {
     "data": {
      "text/plain": [
       "F    2152\n",
       "G    1973\n",
       "E     683\n",
       "B     628\n",
       "C     587\n",
       "D     374\n",
       "A     207\n",
       "T       2\n",
       "Name: cabin_deck, dtype: int64"
      ]
     },
     "execution_count": 53,
     "metadata": {},
     "output_type": "execute_result"
    }
   ],
   "source": [
    "df['cabin_deck'].value_counts()"
   ]
  },
  {
   "cell_type": "code",
   "execution_count": 54,
   "id": "64a6169d",
   "metadata": {
    "execution": {
     "iopub.execute_input": "2022-12-13T18:05:58.447695Z",
     "iopub.status.busy": "2022-12-13T18:05:58.447237Z",
     "iopub.status.idle": "2022-12-13T18:05:58.455505Z",
     "shell.execute_reply": "2022-12-13T18:05:58.454197Z"
    },
    "papermill": {
     "duration": 0.051874,
     "end_time": "2022-12-13T18:05:58.457935",
     "exception": false,
     "start_time": "2022-12-13T18:05:58.406061",
     "status": "completed"
    },
    "tags": []
   },
   "outputs": [],
   "source": [
    "df['cabin_side_code'] = df['cabin_side'].map({'P':0,'S':1})"
   ]
  },
  {
   "cell_type": "code",
   "execution_count": 55,
   "id": "6f3f5be2",
   "metadata": {
    "execution": {
     "iopub.execute_input": "2022-12-13T18:05:58.533102Z",
     "iopub.status.busy": "2022-12-13T18:05:58.532722Z",
     "iopub.status.idle": "2022-12-13T18:05:58.541523Z",
     "shell.execute_reply": "2022-12-13T18:05:58.540437Z"
    },
    "papermill": {
     "duration": 0.049598,
     "end_time": "2022-12-13T18:05:58.543819",
     "exception": false,
     "start_time": "2022-12-13T18:05:58.494221",
     "status": "completed"
    },
    "tags": []
   },
   "outputs": [
    {
     "data": {
      "text/plain": [
       "1    3345\n",
       "0    3261\n",
       "Name: cabin_side_code, dtype: int64"
      ]
     },
     "execution_count": 55,
     "metadata": {},
     "output_type": "execute_result"
    }
   ],
   "source": [
    "df['cabin_side_code'].value_counts()"
   ]
  },
  {
   "cell_type": "code",
   "execution_count": 56,
   "id": "997fb05d",
   "metadata": {
    "execution": {
     "iopub.execute_input": "2022-12-13T18:05:58.621655Z",
     "iopub.status.busy": "2022-12-13T18:05:58.621217Z",
     "iopub.status.idle": "2022-12-13T18:05:58.631169Z",
     "shell.execute_reply": "2022-12-13T18:05:58.629989Z"
    },
    "papermill": {
     "duration": 0.052817,
     "end_time": "2022-12-13T18:05:58.633731",
     "exception": false,
     "start_time": "2022-12-13T18:05:58.580914",
     "status": "completed"
    },
    "tags": []
   },
   "outputs": [
    {
     "data": {
      "text/plain": [
       "S    3345\n",
       "P    3261\n",
       "Name: cabin_side, dtype: int64"
      ]
     },
     "execution_count": 56,
     "metadata": {},
     "output_type": "execute_result"
    }
   ],
   "source": [
    "df['cabin_side'].value_counts()"
   ]
  },
  {
   "cell_type": "markdown",
   "id": "23ee7f87",
   "metadata": {
    "papermill": {
     "duration": 0.036474,
     "end_time": "2022-12-13T18:05:58.710544",
     "exception": false,
     "start_time": "2022-12-13T18:05:58.674070",
     "status": "completed"
    },
    "tags": []
   },
   "source": [
    "**Destination**"
   ]
  },
  {
   "cell_type": "code",
   "execution_count": 57,
   "id": "97fd6b1c",
   "metadata": {
    "execution": {
     "iopub.execute_input": "2022-12-13T18:05:58.786424Z",
     "iopub.status.busy": "2022-12-13T18:05:58.785735Z",
     "iopub.status.idle": "2022-12-13T18:05:58.793416Z",
     "shell.execute_reply": "2022-12-13T18:05:58.792232Z"
    },
    "papermill": {
     "duration": 0.048132,
     "end_time": "2022-12-13T18:05:58.795892",
     "exception": false,
     "start_time": "2022-12-13T18:05:58.747760",
     "status": "completed"
    },
    "tags": []
   },
   "outputs": [],
   "source": [
    "df['destination_code'] = df['Destination'].map({\n",
    "    'TRAPPIST-1e':0, 'PSO J318.5-22':1, '55 Cancri e':2\n",
    "})"
   ]
  },
  {
   "cell_type": "code",
   "execution_count": 58,
   "id": "f8a175e1",
   "metadata": {
    "execution": {
     "iopub.execute_input": "2022-12-13T18:05:58.871717Z",
     "iopub.status.busy": "2022-12-13T18:05:58.871281Z",
     "iopub.status.idle": "2022-12-13T18:05:58.879150Z",
     "shell.execute_reply": "2022-12-13T18:05:58.878275Z"
    },
    "papermill": {
     "duration": 0.048617,
     "end_time": "2022-12-13T18:05:58.881348",
     "exception": false,
     "start_time": "2022-12-13T18:05:58.832731",
     "status": "completed"
    },
    "tags": []
   },
   "outputs": [
    {
     "data": {
      "text/plain": [
       "0    4576\n",
       "2    1407\n",
       "1     623\n",
       "Name: destination_code, dtype: int64"
      ]
     },
     "execution_count": 58,
     "metadata": {},
     "output_type": "execute_result"
    }
   ],
   "source": [
    "df['destination_code'].value_counts()"
   ]
  },
  {
   "cell_type": "code",
   "execution_count": 59,
   "id": "4f06f8ef",
   "metadata": {
    "execution": {
     "iopub.execute_input": "2022-12-13T18:05:58.957283Z",
     "iopub.status.busy": "2022-12-13T18:05:58.956898Z",
     "iopub.status.idle": "2022-12-13T18:05:58.964752Z",
     "shell.execute_reply": "2022-12-13T18:05:58.963869Z"
    },
    "papermill": {
     "duration": 0.048563,
     "end_time": "2022-12-13T18:05:58.967039",
     "exception": false,
     "start_time": "2022-12-13T18:05:58.918476",
     "status": "completed"
    },
    "tags": []
   },
   "outputs": [
    {
     "data": {
      "text/plain": [
       "TRAPPIST-1e      4576\n",
       "55 Cancri e      1407\n",
       "PSO J318.5-22     623\n",
       "Name: Destination, dtype: int64"
      ]
     },
     "execution_count": 59,
     "metadata": {},
     "output_type": "execute_result"
    }
   ],
   "source": [
    "df['Destination'].value_counts()"
   ]
  },
  {
   "cell_type": "markdown",
   "id": "3e23ef0f",
   "metadata": {
    "papermill": {
     "duration": 0.037059,
     "end_time": "2022-12-13T18:05:59.041494",
     "exception": false,
     "start_time": "2022-12-13T18:05:59.004435",
     "status": "completed"
    },
    "tags": []
   },
   "source": [
    "**VIP**"
   ]
  },
  {
   "cell_type": "code",
   "execution_count": 60,
   "id": "fa87c882",
   "metadata": {
    "execution": {
     "iopub.execute_input": "2022-12-13T18:05:59.117534Z",
     "iopub.status.busy": "2022-12-13T18:05:59.117142Z",
     "iopub.status.idle": "2022-12-13T18:05:59.123701Z",
     "shell.execute_reply": "2022-12-13T18:05:59.122719Z"
    },
    "papermill": {
     "duration": 0.047209,
     "end_time": "2022-12-13T18:05:59.125914",
     "exception": false,
     "start_time": "2022-12-13T18:05:59.078705",
     "status": "completed"
    },
    "tags": []
   },
   "outputs": [],
   "source": [
    "df['vip_code'] = df['VIP'].map({False:0, True:1})"
   ]
  },
  {
   "cell_type": "code",
   "execution_count": 61,
   "id": "19b030cf",
   "metadata": {
    "execution": {
     "iopub.execute_input": "2022-12-13T18:05:59.201802Z",
     "iopub.status.busy": "2022-12-13T18:05:59.201195Z",
     "iopub.status.idle": "2022-12-13T18:05:59.208735Z",
     "shell.execute_reply": "2022-12-13T18:05:59.207647Z"
    },
    "papermill": {
     "duration": 0.048019,
     "end_time": "2022-12-13T18:05:59.210863",
     "exception": false,
     "start_time": "2022-12-13T18:05:59.162844",
     "status": "completed"
    },
    "tags": []
   },
   "outputs": [
    {
     "data": {
      "text/plain": [
       "0    6444\n",
       "1     162\n",
       "Name: vip_code, dtype: int64"
      ]
     },
     "execution_count": 61,
     "metadata": {},
     "output_type": "execute_result"
    }
   ],
   "source": [
    "df['vip_code'].value_counts()"
   ]
  },
  {
   "cell_type": "code",
   "execution_count": 62,
   "id": "13d74cea",
   "metadata": {
    "execution": {
     "iopub.execute_input": "2022-12-13T18:05:59.287536Z",
     "iopub.status.busy": "2022-12-13T18:05:59.286365Z",
     "iopub.status.idle": "2022-12-13T18:05:59.294667Z",
     "shell.execute_reply": "2022-12-13T18:05:59.293568Z"
    },
    "papermill": {
     "duration": 0.049013,
     "end_time": "2022-12-13T18:05:59.296970",
     "exception": false,
     "start_time": "2022-12-13T18:05:59.247957",
     "status": "completed"
    },
    "tags": []
   },
   "outputs": [
    {
     "data": {
      "text/plain": [
       "False    6444\n",
       "True      162\n",
       "Name: VIP, dtype: int64"
      ]
     },
     "execution_count": 62,
     "metadata": {},
     "output_type": "execute_result"
    }
   ],
   "source": [
    "df['VIP'].value_counts()"
   ]
  },
  {
   "cell_type": "markdown",
   "id": "d40ce42c",
   "metadata": {
    "papermill": {
     "duration": 0.036941,
     "end_time": "2022-12-13T18:05:59.371857",
     "exception": false,
     "start_time": "2022-12-13T18:05:59.334916",
     "status": "completed"
    },
    "tags": []
   },
   "source": [
    "**Total spent**"
   ]
  },
  {
   "cell_type": "code",
   "execution_count": 63,
   "id": "50689a00",
   "metadata": {
    "execution": {
     "iopub.execute_input": "2022-12-13T18:05:59.450461Z",
     "iopub.status.busy": "2022-12-13T18:05:59.449829Z",
     "iopub.status.idle": "2022-12-13T18:05:59.456067Z",
     "shell.execute_reply": "2022-12-13T18:05:59.454783Z"
    },
    "papermill": {
     "duration": 0.049849,
     "end_time": "2022-12-13T18:05:59.458963",
     "exception": false,
     "start_time": "2022-12-13T18:05:59.409114",
     "status": "completed"
    },
    "tags": []
   },
   "outputs": [],
   "source": [
    "# total spent\n",
    "df['total_spent'] = df['RoomService'] + df['FoodCourt'] + df['ShoppingMall'] + df['Spa'] + df['VRDeck']"
   ]
  },
  {
   "cell_type": "markdown",
   "id": "8d9c13c5",
   "metadata": {
    "papermill": {
     "duration": 0.037746,
     "end_time": "2022-12-13T18:05:59.534733",
     "exception": false,
     "start_time": "2022-12-13T18:05:59.496987",
     "status": "completed"
    },
    "tags": []
   },
   "source": [
    "**Target variable - Transported**"
   ]
  },
  {
   "cell_type": "code",
   "execution_count": 64,
   "id": "5e83d9dc",
   "metadata": {
    "execution": {
     "iopub.execute_input": "2022-12-13T18:05:59.611510Z",
     "iopub.status.busy": "2022-12-13T18:05:59.610707Z",
     "iopub.status.idle": "2022-12-13T18:05:59.617552Z",
     "shell.execute_reply": "2022-12-13T18:05:59.616740Z"
    },
    "papermill": {
     "duration": 0.047681,
     "end_time": "2022-12-13T18:05:59.619839",
     "exception": false,
     "start_time": "2022-12-13T18:05:59.572158",
     "status": "completed"
    },
    "tags": []
   },
   "outputs": [],
   "source": [
    "# target variable\n",
    "df['transported_code'] = df['Transported'].map({'True':0, 'False':1})"
   ]
  },
  {
   "cell_type": "markdown",
   "id": "4aeb052d",
   "metadata": {
    "papermill": {
     "duration": 0.037186,
     "end_time": "2022-12-13T18:05:59.694105",
     "exception": false,
     "start_time": "2022-12-13T18:05:59.656919",
     "status": "completed"
    },
    "tags": []
   },
   "source": [
    "## Modelling"
   ]
  },
  {
   "cell_type": "code",
   "execution_count": 65,
   "id": "d954c646",
   "metadata": {
    "execution": {
     "iopub.execute_input": "2022-12-13T18:05:59.771522Z",
     "iopub.status.busy": "2022-12-13T18:05:59.770743Z",
     "iopub.status.idle": "2022-12-13T18:05:59.777939Z",
     "shell.execute_reply": "2022-12-13T18:05:59.777060Z"
    },
    "papermill": {
     "duration": 0.048746,
     "end_time": "2022-12-13T18:05:59.780158",
     "exception": false,
     "start_time": "2022-12-13T18:05:59.731412",
     "status": "completed"
    },
    "tags": []
   },
   "outputs": [
    {
     "data": {
      "text/plain": [
       "Index(['PassengerId', 'HomePlanet', 'CryoSleep', 'Cabin', 'Destination', 'Age',\n",
       "       'VIP', 'RoomService', 'FoodCourt', 'ShoppingMall', 'Spa', 'VRDeck',\n",
       "       'Name', 'Transported', 'cabin_deck', 'cabin_num', 'cabin_side',\n",
       "       'homeplanet_code', 'cryosleep_code', 'cabin_deck_code',\n",
       "       'cabin_side_code', 'destination_code', 'vip_code', 'total_spent',\n",
       "       'transported_code'],\n",
       "      dtype='object')"
      ]
     },
     "execution_count": 65,
     "metadata": {},
     "output_type": "execute_result"
    }
   ],
   "source": [
    "df.columns"
   ]
  },
  {
   "cell_type": "code",
   "execution_count": 66,
   "id": "78b2a06e",
   "metadata": {
    "execution": {
     "iopub.execute_input": "2022-12-13T18:05:59.858599Z",
     "iopub.status.busy": "2022-12-13T18:05:59.857793Z",
     "iopub.status.idle": "2022-12-13T18:05:59.863142Z",
     "shell.execute_reply": "2022-12-13T18:05:59.862369Z"
    },
    "papermill": {
     "duration": 0.046804,
     "end_time": "2022-12-13T18:05:59.865459",
     "exception": false,
     "start_time": "2022-12-13T18:05:59.818655",
     "status": "completed"
    },
    "tags": []
   },
   "outputs": [],
   "source": [
    "# columns to use\n",
    "x_cols = [\n",
    "     'total_spent',\n",
    "    'homeplanet_code',\n",
    "    'cryosleep_code',\n",
    "    'cabin_deck_code',\n",
    "    'cabin_side_code',\n",
    "    'destination_code',\n",
    "    'vip_code'\n",
    "]\n",
    "# y_col = 'Transported'\n",
    "y_col = 'transported_code'"
   ]
  },
  {
   "cell_type": "code",
   "execution_count": 67,
   "id": "afaac571",
   "metadata": {
    "execution": {
     "iopub.execute_input": "2022-12-13T18:05:59.943424Z",
     "iopub.status.busy": "2022-12-13T18:05:59.942761Z",
     "iopub.status.idle": "2022-12-13T18:05:59.952617Z",
     "shell.execute_reply": "2022-12-13T18:05:59.951574Z"
    },
    "papermill": {
     "duration": 0.051747,
     "end_time": "2022-12-13T18:05:59.955149",
     "exception": false,
     "start_time": "2022-12-13T18:05:59.903402",
     "status": "completed"
    },
    "tags": []
   },
   "outputs": [],
   "source": [
    "# X = df.drop(columns=['Transported'])\n",
    "X = df[x_cols]\n",
    "y = df[y_col]"
   ]
  },
  {
   "cell_type": "code",
   "execution_count": 68,
   "id": "cc55be5d",
   "metadata": {
    "execution": {
     "iopub.execute_input": "2022-12-13T18:06:00.032537Z",
     "iopub.status.busy": "2022-12-13T18:06:00.032112Z",
     "iopub.status.idle": "2022-12-13T18:06:00.037593Z",
     "shell.execute_reply": "2022-12-13T18:06:00.036542Z"
    },
    "papermill": {
     "duration": 0.047186,
     "end_time": "2022-12-13T18:06:00.039733",
     "exception": false,
     "start_time": "2022-12-13T18:05:59.992547",
     "status": "completed"
    },
    "tags": []
   },
   "outputs": [],
   "source": [
    "# convert to numpy\n",
    "X = X.to_numpy()\n",
    "y = y.to_numpy()"
   ]
  },
  {
   "cell_type": "code",
   "execution_count": 69,
   "id": "ab82b57f",
   "metadata": {
    "execution": {
     "iopub.execute_input": "2022-12-13T18:06:00.116699Z",
     "iopub.status.busy": "2022-12-13T18:06:00.116260Z",
     "iopub.status.idle": "2022-12-13T18:06:00.123838Z",
     "shell.execute_reply": "2022-12-13T18:06:00.122812Z"
    },
    "papermill": {
     "duration": 0.048839,
     "end_time": "2022-12-13T18:06:00.126100",
     "exception": false,
     "start_time": "2022-12-13T18:06:00.077261",
     "status": "completed"
    },
    "tags": []
   },
   "outputs": [
    {
     "data": {
      "text/plain": [
       "array([[0.0000e+00, 1.0000e+00, 0.0000e+00, ..., 0.0000e+00, 0.0000e+00,\n",
       "        0.0000e+00],\n",
       "       [7.3600e+02, 0.0000e+00, 0.0000e+00, ..., 1.0000e+00, 0.0000e+00,\n",
       "        0.0000e+00],\n",
       "       [1.0383e+04, 1.0000e+00, 0.0000e+00, ..., 1.0000e+00, 0.0000e+00,\n",
       "        1.0000e+00],\n",
       "       ...,\n",
       "       [1.8730e+03, 0.0000e+00, 0.0000e+00, ..., 1.0000e+00, 0.0000e+00,\n",
       "        0.0000e+00],\n",
       "       [4.6370e+03, 1.0000e+00, 0.0000e+00, ..., 1.0000e+00, 2.0000e+00,\n",
       "        0.0000e+00],\n",
       "       [4.8260e+03, 1.0000e+00, 0.0000e+00, ..., 1.0000e+00, 0.0000e+00,\n",
       "        0.0000e+00]])"
      ]
     },
     "execution_count": 69,
     "metadata": {},
     "output_type": "execute_result"
    }
   ],
   "source": [
    "X"
   ]
  },
  {
   "cell_type": "code",
   "execution_count": 70,
   "id": "bca7a796",
   "metadata": {
    "execution": {
     "iopub.execute_input": "2022-12-13T18:06:00.204179Z",
     "iopub.status.busy": "2022-12-13T18:06:00.203506Z",
     "iopub.status.idle": "2022-12-13T18:06:00.209061Z",
     "shell.execute_reply": "2022-12-13T18:06:00.208341Z"
    },
    "papermill": {
     "duration": 0.047171,
     "end_time": "2022-12-13T18:06:00.211016",
     "exception": false,
     "start_time": "2022-12-13T18:06:00.163845",
     "status": "completed"
    },
    "tags": []
   },
   "outputs": [
    {
     "data": {
      "text/plain": [
       "array([1, 0, 1, ..., 0, 1, 0])"
      ]
     },
     "execution_count": 70,
     "metadata": {},
     "output_type": "execute_result"
    }
   ],
   "source": [
    "y"
   ]
  },
  {
   "cell_type": "code",
   "execution_count": 71,
   "id": "d5799a65",
   "metadata": {
    "execution": {
     "iopub.execute_input": "2022-12-13T18:06:00.288420Z",
     "iopub.status.busy": "2022-12-13T18:06:00.287689Z",
     "iopub.status.idle": "2022-12-13T18:06:00.460905Z",
     "shell.execute_reply": "2022-12-13T18:06:00.459461Z"
    },
    "papermill": {
     "duration": 0.216198,
     "end_time": "2022-12-13T18:06:00.464936",
     "exception": false,
     "start_time": "2022-12-13T18:06:00.248738",
     "status": "completed"
    },
    "tags": []
   },
   "outputs": [
    {
     "name": "stdout",
     "output_type": "stream",
     "text": [
      "(4426, 7)\n",
      "(4426,)\n",
      "(2180, 7)\n",
      "(2180,)\n"
     ]
    }
   ],
   "source": [
    "# train test split\n",
    "from sklearn.model_selection import train_test_split\n",
    "\n",
    "X_train, X_test, y_train, y_test = train_test_split(X, y, test_size=0.33, random_state=42)\n",
    "print(X_train.shape)\n",
    "print(y_train.shape)\n",
    "print(X_test.shape)\n",
    "print(y_test.shape)"
   ]
  },
  {
   "cell_type": "code",
   "execution_count": 72,
   "id": "5c5f2014",
   "metadata": {
    "execution": {
     "iopub.execute_input": "2022-12-13T18:06:00.549783Z",
     "iopub.status.busy": "2022-12-13T18:06:00.548496Z",
     "iopub.status.idle": "2022-12-13T18:06:00.560579Z",
     "shell.execute_reply": "2022-12-13T18:06:00.558437Z"
    },
    "papermill": {
     "duration": 0.060974,
     "end_time": "2022-12-13T18:06:00.563865",
     "exception": false,
     "start_time": "2022-12-13T18:06:00.502891",
     "status": "completed"
    },
    "tags": []
   },
   "outputs": [
    {
     "data": {
      "text/plain": [
       "array([0, 0, 1, ..., 1, 1, 0])"
      ]
     },
     "execution_count": 72,
     "metadata": {},
     "output_type": "execute_result"
    }
   ],
   "source": [
    "y_train"
   ]
  },
  {
   "cell_type": "code",
   "execution_count": 73,
   "id": "70b1f1b4",
   "metadata": {
    "execution": {
     "iopub.execute_input": "2022-12-13T18:06:00.657947Z",
     "iopub.status.busy": "2022-12-13T18:06:00.657047Z",
     "iopub.status.idle": "2022-12-13T18:06:00.663513Z",
     "shell.execute_reply": "2022-12-13T18:06:00.662393Z"
    },
    "papermill": {
     "duration": 0.049529,
     "end_time": "2022-12-13T18:06:00.665800",
     "exception": false,
     "start_time": "2022-12-13T18:06:00.616271",
     "status": "completed"
    },
    "tags": []
   },
   "outputs": [
    {
     "data": {
      "text/plain": [
       "array([0, 0, 0, ..., 1, 0, 1])"
      ]
     },
     "execution_count": 73,
     "metadata": {},
     "output_type": "execute_result"
    }
   ],
   "source": [
    "y_test"
   ]
  },
  {
   "cell_type": "code",
   "execution_count": 74,
   "id": "7ebc5030",
   "metadata": {
    "execution": {
     "iopub.execute_input": "2022-12-13T18:06:00.744533Z",
     "iopub.status.busy": "2022-12-13T18:06:00.743382Z",
     "iopub.status.idle": "2022-12-13T18:06:00.748362Z",
     "shell.execute_reply": "2022-12-13T18:06:00.747454Z"
    },
    "papermill": {
     "duration": 0.046718,
     "end_time": "2022-12-13T18:06:00.750594",
     "exception": false,
     "start_time": "2022-12-13T18:06:00.703876",
     "status": "completed"
    },
    "tags": []
   },
   "outputs": [],
   "source": [
    "# convert to numpy for lazypredict package\n",
    "# X_train = X_train.to_numpy()\n",
    "# X_test = X_test.to_numpy()\n",
    "# y_train = y_train.to_numpy()\n",
    "# y_test = y_test.to_numpy()"
   ]
  },
  {
   "cell_type": "code",
   "execution_count": 75,
   "id": "9b790ae1",
   "metadata": {
    "execution": {
     "iopub.execute_input": "2022-12-13T18:06:00.828550Z",
     "iopub.status.busy": "2022-12-13T18:06:00.827910Z",
     "iopub.status.idle": "2022-12-13T18:06:14.831483Z",
     "shell.execute_reply": "2022-12-13T18:06:14.829938Z"
    },
    "papermill": {
     "duration": 14.045785,
     "end_time": "2022-12-13T18:06:14.834329",
     "exception": false,
     "start_time": "2022-12-13T18:06:00.788544",
     "status": "completed"
    },
    "tags": []
   },
   "outputs": [
    {
     "name": "stdout",
     "output_type": "stream",
     "text": [
      "Collecting lazypredict\r\n",
      "  Downloading lazypredict-0.2.12-py2.py3-none-any.whl (12 kB)\r\n",
      "Requirement already satisfied: tqdm in /opt/conda/lib/python3.7/site-packages (from lazypredict) (4.64.0)\r\n",
      "Requirement already satisfied: click in /opt/conda/lib/python3.7/site-packages (from lazypredict) (8.0.4)\r\n",
      "Requirement already satisfied: pandas in /opt/conda/lib/python3.7/site-packages (from lazypredict) (1.3.5)\r\n",
      "Requirement already satisfied: xgboost in /opt/conda/lib/python3.7/site-packages (from lazypredict) (1.6.2)\r\n",
      "Requirement already satisfied: lightgbm in /opt/conda/lib/python3.7/site-packages (from lazypredict) (3.3.2)\r\n",
      "Requirement already satisfied: joblib in /opt/conda/lib/python3.7/site-packages (from lazypredict) (1.0.1)\r\n",
      "Requirement already satisfied: scikit-learn in /opt/conda/lib/python3.7/site-packages (from lazypredict) (1.0.2)\r\n",
      "Requirement already satisfied: importlib-metadata in /opt/conda/lib/python3.7/site-packages (from click->lazypredict) (4.13.0)\r\n",
      "Requirement already satisfied: scipy in /opt/conda/lib/python3.7/site-packages (from lightgbm->lazypredict) (1.7.3)\r\n",
      "Requirement already satisfied: wheel in /opt/conda/lib/python3.7/site-packages (from lightgbm->lazypredict) (0.37.1)\r\n",
      "Requirement already satisfied: numpy in /opt/conda/lib/python3.7/site-packages (from lightgbm->lazypredict) (1.21.6)\r\n",
      "Requirement already satisfied: threadpoolctl>=2.0.0 in /opt/conda/lib/python3.7/site-packages (from scikit-learn->lazypredict) (3.1.0)\r\n",
      "Requirement already satisfied: python-dateutil>=2.7.3 in /opt/conda/lib/python3.7/site-packages (from pandas->lazypredict) (2.8.2)\r\n",
      "Requirement already satisfied: pytz>=2017.3 in /opt/conda/lib/python3.7/site-packages (from pandas->lazypredict) (2022.1)\r\n",
      "Requirement already satisfied: six>=1.5 in /opt/conda/lib/python3.7/site-packages (from python-dateutil>=2.7.3->pandas->lazypredict) (1.15.0)\r\n",
      "Requirement already satisfied: zipp>=0.5 in /opt/conda/lib/python3.7/site-packages (from importlib-metadata->click->lazypredict) (3.8.0)\r\n",
      "Requirement already satisfied: typing-extensions>=3.6.4 in /opt/conda/lib/python3.7/site-packages (from importlib-metadata->click->lazypredict) (4.4.0)\r\n",
      "Installing collected packages: lazypredict\r\n",
      "Successfully installed lazypredict-0.2.12\r\n",
      "\u001b[33mWARNING: Running pip as the 'root' user can result in broken permissions and conflicting behaviour with the system package manager. It is recommended to use a virtual environment instead: https://pip.pypa.io/warnings/venv\u001b[0m\u001b[33m\r\n",
      "\u001b[0m"
     ]
    }
   ],
   "source": [
    "# installing lazypredict\n",
    "!pip install lazypredict"
   ]
  },
  {
   "cell_type": "code",
   "execution_count": 76,
   "id": "3c8ce6c1",
   "metadata": {
    "execution": {
     "iopub.execute_input": "2022-12-13T18:06:14.915083Z",
     "iopub.status.busy": "2022-12-13T18:06:14.914614Z",
     "iopub.status.idle": "2022-12-13T18:06:16.921884Z",
     "shell.execute_reply": "2022-12-13T18:06:16.920730Z"
    },
    "papermill": {
     "duration": 2.05063,
     "end_time": "2022-12-13T18:06:16.924674",
     "exception": false,
     "start_time": "2022-12-13T18:06:14.874044",
     "status": "completed"
    },
    "tags": []
   },
   "outputs": [
    {
     "data": {
      "text/html": [
       "<style type='text/css'>\n",
       ".datatable table.frame { margin-bottom: 0; }\n",
       ".datatable table.frame thead { border-bottom: none; }\n",
       ".datatable table.frame tr.coltypes td {  color: #FFFFFF;  line-height: 6px;  padding: 0 0.5em;}\n",
       ".datatable .bool    { background: #DDDD99; }\n",
       ".datatable .object  { background: #565656; }\n",
       ".datatable .int     { background: #5D9E5D; }\n",
       ".datatable .float   { background: #4040CC; }\n",
       ".datatable .str     { background: #CC4040; }\n",
       ".datatable .time    { background: #40CC40; }\n",
       ".datatable .row_index {  background: var(--jp-border-color3);  border-right: 1px solid var(--jp-border-color0);  color: var(--jp-ui-font-color3);  font-size: 9px;}\n",
       ".datatable .frame tbody td { text-align: left; }\n",
       ".datatable .frame tr.coltypes .row_index {  background: var(--jp-border-color0);}\n",
       ".datatable th:nth-child(2) { padding-left: 12px; }\n",
       ".datatable .hellipsis {  color: var(--jp-cell-editor-border-color);}\n",
       ".datatable .vellipsis {  background: var(--jp-layout-color0);  color: var(--jp-cell-editor-border-color);}\n",
       ".datatable .na {  color: var(--jp-cell-editor-border-color);  font-size: 80%;}\n",
       ".datatable .sp {  opacity: 0.25;}\n",
       ".datatable .footer { font-size: 9px; }\n",
       ".datatable .frame_dimensions {  background: var(--jp-border-color3);  border-top: 1px solid var(--jp-border-color0);  color: var(--jp-ui-font-color3);  display: inline-block;  opacity: 0.6;  padding: 1px 10px 1px 5px;}\n",
       ".datatable .frame thead tr.colnames {  background-image: url('data:image/png;base64,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');  background-repeat: repeat-x;  background-size: 14px;  height: 28px;}\n",
       "</style>\n"
      ],
      "text/plain": [
       "<IPython.core.display.HTML object>"
      ]
     },
     "metadata": {},
     "output_type": "display_data"
    }
   ],
   "source": [
    "# import lazypredict package\n",
    "from lazypredict.Supervised import LazyClassifier"
   ]
  },
  {
   "cell_type": "code",
   "execution_count": 77,
   "id": "b0c4d2fd",
   "metadata": {
    "execution": {
     "iopub.execute_input": "2022-12-13T18:06:17.004477Z",
     "iopub.status.busy": "2022-12-13T18:06:17.004009Z",
     "iopub.status.idle": "2022-12-13T18:06:27.611848Z",
     "shell.execute_reply": "2022-12-13T18:06:27.609820Z"
    },
    "papermill": {
     "duration": 10.651309,
     "end_time": "2022-12-13T18:06:27.615278",
     "exception": false,
     "start_time": "2022-12-13T18:06:16.963969",
     "status": "completed"
    },
    "tags": []
   },
   "outputs": [
    {
     "name": "stderr",
     "output_type": "stream",
     "text": [
      "100%|██████████| 29/29 [00:10<00:00,  2.74it/s]\n"
     ]
    }
   ],
   "source": [
    "# Fit the classifier\n",
    "clf = LazyClassifier(verbose=0,ignore_warnings=True, custom_metric=None)\n",
    "models, predictions = clf.fit(X_train, X_test, y_train, y_test)"
   ]
  },
  {
   "cell_type": "code",
   "execution_count": 78,
   "id": "25ae4375",
   "metadata": {
    "execution": {
     "iopub.execute_input": "2022-12-13T18:06:27.701645Z",
     "iopub.status.busy": "2022-12-13T18:06:27.701174Z",
     "iopub.status.idle": "2022-12-13T18:06:27.715887Z",
     "shell.execute_reply": "2022-12-13T18:06:27.714632Z"
    },
    "papermill": {
     "duration": 0.05997,
     "end_time": "2022-12-13T18:06:27.718235",
     "exception": false,
     "start_time": "2022-12-13T18:06:27.658265",
     "status": "completed"
    },
    "tags": []
   },
   "outputs": [
    {
     "data": {
      "text/html": [
       "<div>\n",
       "<style scoped>\n",
       "    .dataframe tbody tr th:only-of-type {\n",
       "        vertical-align: middle;\n",
       "    }\n",
       "\n",
       "    .dataframe tbody tr th {\n",
       "        vertical-align: top;\n",
       "    }\n",
       "\n",
       "    .dataframe thead th {\n",
       "        text-align: right;\n",
       "    }\n",
       "</style>\n",
       "<table border=\"1\" class=\"dataframe\">\n",
       "  <thead>\n",
       "    <tr style=\"text-align: right;\">\n",
       "      <th></th>\n",
       "      <th>Accuracy</th>\n",
       "      <th>Balanced Accuracy</th>\n",
       "      <th>ROC AUC</th>\n",
       "      <th>F1 Score</th>\n",
       "      <th>Time Taken</th>\n",
       "    </tr>\n",
       "    <tr>\n",
       "      <th>Model</th>\n",
       "      <th></th>\n",
       "      <th></th>\n",
       "      <th></th>\n",
       "      <th></th>\n",
       "      <th></th>\n",
       "    </tr>\n",
       "  </thead>\n",
       "  <tbody>\n",
       "    <tr>\n",
       "      <th>LGBMClassifier</th>\n",
       "      <td>0.76</td>\n",
       "      <td>0.76</td>\n",
       "      <td>0.76</td>\n",
       "      <td>0.75</td>\n",
       "      <td>0.19</td>\n",
       "    </tr>\n",
       "    <tr>\n",
       "      <th>XGBClassifier</th>\n",
       "      <td>0.75</td>\n",
       "      <td>0.75</td>\n",
       "      <td>0.75</td>\n",
       "      <td>0.75</td>\n",
       "      <td>0.56</td>\n",
       "    </tr>\n",
       "    <tr>\n",
       "      <th>NuSVC</th>\n",
       "      <td>0.75</td>\n",
       "      <td>0.75</td>\n",
       "      <td>0.75</td>\n",
       "      <td>0.75</td>\n",
       "      <td>3.28</td>\n",
       "    </tr>\n",
       "    <tr>\n",
       "      <th>AdaBoostClassifier</th>\n",
       "      <td>0.75</td>\n",
       "      <td>0.75</td>\n",
       "      <td>0.75</td>\n",
       "      <td>0.75</td>\n",
       "      <td>0.21</td>\n",
       "    </tr>\n",
       "    <tr>\n",
       "      <th>LabelSpreading</th>\n",
       "      <td>0.74</td>\n",
       "      <td>0.74</td>\n",
       "      <td>0.74</td>\n",
       "      <td>0.73</td>\n",
       "      <td>1.07</td>\n",
       "    </tr>\n",
       "    <tr>\n",
       "      <th>SVC</th>\n",
       "      <td>0.73</td>\n",
       "      <td>0.74</td>\n",
       "      <td>0.74</td>\n",
       "      <td>0.73</td>\n",
       "      <td>1.22</td>\n",
       "    </tr>\n",
       "    <tr>\n",
       "      <th>LabelPropagation</th>\n",
       "      <td>0.73</td>\n",
       "      <td>0.74</td>\n",
       "      <td>0.74</td>\n",
       "      <td>0.73</td>\n",
       "      <td>0.78</td>\n",
       "    </tr>\n",
       "    <tr>\n",
       "      <th>RidgeClassifierCV</th>\n",
       "      <td>0.73</td>\n",
       "      <td>0.74</td>\n",
       "      <td>0.74</td>\n",
       "      <td>0.73</td>\n",
       "      <td>0.07</td>\n",
       "    </tr>\n",
       "    <tr>\n",
       "      <th>RidgeClassifier</th>\n",
       "      <td>0.73</td>\n",
       "      <td>0.74</td>\n",
       "      <td>0.74</td>\n",
       "      <td>0.73</td>\n",
       "      <td>0.03</td>\n",
       "    </tr>\n",
       "    <tr>\n",
       "      <th>LinearDiscriminantAnalysis</th>\n",
       "      <td>0.73</td>\n",
       "      <td>0.74</td>\n",
       "      <td>0.74</td>\n",
       "      <td>0.73</td>\n",
       "      <td>0.07</td>\n",
       "    </tr>\n",
       "    <tr>\n",
       "      <th>LinearSVC</th>\n",
       "      <td>0.73</td>\n",
       "      <td>0.74</td>\n",
       "      <td>0.74</td>\n",
       "      <td>0.73</td>\n",
       "      <td>0.36</td>\n",
       "    </tr>\n",
       "    <tr>\n",
       "      <th>SGDClassifier</th>\n",
       "      <td>0.73</td>\n",
       "      <td>0.73</td>\n",
       "      <td>0.73</td>\n",
       "      <td>0.73</td>\n",
       "      <td>0.12</td>\n",
       "    </tr>\n",
       "    <tr>\n",
       "      <th>CalibratedClassifierCV</th>\n",
       "      <td>0.73</td>\n",
       "      <td>0.73</td>\n",
       "      <td>0.73</td>\n",
       "      <td>0.73</td>\n",
       "      <td>1.06</td>\n",
       "    </tr>\n",
       "    <tr>\n",
       "      <th>LogisticRegression</th>\n",
       "      <td>0.73</td>\n",
       "      <td>0.73</td>\n",
       "      <td>0.73</td>\n",
       "      <td>0.73</td>\n",
       "      <td>0.05</td>\n",
       "    </tr>\n",
       "    <tr>\n",
       "      <th>NearestCentroid</th>\n",
       "      <td>0.73</td>\n",
       "      <td>0.73</td>\n",
       "      <td>0.73</td>\n",
       "      <td>0.73</td>\n",
       "      <td>0.03</td>\n",
       "    </tr>\n",
       "    <tr>\n",
       "      <th>QuadraticDiscriminantAnalysis</th>\n",
       "      <td>0.73</td>\n",
       "      <td>0.73</td>\n",
       "      <td>0.73</td>\n",
       "      <td>0.73</td>\n",
       "      <td>0.05</td>\n",
       "    </tr>\n",
       "    <tr>\n",
       "      <th>KNeighborsClassifier</th>\n",
       "      <td>0.73</td>\n",
       "      <td>0.73</td>\n",
       "      <td>0.73</td>\n",
       "      <td>0.73</td>\n",
       "      <td>0.10</td>\n",
       "    </tr>\n",
       "    <tr>\n",
       "      <th>BernoulliNB</th>\n",
       "      <td>0.73</td>\n",
       "      <td>0.73</td>\n",
       "      <td>0.73</td>\n",
       "      <td>0.72</td>\n",
       "      <td>0.02</td>\n",
       "    </tr>\n",
       "    <tr>\n",
       "      <th>GaussianNB</th>\n",
       "      <td>0.73</td>\n",
       "      <td>0.73</td>\n",
       "      <td>0.73</td>\n",
       "      <td>0.72</td>\n",
       "      <td>0.02</td>\n",
       "    </tr>\n",
       "    <tr>\n",
       "      <th>RandomForestClassifier</th>\n",
       "      <td>0.72</td>\n",
       "      <td>0.72</td>\n",
       "      <td>0.72</td>\n",
       "      <td>0.72</td>\n",
       "      <td>0.55</td>\n",
       "    </tr>\n",
       "    <tr>\n",
       "      <th>BaggingClassifier</th>\n",
       "      <td>0.72</td>\n",
       "      <td>0.71</td>\n",
       "      <td>0.71</td>\n",
       "      <td>0.72</td>\n",
       "      <td>0.09</td>\n",
       "    </tr>\n",
       "    <tr>\n",
       "      <th>ExtraTreesClassifier</th>\n",
       "      <td>0.71</td>\n",
       "      <td>0.71</td>\n",
       "      <td>0.71</td>\n",
       "      <td>0.71</td>\n",
       "      <td>0.47</td>\n",
       "    </tr>\n",
       "    <tr>\n",
       "      <th>DecisionTreeClassifier</th>\n",
       "      <td>0.71</td>\n",
       "      <td>0.70</td>\n",
       "      <td>0.70</td>\n",
       "      <td>0.70</td>\n",
       "      <td>0.05</td>\n",
       "    </tr>\n",
       "    <tr>\n",
       "      <th>ExtraTreeClassifier</th>\n",
       "      <td>0.70</td>\n",
       "      <td>0.70</td>\n",
       "      <td>0.70</td>\n",
       "      <td>0.70</td>\n",
       "      <td>0.03</td>\n",
       "    </tr>\n",
       "    <tr>\n",
       "      <th>Perceptron</th>\n",
       "      <td>0.59</td>\n",
       "      <td>0.58</td>\n",
       "      <td>0.58</td>\n",
       "      <td>0.58</td>\n",
       "      <td>0.04</td>\n",
       "    </tr>\n",
       "    <tr>\n",
       "      <th>PassiveAggressiveClassifier</th>\n",
       "      <td>0.55</td>\n",
       "      <td>0.55</td>\n",
       "      <td>0.55</td>\n",
       "      <td>0.55</td>\n",
       "      <td>0.03</td>\n",
       "    </tr>\n",
       "    <tr>\n",
       "      <th>DummyClassifier</th>\n",
       "      <td>0.51</td>\n",
       "      <td>0.50</td>\n",
       "      <td>0.50</td>\n",
       "      <td>0.34</td>\n",
       "      <td>0.03</td>\n",
       "    </tr>\n",
       "  </tbody>\n",
       "</table>\n",
       "</div>"
      ],
      "text/plain": [
       "                               Accuracy  Balanced Accuracy  ROC AUC  F1 Score  \\\n",
       "Model                                                                           \n",
       "LGBMClassifier                     0.76               0.76     0.76      0.75   \n",
       "XGBClassifier                      0.75               0.75     0.75      0.75   \n",
       "NuSVC                              0.75               0.75     0.75      0.75   \n",
       "AdaBoostClassifier                 0.75               0.75     0.75      0.75   \n",
       "LabelSpreading                     0.74               0.74     0.74      0.73   \n",
       "SVC                                0.73               0.74     0.74      0.73   \n",
       "LabelPropagation                   0.73               0.74     0.74      0.73   \n",
       "RidgeClassifierCV                  0.73               0.74     0.74      0.73   \n",
       "RidgeClassifier                    0.73               0.74     0.74      0.73   \n",
       "LinearDiscriminantAnalysis         0.73               0.74     0.74      0.73   \n",
       "LinearSVC                          0.73               0.74     0.74      0.73   \n",
       "SGDClassifier                      0.73               0.73     0.73      0.73   \n",
       "CalibratedClassifierCV             0.73               0.73     0.73      0.73   \n",
       "LogisticRegression                 0.73               0.73     0.73      0.73   \n",
       "NearestCentroid                    0.73               0.73     0.73      0.73   \n",
       "QuadraticDiscriminantAnalysis      0.73               0.73     0.73      0.73   \n",
       "KNeighborsClassifier               0.73               0.73     0.73      0.73   \n",
       "BernoulliNB                        0.73               0.73     0.73      0.72   \n",
       "GaussianNB                         0.73               0.73     0.73      0.72   \n",
       "RandomForestClassifier             0.72               0.72     0.72      0.72   \n",
       "BaggingClassifier                  0.72               0.71     0.71      0.72   \n",
       "ExtraTreesClassifier               0.71               0.71     0.71      0.71   \n",
       "DecisionTreeClassifier             0.71               0.70     0.70      0.70   \n",
       "ExtraTreeClassifier                0.70               0.70     0.70      0.70   \n",
       "Perceptron                         0.59               0.58     0.58      0.58   \n",
       "PassiveAggressiveClassifier        0.55               0.55     0.55      0.55   \n",
       "DummyClassifier                    0.51               0.50     0.50      0.34   \n",
       "\n",
       "                               Time Taken  \n",
       "Model                                      \n",
       "LGBMClassifier                       0.19  \n",
       "XGBClassifier                        0.56  \n",
       "NuSVC                                3.28  \n",
       "AdaBoostClassifier                   0.21  \n",
       "LabelSpreading                       1.07  \n",
       "SVC                                  1.22  \n",
       "LabelPropagation                     0.78  \n",
       "RidgeClassifierCV                    0.07  \n",
       "RidgeClassifier                      0.03  \n",
       "LinearDiscriminantAnalysis           0.07  \n",
       "LinearSVC                            0.36  \n",
       "SGDClassifier                        0.12  \n",
       "CalibratedClassifierCV               1.06  \n",
       "LogisticRegression                   0.05  \n",
       "NearestCentroid                      0.03  \n",
       "QuadraticDiscriminantAnalysis        0.05  \n",
       "KNeighborsClassifier                 0.10  \n",
       "BernoulliNB                          0.02  \n",
       "GaussianNB                           0.02  \n",
       "RandomForestClassifier               0.55  \n",
       "BaggingClassifier                    0.09  \n",
       "ExtraTreesClassifier                 0.47  \n",
       "DecisionTreeClassifier               0.05  \n",
       "ExtraTreeClassifier                  0.03  \n",
       "Perceptron                           0.04  \n",
       "PassiveAggressiveClassifier          0.03  \n",
       "DummyClassifier                      0.03  "
      ]
     },
     "execution_count": 78,
     "metadata": {},
     "output_type": "execute_result"
    }
   ],
   "source": [
    "models"
   ]
  },
  {
   "cell_type": "markdown",
   "id": "2b78cc4b",
   "metadata": {
    "papermill": {
     "duration": 0.041246,
     "end_time": "2022-12-13T18:06:27.802000",
     "exception": false,
     "start_time": "2022-12-13T18:06:27.760754",
     "status": "completed"
    },
    "tags": []
   },
   "source": [
    "## LightGBM"
   ]
  },
  {
   "cell_type": "code",
   "execution_count": 79,
   "id": "afe331a1",
   "metadata": {
    "execution": {
     "iopub.execute_input": "2022-12-13T18:06:27.888179Z",
     "iopub.status.busy": "2022-12-13T18:06:27.887390Z",
     "iopub.status.idle": "2022-12-13T18:06:28.008538Z",
     "shell.execute_reply": "2022-12-13T18:06:28.007501Z"
    },
    "papermill": {
     "duration": 0.167394,
     "end_time": "2022-12-13T18:06:28.011366",
     "exception": false,
     "start_time": "2022-12-13T18:06:27.843972",
     "status": "completed"
    },
    "tags": []
   },
   "outputs": [
    {
     "data": {
      "text/plain": [
       "LGBMClassifier()"
      ]
     },
     "execution_count": 79,
     "metadata": {},
     "output_type": "execute_result"
    }
   ],
   "source": [
    "# build the lightgbm model\n",
    "import lightgbm as lgb\n",
    "clf = lgb.LGBMClassifier()\n",
    "clf.fit(X_train, y_train)"
   ]
  },
  {
   "cell_type": "code",
   "execution_count": 80,
   "id": "d07974b8",
   "metadata": {
    "execution": {
     "iopub.execute_input": "2022-12-13T18:06:28.098367Z",
     "iopub.status.busy": "2022-12-13T18:06:28.097397Z",
     "iopub.status.idle": "2022-12-13T18:06:28.114336Z",
     "shell.execute_reply": "2022-12-13T18:06:28.113353Z"
    },
    "papermill": {
     "duration": 0.062825,
     "end_time": "2022-12-13T18:06:28.116960",
     "exception": false,
     "start_time": "2022-12-13T18:06:28.054135",
     "status": "completed"
    },
    "tags": []
   },
   "outputs": [
    {
     "data": {
      "text/plain": [
       "array([0, 0, 0, ..., 1, 0, 0])"
      ]
     },
     "execution_count": 80,
     "metadata": {},
     "output_type": "execute_result"
    }
   ],
   "source": [
    "# predict the results\n",
    "y_pred=clf.predict(X_test)\n",
    "y_pred"
   ]
  },
  {
   "cell_type": "code",
   "execution_count": 81,
   "id": "9e0da93d",
   "metadata": {
    "execution": {
     "iopub.execute_input": "2022-12-13T18:06:28.204190Z",
     "iopub.status.busy": "2022-12-13T18:06:28.203772Z",
     "iopub.status.idle": "2022-12-13T18:06:28.211133Z",
     "shell.execute_reply": "2022-12-13T18:06:28.209843Z"
    },
    "papermill": {
     "duration": 0.054588,
     "end_time": "2022-12-13T18:06:28.215074",
     "exception": false,
     "start_time": "2022-12-13T18:06:28.160486",
     "status": "completed"
    },
    "tags": []
   },
   "outputs": [
    {
     "name": "stdout",
     "output_type": "stream",
     "text": [
      "[[   0 1006]\n",
      " [   1 1174]]\n"
     ]
    }
   ],
   "source": [
    "# count the elements\n",
    "unique, counts = np.unique(y_pred, return_counts=True)\n",
    "print(np.asarray((unique, counts)).T)"
   ]
  },
  {
   "cell_type": "code",
   "execution_count": 82,
   "id": "8fbec2f5",
   "metadata": {
    "execution": {
     "iopub.execute_input": "2022-12-13T18:06:28.301625Z",
     "iopub.status.busy": "2022-12-13T18:06:28.300498Z",
     "iopub.status.idle": "2022-12-13T18:06:28.308855Z",
     "shell.execute_reply": "2022-12-13T18:06:28.307272Z"
    },
    "papermill": {
     "duration": 0.054509,
     "end_time": "2022-12-13T18:06:28.312161",
     "exception": false,
     "start_time": "2022-12-13T18:06:28.257652",
     "status": "completed"
    },
    "tags": []
   },
   "outputs": [
    {
     "name": "stdout",
     "output_type": "stream",
     "text": [
      "LightGBM Model accuracy score: 0.7472\n"
     ]
    }
   ],
   "source": [
    "# view accuracy\n",
    "from sklearn.metrics import accuracy_score\n",
    "accuracy=accuracy_score(y_pred, y_test)\n",
    "print('LightGBM Model accuracy score: {0:0.4f}'.format(accuracy_score(y_test, y_pred)))"
   ]
  },
  {
   "cell_type": "code",
   "execution_count": 83,
   "id": "988cdb96",
   "metadata": {
    "execution": {
     "iopub.execute_input": "2022-12-13T18:06:28.399438Z",
     "iopub.status.busy": "2022-12-13T18:06:28.398578Z",
     "iopub.status.idle": "2022-12-13T18:06:28.422055Z",
     "shell.execute_reply": "2022-12-13T18:06:28.421135Z"
    },
    "papermill": {
     "duration": 0.06992,
     "end_time": "2022-12-13T18:06:28.424559",
     "exception": false,
     "start_time": "2022-12-13T18:06:28.354639",
     "status": "completed"
    },
    "tags": []
   },
   "outputs": [
    {
     "name": "stdout",
     "output_type": "stream",
     "text": [
      "Training-set accuracy score: 0.7808\n"
     ]
    }
   ],
   "source": [
    "# to calculate train accuracy\n",
    "y_pred_train = clf.predict(X_train)\n",
    "print('Training-set accuracy score: {0:0.4f}'. format(accuracy_score(y_train, y_pred_train)))"
   ]
  },
  {
   "cell_type": "markdown",
   "id": "9cd44de0",
   "metadata": {
    "papermill": {
     "duration": 0.041611,
     "end_time": "2022-12-13T18:06:28.510529",
     "exception": false,
     "start_time": "2022-12-13T18:06:28.468918",
     "status": "completed"
    },
    "tags": []
   },
   "source": [
    "## Parameter Tuning"
   ]
  },
  {
   "cell_type": "code",
   "execution_count": 84,
   "id": "902e99e8",
   "metadata": {
    "execution": {
     "iopub.execute_input": "2022-12-13T18:06:28.596213Z",
     "iopub.status.busy": "2022-12-13T18:06:28.595831Z",
     "iopub.status.idle": "2022-12-13T18:06:28.600840Z",
     "shell.execute_reply": "2022-12-13T18:06:28.599637Z"
    },
    "papermill": {
     "duration": 0.050446,
     "end_time": "2022-12-13T18:06:28.603189",
     "exception": false,
     "start_time": "2022-12-13T18:06:28.552743",
     "status": "completed"
    },
    "tags": []
   },
   "outputs": [],
   "source": [
    "from sklearn.model_selection import GridSearchCV"
   ]
  },
  {
   "cell_type": "code",
   "execution_count": 85,
   "id": "a87badc9",
   "metadata": {
    "execution": {
     "iopub.execute_input": "2022-12-13T18:06:28.692142Z",
     "iopub.status.busy": "2022-12-13T18:06:28.691446Z",
     "iopub.status.idle": "2022-12-13T18:06:28.696069Z",
     "shell.execute_reply": "2022-12-13T18:06:28.695024Z"
    },
    "papermill": {
     "duration": 0.051148,
     "end_time": "2022-12-13T18:06:28.698424",
     "exception": false,
     "start_time": "2022-12-13T18:06:28.647276",
     "status": "completed"
    },
    "tags": []
   },
   "outputs": [],
   "source": [
    "# define model\n",
    "clf = lgb.LGBMClassifier()"
   ]
  },
  {
   "cell_type": "code",
   "execution_count": 86,
   "id": "54c2d0a9",
   "metadata": {
    "execution": {
     "iopub.execute_input": "2022-12-13T18:06:28.784643Z",
     "iopub.status.busy": "2022-12-13T18:06:28.784148Z",
     "iopub.status.idle": "2022-12-13T18:07:36.211925Z",
     "shell.execute_reply": "2022-12-13T18:07:36.210475Z"
    },
    "papermill": {
     "duration": 67.511396,
     "end_time": "2022-12-13T18:07:36.251774",
     "exception": false,
     "start_time": "2022-12-13T18:06:28.740378",
     "status": "completed"
    },
    "tags": []
   },
   "outputs": [
    {
     "name": "stdout",
     "output_type": "stream",
     "text": [
      "Fitting 3 folds for each of 3456 candidates, totalling 10368 fits\n",
      "{'boosting_type': 'gbdt', 'colsample_bytree': 0.65, 'learning_rate': 0.005, 'max_bin': 255, 'n_estimators': 16, 'num_leaves': 6, 'objective': 'binary', 'random_state': 500, 'reg_alpha': 1.2, 'reg_lambda': 1, 'subsample': 0.7}\n",
      "0.7300059712461531\n"
     ]
    }
   ],
   "source": [
    "# Grid search\n",
    "gridParams = {\n",
    "    'learning_rate': [0.005, 0.01],\n",
    "    'n_estimators': [8,16,24],\n",
    "    'num_leaves': [6,8,12,16], # large num_leaves helps improve accuracy but might lead to over-fitting\n",
    "    'boosting_type' : ['gbdt', 'dart'], # for better accuracy -> try dart\n",
    "    'objective' : ['binary'],\n",
    "    'max_bin':[255, 510], # large max_bin helps improve accuracy but might slow down training progress\n",
    "    'random_state' : [500],\n",
    "    'colsample_bytree' : [0.64, 0.65, 0.66],\n",
    "    'subsample' : [0.7,0.75],\n",
    "    'reg_alpha' : [1,1.2],\n",
    "    'reg_lambda' : [1,1.2,1.4],\n",
    "    }\n",
    "\n",
    "grid = GridSearchCV(clf, gridParams, verbose=1, cv=3, n_jobs=-1)\n",
    "# Run the grid\n",
    "grid.fit(X_train, y_train)\n",
    "\n",
    "# Print the best parameters found\n",
    "print(grid.best_params_)\n",
    "print(grid.best_score_)"
   ]
  },
  {
   "cell_type": "code",
   "execution_count": 87,
   "id": "0c4f0ce4",
   "metadata": {
    "execution": {
     "iopub.execute_input": "2022-12-13T18:07:36.338394Z",
     "iopub.status.busy": "2022-12-13T18:07:36.337912Z",
     "iopub.status.idle": "2022-12-13T18:07:36.343836Z",
     "shell.execute_reply": "2022-12-13T18:07:36.342685Z"
    },
    "papermill": {
     "duration": 0.052713,
     "end_time": "2022-12-13T18:07:36.346387",
     "exception": false,
     "start_time": "2022-12-13T18:07:36.293674",
     "status": "completed"
    },
    "tags": []
   },
   "outputs": [],
   "source": [
    "best_params = grid.best_params_"
   ]
  },
  {
   "cell_type": "code",
   "execution_count": 88,
   "id": "20d9889c",
   "metadata": {
    "execution": {
     "iopub.execute_input": "2022-12-13T18:07:36.434257Z",
     "iopub.status.busy": "2022-12-13T18:07:36.433827Z",
     "iopub.status.idle": "2022-12-13T18:07:36.464397Z",
     "shell.execute_reply": "2022-12-13T18:07:36.463281Z"
    },
    "papermill": {
     "duration": 0.077843,
     "end_time": "2022-12-13T18:07:36.467300",
     "exception": false,
     "start_time": "2022-12-13T18:07:36.389457",
     "status": "completed"
    },
    "tags": []
   },
   "outputs": [
    {
     "data": {
      "text/plain": [
       "LGBMClassifier(colsample_bytree=0.65, learning_rate=0.005, max_bin=255,\n",
       "               n_estimators=16, num_leaves=6, objective='binary',\n",
       "               random_state=500, reg_alpha=1.2, reg_lambda=1, subsample=0.7)"
      ]
     },
     "execution_count": 88,
     "metadata": {},
     "output_type": "execute_result"
    }
   ],
   "source": [
    "# fit the model on whole data with best params\n",
    "clf = lgb.LGBMClassifier(\n",
    "    boosting_type=best_params['boosting_type'],\n",
    "    colsample_bytree=best_params['colsample_bytree'],\n",
    "    learning_rate=best_params['learning_rate'],\n",
    "    max_bin=best_params['max_bin'],\n",
    "    n_estimators=best_params['n_estimators'],\n",
    "    num_leaves=best_params['num_leaves'],\n",
    "    objective=best_params['objective'],\n",
    "    random_state=best_params['random_state'],\n",
    "    reg_alpha=best_params['reg_alpha'],\n",
    "    reg_lambda=best_params['reg_lambda'],\n",
    "    subsample=best_params['subsample']\n",
    ")\n",
    "clf.fit(X,y)"
   ]
  },
  {
   "cell_type": "markdown",
   "id": "4979055d",
   "metadata": {
    "papermill": {
     "duration": 0.041302,
     "end_time": "2022-12-13T18:07:36.553922",
     "exception": false,
     "start_time": "2022-12-13T18:07:36.512620",
     "status": "completed"
    },
    "tags": []
   },
   "source": [
    "## Submit result"
   ]
  },
  {
   "cell_type": "code",
   "execution_count": 89,
   "id": "38c6e7fc",
   "metadata": {
    "execution": {
     "iopub.execute_input": "2022-12-13T18:07:36.638969Z",
     "iopub.status.busy": "2022-12-13T18:07:36.638577Z",
     "iopub.status.idle": "2022-12-13T18:07:36.674121Z",
     "shell.execute_reply": "2022-12-13T18:07:36.672829Z"
    },
    "papermill": {
     "duration": 0.081179,
     "end_time": "2022-12-13T18:07:36.676764",
     "exception": false,
     "start_time": "2022-12-13T18:07:36.595585",
     "status": "completed"
    },
    "tags": []
   },
   "outputs": [
    {
     "data": {
      "text/html": [
       "<div>\n",
       "<style scoped>\n",
       "    .dataframe tbody tr th:only-of-type {\n",
       "        vertical-align: middle;\n",
       "    }\n",
       "\n",
       "    .dataframe tbody tr th {\n",
       "        vertical-align: top;\n",
       "    }\n",
       "\n",
       "    .dataframe thead th {\n",
       "        text-align: right;\n",
       "    }\n",
       "</style>\n",
       "<table border=\"1\" class=\"dataframe\">\n",
       "  <thead>\n",
       "    <tr style=\"text-align: right;\">\n",
       "      <th></th>\n",
       "      <th>PassengerId</th>\n",
       "      <th>HomePlanet</th>\n",
       "      <th>CryoSleep</th>\n",
       "      <th>Cabin</th>\n",
       "      <th>Destination</th>\n",
       "      <th>Age</th>\n",
       "      <th>VIP</th>\n",
       "      <th>RoomService</th>\n",
       "      <th>FoodCourt</th>\n",
       "      <th>ShoppingMall</th>\n",
       "      <th>Spa</th>\n",
       "      <th>VRDeck</th>\n",
       "      <th>Name</th>\n",
       "    </tr>\n",
       "  </thead>\n",
       "  <tbody>\n",
       "    <tr>\n",
       "      <th>0</th>\n",
       "      <td>0013_01</td>\n",
       "      <td>Earth</td>\n",
       "      <td>True</td>\n",
       "      <td>G/3/S</td>\n",
       "      <td>TRAPPIST-1e</td>\n",
       "      <td>27.00</td>\n",
       "      <td>False</td>\n",
       "      <td>0.00</td>\n",
       "      <td>0.00</td>\n",
       "      <td>0.00</td>\n",
       "      <td>0.00</td>\n",
       "      <td>0.00</td>\n",
       "      <td>Nelly Carsoning</td>\n",
       "    </tr>\n",
       "    <tr>\n",
       "      <th>1</th>\n",
       "      <td>0018_01</td>\n",
       "      <td>Earth</td>\n",
       "      <td>False</td>\n",
       "      <td>F/4/S</td>\n",
       "      <td>TRAPPIST-1e</td>\n",
       "      <td>19.00</td>\n",
       "      <td>False</td>\n",
       "      <td>0.00</td>\n",
       "      <td>9.00</td>\n",
       "      <td>0.00</td>\n",
       "      <td>2823.00</td>\n",
       "      <td>0.00</td>\n",
       "      <td>Lerome Peckers</td>\n",
       "    </tr>\n",
       "    <tr>\n",
       "      <th>2</th>\n",
       "      <td>0019_01</td>\n",
       "      <td>Europa</td>\n",
       "      <td>True</td>\n",
       "      <td>C/0/S</td>\n",
       "      <td>55 Cancri e</td>\n",
       "      <td>31.00</td>\n",
       "      <td>False</td>\n",
       "      <td>0.00</td>\n",
       "      <td>0.00</td>\n",
       "      <td>0.00</td>\n",
       "      <td>0.00</td>\n",
       "      <td>0.00</td>\n",
       "      <td>Sabih Unhearfus</td>\n",
       "    </tr>\n",
       "    <tr>\n",
       "      <th>3</th>\n",
       "      <td>0021_01</td>\n",
       "      <td>Europa</td>\n",
       "      <td>False</td>\n",
       "      <td>C/1/S</td>\n",
       "      <td>TRAPPIST-1e</td>\n",
       "      <td>38.00</td>\n",
       "      <td>False</td>\n",
       "      <td>0.00</td>\n",
       "      <td>6652.00</td>\n",
       "      <td>0.00</td>\n",
       "      <td>181.00</td>\n",
       "      <td>585.00</td>\n",
       "      <td>Meratz Caltilter</td>\n",
       "    </tr>\n",
       "    <tr>\n",
       "      <th>4</th>\n",
       "      <td>0023_01</td>\n",
       "      <td>Earth</td>\n",
       "      <td>False</td>\n",
       "      <td>F/5/S</td>\n",
       "      <td>TRAPPIST-1e</td>\n",
       "      <td>20.00</td>\n",
       "      <td>False</td>\n",
       "      <td>10.00</td>\n",
       "      <td>0.00</td>\n",
       "      <td>635.00</td>\n",
       "      <td>0.00</td>\n",
       "      <td>0.00</td>\n",
       "      <td>Brence Harperez</td>\n",
       "    </tr>\n",
       "  </tbody>\n",
       "</table>\n",
       "</div>"
      ],
      "text/plain": [
       "  PassengerId HomePlanet CryoSleep  Cabin  Destination   Age    VIP  \\\n",
       "0     0013_01      Earth      True  G/3/S  TRAPPIST-1e 27.00  False   \n",
       "1     0018_01      Earth     False  F/4/S  TRAPPIST-1e 19.00  False   \n",
       "2     0019_01     Europa      True  C/0/S  55 Cancri e 31.00  False   \n",
       "3     0021_01     Europa     False  C/1/S  TRAPPIST-1e 38.00  False   \n",
       "4     0023_01      Earth     False  F/5/S  TRAPPIST-1e 20.00  False   \n",
       "\n",
       "   RoomService  FoodCourt  ShoppingMall     Spa  VRDeck              Name  \n",
       "0         0.00       0.00          0.00    0.00    0.00   Nelly Carsoning  \n",
       "1         0.00       9.00          0.00 2823.00    0.00    Lerome Peckers  \n",
       "2         0.00       0.00          0.00    0.00    0.00   Sabih Unhearfus  \n",
       "3         0.00    6652.00          0.00  181.00  585.00  Meratz Caltilter  \n",
       "4        10.00       0.00        635.00    0.00    0.00   Brence Harperez  "
      ]
     },
     "execution_count": 89,
     "metadata": {},
     "output_type": "execute_result"
    }
   ],
   "source": [
    "test = pd.read_csv('/kaggle/input/spaceship-titanic/test.csv')\n",
    "test.head()"
   ]
  }
 ],
 "metadata": {
  "kernelspec": {
   "display_name": "Python 3",
   "language": "python",
   "name": "python3"
  },
  "language_info": {
   "codemirror_mode": {
    "name": "ipython",
    "version": 3
   },
   "file_extension": ".py",
   "mimetype": "text/x-python",
   "name": "python",
   "nbconvert_exporter": "python",
   "pygments_lexer": "ipython3",
   "version": "3.7.12"
  },
  "papermill": {
   "default_parameters": {},
   "duration": 122.084911,
   "end_time": "2022-12-13T18:07:39.341810",
   "environment_variables": {},
   "exception": null,
   "input_path": "__notebook__.ipynb",
   "output_path": "__notebook__.ipynb",
   "parameters": {},
   "start_time": "2022-12-13T18:05:37.256899",
   "version": "2.3.4"
  }
 },
 "nbformat": 4,
 "nbformat_minor": 5
}
