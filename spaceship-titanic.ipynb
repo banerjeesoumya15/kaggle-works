{
 "cells": [
  {
   "cell_type": "code",
   "execution_count": 1,
   "id": "a21fc7c9",
   "metadata": {
    "_cell_guid": "b1076dfc-b9ad-4769-8c92-a6c4dae69d19",
    "_uuid": "8f2839f25d086af736a60e9eeb907d3b93b6e0e5",
    "execution": {
     "iopub.execute_input": "2022-11-17T19:09:27.400167Z",
     "iopub.status.busy": "2022-11-17T19:09:27.399740Z",
     "iopub.status.idle": "2022-11-17T19:09:27.412512Z",
     "shell.execute_reply": "2022-11-17T19:09:27.411259Z"
    },
    "papermill": {
     "duration": 0.025854,
     "end_time": "2022-11-17T19:09:27.414398",
     "exception": false,
     "start_time": "2022-11-17T19:09:27.388544",
     "status": "completed"
    },
    "tags": []
   },
   "outputs": [
    {
     "name": "stdout",
     "output_type": "stream",
     "text": [
      "/kaggle/input/spaceship-titanic/sample_submission.csv\n",
      "/kaggle/input/spaceship-titanic/train.csv\n",
      "/kaggle/input/spaceship-titanic/test.csv\n"
     ]
    }
   ],
   "source": [
    "# This Python 3 environment comes with many helpful analytics libraries installed\n",
    "# It is defined by the kaggle/python Docker image: https://github.com/kaggle/docker-python\n",
    "# For example, here's several helpful packages to load\n",
    "\n",
    "import numpy as np # linear algebra\n",
    "import pandas as pd # data processing, CSV file I/O (e.g. pd.read_csv)\n",
    "\n",
    "# Input data files are available in the read-only \"../input/\" directory\n",
    "# For example, running this (by clicking run or pressing Shift+Enter) will list all files under the input directory\n",
    "\n",
    "import os\n",
    "for dirname, _, filenames in os.walk('/kaggle/input'):\n",
    "    for filename in filenames:\n",
    "        print(os.path.join(dirname, filename))\n",
    "\n",
    "# You can write up to 20GB to the current directory (/kaggle/working/) that gets preserved as output when you create a version using \"Save & Run All\" \n",
    "# You can also write temporary files to /kaggle/temp/, but they won't be saved outside of the current session"
   ]
  },
  {
   "cell_type": "code",
   "execution_count": 2,
   "id": "fabdad74",
   "metadata": {
    "execution": {
     "iopub.execute_input": "2022-11-17T19:09:27.433580Z",
     "iopub.status.busy": "2022-11-17T19:09:27.433216Z",
     "iopub.status.idle": "2022-11-17T19:09:28.306995Z",
     "shell.execute_reply": "2022-11-17T19:09:28.305848Z"
    },
    "papermill": {
     "duration": 0.885936,
     "end_time": "2022-11-17T19:09:28.309215",
     "exception": false,
     "start_time": "2022-11-17T19:09:27.423279",
     "status": "completed"
    },
    "tags": []
   },
   "outputs": [],
   "source": [
    "# import packages\n",
    "from matplotlib import pyplot as plt\n",
    "import seaborn as sns"
   ]
  },
  {
   "cell_type": "code",
   "execution_count": 3,
   "id": "1cccfedc",
   "metadata": {
    "execution": {
     "iopub.execute_input": "2022-11-17T19:09:28.328992Z",
     "iopub.status.busy": "2022-11-17T19:09:28.328503Z",
     "iopub.status.idle": "2022-11-17T19:09:28.409382Z",
     "shell.execute_reply": "2022-11-17T19:09:28.408752Z"
    },
    "papermill": {
     "duration": 0.093189,
     "end_time": "2022-11-17T19:09:28.411168",
     "exception": false,
     "start_time": "2022-11-17T19:09:28.317979",
     "status": "completed"
    },
    "tags": []
   },
   "outputs": [
    {
     "data": {
      "text/html": [
       "<div>\n",
       "<style scoped>\n",
       "    .dataframe tbody tr th:only-of-type {\n",
       "        vertical-align: middle;\n",
       "    }\n",
       "\n",
       "    .dataframe tbody tr th {\n",
       "        vertical-align: top;\n",
       "    }\n",
       "\n",
       "    .dataframe thead th {\n",
       "        text-align: right;\n",
       "    }\n",
       "</style>\n",
       "<table border=\"1\" class=\"dataframe\">\n",
       "  <thead>\n",
       "    <tr style=\"text-align: right;\">\n",
       "      <th></th>\n",
       "      <th>PassengerId</th>\n",
       "      <th>HomePlanet</th>\n",
       "      <th>CryoSleep</th>\n",
       "      <th>Cabin</th>\n",
       "      <th>Destination</th>\n",
       "      <th>Age</th>\n",
       "      <th>VIP</th>\n",
       "      <th>RoomService</th>\n",
       "      <th>FoodCourt</th>\n",
       "      <th>ShoppingMall</th>\n",
       "      <th>Spa</th>\n",
       "      <th>VRDeck</th>\n",
       "      <th>Name</th>\n",
       "      <th>Transported</th>\n",
       "    </tr>\n",
       "  </thead>\n",
       "  <tbody>\n",
       "    <tr>\n",
       "      <th>0</th>\n",
       "      <td>0001_01</td>\n",
       "      <td>Europa</td>\n",
       "      <td>False</td>\n",
       "      <td>B/0/P</td>\n",
       "      <td>TRAPPIST-1e</td>\n",
       "      <td>39.0</td>\n",
       "      <td>False</td>\n",
       "      <td>0.0</td>\n",
       "      <td>0.0</td>\n",
       "      <td>0.0</td>\n",
       "      <td>0.0</td>\n",
       "      <td>0.0</td>\n",
       "      <td>Maham Ofracculy</td>\n",
       "      <td>False</td>\n",
       "    </tr>\n",
       "    <tr>\n",
       "      <th>1</th>\n",
       "      <td>0002_01</td>\n",
       "      <td>Earth</td>\n",
       "      <td>False</td>\n",
       "      <td>F/0/S</td>\n",
       "      <td>TRAPPIST-1e</td>\n",
       "      <td>24.0</td>\n",
       "      <td>False</td>\n",
       "      <td>109.0</td>\n",
       "      <td>9.0</td>\n",
       "      <td>25.0</td>\n",
       "      <td>549.0</td>\n",
       "      <td>44.0</td>\n",
       "      <td>Juanna Vines</td>\n",
       "      <td>True</td>\n",
       "    </tr>\n",
       "    <tr>\n",
       "      <th>2</th>\n",
       "      <td>0003_01</td>\n",
       "      <td>Europa</td>\n",
       "      <td>False</td>\n",
       "      <td>A/0/S</td>\n",
       "      <td>TRAPPIST-1e</td>\n",
       "      <td>58.0</td>\n",
       "      <td>True</td>\n",
       "      <td>43.0</td>\n",
       "      <td>3576.0</td>\n",
       "      <td>0.0</td>\n",
       "      <td>6715.0</td>\n",
       "      <td>49.0</td>\n",
       "      <td>Altark Susent</td>\n",
       "      <td>False</td>\n",
       "    </tr>\n",
       "    <tr>\n",
       "      <th>3</th>\n",
       "      <td>0003_02</td>\n",
       "      <td>Europa</td>\n",
       "      <td>False</td>\n",
       "      <td>A/0/S</td>\n",
       "      <td>TRAPPIST-1e</td>\n",
       "      <td>33.0</td>\n",
       "      <td>False</td>\n",
       "      <td>0.0</td>\n",
       "      <td>1283.0</td>\n",
       "      <td>371.0</td>\n",
       "      <td>3329.0</td>\n",
       "      <td>193.0</td>\n",
       "      <td>Solam Susent</td>\n",
       "      <td>False</td>\n",
       "    </tr>\n",
       "    <tr>\n",
       "      <th>4</th>\n",
       "      <td>0004_01</td>\n",
       "      <td>Earth</td>\n",
       "      <td>False</td>\n",
       "      <td>F/1/S</td>\n",
       "      <td>TRAPPIST-1e</td>\n",
       "      <td>16.0</td>\n",
       "      <td>False</td>\n",
       "      <td>303.0</td>\n",
       "      <td>70.0</td>\n",
       "      <td>151.0</td>\n",
       "      <td>565.0</td>\n",
       "      <td>2.0</td>\n",
       "      <td>Willy Santantines</td>\n",
       "      <td>True</td>\n",
       "    </tr>\n",
       "  </tbody>\n",
       "</table>\n",
       "</div>"
      ],
      "text/plain": [
       "  PassengerId HomePlanet CryoSleep  Cabin  Destination   Age    VIP  \\\n",
       "0     0001_01     Europa     False  B/0/P  TRAPPIST-1e  39.0  False   \n",
       "1     0002_01      Earth     False  F/0/S  TRAPPIST-1e  24.0  False   \n",
       "2     0003_01     Europa     False  A/0/S  TRAPPIST-1e  58.0   True   \n",
       "3     0003_02     Europa     False  A/0/S  TRAPPIST-1e  33.0  False   \n",
       "4     0004_01      Earth     False  F/1/S  TRAPPIST-1e  16.0  False   \n",
       "\n",
       "   RoomService  FoodCourt  ShoppingMall     Spa  VRDeck               Name  \\\n",
       "0          0.0        0.0           0.0     0.0     0.0    Maham Ofracculy   \n",
       "1        109.0        9.0          25.0   549.0    44.0       Juanna Vines   \n",
       "2         43.0     3576.0           0.0  6715.0    49.0      Altark Susent   \n",
       "3          0.0     1283.0         371.0  3329.0   193.0       Solam Susent   \n",
       "4        303.0       70.0         151.0   565.0     2.0  Willy Santantines   \n",
       "\n",
       "   Transported  \n",
       "0        False  \n",
       "1         True  \n",
       "2        False  \n",
       "3        False  \n",
       "4         True  "
      ]
     },
     "execution_count": 3,
     "metadata": {},
     "output_type": "execute_result"
    }
   ],
   "source": [
    "# read data\n",
    "df = pd.read_csv('/kaggle/input/spaceship-titanic/train.csv')\n",
    "df.head()"
   ]
  },
  {
   "cell_type": "code",
   "execution_count": 4,
   "id": "a8d0761e",
   "metadata": {
    "execution": {
     "iopub.execute_input": "2022-11-17T19:09:28.430627Z",
     "iopub.status.busy": "2022-11-17T19:09:28.430142Z",
     "iopub.status.idle": "2022-11-17T19:09:28.435005Z",
     "shell.execute_reply": "2022-11-17T19:09:28.434222Z"
    },
    "papermill": {
     "duration": 0.016501,
     "end_time": "2022-11-17T19:09:28.436666",
     "exception": false,
     "start_time": "2022-11-17T19:09:28.420165",
     "status": "completed"
    },
    "tags": []
   },
   "outputs": [
    {
     "data": {
      "text/plain": [
       "(8693, 14)"
      ]
     },
     "execution_count": 4,
     "metadata": {},
     "output_type": "execute_result"
    }
   ],
   "source": [
    "df.shape"
   ]
  },
  {
   "cell_type": "markdown",
   "id": "be00384e",
   "metadata": {
    "papermill": {
     "duration": 0.00835,
     "end_time": "2022-11-17T19:09:28.453655",
     "exception": false,
     "start_time": "2022-11-17T19:09:28.445305",
     "status": "completed"
    },
    "tags": []
   },
   "source": [
    "## Explore the dataset"
   ]
  },
  {
   "cell_type": "code",
   "execution_count": 5,
   "id": "1254dd15",
   "metadata": {
    "execution": {
     "iopub.execute_input": "2022-11-17T19:09:28.472427Z",
     "iopub.status.busy": "2022-11-17T19:09:28.472005Z",
     "iopub.status.idle": "2022-11-17T19:09:28.484492Z",
     "shell.execute_reply": "2022-11-17T19:09:28.483418Z"
    },
    "papermill": {
     "duration": 0.024519,
     "end_time": "2022-11-17T19:09:28.486702",
     "exception": false,
     "start_time": "2022-11-17T19:09:28.462183",
     "status": "completed"
    },
    "tags": []
   },
   "outputs": [
    {
     "data": {
      "text/plain": [
       "PassengerId       0\n",
       "HomePlanet      201\n",
       "CryoSleep       217\n",
       "Cabin           199\n",
       "Destination     182\n",
       "Age             179\n",
       "VIP             203\n",
       "RoomService     181\n",
       "FoodCourt       183\n",
       "ShoppingMall    208\n",
       "Spa             183\n",
       "VRDeck          188\n",
       "Name            200\n",
       "Transported       0\n",
       "dtype: int64"
      ]
     },
     "execution_count": 5,
     "metadata": {},
     "output_type": "execute_result"
    }
   ],
   "source": [
    "# check missing values\n",
    "miss_vals = df.isna().sum()\n",
    "miss_vals"
   ]
  },
  {
   "cell_type": "markdown",
   "id": "98a4e2d8",
   "metadata": {
    "papermill": {
     "duration": 0.00891,
     "end_time": "2022-11-17T19:09:28.505159",
     "exception": false,
     "start_time": "2022-11-17T19:09:28.496249",
     "status": "completed"
    },
    "tags": []
   },
   "source": [
    "All columns have missing values except `PassengerId` and `Transported`."
   ]
  },
  {
   "cell_type": "code",
   "execution_count": 6,
   "id": "51d3a28e",
   "metadata": {
    "execution": {
     "iopub.execute_input": "2022-11-17T19:09:28.525133Z",
     "iopub.status.busy": "2022-11-17T19:09:28.524629Z",
     "iopub.status.idle": "2022-11-17T19:09:28.544140Z",
     "shell.execute_reply": "2022-11-17T19:09:28.543562Z"
    },
    "papermill": {
     "duration": 0.031709,
     "end_time": "2022-11-17T19:09:28.545982",
     "exception": false,
     "start_time": "2022-11-17T19:09:28.514273",
     "status": "completed"
    },
    "tags": []
   },
   "outputs": [
    {
     "data": {
      "text/plain": [
       "PassengerId     0\n",
       "HomePlanet      0\n",
       "CryoSleep       0\n",
       "Cabin           0\n",
       "Destination     0\n",
       "Age             0\n",
       "VIP             0\n",
       "RoomService     0\n",
       "FoodCourt       0\n",
       "ShoppingMall    0\n",
       "Spa             0\n",
       "VRDeck          0\n",
       "Name            0\n",
       "Transported     0\n",
       "dtype: int64"
      ]
     },
     "execution_count": 6,
     "metadata": {},
     "output_type": "execute_result"
    }
   ],
   "source": [
    "df = df.dropna(axis=0)\n",
    "df.isna().sum()"
   ]
  },
  {
   "cell_type": "code",
   "execution_count": 7,
   "id": "36485eba",
   "metadata": {
    "execution": {
     "iopub.execute_input": "2022-11-17T19:09:28.565945Z",
     "iopub.status.busy": "2022-11-17T19:09:28.565486Z",
     "iopub.status.idle": "2022-11-17T19:09:28.569762Z",
     "shell.execute_reply": "2022-11-17T19:09:28.569214Z"
    },
    "papermill": {
     "duration": 0.016156,
     "end_time": "2022-11-17T19:09:28.571286",
     "exception": false,
     "start_time": "2022-11-17T19:09:28.555130",
     "status": "completed"
    },
    "tags": []
   },
   "outputs": [
    {
     "data": {
      "text/plain": [
       "(6606, 14)"
      ]
     },
     "execution_count": 7,
     "metadata": {},
     "output_type": "execute_result"
    }
   ],
   "source": [
    "df.shape"
   ]
  },
  {
   "cell_type": "code",
   "execution_count": 8,
   "id": "592e6557",
   "metadata": {
    "execution": {
     "iopub.execute_input": "2022-11-17T19:09:28.591210Z",
     "iopub.status.busy": "2022-11-17T19:09:28.590719Z",
     "iopub.status.idle": "2022-11-17T19:09:28.609733Z",
     "shell.execute_reply": "2022-11-17T19:09:28.608470Z"
    },
    "papermill": {
     "duration": 0.03134,
     "end_time": "2022-11-17T19:09:28.611619",
     "exception": false,
     "start_time": "2022-11-17T19:09:28.580279",
     "status": "completed"
    },
    "tags": []
   },
   "outputs": [
    {
     "name": "stdout",
     "output_type": "stream",
     "text": [
      "<class 'pandas.core.frame.DataFrame'>\n",
      "Int64Index: 6606 entries, 0 to 8692\n",
      "Data columns (total 14 columns):\n",
      " #   Column        Non-Null Count  Dtype  \n",
      "---  ------        --------------  -----  \n",
      " 0   PassengerId   6606 non-null   object \n",
      " 1   HomePlanet    6606 non-null   object \n",
      " 2   CryoSleep     6606 non-null   object \n",
      " 3   Cabin         6606 non-null   object \n",
      " 4   Destination   6606 non-null   object \n",
      " 5   Age           6606 non-null   float64\n",
      " 6   VIP           6606 non-null   object \n",
      " 7   RoomService   6606 non-null   float64\n",
      " 8   FoodCourt     6606 non-null   float64\n",
      " 9   ShoppingMall  6606 non-null   float64\n",
      " 10  Spa           6606 non-null   float64\n",
      " 11  VRDeck        6606 non-null   float64\n",
      " 12  Name          6606 non-null   object \n",
      " 13  Transported   6606 non-null   bool   \n",
      "dtypes: bool(1), float64(6), object(7)\n",
      "memory usage: 729.0+ KB\n"
     ]
    }
   ],
   "source": [
    "df.info()"
   ]
  },
  {
   "cell_type": "code",
   "execution_count": 9,
   "id": "fe81f83e",
   "metadata": {
    "execution": {
     "iopub.execute_input": "2022-11-17T19:09:28.631885Z",
     "iopub.status.busy": "2022-11-17T19:09:28.631512Z",
     "iopub.status.idle": "2022-11-17T19:09:28.638017Z",
     "shell.execute_reply": "2022-11-17T19:09:28.637195Z"
    },
    "papermill": {
     "duration": 0.018957,
     "end_time": "2022-11-17T19:09:28.639831",
     "exception": false,
     "start_time": "2022-11-17T19:09:28.620874",
     "status": "completed"
    },
    "tags": []
   },
   "outputs": [
    {
     "data": {
      "text/plain": [
       "6606"
      ]
     },
     "execution_count": 9,
     "metadata": {},
     "output_type": "execute_result"
    }
   ],
   "source": [
    "df.PassengerId.nunique()"
   ]
  },
  {
   "cell_type": "markdown",
   "id": "f330e856",
   "metadata": {
    "papermill": {
     "duration": 0.009296,
     "end_time": "2022-11-17T19:09:28.658971",
     "exception": false,
     "start_time": "2022-11-17T19:09:28.649675",
     "status": "completed"
    },
    "tags": []
   },
   "source": [
    "All Id's are unique."
   ]
  },
  {
   "cell_type": "code",
   "execution_count": 10,
   "id": "a7e23f42",
   "metadata": {
    "execution": {
     "iopub.execute_input": "2022-11-17T19:09:28.679299Z",
     "iopub.status.busy": "2022-11-17T19:09:28.678692Z",
     "iopub.status.idle": "2022-11-17T19:09:28.685260Z",
     "shell.execute_reply": "2022-11-17T19:09:28.684178Z"
    },
    "papermill": {
     "duration": 0.018805,
     "end_time": "2022-11-17T19:09:28.687026",
     "exception": false,
     "start_time": "2022-11-17T19:09:28.668221",
     "status": "completed"
    },
    "tags": []
   },
   "outputs": [
    {
     "name": "stdout",
     "output_type": "stream",
     "text": [
      "3\n",
      "['Europa' 'Earth' 'Mars']\n"
     ]
    }
   ],
   "source": [
    "print(df.HomePlanet.nunique())\n",
    "print(df.HomePlanet.unique())"
   ]
  },
  {
   "cell_type": "code",
   "execution_count": 11,
   "id": "a4deb4ef",
   "metadata": {
    "execution": {
     "iopub.execute_input": "2022-11-17T19:09:28.707089Z",
     "iopub.status.busy": "2022-11-17T19:09:28.706746Z",
     "iopub.status.idle": "2022-11-17T19:09:28.714000Z",
     "shell.execute_reply": "2022-11-17T19:09:28.713182Z"
    },
    "papermill": {
     "duration": 0.019633,
     "end_time": "2022-11-17T19:09:28.715833",
     "exception": false,
     "start_time": "2022-11-17T19:09:28.696200",
     "status": "completed"
    },
    "tags": []
   },
   "outputs": [
    {
     "data": {
      "text/plain": [
       "Earth     3566\n",
       "Europa    1673\n",
       "Mars      1367\n",
       "Name: HomePlanet, dtype: int64"
      ]
     },
     "execution_count": 11,
     "metadata": {},
     "output_type": "execute_result"
    }
   ],
   "source": [
    "df.HomePlanet.value_counts()"
   ]
  },
  {
   "cell_type": "code",
   "execution_count": 12,
   "id": "e297d509",
   "metadata": {
    "execution": {
     "iopub.execute_input": "2022-11-17T19:09:28.737399Z",
     "iopub.status.busy": "2022-11-17T19:09:28.737034Z",
     "iopub.status.idle": "2022-11-17T19:09:28.744269Z",
     "shell.execute_reply": "2022-11-17T19:09:28.743337Z"
    },
    "papermill": {
     "duration": 0.019689,
     "end_time": "2022-11-17T19:09:28.745936",
     "exception": false,
     "start_time": "2022-11-17T19:09:28.726247",
     "status": "completed"
    },
    "tags": []
   },
   "outputs": [
    {
     "name": "stdout",
     "output_type": "stream",
     "text": [
      "Earth     53.981229\n",
      "Europa    25.325462\n",
      "Mars      20.693309\n",
      "Name: HomePlanet, dtype: float64\n"
     ]
    }
   ],
   "source": [
    "def val_percent(col):\n",
    "    print(df[col].value_counts()*100 / df.shape[0])\n",
    "\n",
    "val_percent('HomePlanet')"
   ]
  },
  {
   "cell_type": "code",
   "execution_count": 13,
   "id": "d4fa6fa3",
   "metadata": {
    "execution": {
     "iopub.execute_input": "2022-11-17T19:09:28.766995Z",
     "iopub.status.busy": "2022-11-17T19:09:28.766069Z",
     "iopub.status.idle": "2022-11-17T19:09:28.938307Z",
     "shell.execute_reply": "2022-11-17T19:09:28.937517Z"
    },
    "papermill": {
     "duration": 0.184793,
     "end_time": "2022-11-17T19:09:28.940294",
     "exception": false,
     "start_time": "2022-11-17T19:09:28.755501",
     "status": "completed"
    },
    "tags": []
   },
   "outputs": [
    {
     "data": {
      "text/plain": [
       "<AxesSubplot:xlabel='HomePlanet', ylabel='count'>"
      ]
     },
     "execution_count": 13,
     "metadata": {},
     "output_type": "execute_result"
    },
    {
     "data": {
      "image/png": "[encoded data removed]",
      "text/plain": [
       "<Figure size 432x288 with 1 Axes>"
      ]
     },
     "metadata": {
      "needs_background": "light"
     },
     "output_type": "display_data"
    }
   ],
   "source": [
    "sns.countplot(data=df, x='HomePlanet')"
   ]
  },
  {
   "cell_type": "code",
   "execution_count": 14,
   "id": "beea35e5",
   "metadata": {
    "execution": {
     "iopub.execute_input": "2022-11-17T19:09:28.962546Z",
     "iopub.status.busy": "2022-11-17T19:09:28.962147Z",
     "iopub.status.idle": "2022-11-17T19:09:29.169811Z",
     "shell.execute_reply": "2022-11-17T19:09:29.169161Z"
    },
    "papermill": {
     "duration": 0.220747,
     "end_time": "2022-11-17T19:09:29.171605",
     "exception": false,
     "start_time": "2022-11-17T19:09:28.950858",
     "status": "completed"
    },
    "tags": []
   },
   "outputs": [
    {
     "data": {
      "image/png": "[encoded data removed]",
      "text/plain": [
       "<Figure size 576x432 with 1 Axes>"
      ]
     },
     "metadata": {
      "needs_background": "light"
     },
     "output_type": "display_data"
    }
   ],
   "source": [
    "def annotate_bar(col):\n",
    "    plt.figure(figsize=(8, 6))\n",
    "    splot = sns.countplot(data=df, x=col, hue='Transported')\n",
    "    for p in splot.patches:\n",
    "        splot.annotate(format(round(p.get_height()), '.0f'),\n",
    "                      (p.get_x() + p.get_y() / 2., p.get_height()),\n",
    "                      ha='center', va='center', size=14, xytext=(0,-12),\n",
    "                      textcoords='offset points')\n",
    "        \n",
    "annotate_bar('HomePlanet')"
   ]
  },
  {
   "cell_type": "markdown",
   "id": "c0c14933",
   "metadata": {
    "papermill": {
     "duration": 0.009958,
     "end_time": "2022-11-17T19:09:29.191938",
     "exception": false,
     "start_time": "2022-11-17T19:09:29.181980",
     "status": "completed"
    },
    "tags": []
   },
   "source": [
    "Most passengers were from `Earth`, more than double than that of second most planet `Europa`."
   ]
  },
  {
   "cell_type": "code",
   "execution_count": 15,
   "id": "013e6b5d",
   "metadata": {
    "execution": {
     "iopub.execute_input": "2022-11-17T19:09:29.213800Z",
     "iopub.status.busy": "2022-11-17T19:09:29.212922Z",
     "iopub.status.idle": "2022-11-17T19:09:29.220191Z",
     "shell.execute_reply": "2022-11-17T19:09:29.219314Z"
    },
    "papermill": {
     "duration": 0.02018,
     "end_time": "2022-11-17T19:09:29.222055",
     "exception": false,
     "start_time": "2022-11-17T19:09:29.201875",
     "status": "completed"
    },
    "tags": []
   },
   "outputs": [
    {
     "data": {
      "text/plain": [
       "array([False, True], dtype=object)"
      ]
     },
     "execution_count": 15,
     "metadata": {},
     "output_type": "execute_result"
    }
   ],
   "source": [
    "df.CryoSleep.unique()"
   ]
  },
  {
   "cell_type": "code",
   "execution_count": 16,
   "id": "5355550f",
   "metadata": {
    "execution": {
     "iopub.execute_input": "2022-11-17T19:09:29.244271Z",
     "iopub.status.busy": "2022-11-17T19:09:29.243947Z",
     "iopub.status.idle": "2022-11-17T19:09:29.251663Z",
     "shell.execute_reply": "2022-11-17T19:09:29.250731Z"
    },
    "papermill": {
     "duration": 0.020977,
     "end_time": "2022-11-17T19:09:29.253440",
     "exception": false,
     "start_time": "2022-11-17T19:09:29.232463",
     "status": "completed"
    },
    "tags": []
   },
   "outputs": [
    {
     "data": {
      "text/plain": [
       "False    4274\n",
       "True     2332\n",
       "Name: CryoSleep, dtype: int64"
      ]
     },
     "execution_count": 16,
     "metadata": {},
     "output_type": "execute_result"
    }
   ],
   "source": [
    "df.CryoSleep.value_counts()"
   ]
  },
  {
   "cell_type": "code",
   "execution_count": 17,
   "id": "c5012023",
   "metadata": {
    "execution": {
     "iopub.execute_input": "2022-11-17T19:09:29.275458Z",
     "iopub.status.busy": "2022-11-17T19:09:29.274891Z",
     "iopub.status.idle": "2022-11-17T19:09:29.282416Z",
     "shell.execute_reply": "2022-11-17T19:09:29.280946Z"
    },
    "papermill": {
     "duration": 0.020954,
     "end_time": "2022-11-17T19:09:29.284616",
     "exception": false,
     "start_time": "2022-11-17T19:09:29.263662",
     "status": "completed"
    },
    "tags": []
   },
   "outputs": [
    {
     "name": "stdout",
     "output_type": "stream",
     "text": [
      "False    64.698759\n",
      "True     35.301241\n",
      "Name: CryoSleep, dtype: float64\n"
     ]
    }
   ],
   "source": [
    "val_percent('CryoSleep')"
   ]
  },
  {
   "cell_type": "code",
   "execution_count": 18,
   "id": "b3cebebc",
   "metadata": {
    "execution": {
     "iopub.execute_input": "2022-11-17T19:09:29.306767Z",
     "iopub.status.busy": "2022-11-17T19:09:29.306407Z",
     "iopub.status.idle": "2022-11-17T19:09:29.415481Z",
     "shell.execute_reply": "2022-11-17T19:09:29.414804Z"
    },
    "papermill": {
     "duration": 0.122207,
     "end_time": "2022-11-17T19:09:29.417237",
     "exception": false,
     "start_time": "2022-11-17T19:09:29.295030",
     "status": "completed"
    },
    "tags": []
   },
   "outputs": [
    {
     "data": {
      "text/plain": [
       "<AxesSubplot:xlabel='CryoSleep', ylabel='count'>"
      ]
     },
     "execution_count": 18,
     "metadata": {},
     "output_type": "execute_result"
    },
    {
     "data": {
      "image/png": "[encoded data removed]",
      "text/plain": [
       "<Figure size 432x288 with 1 Axes>"
      ]
     },
     "metadata": {
      "needs_background": "light"
     },
     "output_type": "display_data"
    }
   ],
   "source": [
    "sns.countplot(data=df, x='CryoSleep')"
   ]
  },
  {
   "cell_type": "code",
   "execution_count": 19,
   "id": "8578f910",
   "metadata": {
    "execution": {
     "iopub.execute_input": "2022-11-17T19:09:29.445935Z",
     "iopub.status.busy": "2022-11-17T19:09:29.445621Z",
     "iopub.status.idle": "2022-11-17T19:09:29.590911Z",
     "shell.execute_reply": "2022-11-17T19:09:29.590175Z"
    },
    "papermill": {
     "duration": 0.16195,
     "end_time": "2022-11-17T19:09:29.592712",
     "exception": false,
     "start_time": "2022-11-17T19:09:29.430762",
     "status": "completed"
    },
    "tags": []
   },
   "outputs": [
    {
     "data": {
      "image/png": "[encoded data removed]",
      "text/plain": [
       "<Figure size 576x432 with 1 Axes>"
      ]
     },
     "metadata": {
      "needs_background": "light"
     },
     "output_type": "display_data"
    }
   ],
   "source": [
    "annotate_bar('CryoSleep')"
   ]
  },
  {
   "cell_type": "markdown",
   "id": "bdcc5b2f",
   "metadata": {
    "papermill": {
     "duration": 0.010403,
     "end_time": "2022-11-17T19:09:29.616349",
     "exception": false,
     "start_time": "2022-11-17T19:09:29.605946",
     "status": "completed"
    },
    "tags": []
   },
   "source": [
    "If the passenger was in cryo sleep, he was more likely to be transported, than the passenger who was not in cryosleep"
   ]
  },
  {
   "cell_type": "code",
   "execution_count": 20,
   "id": "f3c758b6",
   "metadata": {
    "execution": {
     "iopub.execute_input": "2022-11-17T19:09:29.639467Z",
     "iopub.status.busy": "2022-11-17T19:09:29.638894Z",
     "iopub.status.idle": "2022-11-17T19:09:29.644802Z",
     "shell.execute_reply": "2022-11-17T19:09:29.644180Z"
    },
    "papermill": {
     "duration": 0.019382,
     "end_time": "2022-11-17T19:09:29.646339",
     "exception": false,
     "start_time": "2022-11-17T19:09:29.626957",
     "status": "completed"
    },
    "tags": []
   },
   "outputs": [
    {
     "data": {
      "text/plain": [
       "5305"
      ]
     },
     "execution_count": 20,
     "metadata": {},
     "output_type": "execute_result"
    }
   ],
   "source": [
    "# cabin\n",
    "df['Cabin'].nunique()"
   ]
  },
  {
   "cell_type": "code",
   "execution_count": 21,
   "id": "81022b86",
   "metadata": {
    "execution": {
     "iopub.execute_input": "2022-11-17T19:09:29.669311Z",
     "iopub.status.busy": "2022-11-17T19:09:29.668782Z",
     "iopub.status.idle": "2022-11-17T19:09:29.688456Z",
     "shell.execute_reply": "2022-11-17T19:09:29.687840Z"
    },
    "papermill": {
     "duration": 0.03291,
     "end_time": "2022-11-17T19:09:29.689926",
     "exception": false,
     "start_time": "2022-11-17T19:09:29.657016",
     "status": "completed"
    },
    "tags": []
   },
   "outputs": [
    {
     "data": {
      "text/html": [
       "<div>\n",
       "<style scoped>\n",
       "    .dataframe tbody tr th:only-of-type {\n",
       "        vertical-align: middle;\n",
       "    }\n",
       "\n",
       "    .dataframe tbody tr th {\n",
       "        vertical-align: top;\n",
       "    }\n",
       "\n",
       "    .dataframe thead th {\n",
       "        text-align: right;\n",
       "    }\n",
       "</style>\n",
       "<table border=\"1\" class=\"dataframe\">\n",
       "  <thead>\n",
       "    <tr style=\"text-align: right;\">\n",
       "      <th></th>\n",
       "      <th>PassengerId</th>\n",
       "      <th>HomePlanet</th>\n",
       "      <th>CryoSleep</th>\n",
       "      <th>Cabin</th>\n",
       "      <th>Destination</th>\n",
       "      <th>Age</th>\n",
       "      <th>VIP</th>\n",
       "      <th>RoomService</th>\n",
       "      <th>FoodCourt</th>\n",
       "      <th>ShoppingMall</th>\n",
       "      <th>Spa</th>\n",
       "      <th>VRDeck</th>\n",
       "      <th>Name</th>\n",
       "      <th>Transported</th>\n",
       "      <th>cabin_deck</th>\n",
       "    </tr>\n",
       "  </thead>\n",
       "  <tbody>\n",
       "    <tr>\n",
       "      <th>0</th>\n",
       "      <td>0001_01</td>\n",
       "      <td>Europa</td>\n",
       "      <td>False</td>\n",
       "      <td>B/0/P</td>\n",
       "      <td>TRAPPIST-1e</td>\n",
       "      <td>39.0</td>\n",
       "      <td>False</td>\n",
       "      <td>0.0</td>\n",
       "      <td>0.0</td>\n",
       "      <td>0.0</td>\n",
       "      <td>0.0</td>\n",
       "      <td>0.0</td>\n",
       "      <td>Maham Ofracculy</td>\n",
       "      <td>False</td>\n",
       "      <td>B</td>\n",
       "    </tr>\n",
       "    <tr>\n",
       "      <th>1</th>\n",
       "      <td>0002_01</td>\n",
       "      <td>Earth</td>\n",
       "      <td>False</td>\n",
       "      <td>F/0/S</td>\n",
       "      <td>TRAPPIST-1e</td>\n",
       "      <td>24.0</td>\n",
       "      <td>False</td>\n",
       "      <td>109.0</td>\n",
       "      <td>9.0</td>\n",
       "      <td>25.0</td>\n",
       "      <td>549.0</td>\n",
       "      <td>44.0</td>\n",
       "      <td>Juanna Vines</td>\n",
       "      <td>True</td>\n",
       "      <td>F</td>\n",
       "    </tr>\n",
       "    <tr>\n",
       "      <th>2</th>\n",
       "      <td>0003_01</td>\n",
       "      <td>Europa</td>\n",
       "      <td>False</td>\n",
       "      <td>A/0/S</td>\n",
       "      <td>TRAPPIST-1e</td>\n",
       "      <td>58.0</td>\n",
       "      <td>True</td>\n",
       "      <td>43.0</td>\n",
       "      <td>3576.0</td>\n",
       "      <td>0.0</td>\n",
       "      <td>6715.0</td>\n",
       "      <td>49.0</td>\n",
       "      <td>Altark Susent</td>\n",
       "      <td>False</td>\n",
       "      <td>A</td>\n",
       "    </tr>\n",
       "    <tr>\n",
       "      <th>3</th>\n",
       "      <td>0003_02</td>\n",
       "      <td>Europa</td>\n",
       "      <td>False</td>\n",
       "      <td>A/0/S</td>\n",
       "      <td>TRAPPIST-1e</td>\n",
       "      <td>33.0</td>\n",
       "      <td>False</td>\n",
       "      <td>0.0</td>\n",
       "      <td>1283.0</td>\n",
       "      <td>371.0</td>\n",
       "      <td>3329.0</td>\n",
       "      <td>193.0</td>\n",
       "      <td>Solam Susent</td>\n",
       "      <td>False</td>\n",
       "      <td>A</td>\n",
       "    </tr>\n",
       "    <tr>\n",
       "      <th>4</th>\n",
       "      <td>0004_01</td>\n",
       "      <td>Earth</td>\n",
       "      <td>False</td>\n",
       "      <td>F/1/S</td>\n",
       "      <td>TRAPPIST-1e</td>\n",
       "      <td>16.0</td>\n",
       "      <td>False</td>\n",
       "      <td>303.0</td>\n",
       "      <td>70.0</td>\n",
       "      <td>151.0</td>\n",
       "      <td>565.0</td>\n",
       "      <td>2.0</td>\n",
       "      <td>Willy Santantines</td>\n",
       "      <td>True</td>\n",
       "      <td>F</td>\n",
       "    </tr>\n",
       "  </tbody>\n",
       "</table>\n",
       "</div>"
      ],
      "text/plain": [
       "  PassengerId HomePlanet CryoSleep  Cabin  Destination   Age    VIP  \\\n",
       "0     0001_01     Europa     False  B/0/P  TRAPPIST-1e  39.0  False   \n",
       "1     0002_01      Earth     False  F/0/S  TRAPPIST-1e  24.0  False   \n",
       "2     0003_01     Europa     False  A/0/S  TRAPPIST-1e  58.0   True   \n",
       "3     0003_02     Europa     False  A/0/S  TRAPPIST-1e  33.0  False   \n",
       "4     0004_01      Earth     False  F/1/S  TRAPPIST-1e  16.0  False   \n",
       "\n",
       "   RoomService  FoodCourt  ShoppingMall     Spa  VRDeck               Name  \\\n",
       "0          0.0        0.0           0.0     0.0     0.0    Maham Ofracculy   \n",
       "1        109.0        9.0          25.0   549.0    44.0       Juanna Vines   \n",
       "2         43.0     3576.0           0.0  6715.0    49.0      Altark Susent   \n",
       "3          0.0     1283.0         371.0  3329.0   193.0       Solam Susent   \n",
       "4        303.0       70.0         151.0   565.0     2.0  Willy Santantines   \n",
       "\n",
       "   Transported cabin_deck  \n",
       "0        False          B  \n",
       "1         True          F  \n",
       "2        False          A  \n",
       "3        False          A  \n",
       "4         True          F  "
      ]
     },
     "execution_count": 21,
     "metadata": {},
     "output_type": "execute_result"
    }
   ],
   "source": [
    "df['cabin_deck'] = df['Cabin'].apply(lambda x: x.split('/')[0])\n",
    "df.head()"
   ]
  },
  {
   "cell_type": "code",
   "execution_count": 22,
   "id": "519781cb",
   "metadata": {
    "execution": {
     "iopub.execute_input": "2022-11-17T19:09:29.713185Z",
     "iopub.status.busy": "2022-11-17T19:09:29.712651Z",
     "iopub.status.idle": "2022-11-17T19:09:29.733575Z",
     "shell.execute_reply": "2022-11-17T19:09:29.732553Z"
    },
    "papermill": {
     "duration": 0.034786,
     "end_time": "2022-11-17T19:09:29.735471",
     "exception": false,
     "start_time": "2022-11-17T19:09:29.700685",
     "status": "completed"
    },
    "tags": []
   },
   "outputs": [
    {
     "data": {
      "text/html": [
       "<div>\n",
       "<style scoped>\n",
       "    .dataframe tbody tr th:only-of-type {\n",
       "        vertical-align: middle;\n",
       "    }\n",
       "\n",
       "    .dataframe tbody tr th {\n",
       "        vertical-align: top;\n",
       "    }\n",
       "\n",
       "    .dataframe thead th {\n",
       "        text-align: right;\n",
       "    }\n",
       "</style>\n",
       "<table border=\"1\" class=\"dataframe\">\n",
       "  <thead>\n",
       "    <tr style=\"text-align: right;\">\n",
       "      <th></th>\n",
       "      <th>PassengerId</th>\n",
       "      <th>HomePlanet</th>\n",
       "      <th>CryoSleep</th>\n",
       "      <th>Cabin</th>\n",
       "      <th>Destination</th>\n",
       "      <th>Age</th>\n",
       "      <th>VIP</th>\n",
       "      <th>RoomService</th>\n",
       "      <th>FoodCourt</th>\n",
       "      <th>ShoppingMall</th>\n",
       "      <th>Spa</th>\n",
       "      <th>VRDeck</th>\n",
       "      <th>Name</th>\n",
       "      <th>Transported</th>\n",
       "      <th>cabin_deck</th>\n",
       "      <th>cabin_num</th>\n",
       "    </tr>\n",
       "  </thead>\n",
       "  <tbody>\n",
       "    <tr>\n",
       "      <th>0</th>\n",
       "      <td>0001_01</td>\n",
       "      <td>Europa</td>\n",
       "      <td>False</td>\n",
       "      <td>B/0/P</td>\n",
       "      <td>TRAPPIST-1e</td>\n",
       "      <td>39.0</td>\n",
       "      <td>False</td>\n",
       "      <td>0.0</td>\n",
       "      <td>0.0</td>\n",
       "      <td>0.0</td>\n",
       "      <td>0.0</td>\n",
       "      <td>0.0</td>\n",
       "      <td>Maham Ofracculy</td>\n",
       "      <td>False</td>\n",
       "      <td>B</td>\n",
       "      <td>0</td>\n",
       "    </tr>\n",
       "    <tr>\n",
       "      <th>1</th>\n",
       "      <td>0002_01</td>\n",
       "      <td>Earth</td>\n",
       "      <td>False</td>\n",
       "      <td>F/0/S</td>\n",
       "      <td>TRAPPIST-1e</td>\n",
       "      <td>24.0</td>\n",
       "      <td>False</td>\n",
       "      <td>109.0</td>\n",
       "      <td>9.0</td>\n",
       "      <td>25.0</td>\n",
       "      <td>549.0</td>\n",
       "      <td>44.0</td>\n",
       "      <td>Juanna Vines</td>\n",
       "      <td>True</td>\n",
       "      <td>F</td>\n",
       "      <td>0</td>\n",
       "    </tr>\n",
       "    <tr>\n",
       "      <th>2</th>\n",
       "      <td>0003_01</td>\n",
       "      <td>Europa</td>\n",
       "      <td>False</td>\n",
       "      <td>A/0/S</td>\n",
       "      <td>TRAPPIST-1e</td>\n",
       "      <td>58.0</td>\n",
       "      <td>True</td>\n",
       "      <td>43.0</td>\n",
       "      <td>3576.0</td>\n",
       "      <td>0.0</td>\n",
       "      <td>6715.0</td>\n",
       "      <td>49.0</td>\n",
       "      <td>Altark Susent</td>\n",
       "      <td>False</td>\n",
       "      <td>A</td>\n",
       "      <td>0</td>\n",
       "    </tr>\n",
       "    <tr>\n",
       "      <th>3</th>\n",
       "      <td>0003_02</td>\n",
       "      <td>Europa</td>\n",
       "      <td>False</td>\n",
       "      <td>A/0/S</td>\n",
       "      <td>TRAPPIST-1e</td>\n",
       "      <td>33.0</td>\n",
       "      <td>False</td>\n",
       "      <td>0.0</td>\n",
       "      <td>1283.0</td>\n",
       "      <td>371.0</td>\n",
       "      <td>3329.0</td>\n",
       "      <td>193.0</td>\n",
       "      <td>Solam Susent</td>\n",
       "      <td>False</td>\n",
       "      <td>A</td>\n",
       "      <td>0</td>\n",
       "    </tr>\n",
       "    <tr>\n",
       "      <th>4</th>\n",
       "      <td>0004_01</td>\n",
       "      <td>Earth</td>\n",
       "      <td>False</td>\n",
       "      <td>F/1/S</td>\n",
       "      <td>TRAPPIST-1e</td>\n",
       "      <td>16.0</td>\n",
       "      <td>False</td>\n",
       "      <td>303.0</td>\n",
       "      <td>70.0</td>\n",
       "      <td>151.0</td>\n",
       "      <td>565.0</td>\n",
       "      <td>2.0</td>\n",
       "      <td>Willy Santantines</td>\n",
       "      <td>True</td>\n",
       "      <td>F</td>\n",
       "      <td>1</td>\n",
       "    </tr>\n",
       "  </tbody>\n",
       "</table>\n",
       "</div>"
      ],
      "text/plain": [
       "  PassengerId HomePlanet CryoSleep  Cabin  Destination   Age    VIP  \\\n",
       "0     0001_01     Europa     False  B/0/P  TRAPPIST-1e  39.0  False   \n",
       "1     0002_01      Earth     False  F/0/S  TRAPPIST-1e  24.0  False   \n",
       "2     0003_01     Europa     False  A/0/S  TRAPPIST-1e  58.0   True   \n",
       "3     0003_02     Europa     False  A/0/S  TRAPPIST-1e  33.0  False   \n",
       "4     0004_01      Earth     False  F/1/S  TRAPPIST-1e  16.0  False   \n",
       "\n",
       "   RoomService  FoodCourt  ShoppingMall     Spa  VRDeck               Name  \\\n",
       "0          0.0        0.0           0.0     0.0     0.0    Maham Ofracculy   \n",
       "1        109.0        9.0          25.0   549.0    44.0       Juanna Vines   \n",
       "2         43.0     3576.0           0.0  6715.0    49.0      Altark Susent   \n",
       "3          0.0     1283.0         371.0  3329.0   193.0       Solam Susent   \n",
       "4        303.0       70.0         151.0   565.0     2.0  Willy Santantines   \n",
       "\n",
       "   Transported cabin_deck cabin_num  \n",
       "0        False          B         0  \n",
       "1         True          F         0  \n",
       "2        False          A         0  \n",
       "3        False          A         0  \n",
       "4         True          F         1  "
      ]
     },
     "execution_count": 22,
     "metadata": {},
     "output_type": "execute_result"
    }
   ],
   "source": [
    "df['cabin_num'] = df['Cabin'].apply(lambda x: x.split('/')[1])\n",
    "df.head()"
   ]
  },
  {
   "cell_type": "code",
   "execution_count": 23,
   "id": "593061dc",
   "metadata": {
    "execution": {
     "iopub.execute_input": "2022-11-17T19:09:29.759394Z",
     "iopub.status.busy": "2022-11-17T19:09:29.758566Z",
     "iopub.status.idle": "2022-11-17T19:09:29.779645Z",
     "shell.execute_reply": "2022-11-17T19:09:29.778834Z"
    },
    "papermill": {
     "duration": 0.034896,
     "end_time": "2022-11-17T19:09:29.781418",
     "exception": false,
     "start_time": "2022-11-17T19:09:29.746522",
     "status": "completed"
    },
    "tags": []
   },
   "outputs": [
    {
     "data": {
      "text/html": [
       "<div>\n",
       "<style scoped>\n",
       "    .dataframe tbody tr th:only-of-type {\n",
       "        vertical-align: middle;\n",
       "    }\n",
       "\n",
       "    .dataframe tbody tr th {\n",
       "        vertical-align: top;\n",
       "    }\n",
       "\n",
       "    .dataframe thead th {\n",
       "        text-align: right;\n",
       "    }\n",
       "</style>\n",
       "<table border=\"1\" class=\"dataframe\">\n",
       "  <thead>\n",
       "    <tr style=\"text-align: right;\">\n",
       "      <th></th>\n",
       "      <th>PassengerId</th>\n",
       "      <th>HomePlanet</th>\n",
       "      <th>CryoSleep</th>\n",
       "      <th>Cabin</th>\n",
       "      <th>Destination</th>\n",
       "      <th>Age</th>\n",
       "      <th>VIP</th>\n",
       "      <th>RoomService</th>\n",
       "      <th>FoodCourt</th>\n",
       "      <th>ShoppingMall</th>\n",
       "      <th>Spa</th>\n",
       "      <th>VRDeck</th>\n",
       "      <th>Name</th>\n",
       "      <th>Transported</th>\n",
       "      <th>cabin_deck</th>\n",
       "      <th>cabin_num</th>\n",
       "      <th>cabin_side</th>\n",
       "    </tr>\n",
       "  </thead>\n",
       "  <tbody>\n",
       "    <tr>\n",
       "      <th>0</th>\n",
       "      <td>0001_01</td>\n",
       "      <td>Europa</td>\n",
       "      <td>False</td>\n",
       "      <td>B/0/P</td>\n",
       "      <td>TRAPPIST-1e</td>\n",
       "      <td>39.0</td>\n",
       "      <td>False</td>\n",
       "      <td>0.0</td>\n",
       "      <td>0.0</td>\n",
       "      <td>0.0</td>\n",
       "      <td>0.0</td>\n",
       "      <td>0.0</td>\n",
       "      <td>Maham Ofracculy</td>\n",
       "      <td>False</td>\n",
       "      <td>B</td>\n",
       "      <td>0</td>\n",
       "      <td>P</td>\n",
       "    </tr>\n",
       "    <tr>\n",
       "      <th>1</th>\n",
       "      <td>0002_01</td>\n",
       "      <td>Earth</td>\n",
       "      <td>False</td>\n",
       "      <td>F/0/S</td>\n",
       "      <td>TRAPPIST-1e</td>\n",
       "      <td>24.0</td>\n",
       "      <td>False</td>\n",
       "      <td>109.0</td>\n",
       "      <td>9.0</td>\n",
       "      <td>25.0</td>\n",
       "      <td>549.0</td>\n",
       "      <td>44.0</td>\n",
       "      <td>Juanna Vines</td>\n",
       "      <td>True</td>\n",
       "      <td>F</td>\n",
       "      <td>0</td>\n",
       "      <td>S</td>\n",
       "    </tr>\n",
       "    <tr>\n",
       "      <th>2</th>\n",
       "      <td>0003_01</td>\n",
       "      <td>Europa</td>\n",
       "      <td>False</td>\n",
       "      <td>A/0/S</td>\n",
       "      <td>TRAPPIST-1e</td>\n",
       "      <td>58.0</td>\n",
       "      <td>True</td>\n",
       "      <td>43.0</td>\n",
       "      <td>3576.0</td>\n",
       "      <td>0.0</td>\n",
       "      <td>6715.0</td>\n",
       "      <td>49.0</td>\n",
       "      <td>Altark Susent</td>\n",
       "      <td>False</td>\n",
       "      <td>A</td>\n",
       "      <td>0</td>\n",
       "      <td>S</td>\n",
       "    </tr>\n",
       "    <tr>\n",
       "      <th>3</th>\n",
       "      <td>0003_02</td>\n",
       "      <td>Europa</td>\n",
       "      <td>False</td>\n",
       "      <td>A/0/S</td>\n",
       "      <td>TRAPPIST-1e</td>\n",
       "      <td>33.0</td>\n",
       "      <td>False</td>\n",
       "      <td>0.0</td>\n",
       "      <td>1283.0</td>\n",
       "      <td>371.0</td>\n",
       "      <td>3329.0</td>\n",
       "      <td>193.0</td>\n",
       "      <td>Solam Susent</td>\n",
       "      <td>False</td>\n",
       "      <td>A</td>\n",
       "      <td>0</td>\n",
       "      <td>S</td>\n",
       "    </tr>\n",
       "    <tr>\n",
       "      <th>4</th>\n",
       "      <td>0004_01</td>\n",
       "      <td>Earth</td>\n",
       "      <td>False</td>\n",
       "      <td>F/1/S</td>\n",
       "      <td>TRAPPIST-1e</td>\n",
       "      <td>16.0</td>\n",
       "      <td>False</td>\n",
       "      <td>303.0</td>\n",
       "      <td>70.0</td>\n",
       "      <td>151.0</td>\n",
       "      <td>565.0</td>\n",
       "      <td>2.0</td>\n",
       "      <td>Willy Santantines</td>\n",
       "      <td>True</td>\n",
       "      <td>F</td>\n",
       "      <td>1</td>\n",
       "      <td>S</td>\n",
       "    </tr>\n",
       "  </tbody>\n",
       "</table>\n",
       "</div>"
      ],
      "text/plain": [
       "  PassengerId HomePlanet CryoSleep  Cabin  Destination   Age    VIP  \\\n",
       "0     0001_01     Europa     False  B/0/P  TRAPPIST-1e  39.0  False   \n",
       "1     0002_01      Earth     False  F/0/S  TRAPPIST-1e  24.0  False   \n",
       "2     0003_01     Europa     False  A/0/S  TRAPPIST-1e  58.0   True   \n",
       "3     0003_02     Europa     False  A/0/S  TRAPPIST-1e  33.0  False   \n",
       "4     0004_01      Earth     False  F/1/S  TRAPPIST-1e  16.0  False   \n",
       "\n",
       "   RoomService  FoodCourt  ShoppingMall     Spa  VRDeck               Name  \\\n",
       "0          0.0        0.0           0.0     0.0     0.0    Maham Ofracculy   \n",
       "1        109.0        9.0          25.0   549.0    44.0       Juanna Vines   \n",
       "2         43.0     3576.0           0.0  6715.0    49.0      Altark Susent   \n",
       "3          0.0     1283.0         371.0  3329.0   193.0       Solam Susent   \n",
       "4        303.0       70.0         151.0   565.0     2.0  Willy Santantines   \n",
       "\n",
       "   Transported cabin_deck cabin_num cabin_side  \n",
       "0        False          B         0          P  \n",
       "1         True          F         0          S  \n",
       "2        False          A         0          S  \n",
       "3        False          A         0          S  \n",
       "4         True          F         1          S  "
      ]
     },
     "execution_count": 23,
     "metadata": {},
     "output_type": "execute_result"
    }
   ],
   "source": [
    "df['cabin_side'] = df['Cabin'].apply(lambda x: x.split('/')[2])\n",
    "df.head()"
   ]
  },
  {
   "cell_type": "code",
   "execution_count": 24,
   "id": "def168cf",
   "metadata": {
    "execution": {
     "iopub.execute_input": "2022-11-17T19:09:29.805875Z",
     "iopub.status.busy": "2022-11-17T19:09:29.805038Z",
     "iopub.status.idle": "2022-11-17T19:09:29.811188Z",
     "shell.execute_reply": "2022-11-17T19:09:29.810570Z"
    },
    "papermill": {
     "duration": 0.019969,
     "end_time": "2022-11-17T19:09:29.812911",
     "exception": false,
     "start_time": "2022-11-17T19:09:29.792942",
     "status": "completed"
    },
    "tags": []
   },
   "outputs": [
    {
     "data": {
      "text/plain": [
       "3"
      ]
     },
     "execution_count": 24,
     "metadata": {},
     "output_type": "execute_result"
    }
   ],
   "source": [
    "df['Destination'].nunique()"
   ]
  },
  {
   "cell_type": "code",
   "execution_count": 25,
   "id": "c8f03251",
   "metadata": {
    "execution": {
     "iopub.execute_input": "2022-11-17T19:09:29.837657Z",
     "iopub.status.busy": "2022-11-17T19:09:29.837119Z",
     "iopub.status.idle": "2022-11-17T19:09:29.843135Z",
     "shell.execute_reply": "2022-11-17T19:09:29.842471Z"
    },
    "papermill": {
     "duration": 0.020338,
     "end_time": "2022-11-17T19:09:29.844815",
     "exception": false,
     "start_time": "2022-11-17T19:09:29.824477",
     "status": "completed"
    },
    "tags": []
   },
   "outputs": [
    {
     "data": {
      "text/plain": [
       "array(['TRAPPIST-1e', 'PSO J318.5-22', '55 Cancri e'], dtype=object)"
      ]
     },
     "execution_count": 25,
     "metadata": {},
     "output_type": "execute_result"
    }
   ],
   "source": [
    "df['Destination'].unique()"
   ]
  },
  {
   "cell_type": "code",
   "execution_count": 26,
   "id": "72f94c40",
   "metadata": {
    "execution": {
     "iopub.execute_input": "2022-11-17T19:09:29.871245Z",
     "iopub.status.busy": "2022-11-17T19:09:29.870601Z",
     "iopub.status.idle": "2022-11-17T19:09:29.988500Z",
     "shell.execute_reply": "2022-11-17T19:09:29.987773Z"
    },
    "papermill": {
     "duration": 0.134016,
     "end_time": "2022-11-17T19:09:29.990492",
     "exception": false,
     "start_time": "2022-11-17T19:09:29.856476",
     "status": "completed"
    },
    "tags": []
   },
   "outputs": [
    {
     "data": {
      "text/plain": [
       "<AxesSubplot:xlabel='Destination', ylabel='count'>"
      ]
     },
     "execution_count": 26,
     "metadata": {},
     "output_type": "execute_result"
    },
    {
     "data": {
      "image/png": "[encoded data removed]",
      "text/plain": [
       "<Figure size 432x288 with 1 Axes>"
      ]
     },
     "metadata": {
      "needs_background": "light"
     },
     "output_type": "display_data"
    }
   ],
   "source": [
    "sns.countplot(data=df, x='Destination')"
   ]
  },
  {
   "cell_type": "markdown",
   "id": "a8f2388f",
   "metadata": {
    "papermill": {
     "duration": 0.015308,
     "end_time": "2022-11-17T19:09:30.021654",
     "exception": false,
     "start_time": "2022-11-17T19:09:30.006346",
     "status": "completed"
    },
    "tags": []
   },
   "source": [
    "Most passengers were en route to `TRAPPIST-le`"
   ]
  },
  {
   "cell_type": "code",
   "execution_count": 27,
   "id": "64006495",
   "metadata": {
    "execution": {
     "iopub.execute_input": "2022-11-17T19:09:30.051799Z",
     "iopub.status.busy": "2022-11-17T19:09:30.051223Z",
     "iopub.status.idle": "2022-11-17T19:09:30.244495Z",
     "shell.execute_reply": "2022-11-17T19:09:30.243250Z"
    },
    "papermill": {
     "duration": 0.212429,
     "end_time": "2022-11-17T19:09:30.247427",
     "exception": false,
     "start_time": "2022-11-17T19:09:30.034998",
     "status": "completed"
    },
    "tags": []
   },
   "outputs": [
    {
     "data": {
      "image/png": "[encoded data removed]",
      "text/plain": [
       "<Figure size 576x432 with 1 Axes>"
      ]
     },
     "metadata": {
      "needs_background": "light"
     },
     "output_type": "display_data"
    }
   ],
   "source": [
    "annotate_bar('Destination')"
   ]
  },
  {
   "cell_type": "markdown",
   "id": "66855dad",
   "metadata": {
    "papermill": {
     "duration": 0.014266,
     "end_time": "2022-11-17T19:09:30.275926",
     "exception": false,
     "start_time": "2022-11-17T19:09:30.261660",
     "status": "completed"
    },
    "tags": []
   },
   "source": [
    "Not much of effect on Trasportation status."
   ]
  },
  {
   "cell_type": "code",
   "execution_count": 28,
   "id": "c655f2b8",
   "metadata": {
    "execution": {
     "iopub.execute_input": "2022-11-17T19:09:30.302648Z",
     "iopub.status.busy": "2022-11-17T19:09:30.301432Z",
     "iopub.status.idle": "2022-11-17T19:09:30.509092Z",
     "shell.execute_reply": "2022-11-17T19:09:30.508072Z"
    },
    "papermill": {
     "duration": 0.223407,
     "end_time": "2022-11-17T19:09:30.511460",
     "exception": false,
     "start_time": "2022-11-17T19:09:30.288053",
     "status": "completed"
    },
    "tags": []
   },
   "outputs": [
    {
     "data": {
      "text/plain": [
       "<AxesSubplot:xlabel='Age', ylabel='Density'>"
      ]
     },
     "execution_count": 28,
     "metadata": {},
     "output_type": "execute_result"
    },
    {
     "data": {
      "image/png": "[encoded data removed]",
      "text/plain": [
       "<Figure size 432x288 with 1 Axes>"
      ]
     },
     "metadata": {
      "needs_background": "light"
     },
     "output_type": "display_data"
    }
   ],
   "source": [
    "sns.kdeplot(data=df, x=\"Age\", hue='Transported')"
   ]
  },
  {
   "cell_type": "markdown",
   "id": "fab97367",
   "metadata": {
    "papermill": {
     "duration": 0.01244,
     "end_time": "2022-11-17T19:09:30.537010",
     "exception": false,
     "start_time": "2022-11-17T19:09:30.524570",
     "status": "completed"
    },
    "tags": []
   },
   "source": [
    "Most passengers were around 25 years of age. Not much effect on Trasportation status."
   ]
  },
  {
   "cell_type": "code",
   "execution_count": 29,
   "id": "e6a0fa84",
   "metadata": {
    "execution": {
     "iopub.execute_input": "2022-11-17T19:09:30.564400Z",
     "iopub.status.busy": "2022-11-17T19:09:30.563386Z",
     "iopub.status.idle": "2022-11-17T19:09:30.675596Z",
     "shell.execute_reply": "2022-11-17T19:09:30.674821Z"
    },
    "papermill": {
     "duration": 0.127986,
     "end_time": "2022-11-17T19:09:30.677694",
     "exception": false,
     "start_time": "2022-11-17T19:09:30.549708",
     "status": "completed"
    },
    "tags": []
   },
   "outputs": [
    {
     "data": {
      "text/plain": [
       "<AxesSubplot:xlabel='VIP', ylabel='count'>"
      ]
     },
     "execution_count": 29,
     "metadata": {},
     "output_type": "execute_result"
    },
    {
     "data": {
      "image/png": "[encoded data removed]",
      "text/plain": [
       "<Figure size 432x288 with 1 Axes>"
      ]
     },
     "metadata": {
      "needs_background": "light"
     },
     "output_type": "display_data"
    }
   ],
   "source": [
    "# VIP\n",
    "sns.countplot(data=df, x='VIP')"
   ]
  },
  {
   "cell_type": "code",
   "execution_count": 30,
   "id": "a7a29568",
   "metadata": {
    "execution": {
     "iopub.execute_input": "2022-11-17T19:09:30.713350Z",
     "iopub.status.busy": "2022-11-17T19:09:30.712954Z",
     "iopub.status.idle": "2022-11-17T19:09:30.880011Z",
     "shell.execute_reply": "2022-11-17T19:09:30.879406Z"
    },
    "papermill": {
     "duration": 0.186958,
     "end_time": "2022-11-17T19:09:30.881747",
     "exception": false,
     "start_time": "2022-11-17T19:09:30.694789",
     "status": "completed"
    },
    "tags": []
   },
   "outputs": [
    {
     "data": {
      "image/png": "[encoded data removed]",
      "text/plain": [
       "<Figure size 576x432 with 1 Axes>"
      ]
     },
     "metadata": {
      "needs_background": "light"
     },
     "output_type": "display_data"
    }
   ],
   "source": [
    "annotate_bar('VIP')"
   ]
  },
  {
   "cell_type": "markdown",
   "id": "a6506632",
   "metadata": {
    "papermill": {
     "duration": 0.015609,
     "end_time": "2022-11-17T19:09:30.910453",
     "exception": false,
     "start_time": "2022-11-17T19:09:30.894844",
     "status": "completed"
    },
    "tags": []
   },
   "source": [
    "Not much of effect on Trasportation status."
   ]
  },
  {
   "cell_type": "code",
   "execution_count": 31,
   "id": "5b2819f1",
   "metadata": {
    "execution": {
     "iopub.execute_input": "2022-11-17T19:09:30.939477Z",
     "iopub.status.busy": "2022-11-17T19:09:30.938913Z",
     "iopub.status.idle": "2022-11-17T19:09:31.312025Z",
     "shell.execute_reply": "2022-11-17T19:09:31.311353Z"
    },
    "papermill": {
     "duration": 0.390087,
     "end_time": "2022-11-17T19:09:31.314153",
     "exception": false,
     "start_time": "2022-11-17T19:09:30.924066",
     "status": "completed"
    },
    "tags": []
   },
   "outputs": [
    {
     "data": {
      "text/plain": [
       "<AxesSubplot:ylabel='Density'>"
      ]
     },
     "execution_count": 31,
     "metadata": {},
     "output_type": "execute_result"
    },
    {
     "data": {
      "image/png": "[encoded data removed]",
      "text/plain": [
       "<Figure size 432x288 with 1 Axes>"
      ]
     },
     "metadata": {
      "needs_background": "light"
     },
     "output_type": "display_data"
    }
   ],
   "source": [
    "sns.kdeplot(data=df[['RoomService', 'FoodCourt', 'ShoppingMall', 'Spa', 'VRDeck']])"
   ]
  },
  {
   "cell_type": "code",
   "execution_count": 32,
   "id": "77d9c6f6",
   "metadata": {
    "execution": {
     "iopub.execute_input": "2022-11-17T19:09:31.343283Z",
     "iopub.status.busy": "2022-11-17T19:09:31.342806Z",
     "iopub.status.idle": "2022-11-17T19:09:31.514221Z",
     "shell.execute_reply": "2022-11-17T19:09:31.513587Z"
    },
    "papermill": {
     "duration": 0.188215,
     "end_time": "2022-11-17T19:09:31.515963",
     "exception": false,
     "start_time": "2022-11-17T19:09:31.327748",
     "status": "completed"
    },
    "tags": []
   },
   "outputs": [
    {
     "data": {
      "text/plain": [
       "<AxesSubplot:xlabel='RoomService', ylabel='Density'>"
      ]
     },
     "execution_count": 32,
     "metadata": {},
     "output_type": "execute_result"
    },
    {
     "data": {
      "image/png": "[encoded data removed]",
      "text/plain": [
       "<Figure size 432x288 with 1 Axes>"
      ]
     },
     "metadata": {
      "needs_background": "light"
     },
     "output_type": "display_data"
    }
   ],
   "source": [
    "sns.kdeplot(data=df, x='RoomService')"
   ]
  },
  {
   "cell_type": "code",
   "execution_count": 33,
   "id": "841e2b1a",
   "metadata": {
    "execution": {
     "iopub.execute_input": "2022-11-17T19:09:31.546842Z",
     "iopub.status.busy": "2022-11-17T19:09:31.546477Z",
     "iopub.status.idle": "2022-11-17T19:09:31.558741Z",
     "shell.execute_reply": "2022-11-17T19:09:31.557807Z"
    },
    "papermill": {
     "duration": 0.029754,
     "end_time": "2022-11-17T19:09:31.560620",
     "exception": false,
     "start_time": "2022-11-17T19:09:31.530866",
     "status": "completed"
    },
    "tags": []
   },
   "outputs": [
    {
     "data": {
      "text/plain": [
       "count    6606.000000\n",
       "mean      222.991674\n",
       "std       644.987936\n",
       "min         0.000000\n",
       "25%         0.000000\n",
       "50%         0.000000\n",
       "75%        49.000000\n",
       "max      9920.000000\n",
       "Name: RoomService, dtype: float64"
      ]
     },
     "execution_count": 33,
     "metadata": {},
     "output_type": "execute_result"
    }
   ],
   "source": [
    "df['RoomService'].describe()"
   ]
  },
  {
   "cell_type": "code",
   "execution_count": 34,
   "id": "4d310669",
   "metadata": {
    "execution": {
     "iopub.execute_input": "2022-11-17T19:09:31.590632Z",
     "iopub.status.busy": "2022-11-17T19:09:31.590222Z",
     "iopub.status.idle": "2022-11-17T19:09:31.705783Z",
     "shell.execute_reply": "2022-11-17T19:09:31.704891Z"
    },
    "papermill": {
     "duration": 0.132938,
     "end_time": "2022-11-17T19:09:31.707605",
     "exception": false,
     "start_time": "2022-11-17T19:09:31.574667",
     "status": "completed"
    },
    "tags": []
   },
   "outputs": [
    {
     "data": {
      "text/plain": [
       "<AxesSubplot:xlabel='RoomService'>"
      ]
     },
     "execution_count": 34,
     "metadata": {},
     "output_type": "execute_result"
    },
    {
     "data": {
      "image/png": "[encoded data removed]",
      "text/plain": [
       "<Figure size 432x288 with 1 Axes>"
      ]
     },
     "metadata": {
      "needs_background": "light"
     },
     "output_type": "display_data"
    }
   ],
   "source": [
    "sns.boxplot(x=df['RoomService'])"
   ]
  },
  {
   "cell_type": "markdown",
   "id": "4bc3b783",
   "metadata": {
    "papermill": {
     "duration": 0.015957,
     "end_time": "2022-11-17T19:09:31.742031",
     "exception": false,
     "start_time": "2022-11-17T19:09:31.726074",
     "status": "completed"
    },
    "tags": []
   },
   "source": [
    "Too much skqewness in all these variables"
   ]
  },
  {
   "cell_type": "code",
   "execution_count": null,
   "id": "63ad86c8",
   "metadata": {
    "papermill": {
     "duration": 0.013761,
     "end_time": "2022-11-17T19:09:31.769705",
     "exception": false,
     "start_time": "2022-11-17T19:09:31.755944",
     "status": "completed"
    },
    "tags": []
   },
   "outputs": [],
   "source": []
  }
 ],
 "metadata": {
  "kernelspec": {
   "display_name": "Python 3",
   "language": "python",
   "name": "python3"
  },
  "language_info": {
   "codemirror_mode": {
    "name": "ipython",
    "version": 3
   },
   "file_extension": ".py",
   "mimetype": "text/x-python",
   "name": "python",
   "nbconvert_exporter": "python",
   "pygments_lexer": "ipython3",
   "version": "3.7.12"
  },
  "papermill": {
   "default_parameters": {},
   "duration": 11.973844,
   "end_time": "2022-11-17T19:09:32.502971",
   "environment_variables": {},
   "exception": null,
   "input_path": "__notebook__.ipynb",
   "output_path": "__notebook__.ipynb",
   "parameters": {},
   "start_time": "2022-11-17T19:09:20.529127",
   "version": "2.3.4"
  }
 },
 "nbformat": 4,
 "nbformat_minor": 5
}
