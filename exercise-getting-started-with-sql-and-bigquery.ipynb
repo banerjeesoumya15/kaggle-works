{
 "cells": [
  {
   "cell_type": "markdown",
   "id": "cc876ffd",
   "metadata": {
    "papermill": {
     "duration": 0.00662,
     "end_time": "2022-11-08T18:13:21.799806",
     "exception": false,
     "start_time": "2022-11-08T18:13:21.793186",
     "status": "completed"
    },
    "tags": []
   },
   "source": [
    "**This notebook is an exercise in the [SQL](https://www.kaggle.com/learn/intro-to-sql) course.  You can reference the tutorial at [this link](https://www.kaggle.com/dansbecker/getting-started-with-sql-and-bigquery).**\n",
    "\n",
    "---\n"
   ]
  },
  {
   "cell_type": "markdown",
   "id": "602f49ac",
   "metadata": {
    "papermill": {
     "duration": 0.004686,
     "end_time": "2022-11-08T18:13:21.809674",
     "exception": false,
     "start_time": "2022-11-08T18:13:21.804988",
     "status": "completed"
    },
    "tags": []
   },
   "source": [
    "# Introduction\n",
    "\n",
    "The first test of your new data exploration skills uses data describing crime in the city of Chicago.\n",
    "\n",
    "Before you get started, run the following cell. It sets up the automated feedback system to review your answers."
   ]
  },
  {
   "cell_type": "code",
   "execution_count": 1,
   "id": "2808edbd",
   "metadata": {
    "execution": {
     "iopub.execute_input": "2022-11-08T18:13:21.821887Z",
     "iopub.status.busy": "2022-11-08T18:13:21.821123Z",
     "iopub.status.idle": "2022-11-08T18:13:22.738756Z",
     "shell.execute_reply": "2022-11-08T18:13:22.737441Z"
    },
    "papermill": {
     "duration": 0.927762,
     "end_time": "2022-11-08T18:13:22.742412",
     "exception": false,
     "start_time": "2022-11-08T18:13:21.814650",
     "status": "completed"
    },
    "tags": []
   },
   "outputs": [
    {
     "name": "stdout",
     "output_type": "stream",
     "text": [
      "Using Kaggle's public dataset BigQuery integration.\n",
      "Setup Complete\n"
     ]
    }
   ],
   "source": [
    "# Set up feedack system\n",
    "from learntools.core import binder\n",
    "binder.bind(globals())\n",
    "from learntools.sql.ex1 import *\n",
    "print(\"Setup Complete\")"
   ]
  },
  {
   "cell_type": "markdown",
   "id": "8b352bd8",
   "metadata": {
    "papermill": {
     "duration": 0.005115,
     "end_time": "2022-11-08T18:13:22.753261",
     "exception": false,
     "start_time": "2022-11-08T18:13:22.748146",
     "status": "completed"
    },
    "tags": []
   },
   "source": [
    "Use the next code cell to fetch the dataset."
   ]
  },
  {
   "cell_type": "code",
   "execution_count": 2,
   "id": "01d98061",
   "metadata": {
    "execution": {
     "iopub.execute_input": "2022-11-08T18:13:22.770035Z",
     "iopub.status.busy": "2022-11-08T18:13:22.769111Z",
     "iopub.status.idle": "2022-11-08T18:13:23.070872Z",
     "shell.execute_reply": "2022-11-08T18:13:23.069694Z"
    },
    "papermill": {
     "duration": 0.3132,
     "end_time": "2022-11-08T18:13:23.073557",
     "exception": false,
     "start_time": "2022-11-08T18:13:22.760357",
     "status": "completed"
    },
    "tags": []
   },
   "outputs": [
    {
     "name": "stdout",
     "output_type": "stream",
     "text": [
      "Using Kaggle's public dataset BigQuery integration.\n"
     ]
    }
   ],
   "source": [
    "from google.cloud import bigquery\n",
    "\n",
    "# Create a \"Client\" object\n",
    "client = bigquery.Client()\n",
    "\n",
    "# Construct a reference to the \"chicago_crime\" dataset\n",
    "dataset_ref = client.dataset(\"chicago_crime\", project=\"bigquery-public-data\")\n",
    "\n",
    "# API request - fetch the dataset\n",
    "dataset = client.get_dataset(dataset_ref)"
   ]
  },
  {
   "cell_type": "markdown",
   "id": "240aaf30",
   "metadata": {
    "papermill": {
     "duration": 0.005047,
     "end_time": "2022-11-08T18:13:23.084332",
     "exception": false,
     "start_time": "2022-11-08T18:13:23.079285",
     "status": "completed"
    },
    "tags": []
   },
   "source": [
    "# Exercises\n",
    "\n",
    "### 1) Count tables in the dataset\n",
    "\n",
    "How many tables are in the Chicago Crime dataset?"
   ]
  },
  {
   "cell_type": "code",
   "execution_count": 3,
   "id": "7e5fc9d0",
   "metadata": {
    "execution": {
     "iopub.execute_input": "2022-11-08T18:13:23.096637Z",
     "iopub.status.busy": "2022-11-08T18:13:23.096210Z",
     "iopub.status.idle": "2022-11-08T18:13:23.381650Z",
     "shell.execute_reply": "2022-11-08T18:13:23.380609Z"
    },
    "papermill": {
     "duration": 0.294451,
     "end_time": "2022-11-08T18:13:23.384051",
     "exception": false,
     "start_time": "2022-11-08T18:13:23.089600",
     "status": "completed"
    },
    "tags": []
   },
   "outputs": [
    {
     "data": {
      "text/plain": [
       "1"
      ]
     },
     "execution_count": 3,
     "metadata": {},
     "output_type": "execute_result"
    }
   ],
   "source": [
    "# Write the code you need here to figure out the answer\n",
    "len(list(client.list_tables(dataset)))"
   ]
  },
  {
   "cell_type": "code",
   "execution_count": 4,
   "id": "5ff05c4e",
   "metadata": {
    "execution": {
     "iopub.execute_input": "2022-11-08T18:13:23.398087Z",
     "iopub.status.busy": "2022-11-08T18:13:23.397611Z",
     "iopub.status.idle": "2022-11-08T18:13:23.406241Z",
     "shell.execute_reply": "2022-11-08T18:13:23.405068Z"
    },
    "papermill": {
     "duration": 0.019085,
     "end_time": "2022-11-08T18:13:23.408630",
     "exception": false,
     "start_time": "2022-11-08T18:13:23.389545",
     "status": "completed"
    },
    "tags": []
   },
   "outputs": [
    {
     "data": {
      "application/javascript": [
       "parent.postMessage({\"jupyterEvent\": \"custom.exercise_interaction\", \"data\": {\"outcomeType\": 1, \"valueTowardsCompletion\": 0.3333333333333333, \"interactionType\": 1, \"questionType\": 1, \"questionId\": \"1_CountTables\", \"learnToolsVersion\": \"0.3.4\", \"failureMessage\": \"\", \"exceptionClass\": \"\", \"trace\": \"\"}}, \"*\")"
      ],
      "text/plain": [
       "<IPython.core.display.Javascript object>"
      ]
     },
     "metadata": {},
     "output_type": "display_data"
    },
    {
     "data": {
      "text/markdown": [
       "<span style=\"color:#33cc33\">Correct</span>"
      ],
      "text/plain": [
       "Correct"
      ]
     },
     "metadata": {},
     "output_type": "display_data"
    }
   ],
   "source": [
    "num_tables = 1  # Store the answer as num_tables and then run this cell\n",
    "\n",
    "# Check your answer\n",
    "q_1.check()"
   ]
  },
  {
   "cell_type": "markdown",
   "id": "a0c6120e",
   "metadata": {
    "papermill": {
     "duration": 0.005357,
     "end_time": "2022-11-08T18:13:23.421279",
     "exception": false,
     "start_time": "2022-11-08T18:13:23.415922",
     "status": "completed"
    },
    "tags": []
   },
   "source": [
    "For a hint or the solution, uncomment the appropriate line below."
   ]
  },
  {
   "cell_type": "code",
   "execution_count": 5,
   "id": "9feed1e8",
   "metadata": {
    "execution": {
     "iopub.execute_input": "2022-11-08T18:13:23.435497Z",
     "iopub.status.busy": "2022-11-08T18:13:23.434114Z",
     "iopub.status.idle": "2022-11-08T18:13:23.438603Z",
     "shell.execute_reply": "2022-11-08T18:13:23.437803Z"
    },
    "papermill": {
     "duration": 0.013839,
     "end_time": "2022-11-08T18:13:23.440725",
     "exception": false,
     "start_time": "2022-11-08T18:13:23.426886",
     "status": "completed"
    },
    "tags": []
   },
   "outputs": [],
   "source": [
    "#q_1.hint()\n",
    "#q_1.solution()"
   ]
  },
  {
   "cell_type": "markdown",
   "id": "bfeb3629",
   "metadata": {
    "papermill": {
     "duration": 0.005671,
     "end_time": "2022-11-08T18:13:23.452015",
     "exception": false,
     "start_time": "2022-11-08T18:13:23.446344",
     "status": "completed"
    },
    "tags": []
   },
   "source": [
    "### 2) Explore the table schema\n",
    "\n",
    "How many columns in the `crime` table have `TIMESTAMP` data?"
   ]
  },
  {
   "cell_type": "code",
   "execution_count": 6,
   "id": "9d5cbbac",
   "metadata": {
    "execution": {
     "iopub.execute_input": "2022-11-08T18:13:23.465189Z",
     "iopub.status.busy": "2022-11-08T18:13:23.464359Z",
     "iopub.status.idle": "2022-11-08T18:13:23.737949Z",
     "shell.execute_reply": "2022-11-08T18:13:23.736761Z"
    },
    "papermill": {
     "duration": 0.282677,
     "end_time": "2022-11-08T18:13:23.740427",
     "exception": false,
     "start_time": "2022-11-08T18:13:23.457750",
     "status": "completed"
    },
    "tags": []
   },
   "outputs": [
    {
     "data": {
      "text/plain": [
       "[SchemaField('unique_key', 'INTEGER', 'REQUIRED', None, (), None),\n",
       " SchemaField('case_number', 'STRING', 'NULLABLE', None, (), None),\n",
       " SchemaField('date', 'TIMESTAMP', 'NULLABLE', None, (), None),\n",
       " SchemaField('block', 'STRING', 'NULLABLE', None, (), None),\n",
       " SchemaField('iucr', 'STRING', 'NULLABLE', None, (), None),\n",
       " SchemaField('primary_type', 'STRING', 'NULLABLE', None, (), None),\n",
       " SchemaField('description', 'STRING', 'NULLABLE', None, (), None),\n",
       " SchemaField('location_description', 'STRING', 'NULLABLE', None, (), None),\n",
       " SchemaField('arrest', 'BOOLEAN', 'NULLABLE', None, (), None),\n",
       " SchemaField('domestic', 'BOOLEAN', 'NULLABLE', None, (), None),\n",
       " SchemaField('beat', 'INTEGER', 'NULLABLE', None, (), None),\n",
       " SchemaField('district', 'INTEGER', 'NULLABLE', None, (), None),\n",
       " SchemaField('ward', 'INTEGER', 'NULLABLE', None, (), None),\n",
       " SchemaField('community_area', 'INTEGER', 'NULLABLE', None, (), None),\n",
       " SchemaField('fbi_code', 'STRING', 'NULLABLE', None, (), None),\n",
       " SchemaField('x_coordinate', 'FLOAT', 'NULLABLE', None, (), None),\n",
       " SchemaField('y_coordinate', 'FLOAT', 'NULLABLE', None, (), None),\n",
       " SchemaField('year', 'INTEGER', 'NULLABLE', None, (), None),\n",
       " SchemaField('updated_on', 'TIMESTAMP', 'NULLABLE', None, (), None),\n",
       " SchemaField('latitude', 'FLOAT', 'NULLABLE', None, (), None),\n",
       " SchemaField('longitude', 'FLOAT', 'NULLABLE', None, (), None),\n",
       " SchemaField('location', 'STRING', 'NULLABLE', None, (), None)]"
      ]
     },
     "execution_count": 6,
     "metadata": {},
     "output_type": "execute_result"
    }
   ],
   "source": [
    "# Write the code to figure out the answer\n",
    "table_ref = dataset_ref.table('crime')\n",
    "table = client.get_table(table_ref)\n",
    "table.schema"
   ]
  },
  {
   "cell_type": "code",
   "execution_count": 7,
   "id": "b2fba11d",
   "metadata": {
    "execution": {
     "iopub.execute_input": "2022-11-08T18:13:23.754244Z",
     "iopub.status.busy": "2022-11-08T18:13:23.753463Z",
     "iopub.status.idle": "2022-11-08T18:13:23.762893Z",
     "shell.execute_reply": "2022-11-08T18:13:23.761850Z"
    },
    "papermill": {
     "duration": 0.018712,
     "end_time": "2022-11-08T18:13:23.765118",
     "exception": false,
     "start_time": "2022-11-08T18:13:23.746406",
     "status": "completed"
    },
    "tags": []
   },
   "outputs": [
    {
     "data": {
      "application/javascript": [
       "parent.postMessage({\"jupyterEvent\": \"custom.exercise_interaction\", \"data\": {\"outcomeType\": 1, \"valueTowardsCompletion\": 0.3333333333333333, \"interactionType\": 1, \"questionType\": 1, \"questionId\": \"2_CountTimestampFields\", \"learnToolsVersion\": \"0.3.4\", \"failureMessage\": \"\", \"exceptionClass\": \"\", \"trace\": \"\"}}, \"*\")"
      ],
      "text/plain": [
       "<IPython.core.display.Javascript object>"
      ]
     },
     "metadata": {},
     "output_type": "display_data"
    },
    {
     "data": {
      "text/markdown": [
       "<span style=\"color:#33cc33\">Correct</span>"
      ],
      "text/plain": [
       "Correct"
      ]
     },
     "metadata": {},
     "output_type": "display_data"
    }
   ],
   "source": [
    "num_timestamp_fields = 2 # Put your answer here\n",
    "\n",
    "# Check your answer\n",
    "q_2.check()"
   ]
  },
  {
   "cell_type": "markdown",
   "id": "5cd5dc39",
   "metadata": {
    "papermill": {
     "duration": 0.005816,
     "end_time": "2022-11-08T18:13:23.776889",
     "exception": false,
     "start_time": "2022-11-08T18:13:23.771073",
     "status": "completed"
    },
    "tags": []
   },
   "source": [
    "For a hint or the solution, uncomment the appropriate line below."
   ]
  },
  {
   "cell_type": "code",
   "execution_count": 8,
   "id": "3b76819f",
   "metadata": {
    "execution": {
     "iopub.execute_input": "2022-11-08T18:13:23.790395Z",
     "iopub.status.busy": "2022-11-08T18:13:23.790014Z",
     "iopub.status.idle": "2022-11-08T18:13:23.794538Z",
     "shell.execute_reply": "2022-11-08T18:13:23.793376Z"
    },
    "papermill": {
     "duration": 0.014064,
     "end_time": "2022-11-08T18:13:23.796887",
     "exception": false,
     "start_time": "2022-11-08T18:13:23.782823",
     "status": "completed"
    },
    "tags": []
   },
   "outputs": [],
   "source": [
    "#q_2.hint()\n",
    "#q_2.solution()"
   ]
  },
  {
   "cell_type": "markdown",
   "id": "9678da58",
   "metadata": {
    "papermill": {
     "duration": 0.005758,
     "end_time": "2022-11-08T18:13:23.808862",
     "exception": false,
     "start_time": "2022-11-08T18:13:23.803104",
     "status": "completed"
    },
    "tags": []
   },
   "source": [
    "### 3) Create a crime map\n",
    "\n",
    "If you wanted to create a map with a dot at the location of each crime, what are the names of the two fields you likely need to pull out of the `crime` table to plot the crimes on a map?"
   ]
  },
  {
   "cell_type": "code",
   "execution_count": 9,
   "id": "092a9b09",
   "metadata": {
    "execution": {
     "iopub.execute_input": "2022-11-08T18:13:23.822577Z",
     "iopub.status.busy": "2022-11-08T18:13:23.822166Z",
     "iopub.status.idle": "2022-11-08T18:13:24.418819Z",
     "shell.execute_reply": "2022-11-08T18:13:24.417036Z"
    },
    "papermill": {
     "duration": 0.606905,
     "end_time": "2022-11-08T18:13:24.421849",
     "exception": false,
     "start_time": "2022-11-08T18:13:23.814944",
     "status": "completed"
    },
    "tags": []
   },
   "outputs": [
    {
     "name": "stderr",
     "output_type": "stream",
     "text": [
      "/opt/conda/lib/python3.7/site-packages/ipykernel_launcher.py:2: UserWarning: Cannot use bqstorage_client if max_results is set, reverting to fetching data with the tabledata.list endpoint.\n",
      "  \n"
     ]
    },
    {
     "data": {
      "text/html": [
       "<div>\n",
       "<style scoped>\n",
       "    .dataframe tbody tr th:only-of-type {\n",
       "        vertical-align: middle;\n",
       "    }\n",
       "\n",
       "    .dataframe tbody tr th {\n",
       "        vertical-align: top;\n",
       "    }\n",
       "\n",
       "    .dataframe thead th {\n",
       "        text-align: right;\n",
       "    }\n",
       "</style>\n",
       "<table border=\"1\" class=\"dataframe\">\n",
       "  <thead>\n",
       "    <tr style=\"text-align: right;\">\n",
       "      <th></th>\n",
       "      <th>unique_key</th>\n",
       "      <th>case_number</th>\n",
       "      <th>date</th>\n",
       "      <th>block</th>\n",
       "      <th>iucr</th>\n",
       "      <th>primary_type</th>\n",
       "      <th>description</th>\n",
       "      <th>location_description</th>\n",
       "      <th>arrest</th>\n",
       "      <th>domestic</th>\n",
       "      <th>...</th>\n",
       "      <th>ward</th>\n",
       "      <th>community_area</th>\n",
       "      <th>fbi_code</th>\n",
       "      <th>x_coordinate</th>\n",
       "      <th>y_coordinate</th>\n",
       "      <th>year</th>\n",
       "      <th>updated_on</th>\n",
       "      <th>latitude</th>\n",
       "      <th>longitude</th>\n",
       "      <th>location</th>\n",
       "    </tr>\n",
       "  </thead>\n",
       "  <tbody>\n",
       "    <tr>\n",
       "      <th>0</th>\n",
       "      <td>20294</td>\n",
       "      <td>HV178038</td>\n",
       "      <td>2012-02-29 06:51:00+00:00</td>\n",
       "      <td>005XX E 104TH PL</td>\n",
       "      <td>0110</td>\n",
       "      <td>HOMICIDE</td>\n",
       "      <td>FIRST DEGREE MURDER</td>\n",
       "      <td>HOUSE</td>\n",
       "      <td>False</td>\n",
       "      <td>False</td>\n",
       "      <td>...</td>\n",
       "      <td>9</td>\n",
       "      <td>49</td>\n",
       "      <td>01A</td>\n",
       "      <td>1181956.0</td>\n",
       "      <td>1835794.0</td>\n",
       "      <td>2012</td>\n",
       "      <td>2022-08-31 04:51:30+00:00</td>\n",
       "      <td>41.704641</td>\n",
       "      <td>-87.609313</td>\n",
       "      <td>(41.704641317, -87.609312999)</td>\n",
       "    </tr>\n",
       "    <tr>\n",
       "      <th>1</th>\n",
       "      <td>23028</td>\n",
       "      <td>HZ554936</td>\n",
       "      <td>2016-12-17 01:25:00+00:00</td>\n",
       "      <td>001XX W 105TH ST</td>\n",
       "      <td>0110</td>\n",
       "      <td>HOMICIDE</td>\n",
       "      <td>FIRST DEGREE MURDER</td>\n",
       "      <td>HOUSE</td>\n",
       "      <td>True</td>\n",
       "      <td>False</td>\n",
       "      <td>...</td>\n",
       "      <td>34</td>\n",
       "      <td>49</td>\n",
       "      <td>01A</td>\n",
       "      <td>1177249.0</td>\n",
       "      <td>1835331.0</td>\n",
       "      <td>2016</td>\n",
       "      <td>2022-09-18 04:45:51+00:00</td>\n",
       "      <td>41.703478</td>\n",
       "      <td>-87.626563</td>\n",
       "      <td>(41.703478083, -87.626563168)</td>\n",
       "    </tr>\n",
       "    <tr>\n",
       "      <th>2</th>\n",
       "      <td>20900</td>\n",
       "      <td>HW295447</td>\n",
       "      <td>2013-05-29 03:11:00+00:00</td>\n",
       "      <td>000XX W 107TH ST</td>\n",
       "      <td>0110</td>\n",
       "      <td>HOMICIDE</td>\n",
       "      <td>FIRST DEGREE MURDER</td>\n",
       "      <td>STREET</td>\n",
       "      <td>True</td>\n",
       "      <td>False</td>\n",
       "      <td>...</td>\n",
       "      <td>34</td>\n",
       "      <td>49</td>\n",
       "      <td>01A</td>\n",
       "      <td>1177693.0</td>\n",
       "      <td>1834013.0</td>\n",
       "      <td>2013</td>\n",
       "      <td>2022-08-31 04:51:30+00:00</td>\n",
       "      <td>41.699851</td>\n",
       "      <td>-87.624977</td>\n",
       "      <td>(41.699851294, -87.624977038)</td>\n",
       "    </tr>\n",
       "    <tr>\n",
       "      <th>3</th>\n",
       "      <td>23026</td>\n",
       "      <td>HZ554936</td>\n",
       "      <td>2016-12-17 12:40:00+00:00</td>\n",
       "      <td>001XX W 105TH ST</td>\n",
       "      <td>0110</td>\n",
       "      <td>HOMICIDE</td>\n",
       "      <td>FIRST DEGREE MURDER</td>\n",
       "      <td>HOUSE</td>\n",
       "      <td>True</td>\n",
       "      <td>False</td>\n",
       "      <td>...</td>\n",
       "      <td>34</td>\n",
       "      <td>49</td>\n",
       "      <td>01A</td>\n",
       "      <td>1177249.0</td>\n",
       "      <td>1835331.0</td>\n",
       "      <td>2016</td>\n",
       "      <td>2022-09-18 04:45:51+00:00</td>\n",
       "      <td>41.703478</td>\n",
       "      <td>-87.626563</td>\n",
       "      <td>(41.703478083, -87.626563168)</td>\n",
       "    </tr>\n",
       "    <tr>\n",
       "      <th>4</th>\n",
       "      <td>2950376</td>\n",
       "      <td>HJ637148</td>\n",
       "      <td>2003-09-18 05:10:00+00:00</td>\n",
       "      <td>105XX S MICHIGAN AVE</td>\n",
       "      <td>0263</td>\n",
       "      <td>CRIM SEXUAL ASSAULT</td>\n",
       "      <td>AGGRAVATED: KNIFE/CUT INSTR</td>\n",
       "      <td>ALLEY</td>\n",
       "      <td>False</td>\n",
       "      <td>False</td>\n",
       "      <td>...</td>\n",
       "      <td>9</td>\n",
       "      <td>49</td>\n",
       "      <td>02</td>\n",
       "      <td>1178841.0</td>\n",
       "      <td>1834965.0</td>\n",
       "      <td>2003</td>\n",
       "      <td>2018-02-28 03:56:25+00:00</td>\n",
       "      <td>41.702438</td>\n",
       "      <td>-87.620745</td>\n",
       "      <td>(41.702437727, -87.620744722)</td>\n",
       "    </tr>\n",
       "  </tbody>\n",
       "</table>\n",
       "<p>5 rows × 22 columns</p>\n",
       "</div>"
      ],
      "text/plain": [
       "   unique_key case_number                      date                 block  \\\n",
       "0       20294    HV178038 2012-02-29 06:51:00+00:00      005XX E 104TH PL   \n",
       "1       23028    HZ554936 2016-12-17 01:25:00+00:00      001XX W 105TH ST   \n",
       "2       20900    HW295447 2013-05-29 03:11:00+00:00      000XX W 107TH ST   \n",
       "3       23026    HZ554936 2016-12-17 12:40:00+00:00      001XX W 105TH ST   \n",
       "4     2950376    HJ637148 2003-09-18 05:10:00+00:00  105XX S MICHIGAN AVE   \n",
       "\n",
       "   iucr         primary_type                  description  \\\n",
       "0  0110             HOMICIDE          FIRST DEGREE MURDER   \n",
       "1  0110             HOMICIDE          FIRST DEGREE MURDER   \n",
       "2  0110             HOMICIDE          FIRST DEGREE MURDER   \n",
       "3  0110             HOMICIDE          FIRST DEGREE MURDER   \n",
       "4  0263  CRIM SEXUAL ASSAULT  AGGRAVATED: KNIFE/CUT INSTR   \n",
       "\n",
       "  location_description  arrest  domestic  ...  ward  community_area  fbi_code  \\\n",
       "0                HOUSE   False     False  ...     9              49       01A   \n",
       "1                HOUSE    True     False  ...    34              49       01A   \n",
       "2               STREET    True     False  ...    34              49       01A   \n",
       "3                HOUSE    True     False  ...    34              49       01A   \n",
       "4                ALLEY   False     False  ...     9              49        02   \n",
       "\n",
       "   x_coordinate y_coordinate  year                updated_on   latitude  \\\n",
       "0     1181956.0    1835794.0  2012 2022-08-31 04:51:30+00:00  41.704641   \n",
       "1     1177249.0    1835331.0  2016 2022-09-18 04:45:51+00:00  41.703478   \n",
       "2     1177693.0    1834013.0  2013 2022-08-31 04:51:30+00:00  41.699851   \n",
       "3     1177249.0    1835331.0  2016 2022-09-18 04:45:51+00:00  41.703478   \n",
       "4     1178841.0    1834965.0  2003 2018-02-28 03:56:25+00:00  41.702438   \n",
       "\n",
       "   longitude                       location  \n",
       "0 -87.609313  (41.704641317, -87.609312999)  \n",
       "1 -87.626563  (41.703478083, -87.626563168)  \n",
       "2 -87.624977  (41.699851294, -87.624977038)  \n",
       "3 -87.626563  (41.703478083, -87.626563168)  \n",
       "4 -87.620745  (41.702437727, -87.620744722)  \n",
       "\n",
       "[5 rows x 22 columns]"
      ]
     },
     "execution_count": 9,
     "metadata": {},
     "output_type": "execute_result"
    }
   ],
   "source": [
    "# Write the code here to explore the data so you can find the answer\n",
    "client.list_rows(table, max_results=5).to_dataframe()"
   ]
  },
  {
   "cell_type": "code",
   "execution_count": 10,
   "id": "f208cfb3",
   "metadata": {
    "execution": {
     "iopub.execute_input": "2022-11-08T18:13:24.438306Z",
     "iopub.status.busy": "2022-11-08T18:13:24.437633Z",
     "iopub.status.idle": "2022-11-08T18:13:24.446703Z",
     "shell.execute_reply": "2022-11-08T18:13:24.445885Z"
    },
    "papermill": {
     "duration": 0.022036,
     "end_time": "2022-11-08T18:13:24.450977",
     "exception": false,
     "start_time": "2022-11-08T18:13:24.428941",
     "status": "completed"
    },
    "tags": []
   },
   "outputs": [
    {
     "name": "stdout",
     "output_type": "stream",
     "text": [
      "`'latitude'` and `'longitude'` would be better and more standard than `'x_coordinate'` and `'y_coordinate'`, but this might work.\n"
     ]
    },
    {
     "data": {
      "application/javascript": [
       "parent.postMessage({\"jupyterEvent\": \"custom.exercise_interaction\", \"data\": {\"outcomeType\": 1, \"valueTowardsCompletion\": 0.3333333333333333, \"interactionType\": 1, \"questionType\": 2, \"questionId\": \"3_IdentifyFieldsForPlotting\", \"learnToolsVersion\": \"0.3.4\", \"failureMessage\": \"\", \"exceptionClass\": \"\", \"trace\": \"\"}}, \"*\")"
      ],
      "text/plain": [
       "<IPython.core.display.Javascript object>"
      ]
     },
     "metadata": {},
     "output_type": "display_data"
    },
    {
     "data": {
      "text/markdown": [
       "<span style=\"color:#33cc33\">Correct</span>"
      ],
      "text/plain": [
       "Correct"
      ]
     },
     "metadata": {},
     "output_type": "display_data"
    }
   ],
   "source": [
    "fields_for_plotting = ['x_coordinate', 'y_coordinate'] # Put your answers here\n",
    "\n",
    "# Check your answer\n",
    "q_3.check()"
   ]
  },
  {
   "cell_type": "markdown",
   "id": "3d4c45a6",
   "metadata": {
    "papermill": {
     "duration": 0.008875,
     "end_time": "2022-11-08T18:13:24.474490",
     "exception": false,
     "start_time": "2022-11-08T18:13:24.465615",
     "status": "completed"
    },
    "tags": []
   },
   "source": [
    "For a hint or the solution, uncomment the appropriate line below."
   ]
  },
  {
   "cell_type": "code",
   "execution_count": 11,
   "id": "5d632de8",
   "metadata": {
    "execution": {
     "iopub.execute_input": "2022-11-08T18:13:24.492766Z",
     "iopub.status.busy": "2022-11-08T18:13:24.491651Z",
     "iopub.status.idle": "2022-11-08T18:13:24.496037Z",
     "shell.execute_reply": "2022-11-08T18:13:24.495178Z"
    },
    "papermill": {
     "duration": 0.017444,
     "end_time": "2022-11-08T18:13:24.499158",
     "exception": false,
     "start_time": "2022-11-08T18:13:24.481714",
     "status": "completed"
    },
    "tags": []
   },
   "outputs": [],
   "source": [
    "#q_3.hint()\n",
    "#q_3.solution()"
   ]
  },
  {
   "cell_type": "markdown",
   "id": "88114ca6",
   "metadata": {
    "papermill": {
     "duration": 0.007038,
     "end_time": "2022-11-08T18:13:24.516622",
     "exception": false,
     "start_time": "2022-11-08T18:13:24.509584",
     "status": "completed"
    },
    "tags": []
   },
   "source": [
    "Thinking about the question above, there are a few columns that appear to have geographic data. Look at a few values (with the `list_rows()` command) to see if you can determine their relationship.  Two columns will still be hard to interpret. But it should be obvious how the `location` column relates to `latitude` and `longitude`."
   ]
  },
  {
   "cell_type": "code",
   "execution_count": 12,
   "id": "eba6120b",
   "metadata": {
    "execution": {
     "iopub.execute_input": "2022-11-08T18:13:24.532544Z",
     "iopub.status.busy": "2022-11-08T18:13:24.531515Z",
     "iopub.status.idle": "2022-11-08T18:13:24.536721Z",
     "shell.execute_reply": "2022-11-08T18:13:24.535827Z"
    },
    "papermill": {
     "duration": 0.015274,
     "end_time": "2022-11-08T18:13:24.538858",
     "exception": false,
     "start_time": "2022-11-08T18:13:24.523584",
     "status": "completed"
    },
    "tags": []
   },
   "outputs": [],
   "source": [
    "# Scratch space for your code"
   ]
  },
  {
   "cell_type": "markdown",
   "id": "357ff3e0",
   "metadata": {
    "papermill": {
     "duration": 0.006636,
     "end_time": "2022-11-08T18:13:24.552446",
     "exception": false,
     "start_time": "2022-11-08T18:13:24.545810",
     "status": "completed"
    },
    "tags": []
   },
   "source": [
    "# Keep going\n",
    "\n",
    "You've looked at the schema, but you haven't yet done anything exciting with the data itself. Things get more interesting when you get to the data, so keep going to **[write your first SQL query](https://www.kaggle.com/dansbecker/select-from-where).**"
   ]
  },
  {
   "cell_type": "markdown",
   "id": "7b6428c0",
   "metadata": {
    "papermill": {
     "duration": 0.006643,
     "end_time": "2022-11-08T18:13:24.565940",
     "exception": false,
     "start_time": "2022-11-08T18:13:24.559297",
     "status": "completed"
    },
    "tags": []
   },
   "source": [
    "---\n",
    "\n",
    "\n",
    "\n",
    "\n",
    "*Have questions or comments? Visit the [course discussion forum](https://www.kaggle.com/learn/intro-to-sql/discussion) to chat with other learners.*"
   ]
  }
 ],
 "metadata": {
  "kernelspec": {
   "display_name": "Python 3",
   "language": "python",
   "name": "python3"
  },
  "language_info": {
   "codemirror_mode": {
    "name": "ipython",
    "version": 3
   },
   "file_extension": ".py",
   "mimetype": "text/x-python",
   "name": "python",
   "nbconvert_exporter": "python",
   "pygments_lexer": "ipython3",
   "version": "3.7.12"
  },
  "papermill": {
   "default_parameters": {},
   "duration": 11.486916,
   "end_time": "2022-11-08T18:13:24.792567",
   "environment_variables": {},
   "exception": null,
   "input_path": "__notebook__.ipynb",
   "output_path": "__notebook__.ipynb",
   "parameters": {},
   "start_time": "2022-11-08T18:13:13.305651",
   "version": "2.3.4"
  }
 },
 "nbformat": 4,
 "nbformat_minor": 5
}
