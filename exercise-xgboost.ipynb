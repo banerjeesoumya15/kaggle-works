{
 "cells": [
  {
   "cell_type": "markdown",
   "id": "f05342c2",
   "metadata": {
    "papermill": {
     "duration": 0.009356,
     "end_time": "2022-07-31T20:10:16.826648",
     "exception": false,
     "start_time": "2022-07-31T20:10:16.817292",
     "status": "completed"
    },
    "tags": []
   },
   "source": [
    "**This notebook is an exercise in the [Intermediate Machine Learning](https://www.kaggle.com/learn/intermediate-machine-learning) course.  You can reference the tutorial at [this link](https://www.kaggle.com/alexisbcook/xgboost).**\n",
    "\n",
    "---\n"
   ]
  },
  {
   "cell_type": "markdown",
   "id": "3ae1b8af",
   "metadata": {
    "papermill": {
     "duration": 0.007863,
     "end_time": "2022-07-31T20:10:16.843061",
     "exception": false,
     "start_time": "2022-07-31T20:10:16.835198",
     "status": "completed"
    },
    "tags": []
   },
   "source": [
    "In this exercise, you will use your new knowledge to train a model with **gradient boosting**.\n",
    "\n",
    "# Setup\n",
    "\n",
    "The questions below will give you feedback on your work. Run the following cell to set up the feedback system."
   ]
  },
  {
   "cell_type": "code",
   "execution_count": 1,
   "id": "69968374",
   "metadata": {
    "execution": {
     "iopub.execute_input": "2022-07-31T20:10:16.861358Z",
     "iopub.status.busy": "2022-07-31T20:10:16.860971Z",
     "iopub.status.idle": "2022-07-31T20:10:19.535498Z",
     "shell.execute_reply": "2022-07-31T20:10:19.533492Z"
    },
    "papermill": {
     "duration": 2.688471,
     "end_time": "2022-07-31T20:10:19.539828",
     "exception": false,
     "start_time": "2022-07-31T20:10:16.851357",
     "status": "completed"
    },
    "tags": []
   },
   "outputs": [
    {
     "name": "stdout",
     "output_type": "stream",
     "text": [
      "Setup Complete\n"
     ]
    }
   ],
   "source": [
    "# Set up code checking\n",
    "import os\n",
    "if not os.path.exists(\"../input/train.csv\"):\n",
    "    os.symlink(\"../input/home-data-for-ml-course/train.csv\", \"../input/train.csv\")  \n",
    "    os.symlink(\"../input/home-data-for-ml-course/test.csv\", \"../input/test.csv\") \n",
    "from learntools.core import binder\n",
    "binder.bind(globals())\n",
    "from learntools.ml_intermediate.ex6 import *\n",
    "print(\"Setup Complete\")"
   ]
  },
  {
   "cell_type": "markdown",
   "id": "be202e1b",
   "metadata": {
    "papermill": {
     "duration": 0.008244,
     "end_time": "2022-07-31T20:10:19.557214",
     "exception": false,
     "start_time": "2022-07-31T20:10:19.548970",
     "status": "completed"
    },
    "tags": []
   },
   "source": [
    "You will work with the [Housing Prices Competition for Kaggle Learn Users](https://www.kaggle.com/c/home-data-for-ml-course) dataset from the previous exercise. \n",
    "\n",
    "![Ames Housing dataset image](https://i.imgur.com/lTJVG4e.png)\n",
    "\n",
    "Run the next code cell without changes to load the training and validation sets in `X_train`, `X_valid`, `y_train`, and `y_valid`.  The test set is loaded in `X_test`."
   ]
  },
  {
   "cell_type": "code",
   "execution_count": 2,
   "id": "7182e103",
   "metadata": {
    "execution": {
     "iopub.execute_input": "2022-07-31T20:10:19.577744Z",
     "iopub.status.busy": "2022-07-31T20:10:19.576351Z",
     "iopub.status.idle": "2022-07-31T20:10:19.782240Z",
     "shell.execute_reply": "2022-07-31T20:10:19.781088Z"
    },
    "papermill": {
     "duration": 0.217774,
     "end_time": "2022-07-31T20:10:19.784319",
     "exception": false,
     "start_time": "2022-07-31T20:10:19.566545",
     "status": "completed"
    },
    "tags": []
   },
   "outputs": [],
   "source": [
    "import pandas as pd\n",
    "from sklearn.model_selection import train_test_split\n",
    "\n",
    "# Read the data\n",
    "X = pd.read_csv('../input/train.csv', index_col='Id')\n",
    "X_test_full = pd.read_csv('../input/test.csv', index_col='Id')\n",
    "\n",
    "# Remove rows with missing target, separate target from predictors\n",
    "X.dropna(axis=0, subset=['SalePrice'], inplace=True)\n",
    "y = X.SalePrice              \n",
    "X.drop(['SalePrice'], axis=1, inplace=True)\n",
    "\n",
    "# Break off validation set from training data\n",
    "X_train_full, X_valid_full, y_train, y_valid = train_test_split(X, y, train_size=0.8, test_size=0.2,\n",
    "                                                                random_state=0)\n",
    "\n",
    "# \"Cardinality\" means the number of unique values in a column\n",
    "# Select categorical columns with relatively low cardinality (convenient but arbitrary)\n",
    "low_cardinality_cols = [cname for cname in X_train_full.columns if X_train_full[cname].nunique() < 10 and \n",
    "                        X_train_full[cname].dtype == \"object\"]\n",
    "\n",
    "# Select numeric columns\n",
    "numeric_cols = [cname for cname in X_train_full.columns if X_train_full[cname].dtype in ['int64', 'float64']]\n",
    "\n",
    "# Keep selected columns only\n",
    "my_cols = low_cardinality_cols + numeric_cols\n",
    "X_train = X_train_full[my_cols].copy()\n",
    "X_valid = X_valid_full[my_cols].copy()\n",
    "X_test = X_test_full[my_cols].copy()\n",
    "\n",
    "# One-hot encode the data (to shorten the code, we use pandas)\n",
    "X_train = pd.get_dummies(X_train)\n",
    "X_valid = pd.get_dummies(X_valid)\n",
    "X_test = pd.get_dummies(X_test)\n",
    "X_train, X_valid = X_train.align(X_valid, join='left', axis=1)\n",
    "X_train, X_test = X_train.align(X_test, join='left', axis=1)"
   ]
  },
  {
   "cell_type": "markdown",
   "id": "78fa02a0",
   "metadata": {
    "papermill": {
     "duration": 0.004663,
     "end_time": "2022-07-31T20:10:19.794053",
     "exception": false,
     "start_time": "2022-07-31T20:10:19.789390",
     "status": "completed"
    },
    "tags": []
   },
   "source": [
    "# Step 1: Build model\n",
    "\n",
    "### Part A\n",
    "\n",
    "In this step, you'll build and train your first model with gradient boosting.\n",
    "\n",
    "- Begin by setting `my_model_1` to an XGBoost model.  Use the [XGBRegressor](https://xgboost.readthedocs.io/en/latest/python/python_api.html#xgboost.XGBRegressor) class, and set the random seed to 0 (`random_state=0`).  **Leave all other parameters as default.**\n",
    "- Then, fit the model to the training data in `X_train` and `y_train`."
   ]
  },
  {
   "cell_type": "code",
   "execution_count": 3,
   "id": "15e9c334",
   "metadata": {
    "execution": {
     "iopub.execute_input": "2022-07-31T20:10:19.805859Z",
     "iopub.status.busy": "2022-07-31T20:10:19.805448Z",
     "iopub.status.idle": "2022-07-31T20:10:20.666258Z",
     "shell.execute_reply": "2022-07-31T20:10:20.665460Z"
    },
    "papermill": {
     "duration": 0.869176,
     "end_time": "2022-07-31T20:10:20.668281",
     "exception": false,
     "start_time": "2022-07-31T20:10:19.799105",
     "status": "completed"
    },
    "tags": []
   },
   "outputs": [
    {
     "data": {
      "application/javascript": [
       "parent.postMessage({\"jupyterEvent\": \"custom.exercise_interaction\", \"data\": {\"outcomeType\": 1, \"valueTowardsCompletion\": 0.5, \"interactionType\": 1, \"questionType\": 2, \"questionId\": \"1.1_Model1A\", \"learnToolsVersion\": \"0.3.4\", \"failureMessage\": \"\", \"exceptionClass\": \"\", \"trace\": \"\"}}, \"*\")"
      ],
      "text/plain": [
       "<IPython.core.display.Javascript object>"
      ]
     },
     "metadata": {},
     "output_type": "display_data"
    },
    {
     "data": {
      "text/markdown": [
       "<span style=\"color:#33cc33\">Correct</span>"
      ],
      "text/plain": [
       "Correct"
      ]
     },
     "metadata": {},
     "output_type": "display_data"
    }
   ],
   "source": [
    "from xgboost import XGBRegressor\n",
    "\n",
    "# Define the model\n",
    "my_model_1 = XGBRegressor(random_state=0) # Your code here\n",
    "\n",
    "# Fit the model\n",
    "my_model_1.fit(X_train, y_train) # Your code here\n",
    "\n",
    "# Check your answer\n",
    "step_1.a.check()"
   ]
  },
  {
   "cell_type": "code",
   "execution_count": 4,
   "id": "01d3ccd9",
   "metadata": {
    "execution": {
     "iopub.execute_input": "2022-07-31T20:10:20.681570Z",
     "iopub.status.busy": "2022-07-31T20:10:20.680850Z",
     "iopub.status.idle": "2022-07-31T20:10:20.693759Z",
     "shell.execute_reply": "2022-07-31T20:10:20.692965Z"
    },
    "papermill": {
     "duration": 0.021783,
     "end_time": "2022-07-31T20:10:20.695435",
     "exception": false,
     "start_time": "2022-07-31T20:10:20.673652",
     "status": "completed"
    },
    "tags": []
   },
   "outputs": [
    {
     "data": {
      "text/plain": [
       "XGBRegressor(base_score=0.5, booster='gbtree', callbacks=None,\n",
       "             colsample_bylevel=1, colsample_bynode=1, colsample_bytree=1,\n",
       "             early_stopping_rounds=None, enable_categorical=False,\n",
       "             eval_metric=None, gamma=0, gpu_id=-1, grow_policy='depthwise',\n",
       "             importance_type=None, interaction_constraints='',\n",
       "             learning_rate=0.300000012, max_bin=256, max_cat_to_onehot=4,\n",
       "             max_delta_step=0, max_depth=6, max_leaves=0, min_child_weight=1,\n",
       "             missing=nan, monotone_constraints='()', n_estimators=100, n_jobs=0,\n",
       "             num_parallel_tree=1, predictor='auto', random_state=0, reg_alpha=0,\n",
       "             reg_lambda=1, ...)"
      ]
     },
     "execution_count": 4,
     "metadata": {},
     "output_type": "execute_result"
    }
   ],
   "source": [
    "my_model_1"
   ]
  },
  {
   "cell_type": "code",
   "execution_count": 5,
   "id": "c3404b1a",
   "metadata": {
    "execution": {
     "iopub.execute_input": "2022-07-31T20:10:20.708597Z",
     "iopub.status.busy": "2022-07-31T20:10:20.707575Z",
     "iopub.status.idle": "2022-07-31T20:10:20.711513Z",
     "shell.execute_reply": "2022-07-31T20:10:20.710823Z"
    },
    "papermill": {
     "duration": 0.012472,
     "end_time": "2022-07-31T20:10:20.713404",
     "exception": false,
     "start_time": "2022-07-31T20:10:20.700932",
     "status": "completed"
    },
    "tags": []
   },
   "outputs": [],
   "source": [
    "# Lines below will give you a hint or solution code\n",
    "#step_1.a.hint()\n",
    "#step_1.a.solution()"
   ]
  },
  {
   "cell_type": "markdown",
   "id": "381b0b08",
   "metadata": {
    "papermill": {
     "duration": 0.005097,
     "end_time": "2022-07-31T20:10:20.724188",
     "exception": false,
     "start_time": "2022-07-31T20:10:20.719091",
     "status": "completed"
    },
    "tags": []
   },
   "source": [
    "### Part B\n",
    "\n",
    "Set `predictions_1` to the model's predictions for the validation data.  Recall that the validation features are stored in `X_valid`."
   ]
  },
  {
   "cell_type": "code",
   "execution_count": 6,
   "id": "6d196552",
   "metadata": {
    "execution": {
     "iopub.execute_input": "2022-07-31T20:10:20.736558Z",
     "iopub.status.busy": "2022-07-31T20:10:20.735936Z",
     "iopub.status.idle": "2022-07-31T20:10:20.758065Z",
     "shell.execute_reply": "2022-07-31T20:10:20.757029Z"
    },
    "papermill": {
     "duration": 0.031095,
     "end_time": "2022-07-31T20:10:20.760473",
     "exception": false,
     "start_time": "2022-07-31T20:10:20.729378",
     "status": "completed"
    },
    "tags": []
   },
   "outputs": [
    {
     "data": {
      "application/javascript": [
       "parent.postMessage({\"jupyterEvent\": \"custom.exercise_interaction\", \"data\": {\"outcomeType\": 1, \"valueTowardsCompletion\": 0.5, \"interactionType\": 1, \"questionType\": 2, \"questionId\": \"1.2_Model1B\", \"learnToolsVersion\": \"0.3.4\", \"failureMessage\": \"\", \"exceptionClass\": \"\", \"trace\": \"\"}}, \"*\")"
      ],
      "text/plain": [
       "<IPython.core.display.Javascript object>"
      ]
     },
     "metadata": {},
     "output_type": "display_data"
    },
    {
     "data": {
      "text/markdown": [
       "<span style=\"color:#33cc33\">Correct</span>"
      ],
      "text/plain": [
       "Correct"
      ]
     },
     "metadata": {},
     "output_type": "display_data"
    }
   ],
   "source": [
    "from sklearn.metrics import mean_absolute_error\n",
    "\n",
    "# Get predictions\n",
    "predictions_1 = my_model_1.predict(X_valid) # Your code here\n",
    "\n",
    "# Check your answer\n",
    "step_1.b.check()"
   ]
  },
  {
   "cell_type": "code",
   "execution_count": 7,
   "id": "21deaec3",
   "metadata": {
    "execution": {
     "iopub.execute_input": "2022-07-31T20:10:20.780475Z",
     "iopub.status.busy": "2022-07-31T20:10:20.780183Z",
     "iopub.status.idle": "2022-07-31T20:10:20.783989Z",
     "shell.execute_reply": "2022-07-31T20:10:20.782785Z"
    },
    "papermill": {
     "duration": 0.015685,
     "end_time": "2022-07-31T20:10:20.785656",
     "exception": false,
     "start_time": "2022-07-31T20:10:20.769971",
     "status": "completed"
    },
    "tags": []
   },
   "outputs": [],
   "source": [
    "# Lines below will give you a hint or solution code\n",
    "#step_1.b.hint()\n",
    "#step_1.b.solution()"
   ]
  },
  {
   "cell_type": "markdown",
   "id": "a6512e80",
   "metadata": {
    "papermill": {
     "duration": 0.005545,
     "end_time": "2022-07-31T20:10:20.797185",
     "exception": false,
     "start_time": "2022-07-31T20:10:20.791640",
     "status": "completed"
    },
    "tags": []
   },
   "source": [
    "### Part C\n",
    "\n",
    "Finally, use the `mean_absolute_error()` function to calculate the mean absolute error (MAE) corresponding to the predictions for the validation set.  Recall that the labels for the validation data are stored in `y_valid`."
   ]
  },
  {
   "cell_type": "code",
   "execution_count": 8,
   "id": "1652e2a8",
   "metadata": {
    "execution": {
     "iopub.execute_input": "2022-07-31T20:10:20.811177Z",
     "iopub.status.busy": "2022-07-31T20:10:20.810541Z",
     "iopub.status.idle": "2022-07-31T20:10:20.821107Z",
     "shell.execute_reply": "2022-07-31T20:10:20.820442Z"
    },
    "papermill": {
     "duration": 0.019272,
     "end_time": "2022-07-31T20:10:20.822686",
     "exception": false,
     "start_time": "2022-07-31T20:10:20.803414",
     "status": "completed"
    },
    "tags": []
   },
   "outputs": [
    {
     "name": "stdout",
     "output_type": "stream",
     "text": [
      "Mean Absolute Error: 17662.736729452055\n"
     ]
    },
    {
     "data": {
      "application/javascript": [
       "parent.postMessage({\"jupyterEvent\": \"custom.exercise_interaction\", \"data\": {\"outcomeType\": 1, \"valueTowardsCompletion\": 0.5, \"interactionType\": 1, \"questionType\": 2, \"questionId\": \"1.3_Model1C\", \"learnToolsVersion\": \"0.3.4\", \"failureMessage\": \"\", \"exceptionClass\": \"\", \"trace\": \"\"}}, \"*\")"
      ],
      "text/plain": [
       "<IPython.core.display.Javascript object>"
      ]
     },
     "metadata": {},
     "output_type": "display_data"
    },
    {
     "data": {
      "text/markdown": [
       "<span style=\"color:#33cc33\">Correct</span>"
      ],
      "text/plain": [
       "Correct"
      ]
     },
     "metadata": {},
     "output_type": "display_data"
    }
   ],
   "source": [
    "# Calculate MAE\n",
    "mae_1 = mean_absolute_error(y_valid, predictions_1) # Your code here\n",
    "\n",
    "# Uncomment to print MAE\n",
    "print(\"Mean Absolute Error:\" , mae_1)\n",
    "\n",
    "# Check your answer\n",
    "step_1.c.check()"
   ]
  },
  {
   "cell_type": "code",
   "execution_count": 9,
   "id": "1a6e3d6d",
   "metadata": {
    "execution": {
     "iopub.execute_input": "2022-07-31T20:10:20.835917Z",
     "iopub.status.busy": "2022-07-31T20:10:20.835164Z",
     "iopub.status.idle": "2022-07-31T20:10:20.839379Z",
     "shell.execute_reply": "2022-07-31T20:10:20.838582Z"
    },
    "papermill": {
     "duration": 0.012986,
     "end_time": "2022-07-31T20:10:20.841344",
     "exception": false,
     "start_time": "2022-07-31T20:10:20.828358",
     "status": "completed"
    },
    "tags": []
   },
   "outputs": [],
   "source": [
    "# Lines below will give you a hint or solution code\n",
    "#step_1.c.hint()\n",
    "#step_1.c.solution()"
   ]
  },
  {
   "cell_type": "markdown",
   "id": "96739ab7",
   "metadata": {
    "papermill": {
     "duration": 0.005687,
     "end_time": "2022-07-31T20:10:20.853367",
     "exception": false,
     "start_time": "2022-07-31T20:10:20.847680",
     "status": "completed"
    },
    "tags": []
   },
   "source": [
    "# Step 2: Improve the model\n",
    "\n",
    "Now that you've trained a default model as baseline, it's time to tinker with the parameters, to see if you can get better performance!\n",
    "- Begin by setting `my_model_2` to an XGBoost model, using the [XGBRegressor](https://xgboost.readthedocs.io/en/latest/python/python_api.html#xgboost.XGBRegressor) class.  Use what you learned in the previous tutorial to figure out how to change the default parameters (like `n_estimators` and `learning_rate`) to get better results.\n",
    "- Then, fit the model to the training data in `X_train` and `y_train`.\n",
    "- Set `predictions_2` to the model's predictions for the validation data.  Recall that the validation features are stored in `X_valid`.\n",
    "- Finally, use the `mean_absolute_error()` function to calculate the mean absolute error (MAE) corresponding to the predictions on the validation set.  Recall that the labels for the validation data are stored in `y_valid`.\n",
    "\n",
    "In order for this step to be marked correct, your model in `my_model_2` must attain lower MAE than the model in `my_model_1`. "
   ]
  },
  {
   "cell_type": "code",
   "execution_count": 10,
   "id": "b1bef31f",
   "metadata": {
    "execution": {
     "iopub.execute_input": "2022-07-31T20:10:20.867813Z",
     "iopub.status.busy": "2022-07-31T20:10:20.867232Z",
     "iopub.status.idle": "2022-07-31T20:10:20.872281Z",
     "shell.execute_reply": "2022-07-31T20:10:20.871593Z"
    },
    "papermill": {
     "duration": 0.01516,
     "end_time": "2022-07-31T20:10:20.874363",
     "exception": false,
     "start_time": "2022-07-31T20:10:20.859203",
     "status": "completed"
    },
    "tags": []
   },
   "outputs": [],
   "source": [
    "from sklearn.model_selection import cross_val_score\n",
    "\n",
    "def get_score(n_estimators, learning_rate):\n",
    "    xgb = XGBRegressor(n_estimators=n_estimators, learning_rate=learning_rate, random_state=0)\n",
    "    score = cross_val_score(xgb, X_train, y_train, cv=3, scoring='neg_mean_absolute_error')\n",
    "    return score.mean()"
   ]
  },
  {
   "cell_type": "code",
   "execution_count": 11,
   "id": "5f06c90e",
   "metadata": {
    "execution": {
     "iopub.execute_input": "2022-07-31T20:10:20.888835Z",
     "iopub.status.busy": "2022-07-31T20:10:20.888474Z",
     "iopub.status.idle": "2022-07-31T20:15:40.520500Z",
     "shell.execute_reply": "2022-07-31T20:15:40.519101Z"
    },
    "papermill": {
     "duration": 319.642555,
     "end_time": "2022-07-31T20:15:40.523638",
     "exception": false,
     "start_time": "2022-07-31T20:10:20.881083",
     "status": "completed"
    },
    "tags": []
   },
   "outputs": [
    {
     "name": "stdout",
     "output_type": "stream",
     "text": [
      "running for 100_0.0001\tScore is -179042.01121826004\n",
      "running for 100_0.001\tScore is -163918.28302353175\n",
      "running for 100_0.01\tScore is -69112.32369947444\n",
      "running for 200_0.0001\tScore is -177293.6124822409\n",
      "running for 200_0.001\tScore is -148664.460762977\n",
      "running for 200_0.01\tScore is -30155.16735256273\n",
      "running for 300_0.0001\tScore is -175561.92312335907\n",
      "running for 300_0.001\tScore is -134872.81231485802\n",
      "running for 300_0.01\tScore is -19715.27314935259\n",
      "running for 400_0.0001\tScore is -173848.85957075158\n",
      "running for 400_0.001\tScore is -122383.99854782433\n",
      "running for 400_0.01\tScore is -17730.040300891025\n",
      "running for 500_0.0001\tScore is -172154.72908518696\n",
      "running for 500_0.001\tScore is -111081.27470350161\n",
      "running for 500_0.01\tScore is -17356.860819848174\n",
      "running for 600_0.0001\tScore is -170476.843258563\n",
      "running for 600_0.001\tScore is -100921.22131878015\n",
      "running for 600_0.01\tScore is -17217.68478356287\n",
      "running for 700_0.0001\tScore is -168813.99852313724\n",
      "running for 700_0.001\tScore is -91805.23347325729\n",
      "running for 700_0.01\tScore is -17114.20899530938\n",
      "running for 800_0.0001\tScore is -167166.60387676035\n",
      "running for 800_0.001\tScore is -83580.64158328132\n",
      "running for 800_0.01\tScore is -17055.365910812914\n",
      "running for 900_0.0001\tScore is -165538.68416814055\n",
      "running for 900_0.001\tScore is -76135.22996161466\n",
      "running for 900_0.01\tScore is -17018.397972703195\n",
      "running for 1000_0.0001\tScore is -163926.85145494252\n",
      "running for 1000_0.001\tScore is -69418.44605667698\n",
      "running for 1000_0.01\tScore is -16999.273523018146\n",
      "Best score is -16999.273523018146\n"
     ]
    }
   ],
   "source": [
    "results = {}\n",
    "best_score = -99999999\n",
    "for est in range(100, 1001, 100):\n",
    "    for l_rate in [0.0001, 0.001, 0.01]:\n",
    "        key = str(est)+'_'+str(l_rate)\n",
    "        results[key] = get_score(est,l_rate)\n",
    "        print(f\"running for {key}\\tScore is {results[key]}\")\n",
    "        if best_score < results[key]:\n",
    "            best_score = results[key]\n",
    "            \n",
    "print(f\"Best score is {best_score}\")"
   ]
  },
  {
   "cell_type": "code",
   "execution_count": 12,
   "id": "96cf8d31",
   "metadata": {
    "execution": {
     "iopub.execute_input": "2022-07-31T20:15:40.541389Z",
     "iopub.status.busy": "2022-07-31T20:15:40.541061Z",
     "iopub.status.idle": "2022-07-31T20:15:40.546360Z",
     "shell.execute_reply": "2022-07-31T20:15:40.545406Z"
    },
    "papermill": {
     "duration": 0.016686,
     "end_time": "2022-07-31T20:15:40.549035",
     "exception": false,
     "start_time": "2022-07-31T20:15:40.532349",
     "status": "completed"
    },
    "tags": []
   },
   "outputs": [
    {
     "data": {
      "text/plain": [
       "'1000_0.01'"
      ]
     },
     "execution_count": 12,
     "metadata": {},
     "output_type": "execute_result"
    }
   ],
   "source": [
    "max(results, key=results.get)"
   ]
  },
  {
   "cell_type": "code",
   "execution_count": 13,
   "id": "d735b96b",
   "metadata": {
    "execution": {
     "iopub.execute_input": "2022-07-31T20:15:40.575271Z",
     "iopub.status.busy": "2022-07-31T20:15:40.574761Z",
     "iopub.status.idle": "2022-07-31T20:15:40.579980Z",
     "shell.execute_reply": "2022-07-31T20:15:40.578926Z"
    },
    "papermill": {
     "duration": 0.020778,
     "end_time": "2022-07-31T20:15:40.582244",
     "exception": false,
     "start_time": "2022-07-31T20:15:40.561466",
     "status": "completed"
    },
    "tags": []
   },
   "outputs": [
    {
     "data": {
      "text/plain": [
       "'100_0.0001'"
      ]
     },
     "execution_count": 13,
     "metadata": {},
     "output_type": "execute_result"
    }
   ],
   "source": [
    "min(results, key=results.get)"
   ]
  },
  {
   "cell_type": "code",
   "execution_count": 14,
   "id": "47271294",
   "metadata": {
    "execution": {
     "iopub.execute_input": "2022-07-31T20:15:40.599501Z",
     "iopub.status.busy": "2022-07-31T20:15:40.599194Z",
     "iopub.status.idle": "2022-07-31T20:15:48.175533Z",
     "shell.execute_reply": "2022-07-31T20:15:48.174187Z"
    },
    "papermill": {
     "duration": 7.587631,
     "end_time": "2022-07-31T20:15:48.177562",
     "exception": false,
     "start_time": "2022-07-31T20:15:40.589931",
     "status": "completed"
    },
    "tags": []
   },
   "outputs": [
    {
     "name": "stdout",
     "output_type": "stream",
     "text": [
      "Mean Absolute Error: 16913.731043985445\n"
     ]
    },
    {
     "data": {
      "application/javascript": [
       "parent.postMessage({\"jupyterEvent\": \"custom.exercise_interaction\", \"data\": {\"outcomeType\": 1, \"valueTowardsCompletion\": 0.5, \"interactionType\": 1, \"questionType\": 2, \"questionId\": \"2_Model2\", \"learnToolsVersion\": \"0.3.4\", \"failureMessage\": \"\", \"exceptionClass\": \"\", \"trace\": \"\"}}, \"*\")"
      ],
      "text/plain": [
       "<IPython.core.display.Javascript object>"
      ]
     },
     "metadata": {},
     "output_type": "display_data"
    },
    {
     "data": {
      "text/markdown": [
       "<span style=\"color:#33cc33\">Correct</span>"
      ],
      "text/plain": [
       "Correct"
      ]
     },
     "metadata": {},
     "output_type": "display_data"
    }
   ],
   "source": [
    "# Define the model\n",
    "my_model_2 = XGBRegressor(n_estimators=1000, learning_rate=0.01, random_state=0) # Your code here\n",
    "\n",
    "# Fit the model\n",
    "my_model_2.fit(X_train, y_train) # Your code here\n",
    "\n",
    "# Get predictions\n",
    "predictions_2 = my_model_2.predict(X_valid) # Your code here\n",
    "\n",
    "# Calculate MAE\n",
    "mae_2 = mean_absolute_error(y_valid, predictions_2) # Your code here\n",
    "\n",
    "# Uncomment to print MAE\n",
    "print(\"Mean Absolute Error:\" , mae_2)\n",
    "\n",
    "# Check your answer\n",
    "step_2.check()"
   ]
  },
  {
   "cell_type": "code",
   "execution_count": 15,
   "id": "e847db30",
   "metadata": {
    "execution": {
     "iopub.execute_input": "2022-07-31T20:15:48.202484Z",
     "iopub.status.busy": "2022-07-31T20:15:48.202147Z",
     "iopub.status.idle": "2022-07-31T20:15:48.212037Z",
     "shell.execute_reply": "2022-07-31T20:15:48.210758Z"
    },
    "papermill": {
     "duration": 0.026675,
     "end_time": "2022-07-31T20:15:48.214722",
     "exception": false,
     "start_time": "2022-07-31T20:15:48.188047",
     "status": "completed"
    },
    "tags": []
   },
   "outputs": [
    {
     "data": {
      "application/javascript": [
       "parent.postMessage({\"jupyterEvent\": \"custom.exercise_interaction\", \"data\": {\"interactionType\": 2, \"questionType\": 2, \"questionId\": \"2_Model2\", \"learnToolsVersion\": \"0.3.4\", \"valueTowardsCompletion\": 0.0, \"failureMessage\": \"\", \"exceptionClass\": \"\", \"trace\": \"\", \"outcomeType\": 4}}, \"*\")"
      ],
      "text/plain": [
       "<IPython.core.display.Javascript object>"
      ]
     },
     "metadata": {},
     "output_type": "display_data"
    },
    {
     "data": {
      "text/markdown": [
       "<span style=\"color:#3366cc\">Hint:</span> In the official solution to this problem, we chose to increase the number of trees in the model (with the `n_estimators` parameter) and decrease the learning rate (with the `learning_rate` parameter)."
      ],
      "text/plain": [
       "Hint: In the official solution to this problem, we chose to increase the number of trees in the model (with the `n_estimators` parameter) and decrease the learning rate (with the `learning_rate` parameter)."
      ]
     },
     "metadata": {},
     "output_type": "display_data"
    },
    {
     "data": {
      "application/javascript": [
       "parent.postMessage({\"jupyterEvent\": \"custom.exercise_interaction\", \"data\": {\"interactionType\": 3, \"questionType\": 2, \"questionId\": \"2_Model2\", \"learnToolsVersion\": \"0.3.4\", \"valueTowardsCompletion\": 0.0, \"failureMessage\": \"\", \"exceptionClass\": \"\", \"trace\": \"\", \"outcomeType\": 4}}, \"*\")"
      ],
      "text/plain": [
       "<IPython.core.display.Javascript object>"
      ]
     },
     "metadata": {},
     "output_type": "display_data"
    },
    {
     "data": {
      "text/markdown": [
       "<span style=\"color:#33cc99\">Solution:</span> \n",
       "```python\n",
       "# Define the model\n",
       "my_model_2 = XGBRegressor(n_estimators=1000, learning_rate=0.05)\n",
       "\n",
       "# Fit the model\n",
       "my_model_2.fit(X_train, y_train)\n",
       "\n",
       "# Get predictions\n",
       "predictions_2 = my_model_2.predict(X_valid)\n",
       "\n",
       "# Calculate MAE\n",
       "mae_2 = mean_absolute_error(predictions_2, y_valid)\n",
       "print(\"Mean Absolute Error:\" , mae_2)\n",
       "\n",
       "```"
      ],
      "text/plain": [
       "Solution: \n",
       "```python\n",
       "# Define the model\n",
       "my_model_2 = XGBRegressor(n_estimators=1000, learning_rate=0.05)\n",
       "\n",
       "# Fit the model\n",
       "my_model_2.fit(X_train, y_train)\n",
       "\n",
       "# Get predictions\n",
       "predictions_2 = my_model_2.predict(X_valid)\n",
       "\n",
       "# Calculate MAE\n",
       "mae_2 = mean_absolute_error(predictions_2, y_valid)\n",
       "print(\"Mean Absolute Error:\" , mae_2)\n",
       "\n",
       "```"
      ]
     },
     "metadata": {},
     "output_type": "display_data"
    }
   ],
   "source": [
    "# Lines below will give you a hint or solution code\n",
    "step_2.hint()\n",
    "step_2.solution()"
   ]
  },
  {
   "cell_type": "markdown",
   "id": "21656e90",
   "metadata": {
    "papermill": {
     "duration": 0.00825,
     "end_time": "2022-07-31T20:15:48.232172",
     "exception": false,
     "start_time": "2022-07-31T20:15:48.223922",
     "status": "completed"
    },
    "tags": []
   },
   "source": [
    "# Step 3: Break the model\n",
    "\n",
    "In this step, you will create a model that performs worse than the original model in Step 1.  This will help you to develop your intuition for how to set parameters.  You might even find that you accidentally get better performance, which is ultimately a nice problem to have and a valuable learning experience!\n",
    "- Begin by setting `my_model_3` to an XGBoost model, using the [XGBRegressor](https://xgboost.readthedocs.io/en/latest/python/python_api.html#xgboost.XGBRegressor) class.  Use what you learned in the previous tutorial to figure out how to change the default parameters (like `n_estimators` and `learning_rate`) to design a model to get high MAE.\n",
    "- Then, fit the model to the training data in `X_train` and `y_train`.\n",
    "- Set `predictions_3` to the model's predictions for the validation data.  Recall that the validation features are stored in `X_valid`.\n",
    "- Finally, use the `mean_absolute_error()` function to calculate the mean absolute error (MAE) corresponding to the predictions on the validation set.  Recall that the labels for the validation data are stored in `y_valid`.\n",
    "\n",
    "In order for this step to be marked correct, your model in `my_model_3` must attain higher MAE than the model in `my_model_1`. "
   ]
  },
  {
   "cell_type": "code",
   "execution_count": 16,
   "id": "20f28a32",
   "metadata": {
    "execution": {
     "iopub.execute_input": "2022-07-31T20:15:48.250598Z",
     "iopub.status.busy": "2022-07-31T20:15:48.250245Z",
     "iopub.status.idle": "2022-07-31T20:15:49.033357Z",
     "shell.execute_reply": "2022-07-31T20:15:49.032581Z"
    },
    "papermill": {
     "duration": 0.794599,
     "end_time": "2022-07-31T20:15:49.035327",
     "exception": false,
     "start_time": "2022-07-31T20:15:48.240728",
     "status": "completed"
    },
    "tags": []
   },
   "outputs": [
    {
     "name": "stdout",
     "output_type": "stream",
     "text": [
      "Mean Absolute Error: 179597.66392182652\n"
     ]
    },
    {
     "data": {
      "application/javascript": [
       "parent.postMessage({\"jupyterEvent\": \"custom.exercise_interaction\", \"data\": {\"outcomeType\": 1, \"valueTowardsCompletion\": 0.5, \"interactionType\": 1, \"questionType\": 2, \"questionId\": \"3_Model3\", \"learnToolsVersion\": \"0.3.4\", \"failureMessage\": \"\", \"exceptionClass\": \"\", \"trace\": \"\"}}, \"*\")"
      ],
      "text/plain": [
       "<IPython.core.display.Javascript object>"
      ]
     },
     "metadata": {},
     "output_type": "display_data"
    },
    {
     "data": {
      "text/markdown": [
       "<span style=\"color:#33cc33\">Correct</span>"
      ],
      "text/plain": [
       "Correct"
      ]
     },
     "metadata": {},
     "output_type": "display_data"
    }
   ],
   "source": [
    "# Define the model\n",
    "my_model_3 = XGBRegressor(n_estimators=100, learning_rate=0.0001, random_state=0)\n",
    "\n",
    "# Fit the model\n",
    "my_model_3.fit(X_train, y_train) # Your code here\n",
    "\n",
    "# Get predictions\n",
    "predictions_3 = my_model_3.predict(X_valid)\n",
    "\n",
    "# Calculate MAE\n",
    "mae_3 = mean_absolute_error(y_valid, predictions_3)\n",
    "\n",
    "# Uncomment to print MAE\n",
    "print(\"Mean Absolute Error:\" , mae_3)\n",
    "\n",
    "# Check your answer\n",
    "step_3.check()"
   ]
  },
  {
   "cell_type": "code",
   "execution_count": 17,
   "id": "43bf5b55",
   "metadata": {
    "execution": {
     "iopub.execute_input": "2022-07-31T20:15:49.056041Z",
     "iopub.status.busy": "2022-07-31T20:15:49.055632Z",
     "iopub.status.idle": "2022-07-31T20:15:49.060806Z",
     "shell.execute_reply": "2022-07-31T20:15:49.059896Z"
    },
    "papermill": {
     "duration": 0.018449,
     "end_time": "2022-07-31T20:15:49.063522",
     "exception": false,
     "start_time": "2022-07-31T20:15:49.045073",
     "status": "completed"
    },
    "tags": []
   },
   "outputs": [],
   "source": [
    "# Lines below will give you a hint or solution code\n",
    "#step_3.hint()\n",
    "#step_3.solution()"
   ]
  },
  {
   "cell_type": "markdown",
   "id": "3eebe7f9",
   "metadata": {
    "papermill": {
     "duration": 0.013993,
     "end_time": "2022-07-31T20:15:49.091995",
     "exception": false,
     "start_time": "2022-07-31T20:15:49.078002",
     "status": "completed"
    },
    "tags": []
   },
   "source": [
    "# Keep going\n",
    "\n",
    "Continue to learn about **[data leakage](https://www.kaggle.com/alexisbcook/data-leakage)**.  This is an important issue for a data scientist to understand, and it has the potential to ruin your models in subtle and dangerous ways!"
   ]
  },
  {
   "cell_type": "markdown",
   "id": "c1a0b607",
   "metadata": {
    "papermill": {
     "duration": 0.014086,
     "end_time": "2022-07-31T20:15:49.120680",
     "exception": false,
     "start_time": "2022-07-31T20:15:49.106594",
     "status": "completed"
    },
    "tags": []
   },
   "source": [
    "---\n",
    "\n",
    "\n",
    "\n",
    "\n",
    "*Have questions or comments? Visit the [Learn Discussion forum](https://www.kaggle.com/learn-forum/161289) to chat with other Learners.*"
   ]
  }
 ],
 "metadata": {
  "kernelspec": {
   "display_name": "Python 3",
   "language": "python",
   "name": "python3"
  },
  "language_info": {
   "codemirror_mode": {
    "name": "ipython",
    "version": 3
   },
   "file_extension": ".py",
   "mimetype": "text/x-python",
   "name": "python",
   "nbconvert_exporter": "python",
   "pygments_lexer": "ipython3",
   "version": "3.7.12"
  },
  "papermill": {
   "default_parameters": {},
   "duration": 345.120492,
   "end_time": "2022-07-31T20:15:49.958079",
   "environment_variables": {},
   "exception": null,
   "input_path": "__notebook__.ipynb",
   "output_path": "__notebook__.ipynb",
   "parameters": {},
   "start_time": "2022-07-31T20:10:04.837587",
   "version": "2.3.4"
  }
 },
 "nbformat": 4,
 "nbformat_minor": 5
}
