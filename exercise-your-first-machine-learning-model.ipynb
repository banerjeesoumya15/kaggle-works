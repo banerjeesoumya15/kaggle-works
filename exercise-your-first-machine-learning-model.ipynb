{
 "cells": [
  {
   "cell_type": "markdown",
   "id": "ff36c8c7",
   "metadata": {
    "papermill": {
     "duration": 0.012829,
     "end_time": "2022-02-10T16:10:26.449007",
     "exception": false,
     "start_time": "2022-02-10T16:10:26.436178",
     "status": "completed"
    },
    "tags": []
   },
   "source": [
    "**This notebook is an exercise in the [Introduction to Machine Learning](https://www.kaggle.com/learn/intro-to-machine-learning) course.  You can reference the tutorial at [this link](https://www.kaggle.com/dansbecker/your-first-machine-learning-model).**\n",
    "\n",
    "---\n"
   ]
  },
  {
   "cell_type": "markdown",
   "id": "44729a07",
   "metadata": {
    "papermill": {
     "duration": 0.011254,
     "end_time": "2022-02-10T16:10:26.472073",
     "exception": false,
     "start_time": "2022-02-10T16:10:26.460819",
     "status": "completed"
    },
    "tags": []
   },
   "source": [
    "## Recap\n",
    "So far, you have loaded your data and reviewed it with the following code. Run this cell to set up your coding environment where the previous step left off."
   ]
  },
  {
   "cell_type": "code",
   "execution_count": 1,
   "id": "12633dec",
   "metadata": {
    "execution": {
     "iopub.execute_input": "2022-02-10T16:10:26.505600Z",
     "iopub.status.busy": "2022-02-10T16:10:26.503545Z",
     "iopub.status.idle": "2022-02-10T16:10:27.819262Z",
     "shell.execute_reply": "2022-02-10T16:10:27.818473Z",
     "shell.execute_reply.started": "2022-02-10T16:02:47.101814Z"
    },
    "papermill": {
     "duration": 1.336078,
     "end_time": "2022-02-10T16:10:27.819425",
     "exception": false,
     "start_time": "2022-02-10T16:10:26.483347",
     "status": "completed"
    },
    "tags": []
   },
   "outputs": [
    {
     "name": "stdout",
     "output_type": "stream",
     "text": [
      "Setup Complete\n"
     ]
    }
   ],
   "source": [
    "# Code you have previously used to load data\n",
    "import pandas as pd\n",
    "\n",
    "# Path of the file to read\n",
    "iowa_file_path = '../input/home-data-for-ml-course/train.csv'\n",
    "\n",
    "home_data = pd.read_csv(iowa_file_path)\n",
    "\n",
    "# Set up code checking\n",
    "from learntools.core import binder\n",
    "binder.bind(globals())\n",
    "from learntools.machine_learning.ex3 import *\n",
    "\n",
    "print(\"Setup Complete\")"
   ]
  },
  {
   "cell_type": "markdown",
   "id": "e0d65a63",
   "metadata": {
    "papermill": {
     "duration": 0.011318,
     "end_time": "2022-02-10T16:10:27.843400",
     "exception": false,
     "start_time": "2022-02-10T16:10:27.832082",
     "status": "completed"
    },
    "tags": []
   },
   "source": [
    "# Exercises\n",
    "\n",
    "## Step 1: Specify Prediction Target\n",
    "Select the target variable, which corresponds to the sales price. Save this to a new variable called `y`. You'll need to print a list of the columns to find the name of the column you need.\n"
   ]
  },
  {
   "cell_type": "code",
   "execution_count": 2,
   "id": "fad8d45e",
   "metadata": {
    "execution": {
     "iopub.execute_input": "2022-02-10T16:10:27.875238Z",
     "iopub.status.busy": "2022-02-10T16:10:27.874430Z",
     "iopub.status.idle": "2022-02-10T16:10:27.877982Z",
     "shell.execute_reply": "2022-02-10T16:10:27.878421Z",
     "shell.execute_reply.started": "2022-02-10T16:03:27.843244Z"
    },
    "papermill": {
     "duration": 0.023548,
     "end_time": "2022-02-10T16:10:27.878582",
     "exception": false,
     "start_time": "2022-02-10T16:10:27.855034",
     "status": "completed"
    },
    "tags": []
   },
   "outputs": [
    {
     "data": {
      "text/plain": [
       "Index(['Id', 'MSSubClass', 'MSZoning', 'LotFrontage', 'LotArea', 'Street',\n",
       "       'Alley', 'LotShape', 'LandContour', 'Utilities', 'LotConfig',\n",
       "       'LandSlope', 'Neighborhood', 'Condition1', 'Condition2', 'BldgType',\n",
       "       'HouseStyle', 'OverallQual', 'OverallCond', 'YearBuilt', 'YearRemodAdd',\n",
       "       'RoofStyle', 'RoofMatl', 'Exterior1st', 'Exterior2nd', 'MasVnrType',\n",
       "       'MasVnrArea', 'ExterQual', 'ExterCond', 'Foundation', 'BsmtQual',\n",
       "       'BsmtCond', 'BsmtExposure', 'BsmtFinType1', 'BsmtFinSF1',\n",
       "       'BsmtFinType2', 'BsmtFinSF2', 'BsmtUnfSF', 'TotalBsmtSF', 'Heating',\n",
       "       'HeatingQC', 'CentralAir', 'Electrical', '1stFlrSF', '2ndFlrSF',\n",
       "       'LowQualFinSF', 'GrLivArea', 'BsmtFullBath', 'BsmtHalfBath', 'FullBath',\n",
       "       'HalfBath', 'BedroomAbvGr', 'KitchenAbvGr', 'KitchenQual',\n",
       "       'TotRmsAbvGrd', 'Functional', 'Fireplaces', 'FireplaceQu', 'GarageType',\n",
       "       'GarageYrBlt', 'GarageFinish', 'GarageCars', 'GarageArea', 'GarageQual',\n",
       "       'GarageCond', 'PavedDrive', 'WoodDeckSF', 'OpenPorchSF',\n",
       "       'EnclosedPorch', '3SsnPorch', 'ScreenPorch', 'PoolArea', 'PoolQC',\n",
       "       'Fence', 'MiscFeature', 'MiscVal', 'MoSold', 'YrSold', 'SaleType',\n",
       "       'SaleCondition', 'SalePrice'],\n",
       "      dtype='object')"
      ]
     },
     "execution_count": 2,
     "metadata": {},
     "output_type": "execute_result"
    }
   ],
   "source": [
    "# print the list of columns in the dataset to find the name of the prediction target\n",
    "home_data.columns"
   ]
  },
  {
   "cell_type": "code",
   "execution_count": 3,
   "id": "c33245aa",
   "metadata": {
    "execution": {
     "iopub.execute_input": "2022-02-10T16:10:27.906397Z",
     "iopub.status.busy": "2022-02-10T16:10:27.905543Z",
     "iopub.status.idle": "2022-02-10T16:10:27.918243Z",
     "shell.execute_reply": "2022-02-10T16:10:27.918687Z",
     "shell.execute_reply.started": "2022-02-10T16:03:48.295213Z"
    },
    "papermill": {
     "duration": 0.028338,
     "end_time": "2022-02-10T16:10:27.918876",
     "exception": false,
     "start_time": "2022-02-10T16:10:27.890538",
     "status": "completed"
    },
    "tags": []
   },
   "outputs": [
    {
     "data": {
      "application/javascript": [
       "parent.postMessage({\"jupyterEvent\": \"custom.exercise_interaction\", \"data\": {\"outcomeType\": 1, \"valueTowardsCompletion\": 0.25, \"interactionType\": 1, \"questionType\": 2, \"questionId\": \"1_SetTarget\", \"learnToolsVersion\": \"0.3.4\", \"failureMessage\": \"\", \"exceptionClass\": \"\", \"trace\": \"\"}}, \"*\")"
      ],
      "text/plain": [
       "<IPython.core.display.Javascript object>"
      ]
     },
     "metadata": {},
     "output_type": "display_data"
    },
    {
     "data": {
      "text/markdown": [
       "<span style=\"color:#33cc33\">Correct</span>"
      ],
      "text/plain": [
       "Correct"
      ]
     },
     "metadata": {},
     "output_type": "display_data"
    }
   ],
   "source": [
    "y = home_data.SalePrice\n",
    "\n",
    "# Check your answer\n",
    "step_1.check()"
   ]
  },
  {
   "cell_type": "code",
   "execution_count": 4,
   "id": "ea771fc1",
   "metadata": {
    "collapsed": true,
    "execution": {
     "iopub.execute_input": "2022-02-10T16:10:27.949514Z",
     "iopub.status.busy": "2022-02-10T16:10:27.948914Z",
     "iopub.status.idle": "2022-02-10T16:10:27.951670Z",
     "shell.execute_reply": "2022-02-10T16:10:27.952117Z"
    },
    "jupyter": {
     "outputs_hidden": true
    },
    "papermill": {
     "duration": 0.019639,
     "end_time": "2022-02-10T16:10:27.952336",
     "exception": false,
     "start_time": "2022-02-10T16:10:27.932697",
     "status": "completed"
    },
    "tags": []
   },
   "outputs": [],
   "source": [
    "# The lines below will show you a hint or the solution.\n",
    "# step_1.hint() \n",
    "# step_1.solution()"
   ]
  },
  {
   "cell_type": "markdown",
   "id": "16065004",
   "metadata": {
    "papermill": {
     "duration": 0.012743,
     "end_time": "2022-02-10T16:10:27.978883",
     "exception": false,
     "start_time": "2022-02-10T16:10:27.966140",
     "status": "completed"
    },
    "tags": []
   },
   "source": [
    "## Step 2: Create X\n",
    "Now you will create a DataFrame called `X` holding the predictive features.\n",
    "\n",
    "Since you want only some columns from the original data, you'll first create a list with the names of the columns you want in `X`.\n",
    "\n",
    "You'll use just the following columns in the list (you can copy and paste the whole list to save some typing, though you'll still need to add quotes):\n",
    "  * LotArea\n",
    "  * YearBuilt\n",
    "  * 1stFlrSF\n",
    "  * 2ndFlrSF\n",
    "  * FullBath\n",
    "  * BedroomAbvGr\n",
    "  * TotRmsAbvGrd\n",
    "\n",
    "After you've created that list of features, use it to create the DataFrame that you'll use to fit the model."
   ]
  },
  {
   "cell_type": "code",
   "execution_count": 5,
   "id": "0956887b",
   "metadata": {
    "execution": {
     "iopub.execute_input": "2022-02-10T16:10:28.016660Z",
     "iopub.status.busy": "2022-02-10T16:10:28.016018Z",
     "iopub.status.idle": "2022-02-10T16:10:28.021169Z",
     "shell.execute_reply": "2022-02-10T16:10:28.020683Z",
     "shell.execute_reply.started": "2022-02-10T16:06:16.530648Z"
    },
    "papermill": {
     "duration": 0.029276,
     "end_time": "2022-02-10T16:10:28.021300",
     "exception": false,
     "start_time": "2022-02-10T16:10:27.992024",
     "status": "completed"
    },
    "tags": []
   },
   "outputs": [
    {
     "data": {
      "application/javascript": [
       "parent.postMessage({\"jupyterEvent\": \"custom.exercise_interaction\", \"data\": {\"outcomeType\": 1, \"valueTowardsCompletion\": 0.25, \"interactionType\": 1, \"questionType\": 2, \"questionId\": \"2_SelectPredictionData\", \"learnToolsVersion\": \"0.3.4\", \"failureMessage\": \"\", \"exceptionClass\": \"\", \"trace\": \"\"}}, \"*\")"
      ],
      "text/plain": [
       "<IPython.core.display.Javascript object>"
      ]
     },
     "metadata": {},
     "output_type": "display_data"
    },
    {
     "data": {
      "text/markdown": [
       "<span style=\"color:#33cc33\">Correct</span>"
      ],
      "text/plain": [
       "Correct"
      ]
     },
     "metadata": {},
     "output_type": "display_data"
    }
   ],
   "source": [
    "# Create the list of features below\n",
    "feature_names = [\n",
    "    'LotArea',\n",
    "    'YearBuilt',\n",
    "    '1stFlrSF',\n",
    "    '2ndFlrSF',\n",
    "    'FullBath',\n",
    "    'BedroomAbvGr',\n",
    "    'TotRmsAbvGrd'\n",
    "]\n",
    "\n",
    "# Select data corresponding to features in feature_names\n",
    "X = home_data[feature_names]\n",
    "\n",
    "# Check your answer\n",
    "step_2.check()"
   ]
  },
  {
   "cell_type": "code",
   "execution_count": 6,
   "id": "42be348e",
   "metadata": {
    "collapsed": true,
    "execution": {
     "iopub.execute_input": "2022-02-10T16:10:28.054488Z",
     "iopub.status.busy": "2022-02-10T16:10:28.053810Z",
     "iopub.status.idle": "2022-02-10T16:10:28.055567Z",
     "shell.execute_reply": "2022-02-10T16:10:28.056043Z"
    },
    "jupyter": {
     "outputs_hidden": true
    },
    "papermill": {
     "duration": 0.020403,
     "end_time": "2022-02-10T16:10:28.056217",
     "exception": false,
     "start_time": "2022-02-10T16:10:28.035814",
     "status": "completed"
    },
    "tags": []
   },
   "outputs": [],
   "source": [
    "# step_2.hint()\n",
    "# step_2.solution()"
   ]
  },
  {
   "cell_type": "markdown",
   "id": "58db8b05",
   "metadata": {
    "papermill": {
     "duration": 0.013241,
     "end_time": "2022-02-10T16:10:28.083281",
     "exception": false,
     "start_time": "2022-02-10T16:10:28.070040",
     "status": "completed"
    },
    "tags": []
   },
   "source": [
    "## Review Data\n",
    "Before building a model, take a quick look at **X** to verify it looks sensible"
   ]
  },
  {
   "cell_type": "code",
   "execution_count": 7,
   "id": "3a68725a",
   "metadata": {
    "execution": {
     "iopub.execute_input": "2022-02-10T16:10:28.114635Z",
     "iopub.status.busy": "2022-02-10T16:10:28.114019Z",
     "iopub.status.idle": "2022-02-10T16:10:28.145275Z",
     "shell.execute_reply": "2022-02-10T16:10:28.145784Z",
     "shell.execute_reply.started": "2022-02-10T16:06:49.892066Z"
    },
    "papermill": {
     "duration": 0.048239,
     "end_time": "2022-02-10T16:10:28.145986",
     "exception": false,
     "start_time": "2022-02-10T16:10:28.097747",
     "status": "completed"
    },
    "tags": []
   },
   "outputs": [
    {
     "name": "stdout",
     "output_type": "stream",
     "text": [
      "             LotArea    YearBuilt     1stFlrSF     2ndFlrSF     FullBath  \\\n",
      "count    1460.000000  1460.000000  1460.000000  1460.000000  1460.000000   \n",
      "mean    10516.828082  1971.267808  1162.626712   346.992466     1.565068   \n",
      "std      9981.264932    30.202904   386.587738   436.528436     0.550916   \n",
      "min      1300.000000  1872.000000   334.000000     0.000000     0.000000   \n",
      "25%      7553.500000  1954.000000   882.000000     0.000000     1.000000   \n",
      "50%      9478.500000  1973.000000  1087.000000     0.000000     2.000000   \n",
      "75%     11601.500000  2000.000000  1391.250000   728.000000     2.000000   \n",
      "max    215245.000000  2010.000000  4692.000000  2065.000000     3.000000   \n",
      "\n",
      "       BedroomAbvGr  TotRmsAbvGrd  \n",
      "count   1460.000000   1460.000000  \n",
      "mean       2.866438      6.517808  \n",
      "std        0.815778      1.625393  \n",
      "min        0.000000      2.000000  \n",
      "25%        2.000000      5.000000  \n",
      "50%        3.000000      6.000000  \n",
      "75%        3.000000      7.000000  \n",
      "max        8.000000     14.000000  \n",
      "   LotArea  YearBuilt  1stFlrSF  2ndFlrSF  FullBath  BedroomAbvGr  \\\n",
      "0     8450       2003       856       854         2             3   \n",
      "1     9600       1976      1262         0         2             3   \n",
      "2    11250       2001       920       866         2             3   \n",
      "3     9550       1915       961       756         1             3   \n",
      "4    14260       2000      1145      1053         2             4   \n",
      "\n",
      "   TotRmsAbvGrd  \n",
      "0             8  \n",
      "1             6  \n",
      "2             6  \n",
      "3             7  \n",
      "4             9  \n"
     ]
    }
   ],
   "source": [
    "# Review data\n",
    "# print description or statistics from X\n",
    "print(X.describe())\n",
    "\n",
    "# print the top few lines\n",
    "print(X.head())"
   ]
  },
  {
   "cell_type": "markdown",
   "id": "58c5d06e",
   "metadata": {
    "papermill": {
     "duration": 0.013513,
     "end_time": "2022-02-10T16:10:28.173542",
     "exception": false,
     "start_time": "2022-02-10T16:10:28.160029",
     "status": "completed"
    },
    "tags": []
   },
   "source": [
    "## Step 3: Specify and Fit Model\n",
    "Create a `DecisionTreeRegressor` and save it iowa_model. Ensure you've done the relevant import from sklearn to run this command.\n",
    "\n",
    "Then fit the model you just created using the data in `X` and `y` that you saved above."
   ]
  },
  {
   "cell_type": "code",
   "execution_count": 8,
   "id": "63b7fe1d",
   "metadata": {
    "execution": {
     "iopub.execute_input": "2022-02-10T16:10:28.204140Z",
     "iopub.status.busy": "2022-02-10T16:10:28.203549Z",
     "iopub.status.idle": "2022-02-10T16:10:28.220446Z",
     "shell.execute_reply": "2022-02-10T16:10:28.220917Z",
     "shell.execute_reply.started": "2022-02-10T16:08:46.813661Z"
    },
    "papermill": {
     "duration": 0.033665,
     "end_time": "2022-02-10T16:10:28.221096",
     "exception": false,
     "start_time": "2022-02-10T16:10:28.187431",
     "status": "completed"
    },
    "tags": []
   },
   "outputs": [
    {
     "data": {
      "application/javascript": [
       "parent.postMessage({\"jupyterEvent\": \"custom.exercise_interaction\", \"data\": {\"outcomeType\": 1, \"valueTowardsCompletion\": 0.25, \"interactionType\": 1, \"questionType\": 2, \"questionId\": \"3_CreateModel\", \"learnToolsVersion\": \"0.3.4\", \"failureMessage\": \"\", \"exceptionClass\": \"\", \"trace\": \"\"}}, \"*\")"
      ],
      "text/plain": [
       "<IPython.core.display.Javascript object>"
      ]
     },
     "metadata": {},
     "output_type": "display_data"
    },
    {
     "data": {
      "text/markdown": [
       "<span style=\"color:#33cc33\">Correct</span>"
      ],
      "text/plain": [
       "Correct"
      ]
     },
     "metadata": {},
     "output_type": "display_data"
    }
   ],
   "source": [
    "from sklearn.tree import DecisionTreeRegressor\n",
    "#specify the model. \n",
    "#For model reproducibility, set a numeric value for random_state when specifying the model\n",
    "iowa_model = DecisionTreeRegressor(random_state=1)\n",
    "\n",
    "# Fit the model\n",
    "iowa_model.fit(X,y)\n",
    "\n",
    "# Check your answer\n",
    "step_3.check()"
   ]
  },
  {
   "cell_type": "code",
   "execution_count": 9,
   "id": "749df387",
   "metadata": {
    "collapsed": true,
    "execution": {
     "iopub.execute_input": "2022-02-10T16:10:28.254424Z",
     "iopub.status.busy": "2022-02-10T16:10:28.253120Z",
     "iopub.status.idle": "2022-02-10T16:10:28.256413Z",
     "shell.execute_reply": "2022-02-10T16:10:28.256939Z"
    },
    "jupyter": {
     "outputs_hidden": true
    },
    "papermill": {
     "duration": 0.021408,
     "end_time": "2022-02-10T16:10:28.257114",
     "exception": false,
     "start_time": "2022-02-10T16:10:28.235706",
     "status": "completed"
    },
    "tags": []
   },
   "outputs": [],
   "source": [
    "# step_3.hint()\n",
    "# step_3.solution()"
   ]
  },
  {
   "cell_type": "markdown",
   "id": "7baeb0f7",
   "metadata": {
    "papermill": {
     "duration": 0.014437,
     "end_time": "2022-02-10T16:10:28.286555",
     "exception": false,
     "start_time": "2022-02-10T16:10:28.272118",
     "status": "completed"
    },
    "tags": []
   },
   "source": [
    "## Step 4: Make Predictions\n",
    "Make predictions with the model's `predict` command using `X` as the data. Save the results to a variable called `predictions`."
   ]
  },
  {
   "cell_type": "code",
   "execution_count": 10,
   "id": "9e621019",
   "metadata": {
    "execution": {
     "iopub.execute_input": "2022-02-10T16:10:28.318972Z",
     "iopub.status.busy": "2022-02-10T16:10:28.318370Z",
     "iopub.status.idle": "2022-02-10T16:10:28.329651Z",
     "shell.execute_reply": "2022-02-10T16:10:28.330110Z",
     "shell.execute_reply.started": "2022-02-10T16:09:23.747179Z"
    },
    "papermill": {
     "duration": 0.02897,
     "end_time": "2022-02-10T16:10:28.330276",
     "exception": false,
     "start_time": "2022-02-10T16:10:28.301306",
     "status": "completed"
    },
    "tags": []
   },
   "outputs": [
    {
     "name": "stdout",
     "output_type": "stream",
     "text": [
      "[208500. 181500. 223500. ... 266500. 142125. 147500.]\n"
     ]
    },
    {
     "data": {
      "application/javascript": [
       "parent.postMessage({\"jupyterEvent\": \"custom.exercise_interaction\", \"data\": {\"outcomeType\": 1, \"valueTowardsCompletion\": 0.25, \"interactionType\": 1, \"questionType\": 2, \"questionId\": \"4_MakePredictions\", \"learnToolsVersion\": \"0.3.4\", \"failureMessage\": \"\", \"exceptionClass\": \"\", \"trace\": \"\"}}, \"*\")"
      ],
      "text/plain": [
       "<IPython.core.display.Javascript object>"
      ]
     },
     "metadata": {},
     "output_type": "display_data"
    },
    {
     "data": {
      "text/markdown": [
       "<span style=\"color:#33cc33\">Correct</span>"
      ],
      "text/plain": [
       "Correct"
      ]
     },
     "metadata": {},
     "output_type": "display_data"
    }
   ],
   "source": [
    "predictions = iowa_model.predict(X)\n",
    "print(predictions)\n",
    "\n",
    "# Check your answer\n",
    "step_4.check()"
   ]
  },
  {
   "cell_type": "code",
   "execution_count": 11,
   "id": "deab13d6",
   "metadata": {
    "collapsed": true,
    "execution": {
     "iopub.execute_input": "2022-02-10T16:10:28.367510Z",
     "iopub.status.busy": "2022-02-10T16:10:28.366863Z",
     "iopub.status.idle": "2022-02-10T16:10:28.368482Z",
     "shell.execute_reply": "2022-02-10T16:10:28.368931Z"
    },
    "jupyter": {
     "outputs_hidden": true
    },
    "papermill": {
     "duration": 0.021462,
     "end_time": "2022-02-10T16:10:28.369100",
     "exception": false,
     "start_time": "2022-02-10T16:10:28.347638",
     "status": "completed"
    },
    "tags": []
   },
   "outputs": [],
   "source": [
    "# step_4.hint()\n",
    "# step_4.solution()"
   ]
  },
  {
   "cell_type": "markdown",
   "id": "a1152cc6",
   "metadata": {
    "papermill": {
     "duration": 0.015376,
     "end_time": "2022-02-10T16:10:28.400249",
     "exception": false,
     "start_time": "2022-02-10T16:10:28.384873",
     "status": "completed"
    },
    "tags": []
   },
   "source": [
    "## Think About Your Results\n",
    "\n",
    "Use the `head` method to compare the top few predictions to the actual home values (in `y`) for those same homes. Anything surprising?\n"
   ]
  },
  {
   "cell_type": "code",
   "execution_count": 12,
   "id": "21630068",
   "metadata": {
    "execution": {
     "iopub.execute_input": "2022-02-10T16:10:28.438235Z",
     "iopub.status.busy": "2022-02-10T16:10:28.437341Z",
     "iopub.status.idle": "2022-02-10T16:10:28.441447Z",
     "shell.execute_reply": "2022-02-10T16:10:28.440780Z",
     "shell.execute_reply.started": "2022-02-10T16:09:50.157816Z"
    },
    "papermill": {
     "duration": 0.025631,
     "end_time": "2022-02-10T16:10:28.441588",
     "exception": false,
     "start_time": "2022-02-10T16:10:28.415957",
     "status": "completed"
    },
    "tags": []
   },
   "outputs": [
    {
     "data": {
      "text/plain": [
       "0    208500\n",
       "1    181500\n",
       "2    223500\n",
       "3    140000\n",
       "4    250000\n",
       "Name: SalePrice, dtype: int64"
      ]
     },
     "execution_count": 12,
     "metadata": {},
     "output_type": "execute_result"
    }
   ],
   "source": [
    "# You can write code in this cell\n",
    "y.head()"
   ]
  },
  {
   "cell_type": "markdown",
   "id": "fa9ef87e",
   "metadata": {
    "papermill": {
     "duration": 0.015695,
     "end_time": "2022-02-10T16:10:28.473308",
     "exception": false,
     "start_time": "2022-02-10T16:10:28.457613",
     "status": "completed"
    },
    "tags": []
   },
   "source": [
    "It's natural to ask how accurate the model's predictions will be and how you can improve that. That will be you're next step.\n",
    "\n",
    "# Keep Going\n",
    "\n",
    "You are ready for **[Model Validation](https://www.kaggle.com/dansbecker/model-validation).**\n"
   ]
  },
  {
   "cell_type": "markdown",
   "id": "583f9cbe",
   "metadata": {
    "papermill": {
     "duration": 0.015871,
     "end_time": "2022-02-10T16:10:28.505185",
     "exception": false,
     "start_time": "2022-02-10T16:10:28.489314",
     "status": "completed"
    },
    "tags": []
   },
   "source": [
    "---\n",
    "\n",
    "\n",
    "\n",
    "\n",
    "*Have questions or comments? Visit the [course discussion forum](https://www.kaggle.com/learn/intro-to-machine-learning/discussion) to chat with other learners.*"
   ]
  }
 ],
 "metadata": {
  "kernelspec": {
   "display_name": "Python 3",
   "language": "python",
   "name": "python3"
  },
  "language_info": {
   "codemirror_mode": {
    "name": "ipython",
    "version": 3
   },
   "file_extension": ".py",
   "mimetype": "text/x-python",
   "name": "python",
   "nbconvert_exporter": "python",
   "pygments_lexer": "ipython3",
   "version": "3.7.12"
  },
  "papermill": {
   "default_parameters": {},
   "duration": 11.395653,
   "end_time": "2022-02-10T16:10:29.231438",
   "environment_variables": {},
   "exception": null,
   "input_path": "__notebook__.ipynb",
   "output_path": "__notebook__.ipynb",
   "parameters": {},
   "start_time": "2022-02-10T16:10:17.835785",
   "version": "2.3.3"
  }
 },
 "nbformat": 4,
 "nbformat_minor": 5
}
