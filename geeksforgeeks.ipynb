{
 "cells": [
  {
   "cell_type": "code",
   "execution_count": 1,
   "id": "675dc06e",
   "metadata": {
    "_cell_guid": "b1076dfc-b9ad-4769-8c92-a6c4dae69d19",
    "_uuid": "8f2839f25d086af736a60e9eeb907d3b93b6e0e5",
    "execution": {
     "iopub.execute_input": "2022-02-24T19:43:04.554429Z",
     "iopub.status.busy": "2022-02-24T19:43:04.553154Z",
     "iopub.status.idle": "2022-02-24T19:43:04.573742Z",
     "shell.execute_reply": "2022-02-24T19:43:04.574258Z",
     "shell.execute_reply.started": "2022-02-24T18:58:16.383705Z"
    },
    "papermill": {
     "duration": 0.048316,
     "end_time": "2022-02-24T19:43:04.574564",
     "exception": false,
     "start_time": "2022-02-24T19:43:04.526248",
     "status": "completed"
    },
    "tags": []
   },
   "outputs": [
    {
     "name": "stdout",
     "output_type": "stream",
     "text": [
      "/kaggle/input/geeksforgeeks-articles/articles.csv\n"
     ]
    }
   ],
   "source": [
    "# This Python 3 environment comes with many helpful analytics libraries installed\n",
    "# It is defined by the kaggle/python Docker image: https://github.com/kaggle/docker-python\n",
    "# For example, here's several helpful packages to load\n",
    "\n",
    "import numpy as np # linear algebra\n",
    "import pandas as pd # data processing, CSV file I/O (e.g. pd.read_csv)\n",
    "\n",
    "# Input data files are available in the read-only \"../input/\" directory\n",
    "# For example, running this (by clicking run or pressing Shift+Enter) will list all files under the input directory\n",
    "\n",
    "import os\n",
    "for dirname, _, filenames in os.walk('/kaggle/input'):\n",
    "    for filename in filenames:\n",
    "        print(os.path.join(dirname, filename))\n",
    "\n",
    "# You can write up to 20GB to the current directory (/kaggle/working/) that gets preserved as output when you create a version using \"Save & Run All\" \n",
    "# You can also write temporary files to /kaggle/temp/, but they won't be saved outside of the current session"
   ]
  },
  {
   "cell_type": "code",
   "execution_count": 2,
   "id": "361a508a",
   "metadata": {
    "execution": {
     "iopub.execute_input": "2022-02-24T19:43:04.623673Z",
     "iopub.status.busy": "2022-02-24T19:43:04.622968Z",
     "iopub.status.idle": "2022-02-24T19:43:04.625638Z",
     "shell.execute_reply": "2022-02-24T19:43:04.625020Z"
    },
    "papermill": {
     "duration": 0.028561,
     "end_time": "2022-02-24T19:43:04.625781",
     "exception": false,
     "start_time": "2022-02-24T19:43:04.597220",
     "status": "completed"
    },
    "tags": []
   },
   "outputs": [],
   "source": [
    "# import packages"
   ]
  },
  {
   "cell_type": "markdown",
   "id": "086bd51c",
   "metadata": {
    "papermill": {
     "duration": 0.021617,
     "end_time": "2022-02-24T19:43:04.670064",
     "exception": false,
     "start_time": "2022-02-24T19:43:04.648447",
     "status": "completed"
    },
    "tags": []
   },
   "source": [
    "## Dataset Inspection"
   ]
  },
  {
   "cell_type": "code",
   "execution_count": 3,
   "id": "654d381d",
   "metadata": {
    "execution": {
     "iopub.execute_input": "2022-02-24T19:43:04.717501Z",
     "iopub.status.busy": "2022-02-24T19:43:04.716824Z",
     "iopub.status.idle": "2022-02-24T19:43:04.917958Z",
     "shell.execute_reply": "2022-02-24T19:43:04.918488Z",
     "shell.execute_reply.started": "2022-02-24T19:01:11.784777Z"
    },
    "papermill": {
     "duration": 0.226834,
     "end_time": "2022-02-24T19:43:04.918664",
     "exception": false,
     "start_time": "2022-02-24T19:43:04.691830",
     "status": "completed"
    },
    "tags": []
   },
   "outputs": [
    {
     "data": {
      "text/html": [
       "<div>\n",
       "<style scoped>\n",
       "    .dataframe tbody tr th:only-of-type {\n",
       "        vertical-align: middle;\n",
       "    }\n",
       "\n",
       "    .dataframe tbody tr th {\n",
       "        vertical-align: top;\n",
       "    }\n",
       "\n",
       "    .dataframe thead th {\n",
       "        text-align: right;\n",
       "    }\n",
       "</style>\n",
       "<table border=\"1\" class=\"dataframe\">\n",
       "  <thead>\n",
       "    <tr style=\"text-align: right;\">\n",
       "      <th></th>\n",
       "      <th>title</th>\n",
       "      <th>author_id</th>\n",
       "      <th>last_updated</th>\n",
       "      <th>link</th>\n",
       "      <th>category</th>\n",
       "    </tr>\n",
       "  </thead>\n",
       "  <tbody>\n",
       "    <tr>\n",
       "      <th>0</th>\n",
       "      <td>5 Best Practices For Writing SQL Joins</td>\n",
       "      <td>priyankab14</td>\n",
       "      <td>21 Feb, 2022</td>\n",
       "      <td>https://www.geeksforgeeks.org/5-best-practices...</td>\n",
       "      <td>easy</td>\n",
       "    </tr>\n",
       "    <tr>\n",
       "      <th>1</th>\n",
       "      <td>Foundation CSS Dropdown Menu</td>\n",
       "      <td>ishankhandelwals</td>\n",
       "      <td>20 Feb, 2022</td>\n",
       "      <td>https://www.geeksforgeeks.org/foundation-css-d...</td>\n",
       "      <td>easy</td>\n",
       "    </tr>\n",
       "    <tr>\n",
       "      <th>2</th>\n",
       "      <td>Top 20 Excel Shortcuts That You Need To Know</td>\n",
       "      <td>priyankab14</td>\n",
       "      <td>17 Feb, 2022</td>\n",
       "      <td>https://www.geeksforgeeks.org/top-20-excel-sho...</td>\n",
       "      <td>easy</td>\n",
       "    </tr>\n",
       "    <tr>\n",
       "      <th>3</th>\n",
       "      <td>Servlet – Fetching Result</td>\n",
       "      <td>nishatiwari1719</td>\n",
       "      <td>17 Feb, 2022</td>\n",
       "      <td>https://www.geeksforgeeks.org/servlet-fetching...</td>\n",
       "      <td>easy</td>\n",
       "    </tr>\n",
       "    <tr>\n",
       "      <th>4</th>\n",
       "      <td>Suffix Sum Array</td>\n",
       "      <td>rohit768</td>\n",
       "      <td>21 Feb, 2022</td>\n",
       "      <td>https://www.geeksforgeeks.org/suffix-sum-array/</td>\n",
       "      <td>easy</td>\n",
       "    </tr>\n",
       "  </tbody>\n",
       "</table>\n",
       "</div>"
      ],
      "text/plain": [
       "                                          title         author_id  \\\n",
       "0        5 Best Practices For Writing SQL Joins       priyankab14   \n",
       "1                  Foundation CSS Dropdown Menu  ishankhandelwals   \n",
       "2  Top 20 Excel Shortcuts That You Need To Know       priyankab14   \n",
       "3                     Servlet – Fetching Result   nishatiwari1719   \n",
       "4                              Suffix Sum Array          rohit768   \n",
       "\n",
       "   last_updated                                               link category  \n",
       "0  21 Feb, 2022  https://www.geeksforgeeks.org/5-best-practices...     easy  \n",
       "1  20 Feb, 2022  https://www.geeksforgeeks.org/foundation-css-d...     easy  \n",
       "2  17 Feb, 2022  https://www.geeksforgeeks.org/top-20-excel-sho...     easy  \n",
       "3  17 Feb, 2022  https://www.geeksforgeeks.org/servlet-fetching...     easy  \n",
       "4  21 Feb, 2022    https://www.geeksforgeeks.org/suffix-sum-array/     easy  "
      ]
     },
     "execution_count": 3,
     "metadata": {},
     "output_type": "execute_result"
    }
   ],
   "source": [
    "df = pd.read_csv(\"/kaggle/input/geeksforgeeks-articles/articles.csv\")\n",
    "df.head()"
   ]
  },
  {
   "cell_type": "markdown",
   "id": "6fbcefc2",
   "metadata": {
    "papermill": {
     "duration": 0.022438,
     "end_time": "2022-02-24T19:43:04.963424",
     "exception": false,
     "start_time": "2022-02-24T19:43:04.940986",
     "status": "completed"
    },
    "tags": []
   },
   "source": [
    "### Shape"
   ]
  },
  {
   "cell_type": "code",
   "execution_count": 4,
   "id": "f39d47de",
   "metadata": {
    "execution": {
     "iopub.execute_input": "2022-02-24T19:43:05.013396Z",
     "iopub.status.busy": "2022-02-24T19:43:05.010971Z",
     "iopub.status.idle": "2022-02-24T19:43:05.016530Z",
     "shell.execute_reply": "2022-02-24T19:43:05.017003Z",
     "shell.execute_reply.started": "2022-02-24T19:10:05.672125Z"
    },
    "papermill": {
     "duration": 0.031116,
     "end_time": "2022-02-24T19:43:05.017172",
     "exception": false,
     "start_time": "2022-02-24T19:43:04.986056",
     "status": "completed"
    },
    "tags": []
   },
   "outputs": [
    {
     "data": {
      "text/plain": [
       "(34574, 5)"
      ]
     },
     "execution_count": 4,
     "metadata": {},
     "output_type": "execute_result"
    }
   ],
   "source": [
    "df.shape"
   ]
  },
  {
   "cell_type": "markdown",
   "id": "11a093d2",
   "metadata": {
    "papermill": {
     "duration": 0.022774,
     "end_time": "2022-02-24T19:43:05.062745",
     "exception": false,
     "start_time": "2022-02-24T19:43:05.039971",
     "status": "completed"
    },
    "tags": []
   },
   "source": [
    "The dataset has 34574 rows and 5 columns."
   ]
  },
  {
   "cell_type": "markdown",
   "id": "52aa55c4",
   "metadata": {
    "papermill": {
     "duration": 0.022089,
     "end_time": "2022-02-24T19:43:05.107394",
     "exception": false,
     "start_time": "2022-02-24T19:43:05.085305",
     "status": "completed"
    },
    "tags": []
   },
   "source": [
    "### Info"
   ]
  },
  {
   "cell_type": "code",
   "execution_count": 5,
   "id": "e6c93c35",
   "metadata": {
    "execution": {
     "iopub.execute_input": "2022-02-24T19:43:05.155837Z",
     "iopub.status.busy": "2022-02-24T19:43:05.155130Z",
     "iopub.status.idle": "2022-02-24T19:43:05.195711Z",
     "shell.execute_reply": "2022-02-24T19:43:05.196335Z",
     "shell.execute_reply.started": "2022-02-24T19:09:45.086279Z"
    },
    "papermill": {
     "duration": 0.06657,
     "end_time": "2022-02-24T19:43:05.196522",
     "exception": false,
     "start_time": "2022-02-24T19:43:05.129952",
     "status": "completed"
    },
    "tags": []
   },
   "outputs": [
    {
     "name": "stdout",
     "output_type": "stream",
     "text": [
      "<class 'pandas.core.frame.DataFrame'>\n",
      "RangeIndex: 34574 entries, 0 to 34573\n",
      "Data columns (total 5 columns):\n",
      " #   Column        Non-Null Count  Dtype \n",
      "---  ------        --------------  ----- \n",
      " 0   title         34574 non-null  object\n",
      " 1   author_id     34555 non-null  object\n",
      " 2   last_updated  34556 non-null  object\n",
      " 3   link          34574 non-null  object\n",
      " 4   category      34574 non-null  object\n",
      "dtypes: object(5)\n",
      "memory usage: 1.3+ MB\n"
     ]
    }
   ],
   "source": [
    "df.info()"
   ]
  },
  {
   "cell_type": "markdown",
   "id": "70734d19",
   "metadata": {
    "papermill": {
     "duration": 0.022758,
     "end_time": "2022-02-24T19:43:05.242271",
     "exception": false,
     "start_time": "2022-02-24T19:43:05.219513",
     "status": "completed"
    },
    "tags": []
   },
   "source": [
    "### Columns"
   ]
  },
  {
   "cell_type": "code",
   "execution_count": 6,
   "id": "700fac37",
   "metadata": {
    "execution": {
     "iopub.execute_input": "2022-02-24T19:43:05.294618Z",
     "iopub.status.busy": "2022-02-24T19:43:05.293864Z",
     "iopub.status.idle": "2022-02-24T19:43:05.296937Z",
     "shell.execute_reply": "2022-02-24T19:43:05.297486Z",
     "shell.execute_reply.started": "2022-02-24T19:02:12.125727Z"
    },
    "papermill": {
     "duration": 0.031058,
     "end_time": "2022-02-24T19:43:05.297653",
     "exception": false,
     "start_time": "2022-02-24T19:43:05.266595",
     "status": "completed"
    },
    "tags": []
   },
   "outputs": [
    {
     "name": "stdout",
     "output_type": "stream",
     "text": [
      "title\n",
      "author_id\n",
      "last_updated\n",
      "link\n",
      "category\n"
     ]
    }
   ],
   "source": [
    "for col in df.columns:\n",
    "    print(col)"
   ]
  },
  {
   "cell_type": "markdown",
   "id": "c91c27ec",
   "metadata": {
    "papermill": {
     "duration": 0.022912,
     "end_time": "2022-02-24T19:43:05.343697",
     "exception": false,
     "start_time": "2022-02-24T19:43:05.320785",
     "status": "completed"
    },
    "tags": []
   },
   "source": [
    "### Missing values"
   ]
  },
  {
   "cell_type": "code",
   "execution_count": 7,
   "id": "4f0f75b6",
   "metadata": {
    "execution": {
     "iopub.execute_input": "2022-02-24T19:43:05.413984Z",
     "iopub.status.busy": "2022-02-24T19:43:05.413000Z",
     "iopub.status.idle": "2022-02-24T19:43:05.418986Z",
     "shell.execute_reply": "2022-02-24T19:43:05.419679Z",
     "shell.execute_reply.started": "2022-02-24T19:02:51.707945Z"
    },
    "papermill": {
     "duration": 0.052844,
     "end_time": "2022-02-24T19:43:05.419867",
     "exception": false,
     "start_time": "2022-02-24T19:43:05.367023",
     "status": "completed"
    },
    "tags": []
   },
   "outputs": [
    {
     "data": {
      "text/plain": [
       "title            0\n",
       "author_id       19\n",
       "last_updated    18\n",
       "link             0\n",
       "category         0\n",
       "dtype: int64"
      ]
     },
     "execution_count": 7,
     "metadata": {},
     "output_type": "execute_result"
    }
   ],
   "source": [
    "df.isna().sum()"
   ]
  },
  {
   "cell_type": "markdown",
   "id": "9e2d153e",
   "metadata": {
    "papermill": {
     "duration": 0.023392,
     "end_time": "2022-02-24T19:43:05.467049",
     "exception": false,
     "start_time": "2022-02-24T19:43:05.443657",
     "status": "completed"
    },
    "tags": []
   },
   "source": [
    "19 an 18 missing values in `author_id` and `last_updated` columns respectively."
   ]
  },
  {
   "cell_type": "code",
   "execution_count": 8,
   "id": "b166bb1a",
   "metadata": {
    "execution": {
     "iopub.execute_input": "2022-02-24T19:43:05.517285Z",
     "iopub.status.busy": "2022-02-24T19:43:05.516681Z",
     "iopub.status.idle": "2022-02-24T19:43:05.538544Z",
     "shell.execute_reply": "2022-02-24T19:43:05.539045Z",
     "shell.execute_reply.started": "2022-02-24T19:08:40.553804Z"
    },
    "papermill": {
     "duration": 0.048545,
     "end_time": "2022-02-24T19:43:05.539210",
     "exception": false,
     "start_time": "2022-02-24T19:43:05.490665",
     "status": "completed"
    },
    "tags": []
   },
   "outputs": [
    {
     "data": {
      "text/html": [
       "<div>\n",
       "<style scoped>\n",
       "    .dataframe tbody tr th:only-of-type {\n",
       "        vertical-align: middle;\n",
       "    }\n",
       "\n",
       "    .dataframe tbody tr th {\n",
       "        vertical-align: top;\n",
       "    }\n",
       "\n",
       "    .dataframe thead th {\n",
       "        text-align: right;\n",
       "    }\n",
       "</style>\n",
       "<table border=\"1\" class=\"dataframe\">\n",
       "  <thead>\n",
       "    <tr style=\"text-align: right;\">\n",
       "      <th></th>\n",
       "      <th>title</th>\n",
       "      <th>author_id</th>\n",
       "      <th>last_updated</th>\n",
       "      <th>link</th>\n",
       "      <th>category</th>\n",
       "    </tr>\n",
       "  </thead>\n",
       "  <tbody>\n",
       "    <tr>\n",
       "      <th>2353</th>\n",
       "      <td>How to put an input element on the same line a...</td>\n",
       "      <td>mansiagrawal2103</td>\n",
       "      <td>NaN</td>\n",
       "      <td>https://www.geeksforgeeks.org/how-to-put-an-in...</td>\n",
       "      <td>easy</td>\n",
       "    </tr>\n",
       "    <tr>\n",
       "      <th>8234</th>\n",
       "      <td>Puzzles</td>\n",
       "      <td>NaN</td>\n",
       "      <td>23 Jul, 2018</td>\n",
       "      <td>https://www.geeksforgeeks.org/puzzles/</td>\n",
       "      <td>easy</td>\n",
       "    </tr>\n",
       "    <tr>\n",
       "      <th>9656</th>\n",
       "      <td>Majority Element</td>\n",
       "      <td>NaN</td>\n",
       "      <td>NaN</td>\n",
       "      <td>https://www.geeksforgeeks.org/majority-element/</td>\n",
       "      <td>easy</td>\n",
       "    </tr>\n",
       "    <tr>\n",
       "      <th>9657</th>\n",
       "      <td>Given an array A[] and a number x, check for p...</td>\n",
       "      <td>NaN</td>\n",
       "      <td>NaN</td>\n",
       "      <td>https://www.geeksforgeeks.org/given-an-array-a...</td>\n",
       "      <td>easy</td>\n",
       "    </tr>\n",
       "    <tr>\n",
       "      <th>9658</th>\n",
       "      <td>Output of the program | Dereference, Reference...</td>\n",
       "      <td>NaN</td>\n",
       "      <td>NaN</td>\n",
       "      <td>https://www.geeksforgeeks.org/dereference-refe...</td>\n",
       "      <td>easy</td>\n",
       "    </tr>\n",
       "    <tr>\n",
       "      <th>9659</th>\n",
       "      <td>A Program to check if strings are rotations of...</td>\n",
       "      <td>NaN</td>\n",
       "      <td>NaN</td>\n",
       "      <td>https://www.geeksforgeeks.org/a-program-to-che...</td>\n",
       "      <td>easy</td>\n",
       "    </tr>\n",
       "    <tr>\n",
       "      <th>9660</th>\n",
       "      <td>A Program to check if strings are rotations of...</td>\n",
       "      <td>NaN</td>\n",
       "      <td>NaN</td>\n",
       "      <td>https://www.geeksforgeeks.org/a-program-to-che...</td>\n",
       "      <td>easy</td>\n",
       "    </tr>\n",
       "    <tr>\n",
       "      <th>9661</th>\n",
       "      <td>Given only a pointer/reference to a node to be...</td>\n",
       "      <td>NaN</td>\n",
       "      <td>NaN</td>\n",
       "      <td>https://www.geeksforgeeks.org/given-only-a-poi...</td>\n",
       "      <td>easy</td>\n",
       "    </tr>\n",
       "    <tr>\n",
       "      <th>9662</th>\n",
       "      <td>Write a program to calculate pow(x,n)</td>\n",
       "      <td>NaN</td>\n",
       "      <td>NaN</td>\n",
       "      <td>https://www.geeksforgeeks.org/write-a-c-progra...</td>\n",
       "      <td>easy</td>\n",
       "    </tr>\n",
       "    <tr>\n",
       "      <th>10636</th>\n",
       "      <td>How to use handleChange() function in react co...</td>\n",
       "      <td>piyushnagpal80</td>\n",
       "      <td>NaN</td>\n",
       "      <td>https://www.geeksforgeeks.org/how-to-use-handl...</td>\n",
       "      <td>basic</td>\n",
       "    </tr>\n",
       "    <tr>\n",
       "      <th>11814</th>\n",
       "      <td>How to detect If textbox content has changed u...</td>\n",
       "      <td>PranchalKatiyar</td>\n",
       "      <td>NaN</td>\n",
       "      <td>https://www.geeksforgeeks.org/how-to-detect-if...</td>\n",
       "      <td>basic</td>\n",
       "    </tr>\n",
       "    <tr>\n",
       "      <th>14665</th>\n",
       "      <td>JavaTuples | Introduction</td>\n",
       "      <td>NaN</td>\n",
       "      <td>16 Sep, 2021</td>\n",
       "      <td>https://www.geeksforgeeks.org/javatuples-intro...</td>\n",
       "      <td>basic</td>\n",
       "    </tr>\n",
       "    <tr>\n",
       "      <th>15073</th>\n",
       "      <td>HTML5 | Mathematical operators</td>\n",
       "      <td>NaN</td>\n",
       "      <td>03 Dec, 2018</td>\n",
       "      <td>https://www.geeksforgeeks.org/html5-mathematic...</td>\n",
       "      <td>basic</td>\n",
       "    </tr>\n",
       "    <tr>\n",
       "      <th>22670</th>\n",
       "      <td>JQuery | Detect a textbox content is changed o...</td>\n",
       "      <td>PranchalKatiyar</td>\n",
       "      <td>NaN</td>\n",
       "      <td>https://www.geeksforgeeks.org/jquery-detect-a-...</td>\n",
       "      <td>medium</td>\n",
       "    </tr>\n",
       "    <tr>\n",
       "      <th>27434</th>\n",
       "      <td>GATE | GATE-CS-2015 (Mock Test) | Question 2</td>\n",
       "      <td>NaN</td>\n",
       "      <td>08 Nov, 2021</td>\n",
       "      <td>https://www.geeksforgeeks.org/aptitude-gate-cs...</td>\n",
       "      <td>medium</td>\n",
       "    </tr>\n",
       "    <tr>\n",
       "      <th>28240</th>\n",
       "      <td>Write a program to print all permutations of a...</td>\n",
       "      <td>NaN</td>\n",
       "      <td>NaN</td>\n",
       "      <td>https://www.geeksforgeeks.org/write-a-c-progra...</td>\n",
       "      <td>medium</td>\n",
       "    </tr>\n",
       "    <tr>\n",
       "      <th>28241</th>\n",
       "      <td>Let’s experiment with Networking</td>\n",
       "      <td>NaN</td>\n",
       "      <td>NaN</td>\n",
       "      <td>https://www.geeksforgeeks.org/lets-experiment-...</td>\n",
       "      <td>medium</td>\n",
       "    </tr>\n",
       "    <tr>\n",
       "      <th>28242</th>\n",
       "      <td>Output of C Programs | Set 6</td>\n",
       "      <td>NaN</td>\n",
       "      <td>NaN</td>\n",
       "      <td>https://www.geeksforgeeks.org/output-of-c-prog...</td>\n",
       "      <td>medium</td>\n",
       "    </tr>\n",
       "    <tr>\n",
       "      <th>28243</th>\n",
       "      <td>Ugly Numbers</td>\n",
       "      <td>NaN</td>\n",
       "      <td>NaN</td>\n",
       "      <td>https://www.geeksforgeeks.org/ugly-numbers/</td>\n",
       "      <td>medium</td>\n",
       "    </tr>\n",
       "    <tr>\n",
       "      <th>28244</th>\n",
       "      <td>Output of C Programs | Set 4</td>\n",
       "      <td>NaN</td>\n",
       "      <td>NaN</td>\n",
       "      <td>https://www.geeksforgeeks.org/output-of-progra...</td>\n",
       "      <td>medium</td>\n",
       "    </tr>\n",
       "    <tr>\n",
       "      <th>28245</th>\n",
       "      <td>Change/add only one character and print ‘*’ ex...</td>\n",
       "      <td>NaN</td>\n",
       "      <td>NaN</td>\n",
       "      <td>https://www.geeksforgeeks.org/changeadd-only-o...</td>\n",
       "      <td>medium</td>\n",
       "    </tr>\n",
       "    <tr>\n",
       "      <th>28246</th>\n",
       "      <td>Implement Your Own sizeof</td>\n",
       "      <td>NaN</td>\n",
       "      <td>NaN</td>\n",
       "      <td>https://www.geeksforgeeks.org/implement-your-o...</td>\n",
       "      <td>medium</td>\n",
       "    </tr>\n",
       "    <tr>\n",
       "      <th>33812</th>\n",
       "      <td>UwU text convertor in Python</td>\n",
       "      <td>NaN</td>\n",
       "      <td>07 Aug, 2021</td>\n",
       "      <td>https://www.geeksforgeeks.org/uwu-text-convert...</td>\n",
       "      <td>expert</td>\n",
       "    </tr>\n",
       "  </tbody>\n",
       "</table>\n",
       "</div>"
      ],
      "text/plain": [
       "                                                   title         author_id  \\\n",
       "2353   How to put an input element on the same line a...  mansiagrawal2103   \n",
       "8234                                             Puzzles               NaN   \n",
       "9656                                    Majority Element               NaN   \n",
       "9657   Given an array A[] and a number x, check for p...               NaN   \n",
       "9658   Output of the program | Dereference, Reference...               NaN   \n",
       "9659   A Program to check if strings are rotations of...               NaN   \n",
       "9660   A Program to check if strings are rotations of...               NaN   \n",
       "9661   Given only a pointer/reference to a node to be...               NaN   \n",
       "9662               Write a program to calculate pow(x,n)               NaN   \n",
       "10636  How to use handleChange() function in react co...    piyushnagpal80   \n",
       "11814  How to detect If textbox content has changed u...   PranchalKatiyar   \n",
       "14665                          JavaTuples | Introduction               NaN   \n",
       "15073                     HTML5 | Mathematical operators               NaN   \n",
       "22670  JQuery | Detect a textbox content is changed o...   PranchalKatiyar   \n",
       "27434       GATE | GATE-CS-2015 (Mock Test) | Question 2               NaN   \n",
       "28240  Write a program to print all permutations of a...               NaN   \n",
       "28241                   Let’s experiment with Networking               NaN   \n",
       "28242                       Output of C Programs | Set 6               NaN   \n",
       "28243                                       Ugly Numbers               NaN   \n",
       "28244                       Output of C Programs | Set 4               NaN   \n",
       "28245  Change/add only one character and print ‘*’ ex...               NaN   \n",
       "28246                          Implement Your Own sizeof               NaN   \n",
       "33812                       UwU text convertor in Python               NaN   \n",
       "\n",
       "       last_updated                                               link  \\\n",
       "2353            NaN  https://www.geeksforgeeks.org/how-to-put-an-in...   \n",
       "8234   23 Jul, 2018             https://www.geeksforgeeks.org/puzzles/   \n",
       "9656            NaN    https://www.geeksforgeeks.org/majority-element/   \n",
       "9657            NaN  https://www.geeksforgeeks.org/given-an-array-a...   \n",
       "9658            NaN  https://www.geeksforgeeks.org/dereference-refe...   \n",
       "9659            NaN  https://www.geeksforgeeks.org/a-program-to-che...   \n",
       "9660            NaN  https://www.geeksforgeeks.org/a-program-to-che...   \n",
       "9661            NaN  https://www.geeksforgeeks.org/given-only-a-poi...   \n",
       "9662            NaN  https://www.geeksforgeeks.org/write-a-c-progra...   \n",
       "10636           NaN  https://www.geeksforgeeks.org/how-to-use-handl...   \n",
       "11814           NaN  https://www.geeksforgeeks.org/how-to-detect-if...   \n",
       "14665  16 Sep, 2021  https://www.geeksforgeeks.org/javatuples-intro...   \n",
       "15073  03 Dec, 2018  https://www.geeksforgeeks.org/html5-mathematic...   \n",
       "22670           NaN  https://www.geeksforgeeks.org/jquery-detect-a-...   \n",
       "27434  08 Nov, 2021  https://www.geeksforgeeks.org/aptitude-gate-cs...   \n",
       "28240           NaN  https://www.geeksforgeeks.org/write-a-c-progra...   \n",
       "28241           NaN  https://www.geeksforgeeks.org/lets-experiment-...   \n",
       "28242           NaN  https://www.geeksforgeeks.org/output-of-c-prog...   \n",
       "28243           NaN        https://www.geeksforgeeks.org/ugly-numbers/   \n",
       "28244           NaN  https://www.geeksforgeeks.org/output-of-progra...   \n",
       "28245           NaN  https://www.geeksforgeeks.org/changeadd-only-o...   \n",
       "28246           NaN  https://www.geeksforgeeks.org/implement-your-o...   \n",
       "33812  07 Aug, 2021  https://www.geeksforgeeks.org/uwu-text-convert...   \n",
       "\n",
       "      category  \n",
       "2353      easy  \n",
       "8234      easy  \n",
       "9656      easy  \n",
       "9657      easy  \n",
       "9658      easy  \n",
       "9659      easy  \n",
       "9660      easy  \n",
       "9661      easy  \n",
       "9662      easy  \n",
       "10636    basic  \n",
       "11814    basic  \n",
       "14665    basic  \n",
       "15073    basic  \n",
       "22670   medium  \n",
       "27434   medium  \n",
       "28240   medium  \n",
       "28241   medium  \n",
       "28242   medium  \n",
       "28243   medium  \n",
       "28244   medium  \n",
       "28245   medium  \n",
       "28246   medium  \n",
       "33812   expert  "
      ]
     },
     "execution_count": 8,
     "metadata": {},
     "output_type": "execute_result"
    }
   ],
   "source": [
    "# missing values inspection\n",
    "df[df['author_id'].isnull() | df['last_updated'].isnull()]"
   ]
  },
  {
   "cell_type": "code",
   "execution_count": 9,
   "id": "247a5761",
   "metadata": {
    "execution": {
     "iopub.execute_input": "2022-02-24T19:43:05.591575Z",
     "iopub.status.busy": "2022-02-24T19:43:05.590969Z",
     "iopub.status.idle": "2022-02-24T19:43:05.604703Z",
     "shell.execute_reply": "2022-02-24T19:43:05.604146Z",
     "shell.execute_reply.started": "2022-02-24T19:14:18.121328Z"
    },
    "papermill": {
     "duration": 0.041034,
     "end_time": "2022-02-24T19:43:05.604842",
     "exception": false,
     "start_time": "2022-02-24T19:43:05.563808",
     "status": "completed"
    },
    "tags": []
   },
   "outputs": [
    {
     "data": {
      "text/plain": [
       "23"
      ]
     },
     "execution_count": 9,
     "metadata": {},
     "output_type": "execute_result"
    }
   ],
   "source": [
    "miss_len = len(df[df['author_id'].isnull() | df['last_updated'].isnull()])\n",
    "miss_len"
   ]
  },
  {
   "cell_type": "code",
   "execution_count": 10,
   "id": "33df0e72",
   "metadata": {
    "execution": {
     "iopub.execute_input": "2022-02-24T19:43:05.658550Z",
     "iopub.status.busy": "2022-02-24T19:43:05.657935Z",
     "iopub.status.idle": "2022-02-24T19:43:05.662189Z",
     "shell.execute_reply": "2022-02-24T19:43:05.662701Z",
     "shell.execute_reply.started": "2022-02-24T19:14:29.826710Z"
    },
    "papermill": {
     "duration": 0.032445,
     "end_time": "2022-02-24T19:43:05.662862",
     "exception": false,
     "start_time": "2022-02-24T19:43:05.630417",
     "status": "completed"
    },
    "tags": []
   },
   "outputs": [
    {
     "data": {
      "text/plain": [
       "0.0006652397755538844"
      ]
     },
     "execution_count": 10,
     "metadata": {},
     "output_type": "execute_result"
    }
   ],
   "source": [
    "# proportion of rows\n",
    "miss_len / len(df)"
   ]
  },
  {
   "cell_type": "markdown",
   "id": "dff5c475",
   "metadata": {
    "papermill": {
     "duration": 0.024996,
     "end_time": "2022-02-24T19:43:05.713522",
     "exception": false,
     "start_time": "2022-02-24T19:43:05.688526",
     "status": "completed"
    },
    "tags": []
   },
   "source": [
    "Since proportion is 0.06%, very less, we can delete these rows"
   ]
  },
  {
   "cell_type": "code",
   "execution_count": 11,
   "id": "9178a624",
   "metadata": {
    "execution": {
     "iopub.execute_input": "2022-02-24T19:43:05.767215Z",
     "iopub.status.busy": "2022-02-24T19:43:05.766632Z",
     "iopub.status.idle": "2022-02-24T19:43:05.802690Z",
     "shell.execute_reply": "2022-02-24T19:43:05.803173Z",
     "shell.execute_reply.started": "2022-02-24T19:18:46.588667Z"
    },
    "papermill": {
     "duration": 0.064717,
     "end_time": "2022-02-24T19:43:05.803360",
     "exception": false,
     "start_time": "2022-02-24T19:43:05.738643",
     "status": "completed"
    },
    "tags": []
   },
   "outputs": [
    {
     "name": "stdout",
     "output_type": "stream",
     "text": [
      "0\n"
     ]
    }
   ],
   "source": [
    "df.dropna(inplace=True)\n",
    "print(len(df[df['author_id'].isnull() | df['last_updated'].isnull()]))"
   ]
  },
  {
   "cell_type": "markdown",
   "id": "122b32c2",
   "metadata": {
    "papermill": {
     "duration": 0.025361,
     "end_time": "2022-02-24T19:43:05.854562",
     "exception": false,
     "start_time": "2022-02-24T19:43:05.829201",
     "status": "completed"
    },
    "tags": []
   },
   "source": [
    "## Cleaning the data"
   ]
  },
  {
   "cell_type": "markdown",
   "id": "7bbc5109",
   "metadata": {
    "papermill": {
     "duration": 0.025314,
     "end_time": "2022-02-24T19:43:05.905474",
     "exception": false,
     "start_time": "2022-02-24T19:43:05.880160",
     "status": "completed"
    },
    "tags": []
   },
   "source": [
    "### Last updated date"
   ]
  },
  {
   "cell_type": "code",
   "execution_count": 12,
   "id": "b29bdd9e",
   "metadata": {
    "execution": {
     "iopub.execute_input": "2022-02-24T19:43:05.959548Z",
     "iopub.status.busy": "2022-02-24T19:43:05.958947Z",
     "iopub.status.idle": "2022-02-24T19:43:05.968327Z",
     "shell.execute_reply": "2022-02-24T19:43:05.968908Z",
     "shell.execute_reply.started": "2022-02-24T19:32:30.864403Z"
    },
    "papermill": {
     "duration": 0.038112,
     "end_time": "2022-02-24T19:43:05.969069",
     "exception": false,
     "start_time": "2022-02-24T19:43:05.930957",
     "status": "completed"
    },
    "tags": []
   },
   "outputs": [
    {
     "data": {
      "text/plain": [
       "['Medium', 'Easy', 'Basic', 'Hard']"
      ]
     },
     "execution_count": 12,
     "metadata": {},
     "output_type": "execute_result"
    }
   ],
   "source": [
    "# following values are not date format\n",
    "no_date = []\n",
    "for val in df['last_updated'].unique():\n",
    "    if \",\" not in val:\n",
    "        no_date.append(val)\n",
    "no_date"
   ]
  },
  {
   "cell_type": "code",
   "execution_count": 13,
   "id": "1d8dc299",
   "metadata": {
    "execution": {
     "iopub.execute_input": "2022-02-24T19:43:06.024998Z",
     "iopub.status.busy": "2022-02-24T19:43:06.024379Z",
     "iopub.status.idle": "2022-02-24T19:43:06.036208Z",
     "shell.execute_reply": "2022-02-24T19:43:06.036797Z",
     "shell.execute_reply.started": "2022-02-24T19:39:46.126774Z"
    },
    "papermill": {
     "duration": 0.041244,
     "end_time": "2022-02-24T19:43:06.036961",
     "exception": false,
     "start_time": "2022-02-24T19:43:05.995717",
     "status": "completed"
    },
    "tags": []
   },
   "outputs": [
    {
     "data": {
      "text/plain": [
       "(34455, 5)"
      ]
     },
     "execution_count": 13,
     "metadata": {},
     "output_type": "execute_result"
    }
   ],
   "source": [
    "df = df[~df['last_updated'].isin(no_date)]\n",
    "df.shape"
   ]
  },
  {
   "cell_type": "code",
   "execution_count": 14,
   "id": "451df6c9",
   "metadata": {
    "execution": {
     "iopub.execute_input": "2022-02-24T19:43:06.093485Z",
     "iopub.status.busy": "2022-02-24T19:43:06.092846Z",
     "iopub.status.idle": "2022-02-24T19:43:06.125686Z",
     "shell.execute_reply": "2022-02-24T19:43:06.126127Z",
     "shell.execute_reply.started": "2022-02-24T19:41:35.626615Z"
    },
    "papermill": {
     "duration": 0.062762,
     "end_time": "2022-02-24T19:43:06.126309",
     "exception": false,
     "start_time": "2022-02-24T19:43:06.063547",
     "status": "completed"
    },
    "tags": []
   },
   "outputs": [
    {
     "data": {
      "text/html": [
       "<div>\n",
       "<style scoped>\n",
       "    .dataframe tbody tr th:only-of-type {\n",
       "        vertical-align: middle;\n",
       "    }\n",
       "\n",
       "    .dataframe tbody tr th {\n",
       "        vertical-align: top;\n",
       "    }\n",
       "\n",
       "    .dataframe thead th {\n",
       "        text-align: right;\n",
       "    }\n",
       "</style>\n",
       "<table border=\"1\" class=\"dataframe\">\n",
       "  <thead>\n",
       "    <tr style=\"text-align: right;\">\n",
       "      <th></th>\n",
       "      <th>title</th>\n",
       "      <th>author_id</th>\n",
       "      <th>last_updated</th>\n",
       "      <th>link</th>\n",
       "      <th>category</th>\n",
       "      <th>dt_last_updated</th>\n",
       "    </tr>\n",
       "  </thead>\n",
       "  <tbody>\n",
       "    <tr>\n",
       "      <th>0</th>\n",
       "      <td>5 Best Practices For Writing SQL Joins</td>\n",
       "      <td>priyankab14</td>\n",
       "      <td>21 Feb, 2022</td>\n",
       "      <td>https://www.geeksforgeeks.org/5-best-practices...</td>\n",
       "      <td>easy</td>\n",
       "      <td>2022-02-21</td>\n",
       "    </tr>\n",
       "    <tr>\n",
       "      <th>1</th>\n",
       "      <td>Foundation CSS Dropdown Menu</td>\n",
       "      <td>ishankhandelwals</td>\n",
       "      <td>20 Feb, 2022</td>\n",
       "      <td>https://www.geeksforgeeks.org/foundation-css-d...</td>\n",
       "      <td>easy</td>\n",
       "      <td>2022-02-20</td>\n",
       "    </tr>\n",
       "    <tr>\n",
       "      <th>2</th>\n",
       "      <td>Top 20 Excel Shortcuts That You Need To Know</td>\n",
       "      <td>priyankab14</td>\n",
       "      <td>17 Feb, 2022</td>\n",
       "      <td>https://www.geeksforgeeks.org/top-20-excel-sho...</td>\n",
       "      <td>easy</td>\n",
       "      <td>2022-02-17</td>\n",
       "    </tr>\n",
       "    <tr>\n",
       "      <th>3</th>\n",
       "      <td>Servlet – Fetching Result</td>\n",
       "      <td>nishatiwari1719</td>\n",
       "      <td>17 Feb, 2022</td>\n",
       "      <td>https://www.geeksforgeeks.org/servlet-fetching...</td>\n",
       "      <td>easy</td>\n",
       "      <td>2022-02-17</td>\n",
       "    </tr>\n",
       "    <tr>\n",
       "      <th>4</th>\n",
       "      <td>Suffix Sum Array</td>\n",
       "      <td>rohit768</td>\n",
       "      <td>21 Feb, 2022</td>\n",
       "      <td>https://www.geeksforgeeks.org/suffix-sum-array/</td>\n",
       "      <td>easy</td>\n",
       "      <td>2022-02-21</td>\n",
       "    </tr>\n",
       "  </tbody>\n",
       "</table>\n",
       "</div>"
      ],
      "text/plain": [
       "                                          title         author_id  \\\n",
       "0        5 Best Practices For Writing SQL Joins       priyankab14   \n",
       "1                  Foundation CSS Dropdown Menu  ishankhandelwals   \n",
       "2  Top 20 Excel Shortcuts That You Need To Know       priyankab14   \n",
       "3                     Servlet – Fetching Result   nishatiwari1719   \n",
       "4                              Suffix Sum Array          rohit768   \n",
       "\n",
       "   last_updated                                               link category  \\\n",
       "0  21 Feb, 2022  https://www.geeksforgeeks.org/5-best-practices...     easy   \n",
       "1  20 Feb, 2022  https://www.geeksforgeeks.org/foundation-css-d...     easy   \n",
       "2  17 Feb, 2022  https://www.geeksforgeeks.org/top-20-excel-sho...     easy   \n",
       "3  17 Feb, 2022  https://www.geeksforgeeks.org/servlet-fetching...     easy   \n",
       "4  21 Feb, 2022    https://www.geeksforgeeks.org/suffix-sum-array/     easy   \n",
       "\n",
       "  dt_last_updated  \n",
       "0      2022-02-21  \n",
       "1      2022-02-20  \n",
       "2      2022-02-17  \n",
       "3      2022-02-17  \n",
       "4      2022-02-21  "
      ]
     },
     "execution_count": 14,
     "metadata": {},
     "output_type": "execute_result"
    }
   ],
   "source": [
    "df['dt_last_updated'] = pd.to_datetime(df['last_updated'], format='%d %b, %Y', infer_datetime_format=False)\n",
    "df.head()"
   ]
  },
  {
   "cell_type": "code",
   "execution_count": null,
   "id": "987081e8",
   "metadata": {
    "papermill": {
     "duration": 0.027824,
     "end_time": "2022-02-24T19:43:06.181491",
     "exception": false,
     "start_time": "2022-02-24T19:43:06.153667",
     "status": "completed"
    },
    "tags": []
   },
   "outputs": [],
   "source": []
  }
 ],
 "metadata": {
  "kernelspec": {
   "display_name": "Python 3",
   "language": "python",
   "name": "python3"
  },
  "language_info": {
   "codemirror_mode": {
    "name": "ipython",
    "version": 3
   },
   "file_extension": ".py",
   "mimetype": "text/x-python",
   "name": "python",
   "nbconvert_exporter": "python",
   "pygments_lexer": "ipython3",
   "version": "3.7.12"
  },
  "papermill": {
   "default_parameters": {},
   "duration": 12.356578,
   "end_time": "2022-02-24T19:43:06.819097",
   "environment_variables": {},
   "exception": null,
   "input_path": "__notebook__.ipynb",
   "output_path": "__notebook__.ipynb",
   "parameters": {},
   "start_time": "2022-02-24T19:42:54.462519",
   "version": "2.3.3"
  }
 },
 "nbformat": 4,
 "nbformat_minor": 5
}
