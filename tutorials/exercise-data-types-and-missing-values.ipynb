{
 "cells": [
  {
   "cell_type": "markdown",
   "id": "3cc9abd7",
   "metadata": {
    "papermill": {
     "duration": 0.01332,
     "end_time": "2022-02-04T17:26:15.723169",
     "exception": false,
     "start_time": "2022-02-04T17:26:15.709849",
     "status": "completed"
    },
    "tags": []
   },
   "source": [
    "**This notebook is an exercise in the [Pandas](https://www.kaggle.com/learn/pandas) course.  You can reference the tutorial at [this link](https://www.kaggle.com/residentmario/data-types-and-missing-values).**\n",
    "\n",
    "---\n"
   ]
  },
  {
   "cell_type": "markdown",
   "id": "e3838ca9",
   "metadata": {
    "papermill": {
     "duration": 0.011811,
     "end_time": "2022-02-04T17:26:15.749187",
     "exception": false,
     "start_time": "2022-02-04T17:26:15.737376",
     "status": "completed"
    },
    "tags": []
   },
   "source": [
    "# Introduction\n",
    "\n",
    "Run the following cell to load your data and some utility functions."
   ]
  },
  {
   "cell_type": "code",
   "execution_count": 1,
   "id": "9ca009ce",
   "metadata": {
    "execution": {
     "iopub.execute_input": "2022-02-04T17:26:15.777811Z",
     "iopub.status.busy": "2022-02-04T17:26:15.776652Z",
     "iopub.status.idle": "2022-02-04T17:26:18.745532Z",
     "shell.execute_reply": "2022-02-04T17:26:18.744902Z",
     "shell.execute_reply.started": "2022-02-04T17:19:47.340364Z"
    },
    "papermill": {
     "duration": 2.984561,
     "end_time": "2022-02-04T17:26:18.745725",
     "exception": false,
     "start_time": "2022-02-04T17:26:15.761164",
     "status": "completed"
    },
    "tags": []
   },
   "outputs": [
    {
     "name": "stdout",
     "output_type": "stream",
     "text": [
      "Setup complete.\n"
     ]
    }
   ],
   "source": [
    "import pandas as pd\n",
    "\n",
    "reviews = pd.read_csv(\"../input/wine-reviews/winemag-data-130k-v2.csv\", index_col=0)\n",
    "\n",
    "from learntools.core import binder; binder.bind(globals())\n",
    "from learntools.pandas.data_types_and_missing_data import *\n",
    "print(\"Setup complete.\")"
   ]
  },
  {
   "cell_type": "markdown",
   "id": "deed1fb0",
   "metadata": {
    "papermill": {
     "duration": 0.012019,
     "end_time": "2022-02-04T17:26:18.770785",
     "exception": false,
     "start_time": "2022-02-04T17:26:18.758766",
     "status": "completed"
    },
    "tags": []
   },
   "source": [
    "# Exercises"
   ]
  },
  {
   "cell_type": "markdown",
   "id": "d7bd9f46",
   "metadata": {
    "papermill": {
     "duration": 0.011891,
     "end_time": "2022-02-04T17:26:18.794921",
     "exception": false,
     "start_time": "2022-02-04T17:26:18.783030",
     "status": "completed"
    },
    "tags": []
   },
   "source": [
    "## 1. \n",
    "What is the data type of the `points` column in the dataset?"
   ]
  },
  {
   "cell_type": "code",
   "execution_count": 2,
   "id": "5ac59b10",
   "metadata": {
    "execution": {
     "iopub.execute_input": "2022-02-04T17:26:18.829131Z",
     "iopub.status.busy": "2022-02-04T17:26:18.828126Z",
     "iopub.status.idle": "2022-02-04T17:26:18.833357Z",
     "shell.execute_reply": "2022-02-04T17:26:18.833846Z",
     "shell.execute_reply.started": "2022-02-04T17:20:06.743964Z"
    },
    "papermill": {
     "duration": 0.026853,
     "end_time": "2022-02-04T17:26:18.834016",
     "exception": false,
     "start_time": "2022-02-04T17:26:18.807163",
     "status": "completed"
    },
    "tags": []
   },
   "outputs": [
    {
     "data": {
      "application/javascript": [
       "parent.postMessage({\"jupyterEvent\": \"custom.exercise_interaction\", \"data\": {\"outcomeType\": 1, \"valueTowardsCompletion\": 0.25, \"interactionType\": 1, \"questionType\": 1, \"questionId\": \"1_PointsDtype\", \"learnToolsVersion\": \"0.3.4\", \"failureMessage\": \"\", \"exceptionClass\": \"\", \"trace\": \"\"}}, \"*\")"
      ],
      "text/plain": [
       "<IPython.core.display.Javascript object>"
      ]
     },
     "metadata": {},
     "output_type": "display_data"
    },
    {
     "data": {
      "text/markdown": [
       "<span style=\"color:#33cc33\">Correct</span>"
      ],
      "text/plain": [
       "Correct"
      ]
     },
     "metadata": {},
     "output_type": "display_data"
    }
   ],
   "source": [
    "# Your code here\n",
    "dtype = reviews.points.dtype\n",
    "\n",
    "# Check your answer\n",
    "q1.check()"
   ]
  },
  {
   "cell_type": "code",
   "execution_count": 3,
   "id": "228cdbc6",
   "metadata": {
    "execution": {
     "iopub.execute_input": "2022-02-04T17:26:18.865922Z",
     "iopub.status.busy": "2022-02-04T17:26:18.865053Z",
     "iopub.status.idle": "2022-02-04T17:26:18.867511Z",
     "shell.execute_reply": "2022-02-04T17:26:18.868075Z"
    },
    "papermill": {
     "duration": 0.020699,
     "end_time": "2022-02-04T17:26:18.868246",
     "exception": false,
     "start_time": "2022-02-04T17:26:18.847547",
     "status": "completed"
    },
    "tags": []
   },
   "outputs": [],
   "source": [
    "#q1.hint()\n",
    "#q1.solution()"
   ]
  },
  {
   "cell_type": "markdown",
   "id": "fc480598",
   "metadata": {
    "papermill": {
     "duration": 0.013204,
     "end_time": "2022-02-04T17:26:18.894989",
     "exception": false,
     "start_time": "2022-02-04T17:26:18.881785",
     "status": "completed"
    },
    "tags": []
   },
   "source": [
    "## 2. \n",
    "Create a Series from entries in the `points` column, but convert the entries to strings. Hint: strings are `str` in native Python."
   ]
  },
  {
   "cell_type": "code",
   "execution_count": 4,
   "id": "1bcb8a0a",
   "metadata": {
    "execution": {
     "iopub.execute_input": "2022-02-04T17:26:19.062916Z",
     "iopub.status.busy": "2022-02-04T17:26:19.060469Z",
     "iopub.status.idle": "2022-02-04T17:26:19.068386Z",
     "shell.execute_reply": "2022-02-04T17:26:19.068899Z",
     "shell.execute_reply.started": "2022-02-04T17:21:29.513847Z"
    },
    "papermill": {
     "duration": 0.160532,
     "end_time": "2022-02-04T17:26:19.069067",
     "exception": false,
     "start_time": "2022-02-04T17:26:18.908535",
     "status": "completed"
    },
    "tags": []
   },
   "outputs": [
    {
     "data": {
      "application/javascript": [
       "parent.postMessage({\"jupyterEvent\": \"custom.exercise_interaction\", \"data\": {\"outcomeType\": 1, \"valueTowardsCompletion\": 0.25, \"interactionType\": 1, \"questionType\": 1, \"questionId\": \"2_StrPoints\", \"learnToolsVersion\": \"0.3.4\", \"failureMessage\": \"\", \"exceptionClass\": \"\", \"trace\": \"\"}}, \"*\")"
      ],
      "text/plain": [
       "<IPython.core.display.Javascript object>"
      ]
     },
     "metadata": {},
     "output_type": "display_data"
    },
    {
     "data": {
      "text/markdown": [
       "<span style=\"color:#33cc33\">Correct</span>"
      ],
      "text/plain": [
       "Correct"
      ]
     },
     "metadata": {},
     "output_type": "display_data"
    }
   ],
   "source": [
    "point_strings = reviews.points.astype('str')\n",
    "\n",
    "# Check your answer\n",
    "q2.check()"
   ]
  },
  {
   "cell_type": "code",
   "execution_count": 5,
   "id": "2ed2919c",
   "metadata": {
    "execution": {
     "iopub.execute_input": "2022-02-04T17:26:19.101982Z",
     "iopub.status.busy": "2022-02-04T17:26:19.101142Z",
     "iopub.status.idle": "2022-02-04T17:26:19.104032Z",
     "shell.execute_reply": "2022-02-04T17:26:19.104539Z"
    },
    "papermill": {
     "duration": 0.020937,
     "end_time": "2022-02-04T17:26:19.104725",
     "exception": false,
     "start_time": "2022-02-04T17:26:19.083788",
     "status": "completed"
    },
    "tags": []
   },
   "outputs": [],
   "source": [
    "#q2.hint()\n",
    "#q2.solution()"
   ]
  },
  {
   "cell_type": "markdown",
   "id": "bff025af",
   "metadata": {
    "papermill": {
     "duration": 0.014598,
     "end_time": "2022-02-04T17:26:19.133980",
     "exception": false,
     "start_time": "2022-02-04T17:26:19.119382",
     "status": "completed"
    },
    "tags": []
   },
   "source": [
    "## 3.\n",
    "Sometimes the price column is null. How many reviews in the dataset are missing a price?"
   ]
  },
  {
   "cell_type": "code",
   "execution_count": 6,
   "id": "f3f9f9ec",
   "metadata": {
    "execution": {
     "iopub.execute_input": "2022-02-04T17:26:19.167172Z",
     "iopub.status.busy": "2022-02-04T17:26:19.166253Z",
     "iopub.status.idle": "2022-02-04T17:26:19.174148Z",
     "shell.execute_reply": "2022-02-04T17:26:19.174641Z",
     "shell.execute_reply.started": "2022-02-04T17:23:09.521476Z"
    },
    "papermill": {
     "duration": 0.026018,
     "end_time": "2022-02-04T17:26:19.174817",
     "exception": false,
     "start_time": "2022-02-04T17:26:19.148799",
     "status": "completed"
    },
    "tags": []
   },
   "outputs": [
    {
     "data": {
      "application/javascript": [
       "parent.postMessage({\"jupyterEvent\": \"custom.exercise_interaction\", \"data\": {\"outcomeType\": 1, \"valueTowardsCompletion\": 0.25, \"interactionType\": 1, \"questionType\": 1, \"questionId\": \"3_CountMissingPrices\", \"learnToolsVersion\": \"0.3.4\", \"failureMessage\": \"\", \"exceptionClass\": \"\", \"trace\": \"\"}}, \"*\")"
      ],
      "text/plain": [
       "<IPython.core.display.Javascript object>"
      ]
     },
     "metadata": {},
     "output_type": "display_data"
    },
    {
     "data": {
      "text/markdown": [
       "<span style=\"color:#33cc33\">Correct</span>"
      ],
      "text/plain": [
       "Correct"
      ]
     },
     "metadata": {},
     "output_type": "display_data"
    }
   ],
   "source": [
    "n_missing_prices = reviews.price.isnull().sum()\n",
    "\n",
    "# Check your answer\n",
    "q3.check()"
   ]
  },
  {
   "cell_type": "code",
   "execution_count": 7,
   "id": "cab8e6e2",
   "metadata": {
    "execution": {
     "iopub.execute_input": "2022-02-04T17:26:19.211826Z",
     "iopub.status.busy": "2022-02-04T17:26:19.210771Z",
     "iopub.status.idle": "2022-02-04T17:26:19.215449Z",
     "shell.execute_reply": "2022-02-04T17:26:19.215964Z",
     "shell.execute_reply.started": "2022-02-04T17:23:14.847064Z"
    },
    "papermill": {
     "duration": 0.025843,
     "end_time": "2022-02-04T17:26:19.216141",
     "exception": false,
     "start_time": "2022-02-04T17:26:19.190298",
     "status": "completed"
    },
    "tags": []
   },
   "outputs": [
    {
     "data": {
      "application/javascript": [
       "parent.postMessage({\"jupyterEvent\": \"custom.exercise_interaction\", \"data\": {\"interactionType\": 3, \"questionType\": 1, \"questionId\": \"3_CountMissingPrices\", \"learnToolsVersion\": \"0.3.4\", \"valueTowardsCompletion\": 0.0, \"failureMessage\": \"\", \"exceptionClass\": \"\", \"trace\": \"\", \"outcomeType\": 4}}, \"*\")"
      ],
      "text/plain": [
       "<IPython.core.display.Javascript object>"
      ]
     },
     "metadata": {},
     "output_type": "display_data"
    },
    {
     "data": {
      "text/markdown": [
       "<span style=\"color:#33cc99\">Solution:</span> \n",
       "```python\n",
       "missing_price_reviews = reviews[reviews.price.isnull()]\n",
       "n_missing_prices = len(missing_price_reviews)\n",
       "# Cute alternative solution: if we sum a boolean series, True is treated as 1 and False as 0\n",
       "n_missing_prices = reviews.price.isnull().sum()\n",
       "# or equivalently:\n",
       "n_missing_prices = pd.isnull(reviews.price).sum()\n",
       "\n",
       "```"
      ],
      "text/plain": [
       "Solution: \n",
       "```python\n",
       "missing_price_reviews = reviews[reviews.price.isnull()]\n",
       "n_missing_prices = len(missing_price_reviews)\n",
       "# Cute alternative solution: if we sum a boolean series, True is treated as 1 and False as 0\n",
       "n_missing_prices = reviews.price.isnull().sum()\n",
       "# or equivalently:\n",
       "n_missing_prices = pd.isnull(reviews.price).sum()\n",
       "\n",
       "```"
      ]
     },
     "metadata": {},
     "output_type": "display_data"
    }
   ],
   "source": [
    "#q3.hint()\n",
    "q3.solution()"
   ]
  },
  {
   "cell_type": "markdown",
   "id": "57477eb4",
   "metadata": {
    "papermill": {
     "duration": 0.016405,
     "end_time": "2022-02-04T17:26:19.249210",
     "exception": false,
     "start_time": "2022-02-04T17:26:19.232805",
     "status": "completed"
    },
    "tags": []
   },
   "source": [
    "## 4.\n",
    "What are the most common wine-producing regions? Create a Series counting the number of times each value occurs in the `region_1` field. This field is often missing data, so replace missing values with `Unknown`. Sort in descending order.  Your output should look something like this:\n",
    "\n",
    "```\n",
    "Unknown                    21247\n",
    "Napa Valley                 4480\n",
    "                           ...  \n",
    "Bardolino Superiore            1\n",
    "Primitivo del Tarantino        1\n",
    "Name: region_1, Length: 1230, dtype: int64\n",
    "```"
   ]
  },
  {
   "cell_type": "code",
   "execution_count": 8,
   "id": "987697e2",
   "metadata": {
    "execution": {
     "iopub.execute_input": "2022-02-04T17:26:19.286453Z",
     "iopub.status.busy": "2022-02-04T17:26:19.285498Z",
     "iopub.status.idle": "2022-02-04T17:26:19.357163Z",
     "shell.execute_reply": "2022-02-04T17:26:19.357672Z",
     "shell.execute_reply.started": "2022-02-04T17:25:30.529413Z"
    },
    "papermill": {
     "duration": 0.091876,
     "end_time": "2022-02-04T17:26:19.357862",
     "exception": false,
     "start_time": "2022-02-04T17:26:19.265986",
     "status": "completed"
    },
    "tags": []
   },
   "outputs": [
    {
     "data": {
      "application/javascript": [
       "parent.postMessage({\"jupyterEvent\": \"custom.exercise_interaction\", \"data\": {\"outcomeType\": 1, \"valueTowardsCompletion\": 0.25, \"interactionType\": 1, \"questionType\": 2, \"questionId\": \"4_ReviewsPerRegion\", \"learnToolsVersion\": \"0.3.4\", \"failureMessage\": \"\", \"exceptionClass\": \"\", \"trace\": \"\"}}, \"*\")"
      ],
      "text/plain": [
       "<IPython.core.display.Javascript object>"
      ]
     },
     "metadata": {},
     "output_type": "display_data"
    },
    {
     "data": {
      "text/markdown": [
       "<span style=\"color:#33cc33\">Correct</span>"
      ],
      "text/plain": [
       "Correct"
      ]
     },
     "metadata": {},
     "output_type": "display_data"
    }
   ],
   "source": [
    "reviews_per_region = reviews.region_1.fillna('Unknown').value_counts()\n",
    "\n",
    "# Check your answer\n",
    "q4.check()"
   ]
  },
  {
   "cell_type": "code",
   "execution_count": 9,
   "id": "592dd2ea",
   "metadata": {
    "execution": {
     "iopub.execute_input": "2022-02-04T17:26:19.399966Z",
     "iopub.status.busy": "2022-02-04T17:26:19.399014Z",
     "iopub.status.idle": "2022-02-04T17:26:19.404547Z",
     "shell.execute_reply": "2022-02-04T17:26:19.404028Z",
     "shell.execute_reply.started": "2022-02-04T17:25:36.343741Z"
    },
    "papermill": {
     "duration": 0.028857,
     "end_time": "2022-02-04T17:26:19.404714",
     "exception": false,
     "start_time": "2022-02-04T17:26:19.375857",
     "status": "completed"
    },
    "tags": []
   },
   "outputs": [
    {
     "data": {
      "application/javascript": [
       "parent.postMessage({\"jupyterEvent\": \"custom.exercise_interaction\", \"data\": {\"interactionType\": 3, \"questionType\": 2, \"questionId\": \"4_ReviewsPerRegion\", \"learnToolsVersion\": \"0.3.4\", \"valueTowardsCompletion\": 0.0, \"failureMessage\": \"\", \"exceptionClass\": \"\", \"trace\": \"\", \"outcomeType\": 4}}, \"*\")"
      ],
      "text/plain": [
       "<IPython.core.display.Javascript object>"
      ]
     },
     "metadata": {},
     "output_type": "display_data"
    },
    {
     "data": {
      "text/markdown": [
       "<span style=\"color:#33cc99\">Solution:</span> \n",
       "```python\n",
       "reviews_per_region = reviews.region_1.fillna('Unknown').value_counts().sort_values(ascending=False)\n",
       "```"
      ],
      "text/plain": [
       "Solution: \n",
       "```python\n",
       "reviews_per_region = reviews.region_1.fillna('Unknown').value_counts().sort_values(ascending=False)\n",
       "```"
      ]
     },
     "metadata": {},
     "output_type": "display_data"
    }
   ],
   "source": [
    "#q4.hint()\n",
    "q4.solution()"
   ]
  },
  {
   "cell_type": "markdown",
   "id": "7ec723fa",
   "metadata": {
    "papermill": {
     "duration": 0.018293,
     "end_time": "2022-02-04T17:26:19.441954",
     "exception": false,
     "start_time": "2022-02-04T17:26:19.423661",
     "status": "completed"
    },
    "tags": []
   },
   "source": [
    "# Keep going\n",
    "\n",
    "Move on to **[renaming and combining](https://www.kaggle.com/residentmario/renaming-and-combining)**."
   ]
  },
  {
   "cell_type": "markdown",
   "id": "67463cae",
   "metadata": {
    "papermill": {
     "duration": 0.018301,
     "end_time": "2022-02-04T17:26:19.479076",
     "exception": false,
     "start_time": "2022-02-04T17:26:19.460775",
     "status": "completed"
    },
    "tags": []
   },
   "source": [
    "---\n",
    "\n",
    "\n",
    "\n",
    "\n",
    "*Have questions or comments? Visit the [course discussion forum](https://www.kaggle.com/learn/pandas/discussion) to chat with other learners.*"
   ]
  }
 ],
 "metadata": {
  "kernelspec": {
   "display_name": "Python 3",
   "language": "python",
   "name": "python3"
  },
  "language_info": {
   "codemirror_mode": {
    "name": "ipython",
    "version": 3
   },
   "file_extension": ".py",
   "mimetype": "text/x-python",
   "name": "python",
   "nbconvert_exporter": "python",
   "pygments_lexer": "ipython3",
   "version": "3.7.12"
  },
  "papermill": {
   "default_parameters": {},
   "duration": 14.08422,
   "end_time": "2022-02-04T17:26:20.207725",
   "environment_variables": {},
   "exception": null,
   "input_path": "__notebook__.ipynb",
   "output_path": "__notebook__.ipynb",
   "parameters": {},
   "start_time": "2022-02-04T17:26:06.123505",
   "version": "2.3.3"
  }
 },
 "nbformat": 4,
 "nbformat_minor": 5
}
