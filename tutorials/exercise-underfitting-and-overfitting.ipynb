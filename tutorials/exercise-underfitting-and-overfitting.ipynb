{
 "cells": [
  {
   "cell_type": "markdown",
   "id": "3259870b",
   "metadata": {
    "papermill": {
     "duration": 0.012586,
     "end_time": "2022-02-15T16:56:14.868244",
     "exception": false,
     "start_time": "2022-02-15T16:56:14.855658",
     "status": "completed"
    },
    "tags": []
   },
   "source": [
    "**This notebook is an exercise in the [Introduction to Machine Learning](https://www.kaggle.com/learn/intro-to-machine-learning) course.  You can reference the tutorial at [this link](https://www.kaggle.com/dansbecker/underfitting-and-overfitting).**\n",
    "\n",
    "---\n"
   ]
  },
  {
   "cell_type": "markdown",
   "id": "74f1656a",
   "metadata": {
    "papermill": {
     "duration": 0.010268,
     "end_time": "2022-02-15T16:56:14.889457",
     "exception": false,
     "start_time": "2022-02-15T16:56:14.879189",
     "status": "completed"
    },
    "tags": []
   },
   "source": [
    "## Recap\n",
    "You've built your first model, and now it's time to optimize the size of the tree to make better predictions. Run this cell to set up your coding environment where the previous step left off."
   ]
  },
  {
   "cell_type": "code",
   "execution_count": 1,
   "id": "206946a1",
   "metadata": {
    "execution": {
     "iopub.execute_input": "2022-02-15T16:56:14.917270Z",
     "iopub.status.busy": "2022-02-15T16:56:14.915431Z",
     "iopub.status.idle": "2022-02-15T16:56:16.283073Z",
     "shell.execute_reply": "2022-02-15T16:56:16.283605Z",
     "shell.execute_reply.started": "2022-02-15T16:40:43.585869Z"
    },
    "papermill": {
     "duration": 1.383886,
     "end_time": "2022-02-15T16:56:16.283890",
     "exception": false,
     "start_time": "2022-02-15T16:56:14.900004",
     "status": "completed"
    },
    "tags": []
   },
   "outputs": [
    {
     "name": "stdout",
     "output_type": "stream",
     "text": [
      "Validation MAE: 29,653\n",
      "\n",
      "Setup complete\n"
     ]
    }
   ],
   "source": [
    "# Code you have previously used to load data\n",
    "import pandas as pd\n",
    "from sklearn.metrics import mean_absolute_error\n",
    "from sklearn.model_selection import train_test_split\n",
    "from sklearn.tree import DecisionTreeRegressor\n",
    "\n",
    "\n",
    "# Path of the file to read\n",
    "iowa_file_path = '../input/home-data-for-ml-course/train.csv'\n",
    "\n",
    "home_data = pd.read_csv(iowa_file_path)\n",
    "# Create target object and call it y\n",
    "y = home_data.SalePrice\n",
    "# Create X\n",
    "features = ['LotArea', 'YearBuilt', '1stFlrSF', '2ndFlrSF', 'FullBath', 'BedroomAbvGr', 'TotRmsAbvGrd']\n",
    "X = home_data[features]\n",
    "\n",
    "# Split into validation and training data\n",
    "train_X, val_X, train_y, val_y = train_test_split(X, y, random_state=1)\n",
    "\n",
    "# Specify Model\n",
    "iowa_model = DecisionTreeRegressor(random_state=1)\n",
    "# Fit Model\n",
    "iowa_model.fit(train_X, train_y)\n",
    "\n",
    "# Make validation predictions and calculate mean absolute error\n",
    "val_predictions = iowa_model.predict(val_X)\n",
    "val_mae = mean_absolute_error(val_predictions, val_y)\n",
    "print(\"Validation MAE: {:,.0f}\".format(val_mae))\n",
    "\n",
    "# Set up code checking\n",
    "from learntools.core import binder\n",
    "binder.bind(globals())\n",
    "from learntools.machine_learning.ex5 import *\n",
    "print(\"\\nSetup complete\")"
   ]
  },
  {
   "cell_type": "markdown",
   "id": "75d5e8d2",
   "metadata": {
    "papermill": {
     "duration": 0.012254,
     "end_time": "2022-02-15T16:56:16.308061",
     "exception": false,
     "start_time": "2022-02-15T16:56:16.295807",
     "status": "completed"
    },
    "tags": []
   },
   "source": [
    "# Exercises\n",
    "You could write the function `get_mae` yourself. For now, we'll supply it. This is the same function you read about in the previous lesson. Just run the cell below."
   ]
  },
  {
   "cell_type": "code",
   "execution_count": 2,
   "id": "b5fb2be1",
   "metadata": {
    "execution": {
     "iopub.execute_input": "2022-02-15T16:56:16.337714Z",
     "iopub.status.busy": "2022-02-15T16:56:16.336886Z",
     "iopub.status.idle": "2022-02-15T16:56:16.339504Z",
     "shell.execute_reply": "2022-02-15T16:56:16.339030Z",
     "shell.execute_reply.started": "2022-02-15T16:40:45.092434Z"
    },
    "papermill": {
     "duration": 0.019998,
     "end_time": "2022-02-15T16:56:16.339674",
     "exception": false,
     "start_time": "2022-02-15T16:56:16.319676",
     "status": "completed"
    },
    "tags": []
   },
   "outputs": [],
   "source": [
    "def get_mae(max_leaf_nodes, train_X, val_X, train_y, val_y):\n",
    "    model = DecisionTreeRegressor(max_leaf_nodes=max_leaf_nodes, random_state=0)\n",
    "    model.fit(train_X, train_y)\n",
    "    preds_val = model.predict(val_X)\n",
    "    mae = mean_absolute_error(val_y, preds_val)\n",
    "    return(mae)"
   ]
  },
  {
   "cell_type": "markdown",
   "id": "69b75bf7",
   "metadata": {
    "papermill": {
     "duration": 0.011087,
     "end_time": "2022-02-15T16:56:16.362275",
     "exception": false,
     "start_time": "2022-02-15T16:56:16.351188",
     "status": "completed"
    },
    "tags": []
   },
   "source": [
    "## Step 1: Compare Different Tree Sizes\n",
    "Write a loop that tries the following values for *max_leaf_nodes* from a set of possible values.\n",
    "\n",
    "Call the *get_mae* function on each value of max_leaf_nodes. Store the output in some way that allows you to select the value of `max_leaf_nodes` that gives the most accurate model on your data."
   ]
  },
  {
   "cell_type": "code",
   "execution_count": 3,
   "id": "b81d7d61",
   "metadata": {
    "execution": {
     "iopub.execute_input": "2022-02-15T16:56:16.393261Z",
     "iopub.status.busy": "2022-02-15T16:56:16.392609Z",
     "iopub.status.idle": "2022-02-15T16:56:16.436017Z",
     "shell.execute_reply": "2022-02-15T16:56:16.436503Z",
     "shell.execute_reply.started": "2022-02-15T16:49:59.693238Z"
    },
    "papermill": {
     "duration": 0.063051,
     "end_time": "2022-02-15T16:56:16.436667",
     "exception": false,
     "start_time": "2022-02-15T16:56:16.373616",
     "status": "completed"
    },
    "tags": []
   },
   "outputs": [
    {
     "data": {
      "application/javascript": [
       "parent.postMessage({\"jupyterEvent\": \"custom.exercise_interaction\", \"data\": {\"outcomeType\": 1, \"valueTowardsCompletion\": 0.5, \"interactionType\": 1, \"questionType\": 1, \"questionId\": \"1_BestTreeSize\", \"learnToolsVersion\": \"0.3.4\", \"failureMessage\": \"\", \"exceptionClass\": \"\", \"trace\": \"\"}}, \"*\")"
      ],
      "text/plain": [
       "<IPython.core.display.Javascript object>"
      ]
     },
     "metadata": {},
     "output_type": "display_data"
    },
    {
     "data": {
      "text/markdown": [
       "<span style=\"color:#33cc33\">Correct</span>"
      ],
      "text/plain": [
       "Correct"
      ]
     },
     "metadata": {},
     "output_type": "display_data"
    }
   ],
   "source": [
    "candidate_max_leaf_nodes = [5, 25, 50, 100, 250, 500]\n",
    "# Write loop to find the ideal tree size from candidate_max_leaf_nodes\n",
    "mae_dict = {}\n",
    "for max_leaf_nodes in candidate_max_leaf_nodes:\n",
    "    mae_dict[get_mae(max_leaf_nodes, train_X, val_X, train_y, val_y)] = max_leaf_nodes\n",
    "\n",
    "# Store the best value of max_leaf_nodes (it will be either 5, 25, 50, 100, 250 or 500)\n",
    "best_tree_size = mae_dict[min(mae_dict)]\n",
    "#print(best_tree_size)\n",
    "\n",
    "# Check your answer\n",
    "step_1.check()"
   ]
  },
  {
   "cell_type": "code",
   "execution_count": 4,
   "id": "6fc886bf",
   "metadata": {
    "execution": {
     "iopub.execute_input": "2022-02-15T16:56:16.464524Z",
     "iopub.status.busy": "2022-02-15T16:56:16.463901Z",
     "iopub.status.idle": "2022-02-15T16:56:16.466500Z",
     "shell.execute_reply": "2022-02-15T16:56:16.467088Z"
    },
    "papermill": {
     "duration": 0.018143,
     "end_time": "2022-02-15T16:56:16.467237",
     "exception": false,
     "start_time": "2022-02-15T16:56:16.449094",
     "status": "completed"
    },
    "tags": []
   },
   "outputs": [],
   "source": [
    "# The lines below will show you a hint or the solution.\n",
    "# step_1.hint() \n",
    "# step_1.solution()"
   ]
  },
  {
   "cell_type": "markdown",
   "id": "116701d9",
   "metadata": {
    "papermill": {
     "duration": 0.012766,
     "end_time": "2022-02-15T16:56:16.492394",
     "exception": false,
     "start_time": "2022-02-15T16:56:16.479628",
     "status": "completed"
    },
    "tags": []
   },
   "source": [
    "## Step 2: Fit Model Using All Data\n",
    "You know the best tree size. If you were going to deploy this model in practice, you would make it even more accurate by using all of the data and keeping that tree size.  That is, you don't need to hold out the validation data now that you've made all your modeling decisions."
   ]
  },
  {
   "cell_type": "code",
   "execution_count": 5,
   "id": "4f610a98",
   "metadata": {
    "execution": {
     "iopub.execute_input": "2022-02-15T16:56:16.521043Z",
     "iopub.status.busy": "2022-02-15T16:56:16.520356Z",
     "iopub.status.idle": "2022-02-15T16:56:16.535339Z",
     "shell.execute_reply": "2022-02-15T16:56:16.535783Z",
     "shell.execute_reply.started": "2022-02-15T16:55:40.895701Z"
    },
    "papermill": {
     "duration": 0.030883,
     "end_time": "2022-02-15T16:56:16.535967",
     "exception": false,
     "start_time": "2022-02-15T16:56:16.505084",
     "status": "completed"
    },
    "tags": []
   },
   "outputs": [
    {
     "data": {
      "application/javascript": [
       "parent.postMessage({\"jupyterEvent\": \"custom.exercise_interaction\", \"data\": {\"outcomeType\": 1, \"valueTowardsCompletion\": 0.5, \"interactionType\": 1, \"questionType\": 2, \"questionId\": \"2_FitModelWithAllData\", \"learnToolsVersion\": \"0.3.4\", \"failureMessage\": \"\", \"exceptionClass\": \"\", \"trace\": \"\"}}, \"*\")"
      ],
      "text/plain": [
       "<IPython.core.display.Javascript object>"
      ]
     },
     "metadata": {},
     "output_type": "display_data"
    },
    {
     "data": {
      "text/markdown": [
       "<span style=\"color:#33cc33\">Correct</span>"
      ],
      "text/plain": [
       "Correct"
      ]
     },
     "metadata": {},
     "output_type": "display_data"
    }
   ],
   "source": [
    "# Fill in argument to make optimal size and uncomment\n",
    "final_model = DecisionTreeRegressor(max_leaf_nodes=best_tree_size, random_state=0)\n",
    "\n",
    "# fit the final model and uncomment the next two lines\n",
    "final_model.fit(X, y)\n",
    "\n",
    "# Check your answer\n",
    "step_2.check()"
   ]
  },
  {
   "cell_type": "code",
   "execution_count": 6,
   "id": "866e889e",
   "metadata": {
    "execution": {
     "iopub.execute_input": "2022-02-15T16:56:16.566640Z",
     "iopub.status.busy": "2022-02-15T16:56:16.566052Z",
     "iopub.status.idle": "2022-02-15T16:56:16.568576Z",
     "shell.execute_reply": "2022-02-15T16:56:16.569161Z"
    },
    "papermill": {
     "duration": 0.019499,
     "end_time": "2022-02-15T16:56:16.569322",
     "exception": false,
     "start_time": "2022-02-15T16:56:16.549823",
     "status": "completed"
    },
    "tags": []
   },
   "outputs": [],
   "source": [
    "# step_2.hint()\n",
    "# step_2.solution()"
   ]
  },
  {
   "cell_type": "markdown",
   "id": "3b283e8e",
   "metadata": {
    "papermill": {
     "duration": 0.013717,
     "end_time": "2022-02-15T16:56:16.597278",
     "exception": false,
     "start_time": "2022-02-15T16:56:16.583561",
     "status": "completed"
    },
    "tags": []
   },
   "source": [
    "You've tuned this model and improved your results. But we are still using Decision Tree models, which are not very sophisticated by modern machine learning standards. In the next step you will learn to use Random Forests to improve your models even more.\n",
    "\n",
    "# Keep Going\n",
    "\n",
    "You are ready for **[Random Forests](https://www.kaggle.com/dansbecker/random-forests).**\n"
   ]
  },
  {
   "cell_type": "markdown",
   "id": "433bc8a7",
   "metadata": {
    "papermill": {
     "duration": 0.013886,
     "end_time": "2022-02-15T16:56:16.625195",
     "exception": false,
     "start_time": "2022-02-15T16:56:16.611309",
     "status": "completed"
    },
    "tags": []
   },
   "source": [
    "---\n",
    "\n",
    "\n",
    "\n",
    "\n",
    "*Have questions or comments? Visit the [course discussion forum](https://www.kaggle.com/learn/intro-to-machine-learning/discussion) to chat with other learners.*"
   ]
  }
 ],
 "metadata": {
  "kernelspec": {
   "display_name": "Python 3",
   "language": "python",
   "name": "python3"
  },
  "language_info": {
   "codemirror_mode": {
    "name": "ipython",
    "version": 3
   },
   "file_extension": ".py",
   "mimetype": "text/x-python",
   "name": "python",
   "nbconvert_exporter": "python",
   "pygments_lexer": "ipython3",
   "version": "3.7.12"
  },
  "papermill": {
   "default_parameters": {},
   "duration": 13.074178,
   "end_time": "2022-02-15T16:56:17.349091",
   "environment_variables": {},
   "exception": null,
   "input_path": "__notebook__.ipynb",
   "output_path": "__notebook__.ipynb",
   "parameters": {},
   "start_time": "2022-02-15T16:56:04.274913",
   "version": "2.3.3"
  }
 },
 "nbformat": 4,
 "nbformat_minor": 5
}
